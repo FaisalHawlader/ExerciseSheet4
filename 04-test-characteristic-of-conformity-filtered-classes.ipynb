{
 "cells": [
  {
   "cell_type": "markdown",
   "metadata": {},
   "source": [
    "\n",
    "\n",
    "# Testing conformity characteristic\n",
    "    \n",
    "State-of-the-art says that conformal learning gives conformity guarantees, that is we can bound the error rate with a predifined value. In this notebook we test this property of conformal prediction and also check if the same properties can be achieved in a different way.\n",
    "    \n",
    "We follow experimental setup from 'Model-Agnostic Nonconformity Functions for Conformal Classification' (check `papers` folder in repository):\n",
    "1. 10-fold cross validation (90\\\\% - training data, 10\\\\% - test data)\n",
    "2. Training data is split into proper training and calibration set in the following proportion: 4:1 (80\\\\% - proper training, 20\\\\% calibration)\n",
    "3. It means we have:\n",
    "    1. 72\\\\% - proper training\n",
    "    2. 18\\\\% - calibrations\n",
    "    3. 10\\\\% - testing\n",
    "        \n",
    "**TODO:**\n",
    "1. Run conformal classification with SVM for 3 datasets `breast cancer`, `iris`, `wine` with $\\epsilon \\in \\{0.01, 0.05, 0.1, 0.2\\}$ and check what will be the error rate. This is similar to results in Tab. V from the paper (a value for every dataset: mean + std)\n",
    "2. Check if we can get similar results in a different way\n"
   ]
  },
  {
   "cell_type": "code",
   "execution_count": 81,
   "metadata": {},
   "outputs": [],
   "source": [
    "import numpy as np\n",
    "import pandas as pd\n",
    "import matplotlib.pyplot as plt\n",
    "import copy\n",
    "\n",
    "from nonconformist.cp import IcpClassifier\n",
    "from nonconformist.nc import NcFactory\n",
    "from nonconformist.nc import InverseProbabilityErrFunc\n",
    "from nonconformist.nc import MarginErrFunc\n",
    "\n",
    "from sklearn.datasets import load_breast_cancer\n",
    "from sklearn.datasets import load_iris\n",
    "\n",
    "from sklearn.svm import SVC\n",
    "from sklearn.tree import DecisionTreeClassifier"
   ]
  },
  {
   "cell_type": "code",
   "execution_count": 82,
   "metadata": {},
   "outputs": [],
   "source": [
    "# import warnings filter\n",
    "from warnings import simplefilter\n",
    "# ignore all future warnings\n",
    "simplefilter(action='ignore', category=FutureWarning)"
   ]
  },
  {
   "cell_type": "markdown",
   "metadata": {},
   "source": [
    "# Functions definition"
   ]
  },
  {
   "cell_type": "markdown",
   "metadata": {},
   "source": [
    "## Analysis"
   ]
  },
  {
   "cell_type": "code",
   "execution_count": 83,
   "metadata": {},
   "outputs": [],
   "source": [
    "def get_fold(fold, idx, test_len, cal_len):\n",
    "    idx = np.array(idx)\n",
    "    start_idx = (fold-1) * test_len\n",
    "    end_idx = min(fold * test_len, len(idx))\n",
    "    idx_test = idx[start_idx:end_idx]\n",
    "    idx_train = idx[0:start_idx].tolist()\n",
    "    idx_train.extend(idx[end_idx:].tolist())\n",
    "    # todo the code will not compile, as idx_all_train is unknown\n",
    "    # in idx_train you have proper training and calibration sets, you now have to split them into 2 separate sets\n",
    "    # we agreed to do it like this\n",
    "    # take first cal_len elements from idx_all_train as calibration and the rest as proper train set\n",
    "    idx_cal = idx_train[0:cal_len]\n",
    "    idx_train = idx_train[cal_len:]\n",
    "    return np.array(idx_train), np.array(idx_test), np.array(idx_cal)\n",
    "\n",
    "\n",
    "# get size of training, calibration and testing sets\n",
    "def get_train_cal_test_len(N, test_frac=0.1, cal_frac=0.2):\n",
    "    # N - size of the dataset\n",
    "    # test_frac - fraction of test data from the whole dataset, we'll use test_frac=0.1\n",
    "    # test_frac depends on the number of folds, test_frac=1/num_folds\n",
    "    # whole dataset = test_data + all_training_data\n",
    "    # cal_frac - fraction of calibration data from the all_training_data, we'll use cal_frac=0.2\n",
    "    # all_training_data = calibration_data + training_data\n",
    "    test_len = round(N * test_frac)\n",
    "    all_train_len = N - test_len\n",
    "    cal_len = round(all_train_len * cal_frac)\n",
    "    train_len = all_train_len - cal_len\n",
    "    return(train_len, cal_len, test_len)\n",
    "\n",
    "\n",
    "# calculating metrics: oneC & avgC\n",
    "def get_oneC_avgC(prediction):\n",
    "    arr = np.array(prediction)\n",
    "    oneC = 0\n",
    "    avgC = 0\n",
    "    for i in range(0, len(arr)):\n",
    "        num_predicted = arr[i].sum()\n",
    "        avgC += num_predicted\n",
    "        if num_predicted == 1:\n",
    "            oneC += 1\n",
    "        pass\n",
    "    oneC /= len(arr)\n",
    "    avgC /= len(arr)\n",
    "    return (oneC,avgC)\n",
    "\n",
    "\n",
    "# calculating metrics: error_rate\n",
    "def get_accuracy(prediction, real_class):\n",
    "    correct = 0\n",
    "    N = len(prediction)\n",
    "    for i in range(0, N):\n",
    "        if (real_class[i] < len(prediction[i])) and (prediction[i][real_class[i]]):\n",
    "            correct += 1\n",
    "        pass\n",
    "    return correct / N\n",
    "\n",
    "\n",
    "def filter_class_res(prediction, epsilon):\n",
    "    result = []\n",
    "    for line in prediction:\n",
    "        tmp = copy.deepcopy(line)\n",
    "        removed = 0\n",
    "        # removed_idx = []\n",
    "\n",
    "        to_continue = True\n",
    "        while to_continue:\n",
    "            min_idx = np.argmin(tmp)\n",
    "            if tmp[min_idx] + removed <= epsilon:\n",
    "                removed += tmp[min_idx]\n",
    "                # removed_idx.append(min_idx)\n",
    "                tmp[min_idx] = 2.\n",
    "            else:\n",
    "                to_continue = False\n",
    "                pass\n",
    "            pass\n",
    "        # now set remove all values set to 2.\n",
    "        result.append(tmp < 2)\n",
    "        # print(line)\n",
    "        pass\n",
    "    return np.array(result)\n",
    "\n",
    "\n",
    "def filter_class_res_total(prediction, epsilon):\n",
    "    tmp = copy.deepcopy(prediction).flatten()\n",
    "    tot_epsilon = epsilon * len(prediction)\n",
    "    removed = 0\n",
    "    to_continue = True\n",
    "    while to_continue:\n",
    "        min_idx = np.argmin(tmp)\n",
    "        if tmp[min_idx] + removed < tot_epsilon:\n",
    "            removed += tmp[min_idx]\n",
    "            tmp[min_idx] = 2.\n",
    "            pass\n",
    "        else:\n",
    "            to_continue = False\n",
    "            pass\n",
    "        pass\n",
    "    result = tmp < 2.\n",
    "    result = result.reshape(prediction.shape)\n",
    "    return result"
   ]
  },
  {
   "cell_type": "markdown",
   "metadata": {},
   "source": [
    "## Function for plotting"
   ]
  },
  {
   "cell_type": "code",
   "execution_count": 84,
   "metadata": {},
   "outputs": [],
   "source": [
    "def autolabel(rects):\n",
    "    #Attach a text label above each bar in *rects*, displaying its height.\n",
    "    for rect in rects:\n",
    "        height = rect.get_height()\n",
    "        ax.annotate('{}'.format(height),\n",
    "                    xy=(rect.get_x() + rect.get_width() / 2, height),\n",
    "                    xytext=(0, 1),  # 3 points vertical offset\n",
    "                    textcoords=\"offset points\",\n",
    "                    ha='center', va='bottom')"
   ]
  },
  {
   "cell_type": "markdown",
   "metadata": {},
   "source": [
    "## Data loading"
   ]
  },
  {
   "cell_type": "code",
   "execution_count": 85,
   "metadata": {},
   "outputs": [],
   "source": [
    "def load_wine_red():\n",
    "    print('Loading wine_red')\n",
    "    # load red wine dataset\n",
    "    file = '../datasets/winequality-red.csv'\n",
    "    df = pd.read_csv(file, sep=';')\n",
    "    target_names = df[df.columns[-1]].unique()\n",
    "    target_names.sort()\n",
    "    target = df[df.columns[-1]].values\n",
    "    target -= min(target)\n",
    "    data = {'target': df[df.columns[-1]].values, 'data': df[df.columns[:-1]].values,\n",
    "            'target_names': target_names}\n",
    "    return data\n"
   ]
  },
  {
   "cell_type": "code",
   "execution_count": 86,
   "metadata": {},
   "outputs": [],
   "source": [
    "def load_wine_white():\n",
    "    print('Loading wine_white')\n",
    "    # load red wine dataset\n",
    "    file = '../datasets/winequality-white.csv'\n",
    "    df = pd.read_csv(file, sep=';')\n",
    "    target_names = df[df.columns[-1]].unique()\n",
    "    target_names.sort()\n",
    "    target = df[df.columns[-1]].values\n",
    "    target -= min(target)\n",
    "    data = {'target': df[df.columns[-1]].values, 'data': df[df.columns[:-1]].values,\n",
    "            'target_names': target_names}\n",
    "    return data"
   ]
  },
  {
   "cell_type": "markdown",
   "metadata": {},
   "source": [
    "### This is the main function, runs conformal prediction"
   ]
  },
  {
   "cell_type": "code",
   "execution_count": 87,
   "metadata": {},
   "outputs": [],
   "source": [
    "def run_conformal(data, epsilon_arr, model_obj=SVC, params={'probability': True},\n",
    "                  err_func=MarginErrFunc, smoothing=True, seed=1, verbose=True):\n",
    "    np.random.seed(seed=seed)\n",
    "    \n",
    "    data_size = len(data['target'])\n",
    "    idx = np.random.permutation(data_size)\n",
    "    train_len, cal_len, test_len = get_train_cal_test_len(data_size, 0.1, 0.2)\n",
    "\n",
    "    if verbose:\n",
    "        print('Info about dataset: ')\n",
    "        print('classes: {}'.format(list(data['target_names'])))\n",
    "        print('size of the dataset: {}'.format(len(data['target'])))\n",
    "        print('train = {}, cal = {}, test = {}'.format(train_len, cal_len, test_len))\n",
    "        pass\n",
    "    \n",
    "    # define arrays to store information in\n",
    "    res_epsilon_arr = []\n",
    "    fold_arr = []\n",
    "    # error rate for normal SVM\n",
    "    error_rate_trad_arr = []\n",
    "    # info for conformal learning \n",
    "    oneC_arr = []\n",
    "    avgC_arr = []\n",
    "    error_rate_arr = []\n",
    "    # info for simulation of conformal learning (exclude labels until you get 1-eps total probability)\n",
    "    oneC_svm_arr = []\n",
    "    avgC_svm_arr = []\n",
    "    error_rate_svm_arr = []\n",
    "    \n",
    "    for fold in range(1, num_folds + 1):\n",
    "        idx_train, idx_test, idx_cal = get_fold(fold, idx, test_len, cal_len)\n",
    "        # first run normal SVM\n",
    "        # put train and calibration together\n",
    "        idx_all_train = np.concatenate((idx_train, idx_cal))\n",
    "        clf = model_obj(**params)\n",
    "        clf.fit(data['data'][idx_all_train, :], data['target'][idx_all_train])\n",
    "        prediction = clf.predict(data['data'][idx_test, :])\n",
    "        error_rate_svm = (data['target'][idx_test] != prediction).sum() / len(prediction)\n",
    "        \n",
    "        # now for different values of eps do conformal prediction\n",
    "\n",
    "        # build conformal model\n",
    "        model = model_obj(**params)  # Create the underlying model\n",
    "        nc = NcFactory.create_nc(model, err_func=err_func())  # specify non-conformity function\n",
    "        icp = IcpClassifier(nc, smoothing=smoothing)\n",
    "        # Fit the ICP using the proper training set\n",
    "        icp.fit(data['data'][idx_train, :], data['target'][idx_train])\n",
    "        # Calibrate the ICP using the calibration set\n",
    "        icp.calibrate(data['data'][idx_cal, :], data['target'][idx_cal])\n",
    "\n",
    "        for i in range(0, len(epsilon_arr)):\n",
    "            epsilon = epsilon_arr[i]\n",
    "            # save current info to arrays\n",
    "            fold_arr.append(fold)\n",
    "            res_epsilon_arr.append(epsilon)\n",
    "            # save info about traditional SVM error rate\n",
    "            error_rate_trad_arr.append(error_rate_svm)\n",
    "            # run adjusted conformal prediction: (exclude labels until you get 1-eps total probability)\n",
    "            # see function filter_class_res\n",
    "            prediction_svm_prob = clf.predict_proba(data['data'][idx_test, :])\n",
    "            prediction_svm = filter_class_res(prediction_svm_prob, epsilon)\n",
    "            oneC, avgC = get_oneC_avgC(prediction_svm)\n",
    "            real_class = data['target'][idx_test]\n",
    "            accuracy = get_accuracy(prediction_svm, real_class)\n",
    "            error_rate = 1 - accuracy\n",
    "            oneC_svm_arr.append(oneC)\n",
    "            avgC_svm_arr.append(avgC)\n",
    "            error_rate_svm_arr.append(error_rate)\n",
    "            # run conformal prediction itself\n",
    "            # Produce predictions for the test set\n",
    "            prediction = icp.predict(data['data'][idx_test, :], significance=epsilon)\n",
    "            oneC, avgC = get_oneC_avgC(prediction)\n",
    "            accuracy = get_accuracy(prediction, real_class)\n",
    "            error_rate = 1 - accuracy\n",
    "            oneC_arr.append(oneC)\n",
    "            avgC_arr.append(avgC)\n",
    "            error_rate_arr.append(error_rate)\n",
    "            pass\n",
    "        pass\n",
    "    \n",
    "    df_res = pd.DataFrame({})\n",
    "    # save data into a data frame\n",
    "    df_res['eps'] = res_epsilon_arr\n",
    "    df_res['fold'] = fold_arr\n",
    "    df_res['origin_err'] = error_rate_trad_arr\n",
    "    # info for conformal learning \n",
    "    df_res['Conf_err'] = error_rate_arr\n",
    "    df_res['Conf_oneC'] = oneC_arr\n",
    "    df_res['Conf_avgC'] = avgC_arr\n",
    "    # info for simulation of conformal learning\n",
    "    df_res['Simul_err'] = error_rate_svm_arr\n",
    "    df_res['Simul_oneC'] = oneC_svm_arr\n",
    "    df_res['Simul_avgC'] = avgC_svm_arr\n",
    "    # reorder\n",
    "    df_res.sort_values(by=['eps', 'fold'], inplace=True)\n",
    "    #df_res.reset_index(inplace=True)\n",
    "    \n",
    "    return df_res\n"
   ]
  },
  {
   "cell_type": "markdown",
   "metadata": {},
   "source": [
    "## Setting random seed to get reproducible results & some constants"
   ]
  },
  {
   "cell_type": "code",
   "execution_count": 88,
   "metadata": {},
   "outputs": [],
   "source": [
    "np.random.seed(seed=1)"
   ]
  },
  {
   "cell_type": "code",
   "execution_count": 89,
   "metadata": {},
   "outputs": [],
   "source": [
    "num_folds = 10"
   ]
  },
  {
   "cell_type": "code",
   "execution_count": 90,
   "metadata": {},
   "outputs": [],
   "source": [
    "eps_err = [0.01, 0.03, 0.05, 0.1, 0.2]"
   ]
  },
  {
   "cell_type": "markdown",
   "metadata": {},
   "source": [
    "#### Input for SVM"
   ]
  },
  {
   "cell_type": "code",
   "execution_count": 91,
   "metadata": {},
   "outputs": [],
   "source": [
    "svm_model_obj=SVC\n",
    "svm_params={'probability': True}"
   ]
  },
  {
   "cell_type": "markdown",
   "metadata": {},
   "source": [
    "#### Input for Decision trees"
   ]
  },
  {
   "cell_type": "code",
   "execution_count": 92,
   "metadata": {},
   "outputs": [],
   "source": [
    "dt_model_obj=DecisionTreeClassifier\n",
    "dt_min_sample_ratio = 0.05 * 0.9 * 0.8  # (5% of the effective learning set)\n",
    "dt_params={}\n",
    "MIN_SAMPLES_KEY = 'min_samples_split'"
   ]
  },
  {
   "cell_type": "markdown",
   "metadata": {},
   "source": [
    "### Testing classifiers, which parameters are required to get probability estimates?"
   ]
  },
  {
   "cell_type": "markdown",
   "metadata": {},
   "source": [
    "<font color='red'>Datasets formatting</font>"
   ]
  },
  {
   "cell_type": "code",
   "execution_count": 93,
   "metadata": {},
   "outputs": [],
   "source": [
    "data = load_iris()"
   ]
  },
  {
   "cell_type": "markdown",
   "metadata": {},
   "source": [
    "#### SVM"
   ]
  },
  {
   "cell_type": "code",
   "execution_count": 94,
   "metadata": {
    "scrolled": true
   },
   "outputs": [
    {
     "data": {
      "text/plain": [
       "array([[0.0070413 , 0.00273021, 0.99022848],\n",
       "       [0.00987415, 0.03604465, 0.95408121],\n",
       "       [0.00882255, 0.0917554 , 0.89942205],\n",
       "       [0.00694604, 0.00145171, 0.99160225],\n",
       "       [0.00725612, 0.00172666, 0.99101722],\n",
       "       [0.00846971, 0.0197933 , 0.97173698],\n",
       "       [0.00901939, 0.13404564, 0.85693497],\n",
       "       [0.0090942 , 0.05658314, 0.93432266],\n",
       "       [0.00796568, 0.01050554, 0.98152878],\n",
       "       [0.00931424, 0.16558834, 0.82509742]])"
      ]
     },
     "execution_count": 94,
     "metadata": {},
     "output_type": "execute_result"
    }
   ],
   "source": [
    "model = SVC(probability=True)\n",
    "model.fit(data['data'], data['target'])\n",
    "model.predict_proba(data['data'][140:])"
   ]
  },
  {
   "cell_type": "code",
   "execution_count": 95,
   "metadata": {},
   "outputs": [
    {
     "data": {
      "text/plain": [
       "array([[0.00699685, 0.00221076, 0.99079238],\n",
       "       [0.00978931, 0.03241233, 0.95779836],\n",
       "       [0.00879214, 0.08622366, 0.9049842 ],\n",
       "       [0.00689967, 0.00116797, 0.99193236],\n",
       "       [0.00720813, 0.00139159, 0.99140027],\n",
       "       [0.00842051, 0.01730797, 0.97427152],\n",
       "       [0.00898234, 0.1283627 , 0.86265497],\n",
       "       [0.00895392, 0.05197955, 0.93906653],\n",
       "       [0.0079211 , 0.00893056, 0.98314834],\n",
       "       [0.00926072, 0.16025366, 0.83048562]])"
      ]
     },
     "execution_count": 95,
     "metadata": {},
     "output_type": "execute_result"
    }
   ],
   "source": [
    "model = SVC(probability=True)\n",
    "model.fit(data['data'], data['target'])\n",
    "model.predict_proba(data['data'][140:])"
   ]
  },
  {
   "cell_type": "markdown",
   "metadata": {},
   "source": [
    "#### Decision tree"
   ]
  },
  {
   "cell_type": "code",
   "execution_count": 96,
   "metadata": {},
   "outputs": [
    {
     "data": {
      "text/plain": [
       "array([[0., 0., 1.],\n",
       "       [0., 0., 1.],\n",
       "       [0., 0., 1.],\n",
       "       [0., 0., 1.],\n",
       "       [0., 0., 1.],\n",
       "       [0., 0., 1.],\n",
       "       [0., 0., 1.],\n",
       "       [0., 0., 1.],\n",
       "       [0., 0., 1.],\n",
       "       [0., 0., 1.]])"
      ]
     },
     "execution_count": 96,
     "metadata": {},
     "output_type": "execute_result"
    }
   ],
   "source": [
    "model = DecisionTreeClassifier()#(probability=True)\n",
    "model.fit(data['data'], data['target'])\n",
    "model.predict_proba(data['data'][140:])"
   ]
  },
  {
   "cell_type": "code",
   "execution_count": 97,
   "metadata": {},
   "outputs": [
    {
     "data": {
      "text/plain": [
       "array([[0.        , 0.97916667, 0.02083333],\n",
       "       [0.        , 0.97916667, 0.02083333],\n",
       "       [0.        , 0.97916667, 0.02083333],\n",
       "       [0.        , 0.97916667, 0.02083333],\n",
       "       [0.        , 0.97916667, 0.02083333],\n",
       "       [0.        , 0.97916667, 0.02083333],\n",
       "       [0.        , 0.97916667, 0.02083333],\n",
       "       [0.        , 0.97916667, 0.02083333],\n",
       "       [0.        , 0.97916667, 0.02083333],\n",
       "       [0.        , 0.97916667, 0.02083333]])"
      ]
     },
     "execution_count": 97,
     "metadata": {},
     "output_type": "execute_result"
    }
   ],
   "source": [
    "model = DecisionTreeClassifier(min_samples_split=50)\n",
    "model.fit(data['data'], data['target'])\n",
    "model.predict_proba(data['data'][60:70])"
   ]
  },
  {
   "cell_type": "markdown",
   "metadata": {},
   "source": [
    "# Analysis"
   ]
  },
  {
   "cell_type": "markdown",
   "metadata": {},
   "source": [
    "## Wines both red and white"
   ]
  },
  {
   "cell_type": "code",
   "execution_count": 98,
   "metadata": {},
   "outputs": [
    {
     "name": "stdout",
     "output_type": "stream",
     "text": [
      "1599\n"
     ]
    },
    {
     "data": {
      "text/html": [
       "<div>\n",
       "<style scoped>\n",
       "    .dataframe tbody tr th:only-of-type {\n",
       "        vertical-align: middle;\n",
       "    }\n",
       "\n",
       "    .dataframe tbody tr th {\n",
       "        vertical-align: top;\n",
       "    }\n",
       "\n",
       "    .dataframe thead th {\n",
       "        text-align: right;\n",
       "    }\n",
       "</style>\n",
       "<table border=\"1\" class=\"dataframe\">\n",
       "  <thead>\n",
       "    <tr style=\"text-align: right;\">\n",
       "      <th></th>\n",
       "      <th>fixed acidity</th>\n",
       "      <th>volatile acidity</th>\n",
       "      <th>citric acid</th>\n",
       "      <th>residual sugar</th>\n",
       "      <th>chlorides</th>\n",
       "      <th>free sulfur dioxide</th>\n",
       "      <th>total sulfur dioxide</th>\n",
       "      <th>density</th>\n",
       "      <th>pH</th>\n",
       "      <th>sulphates</th>\n",
       "      <th>alcohol</th>\n",
       "      <th>quality</th>\n",
       "    </tr>\n",
       "  </thead>\n",
       "  <tbody>\n",
       "    <tr>\n",
       "      <th>0</th>\n",
       "      <td>7.4</td>\n",
       "      <td>0.70</td>\n",
       "      <td>0.00</td>\n",
       "      <td>1.9</td>\n",
       "      <td>0.076</td>\n",
       "      <td>11.0</td>\n",
       "      <td>34.0</td>\n",
       "      <td>0.9978</td>\n",
       "      <td>3.51</td>\n",
       "      <td>0.56</td>\n",
       "      <td>9.4</td>\n",
       "      <td>5</td>\n",
       "    </tr>\n",
       "    <tr>\n",
       "      <th>1</th>\n",
       "      <td>7.8</td>\n",
       "      <td>0.88</td>\n",
       "      <td>0.00</td>\n",
       "      <td>2.6</td>\n",
       "      <td>0.098</td>\n",
       "      <td>25.0</td>\n",
       "      <td>67.0</td>\n",
       "      <td>0.9968</td>\n",
       "      <td>3.20</td>\n",
       "      <td>0.68</td>\n",
       "      <td>9.8</td>\n",
       "      <td>5</td>\n",
       "    </tr>\n",
       "    <tr>\n",
       "      <th>2</th>\n",
       "      <td>7.8</td>\n",
       "      <td>0.76</td>\n",
       "      <td>0.04</td>\n",
       "      <td>2.3</td>\n",
       "      <td>0.092</td>\n",
       "      <td>15.0</td>\n",
       "      <td>54.0</td>\n",
       "      <td>0.9970</td>\n",
       "      <td>3.26</td>\n",
       "      <td>0.65</td>\n",
       "      <td>9.8</td>\n",
       "      <td>5</td>\n",
       "    </tr>\n",
       "    <tr>\n",
       "      <th>3</th>\n",
       "      <td>11.2</td>\n",
       "      <td>0.28</td>\n",
       "      <td>0.56</td>\n",
       "      <td>1.9</td>\n",
       "      <td>0.075</td>\n",
       "      <td>17.0</td>\n",
       "      <td>60.0</td>\n",
       "      <td>0.9980</td>\n",
       "      <td>3.16</td>\n",
       "      <td>0.58</td>\n",
       "      <td>9.8</td>\n",
       "      <td>6</td>\n",
       "    </tr>\n",
       "    <tr>\n",
       "      <th>4</th>\n",
       "      <td>7.4</td>\n",
       "      <td>0.70</td>\n",
       "      <td>0.00</td>\n",
       "      <td>1.9</td>\n",
       "      <td>0.076</td>\n",
       "      <td>11.0</td>\n",
       "      <td>34.0</td>\n",
       "      <td>0.9978</td>\n",
       "      <td>3.51</td>\n",
       "      <td>0.56</td>\n",
       "      <td>9.4</td>\n",
       "      <td>5</td>\n",
       "    </tr>\n",
       "  </tbody>\n",
       "</table>\n",
       "</div>"
      ],
      "text/plain": [
       "   fixed acidity  volatile acidity  citric acid  residual sugar  chlorides  \\\n",
       "0            7.4              0.70         0.00             1.9      0.076   \n",
       "1            7.8              0.88         0.00             2.6      0.098   \n",
       "2            7.8              0.76         0.04             2.3      0.092   \n",
       "3           11.2              0.28         0.56             1.9      0.075   \n",
       "4            7.4              0.70         0.00             1.9      0.076   \n",
       "\n",
       "   free sulfur dioxide  total sulfur dioxide  density    pH  sulphates  \\\n",
       "0                 11.0                  34.0   0.9978  3.51       0.56   \n",
       "1                 25.0                  67.0   0.9968  3.20       0.68   \n",
       "2                 15.0                  54.0   0.9970  3.26       0.65   \n",
       "3                 17.0                  60.0   0.9980  3.16       0.58   \n",
       "4                 11.0                  34.0   0.9978  3.51       0.56   \n",
       "\n",
       "   alcohol  quality  \n",
       "0      9.4        5  \n",
       "1      9.8        5  \n",
       "2      9.8        5  \n",
       "3      9.8        6  \n",
       "4      9.4        5  "
      ]
     },
     "execution_count": 98,
     "metadata": {},
     "output_type": "execute_result"
    }
   ],
   "source": [
    "wine_R_df = pd.read_csv('../datasets/winequality-red.csv', sep=';')\n",
    "print(len(wine_R_df))\n",
    "wine_R_df.head()"
   ]
  },
  {
   "cell_type": "code",
   "execution_count": 99,
   "metadata": {},
   "outputs": [
    {
     "name": "stdout",
     "output_type": "stream",
     "text": [
      "4898\n"
     ]
    },
    {
     "data": {
      "text/html": [
       "<div>\n",
       "<style scoped>\n",
       "    .dataframe tbody tr th:only-of-type {\n",
       "        vertical-align: middle;\n",
       "    }\n",
       "\n",
       "    .dataframe tbody tr th {\n",
       "        vertical-align: top;\n",
       "    }\n",
       "\n",
       "    .dataframe thead th {\n",
       "        text-align: right;\n",
       "    }\n",
       "</style>\n",
       "<table border=\"1\" class=\"dataframe\">\n",
       "  <thead>\n",
       "    <tr style=\"text-align: right;\">\n",
       "      <th></th>\n",
       "      <th>fixed acidity</th>\n",
       "      <th>volatile acidity</th>\n",
       "      <th>citric acid</th>\n",
       "      <th>residual sugar</th>\n",
       "      <th>chlorides</th>\n",
       "      <th>free sulfur dioxide</th>\n",
       "      <th>total sulfur dioxide</th>\n",
       "      <th>density</th>\n",
       "      <th>pH</th>\n",
       "      <th>sulphates</th>\n",
       "      <th>alcohol</th>\n",
       "      <th>quality</th>\n",
       "    </tr>\n",
       "  </thead>\n",
       "  <tbody>\n",
       "    <tr>\n",
       "      <th>0</th>\n",
       "      <td>7.0</td>\n",
       "      <td>0.27</td>\n",
       "      <td>0.36</td>\n",
       "      <td>20.7</td>\n",
       "      <td>0.045</td>\n",
       "      <td>45.0</td>\n",
       "      <td>170.0</td>\n",
       "      <td>1.0010</td>\n",
       "      <td>3.00</td>\n",
       "      <td>0.45</td>\n",
       "      <td>8.8</td>\n",
       "      <td>6</td>\n",
       "    </tr>\n",
       "    <tr>\n",
       "      <th>1</th>\n",
       "      <td>6.3</td>\n",
       "      <td>0.30</td>\n",
       "      <td>0.34</td>\n",
       "      <td>1.6</td>\n",
       "      <td>0.049</td>\n",
       "      <td>14.0</td>\n",
       "      <td>132.0</td>\n",
       "      <td>0.9940</td>\n",
       "      <td>3.30</td>\n",
       "      <td>0.49</td>\n",
       "      <td>9.5</td>\n",
       "      <td>6</td>\n",
       "    </tr>\n",
       "    <tr>\n",
       "      <th>2</th>\n",
       "      <td>8.1</td>\n",
       "      <td>0.28</td>\n",
       "      <td>0.40</td>\n",
       "      <td>6.9</td>\n",
       "      <td>0.050</td>\n",
       "      <td>30.0</td>\n",
       "      <td>97.0</td>\n",
       "      <td>0.9951</td>\n",
       "      <td>3.26</td>\n",
       "      <td>0.44</td>\n",
       "      <td>10.1</td>\n",
       "      <td>6</td>\n",
       "    </tr>\n",
       "    <tr>\n",
       "      <th>3</th>\n",
       "      <td>7.2</td>\n",
       "      <td>0.23</td>\n",
       "      <td>0.32</td>\n",
       "      <td>8.5</td>\n",
       "      <td>0.058</td>\n",
       "      <td>47.0</td>\n",
       "      <td>186.0</td>\n",
       "      <td>0.9956</td>\n",
       "      <td>3.19</td>\n",
       "      <td>0.40</td>\n",
       "      <td>9.9</td>\n",
       "      <td>6</td>\n",
       "    </tr>\n",
       "    <tr>\n",
       "      <th>4</th>\n",
       "      <td>7.2</td>\n",
       "      <td>0.23</td>\n",
       "      <td>0.32</td>\n",
       "      <td>8.5</td>\n",
       "      <td>0.058</td>\n",
       "      <td>47.0</td>\n",
       "      <td>186.0</td>\n",
       "      <td>0.9956</td>\n",
       "      <td>3.19</td>\n",
       "      <td>0.40</td>\n",
       "      <td>9.9</td>\n",
       "      <td>6</td>\n",
       "    </tr>\n",
       "  </tbody>\n",
       "</table>\n",
       "</div>"
      ],
      "text/plain": [
       "   fixed acidity  volatile acidity  citric acid  residual sugar  chlorides  \\\n",
       "0            7.0              0.27         0.36            20.7      0.045   \n",
       "1            6.3              0.30         0.34             1.6      0.049   \n",
       "2            8.1              0.28         0.40             6.9      0.050   \n",
       "3            7.2              0.23         0.32             8.5      0.058   \n",
       "4            7.2              0.23         0.32             8.5      0.058   \n",
       "\n",
       "   free sulfur dioxide  total sulfur dioxide  density    pH  sulphates  \\\n",
       "0                 45.0                 170.0   1.0010  3.00       0.45   \n",
       "1                 14.0                 132.0   0.9940  3.30       0.49   \n",
       "2                 30.0                  97.0   0.9951  3.26       0.44   \n",
       "3                 47.0                 186.0   0.9956  3.19       0.40   \n",
       "4                 47.0                 186.0   0.9956  3.19       0.40   \n",
       "\n",
       "   alcohol  quality  \n",
       "0      8.8        6  \n",
       "1      9.5        6  \n",
       "2     10.1        6  \n",
       "3      9.9        6  \n",
       "4      9.9        6  "
      ]
     },
     "execution_count": 99,
     "metadata": {},
     "output_type": "execute_result"
    }
   ],
   "source": [
    "wine_W_df = pd.read_csv('../datasets/winequality-white.csv', sep=';')\n",
    "print(len(wine_W_df))\n",
    "wine_W_df.head()"
   ]
  },
  {
   "cell_type": "code",
   "execution_count": 100,
   "metadata": {},
   "outputs": [],
   "source": [
    "count_R_df = wine_R_df.groupby('quality').count()[['fixed acidity']]\n",
    "count_R_df.columns = ['count']\n",
    "count_W_df = wine_W_df.groupby('quality').count()[['fixed acidity']]\n",
    "count_W_df.columns = ['count']"
   ]
  },
  {
   "cell_type": "code",
   "execution_count": 101,
   "metadata": {},
   "outputs": [
    {
     "data": {
      "image/png": "[encoded data removed]",
      "text/plain": [
       "<Figure size 432x288 with 1 Axes>"
      ]
     },
     "metadata": {
      "needs_background": "light"
     },
     "output_type": "display_data"
    }
   ],
   "source": [
    "labels =sorted(wine_W_df['quality'].unique())\n",
    "red_c = count_R_df['count'].values.tolist()\n",
    "red_c.append(0)\n",
    "#red_c\n",
    "white_c = count_W_df['count'].values.tolist()\n",
    "\n",
    "#men_means = [20, 34, 30, 35, 27]\n",
    "#women_means = [25, 32, 34, 20, 25]\n",
    "\n",
    "x = np.arange(len(labels))  # the label locations\n",
    "width = 0.4  # the width of the bars\n",
    "\n",
    "fig, ax = plt.subplots()\n",
    "rects1 = ax.bar(x - width/2, red_c, width,   label='Red    - 1599')\n",
    "rects2 = ax.bar(x + width/2, white_c, width, label='White - 4898')\n",
    "\n",
    "# Add some text for labels, title and custom x-axis tick labels, etc.\n",
    "ax.set_ylabel('Number of instances')\n",
    "ax.set_title('Distribution between classes')\n",
    "ax.set_xticks(x)\n",
    "ax.set_xticklabels(labels)\n",
    "ax.legend()\n",
    "\n",
    "autolabel(rects1)\n",
    "autolabel(rects2)\n",
    "\n",
    "fig.tight_layout()\n",
    "\n",
    "plt.show()\n"
   ]
  },
  {
   "cell_type": "markdown",
   "metadata": {},
   "source": [
    "### Run conformal prediction for red wine"
   ]
  },
  {
   "cell_type": "code",
   "execution_count": 102,
   "metadata": {
    "scrolled": true
   },
   "outputs": [
    {
     "name": "stdout",
     "output_type": "stream",
     "text": [
      "Loading wine_red\n"
     ]
    }
   ],
   "source": [
    "data = load_wine_red()"
   ]
  },
  {
   "cell_type": "markdown",
   "metadata": {},
   "source": [
    "#### SVM"
   ]
  },
  {
   "cell_type": "markdown",
   "metadata": {},
   "source": [
    "##### MarginErrFunc"
   ]
  },
  {
   "cell_type": "code",
   "execution_count": 103,
   "metadata": {},
   "outputs": [
    {
     "name": "stdout",
     "output_type": "stream",
     "text": [
      "Info about dataset: \n",
      "classes: [3, 4, 5, 6, 7, 8]\n",
      "size of the dataset: 1599\n",
      "train = 1151, cal = 288, test = 160\n",
      "\n",
      "average values for each eps\n"
     ]
    },
    {
     "data": {
      "text/html": [
       "<div>\n",
       "<style scoped>\n",
       "    .dataframe tbody tr th:only-of-type {\n",
       "        vertical-align: middle;\n",
       "    }\n",
       "\n",
       "    .dataframe tbody tr th {\n",
       "        vertical-align: top;\n",
       "    }\n",
       "\n",
       "    .dataframe thead th {\n",
       "        text-align: right;\n",
       "    }\n",
       "</style>\n",
       "<table border=\"1\" class=\"dataframe\">\n",
       "  <thead>\n",
       "    <tr style=\"text-align: right;\">\n",
       "      <th></th>\n",
       "      <th>fold</th>\n",
       "      <th>origin_err</th>\n",
       "      <th>Conf_err</th>\n",
       "      <th>Conf_oneC</th>\n",
       "      <th>Conf_avgC</th>\n",
       "      <th>Simul_err</th>\n",
       "      <th>Simul_oneC</th>\n",
       "      <th>Simul_avgC</th>\n",
       "    </tr>\n",
       "    <tr>\n",
       "      <th>eps</th>\n",
       "      <th></th>\n",
       "      <th></th>\n",
       "      <th></th>\n",
       "      <th></th>\n",
       "      <th></th>\n",
       "      <th></th>\n",
       "      <th></th>\n",
       "      <th></th>\n",
       "    </tr>\n",
       "  </thead>\n",
       "  <tbody>\n",
       "    <tr>\n",
       "      <th>0.01</th>\n",
       "      <td>5.5</td>\n",
       "      <td>0.490939</td>\n",
       "      <td>0.011887</td>\n",
       "      <td>0.011875</td>\n",
       "      <td>4.988801</td>\n",
       "      <td>0.004375</td>\n",
       "      <td>0.0</td>\n",
       "      <td>5.220770</td>\n",
       "    </tr>\n",
       "    <tr>\n",
       "      <th>0.03</th>\n",
       "      <td>5.5</td>\n",
       "      <td>0.490939</td>\n",
       "      <td>0.040035</td>\n",
       "      <td>0.067531</td>\n",
       "      <td>4.032303</td>\n",
       "      <td>0.011254</td>\n",
       "      <td>0.0</td>\n",
       "      <td>4.209473</td>\n",
       "    </tr>\n",
       "    <tr>\n",
       "      <th>0.05</th>\n",
       "      <td>5.5</td>\n",
       "      <td>0.490939</td>\n",
       "      <td>0.060668</td>\n",
       "      <td>0.104422</td>\n",
       "      <td>3.435122</td>\n",
       "      <td>0.021895</td>\n",
       "      <td>0.0</td>\n",
       "      <td>3.736745</td>\n",
       "    </tr>\n",
       "    <tr>\n",
       "      <th>0.10</th>\n",
       "      <td>5.5</td>\n",
       "      <td>0.490939</td>\n",
       "      <td>0.088805</td>\n",
       "      <td>0.153223</td>\n",
       "      <td>2.525369</td>\n",
       "      <td>0.051285</td>\n",
       "      <td>0.0</td>\n",
       "      <td>2.820531</td>\n",
       "    </tr>\n",
       "    <tr>\n",
       "      <th>0.20</th>\n",
       "      <td>5.5</td>\n",
       "      <td>0.490939</td>\n",
       "      <td>0.177614</td>\n",
       "      <td>0.287028</td>\n",
       "      <td>1.828086</td>\n",
       "      <td>0.072543</td>\n",
       "      <td>0.0</td>\n",
       "      <td>2.325228</td>\n",
       "    </tr>\n",
       "  </tbody>\n",
       "</table>\n",
       "</div>"
      ],
      "text/plain": [
       "      fold  origin_err  Conf_err  Conf_oneC  Conf_avgC  Simul_err  Simul_oneC  \\\n",
       "eps                                                                             \n",
       "0.01   5.5    0.490939  0.011887   0.011875   4.988801   0.004375         0.0   \n",
       "0.03   5.5    0.490939  0.040035   0.067531   4.032303   0.011254         0.0   \n",
       "0.05   5.5    0.490939  0.060668   0.104422   3.435122   0.021895         0.0   \n",
       "0.10   5.5    0.490939  0.088805   0.153223   2.525369   0.051285         0.0   \n",
       "0.20   5.5    0.490939  0.177614   0.287028   1.828086   0.072543         0.0   \n",
       "\n",
       "      Simul_avgC  \n",
       "eps               \n",
       "0.01    5.220770  \n",
       "0.03    4.209473  \n",
       "0.05    3.736745  \n",
       "0.10    2.820531  \n",
       "0.20    2.325228  "
      ]
     },
     "execution_count": 103,
     "metadata": {},
     "output_type": "execute_result"
    }
   ],
   "source": [
    "res_df = run_conformal(data, model_obj=svm_model_obj, \n",
    "                       params=svm_params,\n",
    "                       epsilon_arr=eps_err, err_func=MarginErrFunc, smoothing=True, \n",
    "                       seed=1, verbose=True)\n",
    "# Get average values of metrics\n",
    "print('\\naverage values for each eps')\n",
    "svm_mean_df = res_df.groupby('eps').mean()\n",
    "svm_mean_df"
   ]
  },
  {
   "cell_type": "markdown",
   "metadata": {},
   "source": [
    "#####  InverseProbabilityErrFunc"
   ]
  },
  {
   "cell_type": "code",
   "execution_count": 104,
   "metadata": {},
   "outputs": [
    {
     "name": "stdout",
     "output_type": "stream",
     "text": [
      "Info about dataset: \n",
      "classes: [3, 4, 5, 6, 7, 8]\n",
      "size of the dataset: 1599\n",
      "train = 1151, cal = 288, test = 160\n",
      "average values for each eps\n"
     ]
    },
    {
     "data": {
      "text/html": [
       "<div>\n",
       "<style scoped>\n",
       "    .dataframe tbody tr th:only-of-type {\n",
       "        vertical-align: middle;\n",
       "    }\n",
       "\n",
       "    .dataframe tbody tr th {\n",
       "        vertical-align: top;\n",
       "    }\n",
       "\n",
       "    .dataframe thead th {\n",
       "        text-align: right;\n",
       "    }\n",
       "</style>\n",
       "<table border=\"1\" class=\"dataframe\">\n",
       "  <thead>\n",
       "    <tr style=\"text-align: right;\">\n",
       "      <th></th>\n",
       "      <th>fold</th>\n",
       "      <th>origin_err</th>\n",
       "      <th>Conf_err</th>\n",
       "      <th>Conf_oneC</th>\n",
       "      <th>Conf_avgC</th>\n",
       "      <th>Simul_err</th>\n",
       "      <th>Simul_oneC</th>\n",
       "      <th>Simul_avgC</th>\n",
       "    </tr>\n",
       "    <tr>\n",
       "      <th>eps</th>\n",
       "      <th></th>\n",
       "      <th></th>\n",
       "      <th></th>\n",
       "      <th></th>\n",
       "      <th></th>\n",
       "      <th></th>\n",
       "      <th></th>\n",
       "      <th></th>\n",
       "    </tr>\n",
       "  </thead>\n",
       "  <tbody>\n",
       "    <tr>\n",
       "      <th>0.01</th>\n",
       "      <td>5.5</td>\n",
       "      <td>0.490939</td>\n",
       "      <td>0.015641</td>\n",
       "      <td>0.000000</td>\n",
       "      <td>4.057520</td>\n",
       "      <td>0.004375</td>\n",
       "      <td>0.0</td>\n",
       "      <td>5.220770</td>\n",
       "    </tr>\n",
       "    <tr>\n",
       "      <th>0.03</th>\n",
       "      <td>5.5</td>\n",
       "      <td>0.490939</td>\n",
       "      <td>0.030649</td>\n",
       "      <td>0.000000</td>\n",
       "      <td>3.530947</td>\n",
       "      <td>0.011254</td>\n",
       "      <td>0.0</td>\n",
       "      <td>4.209473</td>\n",
       "    </tr>\n",
       "    <tr>\n",
       "      <th>0.05</th>\n",
       "      <td>5.5</td>\n",
       "      <td>0.490939</td>\n",
       "      <td>0.048156</td>\n",
       "      <td>0.000000</td>\n",
       "      <td>3.030708</td>\n",
       "      <td>0.021895</td>\n",
       "      <td>0.0</td>\n",
       "      <td>3.736745</td>\n",
       "    </tr>\n",
       "    <tr>\n",
       "      <th>0.10</th>\n",
       "      <td>5.5</td>\n",
       "      <td>0.490939</td>\n",
       "      <td>0.095688</td>\n",
       "      <td>0.006250</td>\n",
       "      <td>2.171380</td>\n",
       "      <td>0.051285</td>\n",
       "      <td>0.0</td>\n",
       "      <td>2.820531</td>\n",
       "    </tr>\n",
       "    <tr>\n",
       "      <th>0.20</th>\n",
       "      <td>5.5</td>\n",
       "      <td>0.490939</td>\n",
       "      <td>0.198263</td>\n",
       "      <td>0.303329</td>\n",
       "      <td>1.699796</td>\n",
       "      <td>0.072543</td>\n",
       "      <td>0.0</td>\n",
       "      <td>2.325228</td>\n",
       "    </tr>\n",
       "  </tbody>\n",
       "</table>\n",
       "</div>"
      ],
      "text/plain": [
       "      fold  origin_err  Conf_err  Conf_oneC  Conf_avgC  Simul_err  Simul_oneC  \\\n",
       "eps                                                                             \n",
       "0.01   5.5    0.490939  0.015641   0.000000   4.057520   0.004375         0.0   \n",
       "0.03   5.5    0.490939  0.030649   0.000000   3.530947   0.011254         0.0   \n",
       "0.05   5.5    0.490939  0.048156   0.000000   3.030708   0.021895         0.0   \n",
       "0.10   5.5    0.490939  0.095688   0.006250   2.171380   0.051285         0.0   \n",
       "0.20   5.5    0.490939  0.198263   0.303329   1.699796   0.072543         0.0   \n",
       "\n",
       "      Simul_avgC  \n",
       "eps               \n",
       "0.01    5.220770  \n",
       "0.03    4.209473  \n",
       "0.05    3.736745  \n",
       "0.10    2.820531  \n",
       "0.20    2.325228  "
      ]
     },
     "execution_count": 104,
     "metadata": {},
     "output_type": "execute_result"
    }
   ],
   "source": [
    "res_df = run_conformal(data, epsilon_arr=eps_err, err_func=InverseProbabilityErrFunc, smoothing=True,\n",
    "                             seed=1, verbose=True)\n",
    "# Get average values of metrics\n",
    "print('average values for each eps')\n",
    "res_df.groupby('eps').mean()"
   ]
  },
  {
   "cell_type": "code",
   "execution_count": 105,
   "metadata": {},
   "outputs": [
    {
     "data": {
      "text/html": [
       "<div>\n",
       "<style scoped>\n",
       "    .dataframe tbody tr th:only-of-type {\n",
       "        vertical-align: middle;\n",
       "    }\n",
       "\n",
       "    .dataframe tbody tr th {\n",
       "        vertical-align: top;\n",
       "    }\n",
       "\n",
       "    .dataframe thead th {\n",
       "        text-align: right;\n",
       "    }\n",
       "</style>\n",
       "<table border=\"1\" class=\"dataframe\">\n",
       "  <thead>\n",
       "    <tr style=\"text-align: right;\">\n",
       "      <th></th>\n",
       "      <th>fold</th>\n",
       "      <th>origin_err</th>\n",
       "      <th>marg_err</th>\n",
       "      <th>marg_oneC</th>\n",
       "      <th>marg_avgC</th>\n",
       "      <th>Simul_err</th>\n",
       "      <th>Simul_oneC</th>\n",
       "      <th>Simul_avgC</th>\n",
       "      <th>inv_err</th>\n",
       "      <th>inv_oneC</th>\n",
       "      <th>inv_avgC</th>\n",
       "    </tr>\n",
       "    <tr>\n",
       "      <th>eps</th>\n",
       "      <th></th>\n",
       "      <th></th>\n",
       "      <th></th>\n",
       "      <th></th>\n",
       "      <th></th>\n",
       "      <th></th>\n",
       "      <th></th>\n",
       "      <th></th>\n",
       "      <th></th>\n",
       "      <th></th>\n",
       "      <th></th>\n",
       "    </tr>\n",
       "  </thead>\n",
       "  <tbody>\n",
       "    <tr>\n",
       "      <th>0.01</th>\n",
       "      <td>5.5</td>\n",
       "      <td>0.490939</td>\n",
       "      <td>0.011887</td>\n",
       "      <td>0.011875</td>\n",
       "      <td>4.988801</td>\n",
       "      <td>0.004375</td>\n",
       "      <td>0.0</td>\n",
       "      <td>5.220770</td>\n",
       "      <td>0.015641</td>\n",
       "      <td>0.000000</td>\n",
       "      <td>4.057520</td>\n",
       "    </tr>\n",
       "    <tr>\n",
       "      <th>0.03</th>\n",
       "      <td>5.5</td>\n",
       "      <td>0.490939</td>\n",
       "      <td>0.040035</td>\n",
       "      <td>0.067531</td>\n",
       "      <td>4.032303</td>\n",
       "      <td>0.011254</td>\n",
       "      <td>0.0</td>\n",
       "      <td>4.209473</td>\n",
       "      <td>0.030649</td>\n",
       "      <td>0.000000</td>\n",
       "      <td>3.530947</td>\n",
       "    </tr>\n",
       "    <tr>\n",
       "      <th>0.05</th>\n",
       "      <td>5.5</td>\n",
       "      <td>0.490939</td>\n",
       "      <td>0.060668</td>\n",
       "      <td>0.104422</td>\n",
       "      <td>3.435122</td>\n",
       "      <td>0.021895</td>\n",
       "      <td>0.0</td>\n",
       "      <td>3.736745</td>\n",
       "      <td>0.048156</td>\n",
       "      <td>0.000000</td>\n",
       "      <td>3.030708</td>\n",
       "    </tr>\n",
       "    <tr>\n",
       "      <th>0.10</th>\n",
       "      <td>5.5</td>\n",
       "      <td>0.490939</td>\n",
       "      <td>0.088805</td>\n",
       "      <td>0.153223</td>\n",
       "      <td>2.525369</td>\n",
       "      <td>0.051285</td>\n",
       "      <td>0.0</td>\n",
       "      <td>2.820531</td>\n",
       "      <td>0.095688</td>\n",
       "      <td>0.006250</td>\n",
       "      <td>2.171380</td>\n",
       "    </tr>\n",
       "    <tr>\n",
       "      <th>0.20</th>\n",
       "      <td>5.5</td>\n",
       "      <td>0.490939</td>\n",
       "      <td>0.177614</td>\n",
       "      <td>0.287028</td>\n",
       "      <td>1.828086</td>\n",
       "      <td>0.072543</td>\n",
       "      <td>0.0</td>\n",
       "      <td>2.325228</td>\n",
       "      <td>0.198263</td>\n",
       "      <td>0.303329</td>\n",
       "      <td>1.699796</td>\n",
       "    </tr>\n",
       "  </tbody>\n",
       "</table>\n",
       "</div>"
      ],
      "text/plain": [
       "      fold  origin_err  marg_err  marg_oneC  marg_avgC  Simul_err  Simul_oneC  \\\n",
       "eps                                                                             \n",
       "0.01   5.5    0.490939  0.011887   0.011875   4.988801   0.004375         0.0   \n",
       "0.03   5.5    0.490939  0.040035   0.067531   4.032303   0.011254         0.0   \n",
       "0.05   5.5    0.490939  0.060668   0.104422   3.435122   0.021895         0.0   \n",
       "0.10   5.5    0.490939  0.088805   0.153223   2.525369   0.051285         0.0   \n",
       "0.20   5.5    0.490939  0.177614   0.287028   1.828086   0.072543         0.0   \n",
       "\n",
       "      Simul_avgC   inv_err  inv_oneC  inv_avgC  \n",
       "eps                                             \n",
       "0.01    5.220770  0.015641  0.000000  4.057520  \n",
       "0.03    4.209473  0.030649  0.000000  3.530947  \n",
       "0.05    3.736745  0.048156  0.000000  3.030708  \n",
       "0.10    2.820531  0.095688  0.006250  2.171380  \n",
       "0.20    2.325228  0.198263  0.303329  1.699796  "
      ]
     },
     "execution_count": 105,
     "metadata": {},
     "output_type": "execute_result"
    }
   ],
   "source": [
    "tmp_df = res_df.groupby('eps').mean()\n",
    "# rename columns for margin function\n",
    "svm_mean_df.columns = ['fold', 'origin_err', 'marg_err', 'marg_oneC', 'marg_avgC', \n",
    "                       'Simul_err', 'Simul_oneC', 'Simul_avgC']\n",
    "# these columns contain results for inverse probability non-conformity function\n",
    "svm_mean_df['inv_err'] = tmp_df['Conf_err']\n",
    "svm_mean_df['inv_oneC'] = tmp_df['Conf_oneC']\n",
    "svm_mean_df['inv_avgC'] = tmp_df['Conf_avgC']\n",
    "svm_mean_df"
   ]
  },
  {
   "cell_type": "markdown",
   "metadata": {},
   "source": [
    "#### Decision trees"
   ]
  },
  {
   "cell_type": "markdown",
   "metadata": {},
   "source": [
    "##### MarginErrFunc"
   ]
  },
  {
   "cell_type": "code",
   "execution_count": 106,
   "metadata": {},
   "outputs": [
    {
     "name": "stdout",
     "output_type": "stream",
     "text": [
      "Info about dataset: \n",
      "classes: [3, 4, 5, 6, 7, 8]\n",
      "size of the dataset: 1599\n",
      "train = 1151, cal = 288, test = 160\n",
      "\n",
      "average values for each eps\n"
     ]
    },
    {
     "data": {
      "text/html": [
       "<div>\n",
       "<style scoped>\n",
       "    .dataframe tbody tr th:only-of-type {\n",
       "        vertical-align: middle;\n",
       "    }\n",
       "\n",
       "    .dataframe tbody tr th {\n",
       "        vertical-align: top;\n",
       "    }\n",
       "\n",
       "    .dataframe thead th {\n",
       "        text-align: right;\n",
       "    }\n",
       "</style>\n",
       "<table border=\"1\" class=\"dataframe\">\n",
       "  <thead>\n",
       "    <tr style=\"text-align: right;\">\n",
       "      <th></th>\n",
       "      <th>fold</th>\n",
       "      <th>origin_err</th>\n",
       "      <th>Conf_err</th>\n",
       "      <th>Conf_oneC</th>\n",
       "      <th>Conf_avgC</th>\n",
       "      <th>Simul_err</th>\n",
       "      <th>Simul_oneC</th>\n",
       "      <th>Simul_avgC</th>\n",
       "    </tr>\n",
       "    <tr>\n",
       "      <th>eps</th>\n",
       "      <th></th>\n",
       "      <th></th>\n",
       "      <th></th>\n",
       "      <th></th>\n",
       "      <th></th>\n",
       "      <th></th>\n",
       "      <th></th>\n",
       "      <th></th>\n",
       "    </tr>\n",
       "  </thead>\n",
       "  <tbody>\n",
       "    <tr>\n",
       "      <th>0.01</th>\n",
       "      <td>5.5</td>\n",
       "      <td>0.4259</td>\n",
       "      <td>0.006875</td>\n",
       "      <td>0.029379</td>\n",
       "      <td>5.639061</td>\n",
       "      <td>0.049406</td>\n",
       "      <td>0.069383</td>\n",
       "      <td>3.318404</td>\n",
       "    </tr>\n",
       "    <tr>\n",
       "      <th>0.03</th>\n",
       "      <td>5.5</td>\n",
       "      <td>0.4259</td>\n",
       "      <td>0.029383</td>\n",
       "      <td>0.093809</td>\n",
       "      <td>5.265755</td>\n",
       "      <td>0.060035</td>\n",
       "      <td>0.083133</td>\n",
       "      <td>2.951969</td>\n",
       "    </tr>\n",
       "    <tr>\n",
       "      <th>0.05</th>\n",
       "      <td>5.5</td>\n",
       "      <td>0.4259</td>\n",
       "      <td>0.052528</td>\n",
       "      <td>0.165739</td>\n",
       "      <td>4.683931</td>\n",
       "      <td>0.071914</td>\n",
       "      <td>0.103168</td>\n",
       "      <td>2.661085</td>\n",
       "    </tr>\n",
       "    <tr>\n",
       "      <th>0.10</th>\n",
       "      <td>5.5</td>\n",
       "      <td>0.4259</td>\n",
       "      <td>0.102567</td>\n",
       "      <td>0.272040</td>\n",
       "      <td>3.801494</td>\n",
       "      <td>0.112551</td>\n",
       "      <td>0.197626</td>\n",
       "      <td>2.214579</td>\n",
       "    </tr>\n",
       "    <tr>\n",
       "      <th>0.20</th>\n",
       "      <td>5.5</td>\n",
       "      <td>0.4259</td>\n",
       "      <td>0.199501</td>\n",
       "      <td>0.474693</td>\n",
       "      <td>2.035719</td>\n",
       "      <td>0.176376</td>\n",
       "      <td>0.331454</td>\n",
       "      <td>1.762932</td>\n",
       "    </tr>\n",
       "  </tbody>\n",
       "</table>\n",
       "</div>"
      ],
      "text/plain": [
       "      fold  origin_err  Conf_err  Conf_oneC  Conf_avgC  Simul_err  Simul_oneC  \\\n",
       "eps                                                                             \n",
       "0.01   5.5      0.4259  0.006875   0.029379   5.639061   0.049406    0.069383   \n",
       "0.03   5.5      0.4259  0.029383   0.093809   5.265755   0.060035    0.083133   \n",
       "0.05   5.5      0.4259  0.052528   0.165739   4.683931   0.071914    0.103168   \n",
       "0.10   5.5      0.4259  0.102567   0.272040   3.801494   0.112551    0.197626   \n",
       "0.20   5.5      0.4259  0.199501   0.474693   2.035719   0.176376    0.331454   \n",
       "\n",
       "      Simul_avgC  \n",
       "eps               \n",
       "0.01    3.318404  \n",
       "0.03    2.951969  \n",
       "0.05    2.661085  \n",
       "0.10    2.214579  \n",
       "0.20    1.762932  "
      ]
     },
     "execution_count": 106,
     "metadata": {},
     "output_type": "execute_result"
    }
   ],
   "source": [
    "res_df = run_conformal(data, model_obj=dt_model_obj, \n",
    "                       params={MIN_SAMPLES_KEY: max(5, int(dt_min_sample_ratio * len(data['data'])))},\n",
    "                       epsilon_arr=eps_err, err_func=MarginErrFunc, smoothing=True, \n",
    "                       seed=1, verbose=True)\n",
    "# Get average values of metrics\n",
    "print('\\naverage values for each eps')\n",
    "dt_mean_df = res_df.groupby('eps').mean()\n",
    "dt_mean_df"
   ]
  },
  {
   "cell_type": "markdown",
   "metadata": {},
   "source": [
    "#####  InverseProbabilityErrFunc"
   ]
  },
  {
   "cell_type": "code",
   "execution_count": 107,
   "metadata": {},
   "outputs": [
    {
     "name": "stdout",
     "output_type": "stream",
     "text": [
      "Info about dataset: \n",
      "classes: [3, 4, 5, 6, 7, 8]\n",
      "size of the dataset: 1599\n",
      "train = 1151, cal = 288, test = 160\n",
      "\n",
      "average values for each eps\n"
     ]
    },
    {
     "data": {
      "text/html": [
       "<div>\n",
       "<style scoped>\n",
       "    .dataframe tbody tr th:only-of-type {\n",
       "        vertical-align: middle;\n",
       "    }\n",
       "\n",
       "    .dataframe tbody tr th {\n",
       "        vertical-align: top;\n",
       "    }\n",
       "\n",
       "    .dataframe thead th {\n",
       "        text-align: right;\n",
       "    }\n",
       "</style>\n",
       "<table border=\"1\" class=\"dataframe\">\n",
       "  <thead>\n",
       "    <tr style=\"text-align: right;\">\n",
       "      <th></th>\n",
       "      <th>fold</th>\n",
       "      <th>origin_err</th>\n",
       "      <th>Conf_err</th>\n",
       "      <th>Conf_oneC</th>\n",
       "      <th>Conf_avgC</th>\n",
       "      <th>Simul_err</th>\n",
       "      <th>Simul_oneC</th>\n",
       "      <th>Simul_avgC</th>\n",
       "    </tr>\n",
       "    <tr>\n",
       "      <th>eps</th>\n",
       "      <th></th>\n",
       "      <th></th>\n",
       "      <th></th>\n",
       "      <th></th>\n",
       "      <th></th>\n",
       "      <th></th>\n",
       "      <th></th>\n",
       "      <th></th>\n",
       "    </tr>\n",
       "  </thead>\n",
       "  <tbody>\n",
       "    <tr>\n",
       "      <th>0.01</th>\n",
       "      <td>5.5</td>\n",
       "      <td>0.4259</td>\n",
       "      <td>0.012504</td>\n",
       "      <td>0.000000</td>\n",
       "      <td>5.424045</td>\n",
       "      <td>0.049406</td>\n",
       "      <td>0.069383</td>\n",
       "      <td>3.318404</td>\n",
       "    </tr>\n",
       "    <tr>\n",
       "      <th>0.03</th>\n",
       "      <td>5.5</td>\n",
       "      <td>0.4259</td>\n",
       "      <td>0.029399</td>\n",
       "      <td>0.003750</td>\n",
       "      <td>4.242732</td>\n",
       "      <td>0.060035</td>\n",
       "      <td>0.083133</td>\n",
       "      <td>2.951969</td>\n",
       "    </tr>\n",
       "    <tr>\n",
       "      <th>0.05</th>\n",
       "      <td>5.5</td>\n",
       "      <td>0.4259</td>\n",
       "      <td>0.048785</td>\n",
       "      <td>0.051262</td>\n",
       "      <td>3.298318</td>\n",
       "      <td>0.071914</td>\n",
       "      <td>0.103168</td>\n",
       "      <td>2.661085</td>\n",
       "    </tr>\n",
       "    <tr>\n",
       "      <th>0.10</th>\n",
       "      <td>5.5</td>\n",
       "      <td>0.4259</td>\n",
       "      <td>0.099430</td>\n",
       "      <td>0.121333</td>\n",
       "      <td>2.345888</td>\n",
       "      <td>0.112551</td>\n",
       "      <td>0.197626</td>\n",
       "      <td>2.214579</td>\n",
       "    </tr>\n",
       "    <tr>\n",
       "      <th>0.20</th>\n",
       "      <td>5.5</td>\n",
       "      <td>0.4259</td>\n",
       "      <td>0.203235</td>\n",
       "      <td>0.391509</td>\n",
       "      <td>1.654159</td>\n",
       "      <td>0.176376</td>\n",
       "      <td>0.331454</td>\n",
       "      <td>1.762932</td>\n",
       "    </tr>\n",
       "  </tbody>\n",
       "</table>\n",
       "</div>"
      ],
      "text/plain": [
       "      fold  origin_err  Conf_err  Conf_oneC  Conf_avgC  Simul_err  Simul_oneC  \\\n",
       "eps                                                                             \n",
       "0.01   5.5      0.4259  0.012504   0.000000   5.424045   0.049406    0.069383   \n",
       "0.03   5.5      0.4259  0.029399   0.003750   4.242732   0.060035    0.083133   \n",
       "0.05   5.5      0.4259  0.048785   0.051262   3.298318   0.071914    0.103168   \n",
       "0.10   5.5      0.4259  0.099430   0.121333   2.345888   0.112551    0.197626   \n",
       "0.20   5.5      0.4259  0.203235   0.391509   1.654159   0.176376    0.331454   \n",
       "\n",
       "      Simul_avgC  \n",
       "eps               \n",
       "0.01    3.318404  \n",
       "0.03    2.951969  \n",
       "0.05    2.661085  \n",
       "0.10    2.214579  \n",
       "0.20    1.762932  "
      ]
     },
     "execution_count": 107,
     "metadata": {},
     "output_type": "execute_result"
    }
   ],
   "source": [
    "res_df = run_conformal(data, model_obj=dt_model_obj, \n",
    "                       params={MIN_SAMPLES_KEY: max(5, int(dt_min_sample_ratio * len(data['data'])))},\n",
    "                       epsilon_arr=eps_err, err_func=InverseProbabilityErrFunc, smoothing=True, \n",
    "                       seed=1, verbose=True)\n",
    "# Get average values of metrics\n",
    "print('\\naverage values for each eps')\n",
    "res_df.groupby('eps').mean()"
   ]
  },
  {
   "cell_type": "code",
   "execution_count": 108,
   "metadata": {},
   "outputs": [
    {
     "data": {
      "text/html": [
       "<div>\n",
       "<style scoped>\n",
       "    .dataframe tbody tr th:only-of-type {\n",
       "        vertical-align: middle;\n",
       "    }\n",
       "\n",
       "    .dataframe tbody tr th {\n",
       "        vertical-align: top;\n",
       "    }\n",
       "\n",
       "    .dataframe thead th {\n",
       "        text-align: right;\n",
       "    }\n",
       "</style>\n",
       "<table border=\"1\" class=\"dataframe\">\n",
       "  <thead>\n",
       "    <tr style=\"text-align: right;\">\n",
       "      <th></th>\n",
       "      <th>fold</th>\n",
       "      <th>origin_err</th>\n",
       "      <th>marg_err</th>\n",
       "      <th>marg_oneC</th>\n",
       "      <th>marg_avgC</th>\n",
       "      <th>Simul_err</th>\n",
       "      <th>Simul_oneC</th>\n",
       "      <th>Simul_avgC</th>\n",
       "      <th>inv_err</th>\n",
       "      <th>inv_oneC</th>\n",
       "      <th>inv_avgC</th>\n",
       "    </tr>\n",
       "    <tr>\n",
       "      <th>eps</th>\n",
       "      <th></th>\n",
       "      <th></th>\n",
       "      <th></th>\n",
       "      <th></th>\n",
       "      <th></th>\n",
       "      <th></th>\n",
       "      <th></th>\n",
       "      <th></th>\n",
       "      <th></th>\n",
       "      <th></th>\n",
       "      <th></th>\n",
       "    </tr>\n",
       "  </thead>\n",
       "  <tbody>\n",
       "    <tr>\n",
       "      <th>0.01</th>\n",
       "      <td>5.5</td>\n",
       "      <td>0.4259</td>\n",
       "      <td>0.006875</td>\n",
       "      <td>0.029379</td>\n",
       "      <td>5.639061</td>\n",
       "      <td>0.049406</td>\n",
       "      <td>0.069383</td>\n",
       "      <td>3.318404</td>\n",
       "      <td>0.012504</td>\n",
       "      <td>0.000000</td>\n",
       "      <td>5.424045</td>\n",
       "    </tr>\n",
       "    <tr>\n",
       "      <th>0.03</th>\n",
       "      <td>5.5</td>\n",
       "      <td>0.4259</td>\n",
       "      <td>0.029383</td>\n",
       "      <td>0.093809</td>\n",
       "      <td>5.265755</td>\n",
       "      <td>0.060035</td>\n",
       "      <td>0.083133</td>\n",
       "      <td>2.951969</td>\n",
       "      <td>0.029399</td>\n",
       "      <td>0.003750</td>\n",
       "      <td>4.242732</td>\n",
       "    </tr>\n",
       "    <tr>\n",
       "      <th>0.05</th>\n",
       "      <td>5.5</td>\n",
       "      <td>0.4259</td>\n",
       "      <td>0.052528</td>\n",
       "      <td>0.165739</td>\n",
       "      <td>4.683931</td>\n",
       "      <td>0.071914</td>\n",
       "      <td>0.103168</td>\n",
       "      <td>2.661085</td>\n",
       "      <td>0.048785</td>\n",
       "      <td>0.051262</td>\n",
       "      <td>3.298318</td>\n",
       "    </tr>\n",
       "    <tr>\n",
       "      <th>0.10</th>\n",
       "      <td>5.5</td>\n",
       "      <td>0.4259</td>\n",
       "      <td>0.102567</td>\n",
       "      <td>0.272040</td>\n",
       "      <td>3.801494</td>\n",
       "      <td>0.112551</td>\n",
       "      <td>0.197626</td>\n",
       "      <td>2.214579</td>\n",
       "      <td>0.099430</td>\n",
       "      <td>0.121333</td>\n",
       "      <td>2.345888</td>\n",
       "    </tr>\n",
       "    <tr>\n",
       "      <th>0.20</th>\n",
       "      <td>5.5</td>\n",
       "      <td>0.4259</td>\n",
       "      <td>0.199501</td>\n",
       "      <td>0.474693</td>\n",
       "      <td>2.035719</td>\n",
       "      <td>0.176376</td>\n",
       "      <td>0.331454</td>\n",
       "      <td>1.762932</td>\n",
       "      <td>0.203235</td>\n",
       "      <td>0.391509</td>\n",
       "      <td>1.654159</td>\n",
       "    </tr>\n",
       "  </tbody>\n",
       "</table>\n",
       "</div>"
      ],
      "text/plain": [
       "      fold  origin_err  marg_err  marg_oneC  marg_avgC  Simul_err  Simul_oneC  \\\n",
       "eps                                                                             \n",
       "0.01   5.5      0.4259  0.006875   0.029379   5.639061   0.049406    0.069383   \n",
       "0.03   5.5      0.4259  0.029383   0.093809   5.265755   0.060035    0.083133   \n",
       "0.05   5.5      0.4259  0.052528   0.165739   4.683931   0.071914    0.103168   \n",
       "0.10   5.5      0.4259  0.102567   0.272040   3.801494   0.112551    0.197626   \n",
       "0.20   5.5      0.4259  0.199501   0.474693   2.035719   0.176376    0.331454   \n",
       "\n",
       "      Simul_avgC   inv_err  inv_oneC  inv_avgC  \n",
       "eps                                             \n",
       "0.01    3.318404  0.012504  0.000000  5.424045  \n",
       "0.03    2.951969  0.029399  0.003750  4.242732  \n",
       "0.05    2.661085  0.048785  0.051262  3.298318  \n",
       "0.10    2.214579  0.099430  0.121333  2.345888  \n",
       "0.20    1.762932  0.203235  0.391509  1.654159  "
      ]
     },
     "execution_count": 108,
     "metadata": {},
     "output_type": "execute_result"
    }
   ],
   "source": [
    "tmp_df = res_df.groupby('eps').mean()\n",
    "# rename columns for margin function\n",
    "dt_mean_df.columns = ['fold', 'origin_err', 'marg_err', 'marg_oneC', 'marg_avgC', \n",
    "                       'Simul_err', 'Simul_oneC', 'Simul_avgC']\n",
    "# these columns contain results for inverse probability non-conformity function\n",
    "dt_mean_df['inv_err'] = tmp_df['Conf_err']\n",
    "dt_mean_df['inv_oneC'] = tmp_df['Conf_oneC']\n",
    "dt_mean_df['inv_avgC'] = tmp_df['Conf_avgC']\n",
    "dt_mean_df"
   ]
  },
  {
   "cell_type": "markdown",
   "metadata": {},
   "source": [
    "## Plot results: error rate"
   ]
  },
  {
   "cell_type": "code",
   "execution_count": 109,
   "metadata": {},
   "outputs": [
    {
     "data": {
      "text/plain": [
       "Text(0.5, 1.0, 'Error rate')"
      ]
     },
     "execution_count": 109,
     "metadata": {},
     "output_type": "execute_result"
    },
    {
     "data": {
      "image/png": "[encoded data removed]",
      "text/plain": [
       "<Figure size 432x288 with 1 Axes>"
      ]
     },
     "metadata": {
      "needs_background": "light"
     },
     "output_type": "display_data"
    }
   ],
   "source": [
    "# SVM color - blue\n",
    "color = 'blue'\n",
    "df = svm_mean_df\n",
    "plt.plot(eps_err, df['origin_err'], label='SVM', color=color, lw=3) # thik line for original error\n",
    "plt.plot(eps_err, df['marg_err'], label='- margin', color=color, ) # normal line for margin error\n",
    "plt.plot(eps_err, df['inv_err'], label='- inv prob', color=color, linestyle='--') # dashed line for inv_prob error\n",
    "plt.plot(eps_err, df['Simul_err'], label='- simulated', color=color, linestyle=':') # dotted line for simulation error\n",
    "\n",
    "# Decision tree color - orange\n",
    "color = 'orange'\n",
    "df = dt_mean_df\n",
    "plt.plot(eps_err, df['origin_err'], label='Decision tree', color=color, lw=3) # thik line for original error\n",
    "plt.plot(eps_err, df['marg_err'], label='_nolegend_', color=color, ) # normal line for margin error\n",
    "plt.plot(eps_err, df['inv_err'], label='_nolegend_', color=color, linestyle='--') # dashed line for inv_prob error\n",
    "plt.plot(eps_err, df['Simul_err'], label='_nolegend_', color=color, linestyle=':') # dotted line for simulation error\n",
    "\n",
    "plt.xticks(eps_err)\n",
    "y_ticks = eps_err[:]\n",
    "y_ticks.extend([0.3, 0.4, 0.5])\n",
    "plt.yticks(y_ticks)\n",
    "plt.grid(True)\n",
    "plt.legend()\n",
    "plt.title('Error rate')"
   ]
  },
  {
   "cell_type": "markdown",
   "metadata": {},
   "source": [
    "## Plot: oneC"
   ]
  },
  {
   "cell_type": "code",
   "execution_count": 110,
   "metadata": {},
   "outputs": [
    {
     "data": {
      "text/plain": [
       "Text(0.5, 1.0, 'oneC')"
      ]
     },
     "execution_count": 110,
     "metadata": {},
     "output_type": "execute_result"
    },
    {
     "data": {
      "image/png": "[encoded data removed]",
      "text/plain": [
       "<Figure size 432x288 with 1 Axes>"
      ]
     },
     "metadata": {
      "needs_background": "light"
     },
     "output_type": "display_data"
    }
   ],
   "source": [
    "# SVM color - blue\n",
    "color = 'blue'\n",
    "df = svm_mean_df\n",
    "plt.plot(eps_err, df['marg_oneC'], label='SVM', color=color, ) # normal line for margin error\n",
    "plt.plot(eps_err, df['inv_oneC'], label='_nolegend_', color=color, linestyle='--') # dashed line for inv_prob error\n",
    "plt.plot(eps_err, df['Simul_oneC'], label='_nolegend_', color=color, linestyle=':') # dotted line for simulation error\n",
    "\n",
    "# Decision tree color - orange\n",
    "color = 'orange'\n",
    "df = dt_mean_df\n",
    "plt.plot(eps_err, df['marg_oneC'], label='Decision tree', color=color, ) # normal line for margin error\n",
    "plt.plot(eps_err, df['inv_oneC'], label='_nolegend_', color=color, linestyle='--') # dashed line for inv_prob error\n",
    "plt.plot(eps_err, df['Simul_oneC'], label='_nolegend_', color=color, linestyle=':') # dotted line for simulation error\n",
    "\n",
    "plt.xticks(eps_err)\n",
    "plt.grid(True)\n",
    "plt.legend()\n",
    "plt.title('oneC')"
   ]
  },
  {
   "cell_type": "markdown",
   "metadata": {},
   "source": [
    "## Plot: avgC"
   ]
  },
  {
   "cell_type": "code",
   "execution_count": 111,
   "metadata": {},
   "outputs": [
    {
     "data": {
      "text/plain": [
       "Text(0.5, 1.0, 'avgC')"
      ]
     },
     "execution_count": 111,
     "metadata": {},
     "output_type": "execute_result"
    },
    {
     "data": {
      "image/png": "[encoded data removed]",
      "text/plain": [
       "<Figure size 432x288 with 1 Axes>"
      ]
     },
     "metadata": {
      "needs_background": "light"
     },
     "output_type": "display_data"
    }
   ],
   "source": [
    "# SVM color - blue\n",
    "color = 'blue'\n",
    "df = svm_mean_df\n",
    "plt.plot(eps_err, df['marg_avgC'], label='SVM', color=color, ) # normal line for margin error\n",
    "plt.plot(eps_err, df['inv_avgC'], label='_nolegend_', color=color, linestyle='--') # dashed line for inv_prob error\n",
    "plt.plot(eps_err, df['Simul_avgC'], label='_nolegend_', color=color, linestyle=':') # dotted line for simulation error\n",
    "\n",
    "# Decision tree color - orange\n",
    "color = 'orange'\n",
    "df = dt_mean_df\n",
    "plt.plot(eps_err, df['marg_avgC'], label='Decision tree', color=color, ) # normal line for margin error\n",
    "plt.plot(eps_err, df['inv_avgC'], label='_nolegend_', color=color, linestyle='--') # dashed line for inv_prob error\n",
    "plt.plot(eps_err, df['Simul_avgC'], label='_nolegend_', color=color, linestyle=':') # dotted line for simulation error\n",
    "\n",
    "plt.xticks(eps_err)\n",
    "plt.grid(True)\n",
    "plt.legend()\n",
    "plt.title('avgC')"
   ]
  },
  {
   "cell_type": "markdown",
   "metadata": {},
   "source": [
    "<font color='red'>Results: Which non-conformity function is better for which metric (oneC should be hight, avgC shold be low)</font>\n",
    "\n",
    "|                 | avgC      | oneC      |\n",
    "|---              |---        |---        |\n",
    "| SVM             | inv_prob  | margin    |\n",
    "| Decision trees  | inv_prob  | margin    |\n"
   ]
  },
  {
   "cell_type": "markdown",
   "metadata": {},
   "source": [
    "### Run conformal prediction for white wine"
   ]
  },
  {
   "cell_type": "code",
   "execution_count": 112,
   "metadata": {
    "scrolled": true
   },
   "outputs": [
    {
     "name": "stdout",
     "output_type": "stream",
     "text": [
      "Loading wine_white\n"
     ]
    }
   ],
   "source": [
    "data = load_wine_white()"
   ]
  },
  {
   "cell_type": "markdown",
   "metadata": {},
   "source": [
    "### svm"
   ]
  },
  {
   "cell_type": "markdown",
   "metadata": {},
   "source": [
    "##### MarginErrFunc"
   ]
  },
  {
   "cell_type": "code",
   "execution_count": 113,
   "metadata": {
    "scrolled": false
   },
   "outputs": [
    {
     "name": "stdout",
     "output_type": "stream",
     "text": [
      "Info about dataset: \n",
      "classes: [3, 4, 5, 6, 7, 8, 9]\n",
      "size of the dataset: 4898\n",
      "train = 3526, cal = 882, test = 490\n",
      "\n",
      "average values for each eps\n"
     ]
    },
    {
     "data": {
      "text/html": [
       "<div>\n",
       "<style scoped>\n",
       "    .dataframe tbody tr th:only-of-type {\n",
       "        vertical-align: middle;\n",
       "    }\n",
       "\n",
       "    .dataframe tbody tr th {\n",
       "        vertical-align: top;\n",
       "    }\n",
       "\n",
       "    .dataframe thead th {\n",
       "        text-align: right;\n",
       "    }\n",
       "</style>\n",
       "<table border=\"1\" class=\"dataframe\">\n",
       "  <thead>\n",
       "    <tr style=\"text-align: right;\">\n",
       "      <th></th>\n",
       "      <th>fold</th>\n",
       "      <th>origin_err</th>\n",
       "      <th>Conf_err</th>\n",
       "      <th>Conf_oneC</th>\n",
       "      <th>Conf_avgC</th>\n",
       "      <th>Simul_err</th>\n",
       "      <th>Simul_oneC</th>\n",
       "      <th>Simul_avgC</th>\n",
       "    </tr>\n",
       "    <tr>\n",
       "      <th>eps</th>\n",
       "      <th></th>\n",
       "      <th></th>\n",
       "      <th></th>\n",
       "      <th></th>\n",
       "      <th></th>\n",
       "      <th></th>\n",
       "      <th></th>\n",
       "      <th></th>\n",
       "    </tr>\n",
       "  </thead>\n",
       "  <tbody>\n",
       "    <tr>\n",
       "      <th>0.01</th>\n",
       "      <td>5.5</td>\n",
       "      <td>0.551854</td>\n",
       "      <td>0.016944</td>\n",
       "      <td>0.001634</td>\n",
       "      <td>5.183080</td>\n",
       "      <td>0.004083</td>\n",
       "      <td>0.0</td>\n",
       "      <td>5.235991</td>\n",
       "    </tr>\n",
       "    <tr>\n",
       "      <th>0.03</th>\n",
       "      <td>5.5</td>\n",
       "      <td>0.551854</td>\n",
       "      <td>0.036747</td>\n",
       "      <td>0.002655</td>\n",
       "      <td>4.482324</td>\n",
       "      <td>0.007554</td>\n",
       "      <td>0.0</td>\n",
       "      <td>4.546946</td>\n",
       "    </tr>\n",
       "    <tr>\n",
       "      <th>0.05</th>\n",
       "      <td>5.5</td>\n",
       "      <td>0.551854</td>\n",
       "      <td>0.056142</td>\n",
       "      <td>0.006330</td>\n",
       "      <td>3.651455</td>\n",
       "      <td>0.015720</td>\n",
       "      <td>0.0</td>\n",
       "      <td>4.026546</td>\n",
       "    </tr>\n",
       "    <tr>\n",
       "      <th>0.10</th>\n",
       "      <td>5.5</td>\n",
       "      <td>0.551854</td>\n",
       "      <td>0.108814</td>\n",
       "      <td>0.030019</td>\n",
       "      <td>2.595313</td>\n",
       "      <td>0.050834</td>\n",
       "      <td>0.0</td>\n",
       "      <td>3.189867</td>\n",
       "    </tr>\n",
       "    <tr>\n",
       "      <th>0.20</th>\n",
       "      <td>5.5</td>\n",
       "      <td>0.551854</td>\n",
       "      <td>0.207631</td>\n",
       "      <td>0.186196</td>\n",
       "      <td>1.927514</td>\n",
       "      <td>0.097382</td>\n",
       "      <td>0.0</td>\n",
       "      <td>2.622477</td>\n",
       "    </tr>\n",
       "  </tbody>\n",
       "</table>\n",
       "</div>"
      ],
      "text/plain": [
       "      fold  origin_err  Conf_err  Conf_oneC  Conf_avgC  Simul_err  Simul_oneC  \\\n",
       "eps                                                                             \n",
       "0.01   5.5    0.551854  0.016944   0.001634   5.183080   0.004083         0.0   \n",
       "0.03   5.5    0.551854  0.036747   0.002655   4.482324   0.007554         0.0   \n",
       "0.05   5.5    0.551854  0.056142   0.006330   3.651455   0.015720         0.0   \n",
       "0.10   5.5    0.551854  0.108814   0.030019   2.595313   0.050834         0.0   \n",
       "0.20   5.5    0.551854  0.207631   0.186196   1.927514   0.097382         0.0   \n",
       "\n",
       "      Simul_avgC  \n",
       "eps               \n",
       "0.01    5.235991  \n",
       "0.03    4.546946  \n",
       "0.05    4.026546  \n",
       "0.10    3.189867  \n",
       "0.20    2.622477  "
      ]
     },
     "execution_count": 113,
     "metadata": {},
     "output_type": "execute_result"
    }
   ],
   "source": [
    "res_df = run_conformal(data, epsilon_arr=eps_err, err_func=MarginErrFunc, smoothing=True,\n",
    "                       seed=1, verbose=True)\n",
    "# Get average values of metrics\n",
    "print('\\naverage values for each eps')\n",
    "mean_df = res_df.groupby('eps').mean()\n",
    "mean_df"
   ]
  },
  {
   "cell_type": "markdown",
   "metadata": {},
   "source": [
    "#####  InverseProbabilityErrFunc"
   ]
  },
  {
   "cell_type": "code",
   "execution_count": 114,
   "metadata": {
    "scrolled": true
   },
   "outputs": [
    {
     "name": "stdout",
     "output_type": "stream",
     "text": [
      "Info about dataset: \n",
      "classes: [3, 4, 5, 6, 7, 8, 9]\n",
      "size of the dataset: 4898\n",
      "train = 3526, cal = 882, test = 490\n",
      "average values for each eps\n"
     ]
    },
    {
     "data": {
      "text/html": [
       "<div>\n",
       "<style scoped>\n",
       "    .dataframe tbody tr th:only-of-type {\n",
       "        vertical-align: middle;\n",
       "    }\n",
       "\n",
       "    .dataframe tbody tr th {\n",
       "        vertical-align: top;\n",
       "    }\n",
       "\n",
       "    .dataframe thead th {\n",
       "        text-align: right;\n",
       "    }\n",
       "</style>\n",
       "<table border=\"1\" class=\"dataframe\">\n",
       "  <thead>\n",
       "    <tr style=\"text-align: right;\">\n",
       "      <th></th>\n",
       "      <th>fold</th>\n",
       "      <th>origin_err</th>\n",
       "      <th>Conf_err</th>\n",
       "      <th>Conf_oneC</th>\n",
       "      <th>Conf_avgC</th>\n",
       "      <th>Simul_err</th>\n",
       "      <th>Simul_oneC</th>\n",
       "      <th>Simul_avgC</th>\n",
       "    </tr>\n",
       "    <tr>\n",
       "      <th>eps</th>\n",
       "      <th></th>\n",
       "      <th></th>\n",
       "      <th></th>\n",
       "      <th></th>\n",
       "      <th></th>\n",
       "      <th></th>\n",
       "      <th></th>\n",
       "      <th></th>\n",
       "    </tr>\n",
       "  </thead>\n",
       "  <tbody>\n",
       "    <tr>\n",
       "      <th>0.01</th>\n",
       "      <td>5.5</td>\n",
       "      <td>0.551854</td>\n",
       "      <td>0.012046</td>\n",
       "      <td>0.000000</td>\n",
       "      <td>4.241907</td>\n",
       "      <td>0.004083</td>\n",
       "      <td>0.0</td>\n",
       "      <td>5.235991</td>\n",
       "    </tr>\n",
       "    <tr>\n",
       "      <th>0.03</th>\n",
       "      <td>5.5</td>\n",
       "      <td>0.551854</td>\n",
       "      <td>0.035317</td>\n",
       "      <td>0.000000</td>\n",
       "      <td>3.427342</td>\n",
       "      <td>0.007554</td>\n",
       "      <td>0.0</td>\n",
       "      <td>4.546946</td>\n",
       "    </tr>\n",
       "    <tr>\n",
       "      <th>0.05</th>\n",
       "      <td>5.5</td>\n",
       "      <td>0.551854</td>\n",
       "      <td>0.055527</td>\n",
       "      <td>0.000204</td>\n",
       "      <td>3.171721</td>\n",
       "      <td>0.015720</td>\n",
       "      <td>0.0</td>\n",
       "      <td>4.026546</td>\n",
       "    </tr>\n",
       "    <tr>\n",
       "      <th>0.10</th>\n",
       "      <td>5.5</td>\n",
       "      <td>0.551854</td>\n",
       "      <td>0.106362</td>\n",
       "      <td>0.001634</td>\n",
       "      <td>2.514480</td>\n",
       "      <td>0.050834</td>\n",
       "      <td>0.0</td>\n",
       "      <td>3.189867</td>\n",
       "    </tr>\n",
       "    <tr>\n",
       "      <th>0.20</th>\n",
       "      <td>5.5</td>\n",
       "      <td>0.551854</td>\n",
       "      <td>0.208652</td>\n",
       "      <td>0.160677</td>\n",
       "      <td>1.846261</td>\n",
       "      <td>0.097382</td>\n",
       "      <td>0.0</td>\n",
       "      <td>2.622477</td>\n",
       "    </tr>\n",
       "  </tbody>\n",
       "</table>\n",
       "</div>"
      ],
      "text/plain": [
       "      fold  origin_err  Conf_err  Conf_oneC  Conf_avgC  Simul_err  Simul_oneC  \\\n",
       "eps                                                                             \n",
       "0.01   5.5    0.551854  0.012046   0.000000   4.241907   0.004083         0.0   \n",
       "0.03   5.5    0.551854  0.035317   0.000000   3.427342   0.007554         0.0   \n",
       "0.05   5.5    0.551854  0.055527   0.000204   3.171721   0.015720         0.0   \n",
       "0.10   5.5    0.551854  0.106362   0.001634   2.514480   0.050834         0.0   \n",
       "0.20   5.5    0.551854  0.208652   0.160677   1.846261   0.097382         0.0   \n",
       "\n",
       "      Simul_avgC  \n",
       "eps               \n",
       "0.01    5.235991  \n",
       "0.03    4.546946  \n",
       "0.05    4.026546  \n",
       "0.10    3.189867  \n",
       "0.20    2.622477  "
      ]
     },
     "execution_count": 114,
     "metadata": {},
     "output_type": "execute_result"
    }
   ],
   "source": [
    "res_df = run_conformal(data, epsilon_arr=eps_err, err_func=InverseProbabilityErrFunc, smoothing=True,\n",
    "                             seed=1, verbose=True)\n",
    "# Get average values of metrics\n",
    "print('average values for each eps')\n",
    "res_df.groupby('eps').mean()"
   ]
  },
  {
   "cell_type": "code",
   "execution_count": 115,
   "metadata": {},
   "outputs": [
    {
     "data": {
      "text/html": [
       "<div>\n",
       "<style scoped>\n",
       "    .dataframe tbody tr th:only-of-type {\n",
       "        vertical-align: middle;\n",
       "    }\n",
       "\n",
       "    .dataframe tbody tr th {\n",
       "        vertical-align: top;\n",
       "    }\n",
       "\n",
       "    .dataframe thead th {\n",
       "        text-align: right;\n",
       "    }\n",
       "</style>\n",
       "<table border=\"1\" class=\"dataframe\">\n",
       "  <thead>\n",
       "    <tr style=\"text-align: right;\">\n",
       "      <th></th>\n",
       "      <th>fold</th>\n",
       "      <th>origin_err</th>\n",
       "      <th>Conf_err</th>\n",
       "      <th>Conf_oneC</th>\n",
       "      <th>Conf_avgC</th>\n",
       "      <th>Simul_err</th>\n",
       "      <th>Simul_oneC</th>\n",
       "      <th>Simul_avgC</th>\n",
       "      <th>inv_err</th>\n",
       "      <th>inv_oneC</th>\n",
       "      <th>inv_avgC</th>\n",
       "    </tr>\n",
       "    <tr>\n",
       "      <th>eps</th>\n",
       "      <th></th>\n",
       "      <th></th>\n",
       "      <th></th>\n",
       "      <th></th>\n",
       "      <th></th>\n",
       "      <th></th>\n",
       "      <th></th>\n",
       "      <th></th>\n",
       "      <th></th>\n",
       "      <th></th>\n",
       "      <th></th>\n",
       "    </tr>\n",
       "  </thead>\n",
       "  <tbody>\n",
       "    <tr>\n",
       "      <th>0.01</th>\n",
       "      <td>5.5</td>\n",
       "      <td>0.551854</td>\n",
       "      <td>0.016944</td>\n",
       "      <td>0.001634</td>\n",
       "      <td>5.183080</td>\n",
       "      <td>0.004083</td>\n",
       "      <td>0.0</td>\n",
       "      <td>5.235991</td>\n",
       "      <td>0.012046</td>\n",
       "      <td>0.000000</td>\n",
       "      <td>4.241907</td>\n",
       "    </tr>\n",
       "    <tr>\n",
       "      <th>0.03</th>\n",
       "      <td>5.5</td>\n",
       "      <td>0.551854</td>\n",
       "      <td>0.036747</td>\n",
       "      <td>0.002655</td>\n",
       "      <td>4.482324</td>\n",
       "      <td>0.007554</td>\n",
       "      <td>0.0</td>\n",
       "      <td>4.546946</td>\n",
       "      <td>0.035317</td>\n",
       "      <td>0.000000</td>\n",
       "      <td>3.427342</td>\n",
       "    </tr>\n",
       "    <tr>\n",
       "      <th>0.05</th>\n",
       "      <td>5.5</td>\n",
       "      <td>0.551854</td>\n",
       "      <td>0.056142</td>\n",
       "      <td>0.006330</td>\n",
       "      <td>3.651455</td>\n",
       "      <td>0.015720</td>\n",
       "      <td>0.0</td>\n",
       "      <td>4.026546</td>\n",
       "      <td>0.055527</td>\n",
       "      <td>0.000204</td>\n",
       "      <td>3.171721</td>\n",
       "    </tr>\n",
       "    <tr>\n",
       "      <th>0.10</th>\n",
       "      <td>5.5</td>\n",
       "      <td>0.551854</td>\n",
       "      <td>0.108814</td>\n",
       "      <td>0.030019</td>\n",
       "      <td>2.595313</td>\n",
       "      <td>0.050834</td>\n",
       "      <td>0.0</td>\n",
       "      <td>3.189867</td>\n",
       "      <td>0.106362</td>\n",
       "      <td>0.001634</td>\n",
       "      <td>2.514480</td>\n",
       "    </tr>\n",
       "    <tr>\n",
       "      <th>0.20</th>\n",
       "      <td>5.5</td>\n",
       "      <td>0.551854</td>\n",
       "      <td>0.207631</td>\n",
       "      <td>0.186196</td>\n",
       "      <td>1.927514</td>\n",
       "      <td>0.097382</td>\n",
       "      <td>0.0</td>\n",
       "      <td>2.622477</td>\n",
       "      <td>0.208652</td>\n",
       "      <td>0.160677</td>\n",
       "      <td>1.846261</td>\n",
       "    </tr>\n",
       "  </tbody>\n",
       "</table>\n",
       "</div>"
      ],
      "text/plain": [
       "      fold  origin_err  Conf_err  Conf_oneC  Conf_avgC  Simul_err  Simul_oneC  \\\n",
       "eps                                                                             \n",
       "0.01   5.5    0.551854  0.016944   0.001634   5.183080   0.004083         0.0   \n",
       "0.03   5.5    0.551854  0.036747   0.002655   4.482324   0.007554         0.0   \n",
       "0.05   5.5    0.551854  0.056142   0.006330   3.651455   0.015720         0.0   \n",
       "0.10   5.5    0.551854  0.108814   0.030019   2.595313   0.050834         0.0   \n",
       "0.20   5.5    0.551854  0.207631   0.186196   1.927514   0.097382         0.0   \n",
       "\n",
       "      Simul_avgC   inv_err  inv_oneC  inv_avgC  \n",
       "eps                                             \n",
       "0.01    5.235991  0.012046  0.000000  4.241907  \n",
       "0.03    4.546946  0.035317  0.000000  3.427342  \n",
       "0.05    4.026546  0.055527  0.000204  3.171721  \n",
       "0.10    3.189867  0.106362  0.001634  2.514480  \n",
       "0.20    2.622477  0.208652  0.160677  1.846261  "
      ]
     },
     "execution_count": 115,
     "metadata": {},
     "output_type": "execute_result"
    }
   ],
   "source": [
    "tmp_df = res_df.groupby('eps').mean()\n",
    "mean_df['inv_err'] = tmp_df['Conf_err']\n",
    "mean_df['inv_oneC'] = tmp_df['Conf_oneC']\n",
    "mean_df['inv_avgC'] = tmp_df['Conf_avgC']\n",
    "mean_df"
   ]
  },
  {
   "cell_type": "markdown",
   "metadata": {},
   "source": [
    "<font color='red'>Inv_prob - avgC, margin - oneC</font>"
   ]
  },
  {
   "cell_type": "markdown",
   "metadata": {},
   "source": [
    "### decision tree"
   ]
  },
  {
   "cell_type": "markdown",
   "metadata": {},
   "source": [
    "##### MarginErrFunc"
   ]
  },
  {
   "cell_type": "code",
   "execution_count": 116,
   "metadata": {},
   "outputs": [
    {
     "name": "stdout",
     "output_type": "stream",
     "text": [
      "Info about dataset: \n",
      "classes: [3, 4, 5, 6, 7, 8, 9]\n",
      "size of the dataset: 4898\n",
      "train = 3526, cal = 882, test = 490\n",
      "\n",
      "average values for each eps\n"
     ]
    },
    {
     "data": {
      "text/html": [
       "<div>\n",
       "<style scoped>\n",
       "    .dataframe tbody tr th:only-of-type {\n",
       "        vertical-align: middle;\n",
       "    }\n",
       "\n",
       "    .dataframe tbody tr th {\n",
       "        vertical-align: top;\n",
       "    }\n",
       "\n",
       "    .dataframe thead th {\n",
       "        text-align: right;\n",
       "    }\n",
       "</style>\n",
       "<table border=\"1\" class=\"dataframe\">\n",
       "  <thead>\n",
       "    <tr style=\"text-align: right;\">\n",
       "      <th></th>\n",
       "      <th>fold</th>\n",
       "      <th>origin_err</th>\n",
       "      <th>Conf_err</th>\n",
       "      <th>Conf_oneC</th>\n",
       "      <th>Conf_avgC</th>\n",
       "      <th>Simul_err</th>\n",
       "      <th>Simul_oneC</th>\n",
       "      <th>Simul_avgC</th>\n",
       "    </tr>\n",
       "    <tr>\n",
       "      <th>eps</th>\n",
       "      <th></th>\n",
       "      <th></th>\n",
       "      <th></th>\n",
       "      <th></th>\n",
       "      <th></th>\n",
       "      <th></th>\n",
       "      <th></th>\n",
       "      <th></th>\n",
       "    </tr>\n",
       "  </thead>\n",
       "  <tbody>\n",
       "    <tr>\n",
       "      <th>0.01</th>\n",
       "      <td>5.5</td>\n",
       "      <td>0.476514</td>\n",
       "      <td>0.011636</td>\n",
       "      <td>0.015927</td>\n",
       "      <td>5.697164</td>\n",
       "      <td>0.013883</td>\n",
       "      <td>0.004905</td>\n",
       "      <td>4.234764</td>\n",
       "    </tr>\n",
       "    <tr>\n",
       "      <th>0.03</th>\n",
       "      <td>5.5</td>\n",
       "      <td>0.476514</td>\n",
       "      <td>0.032457</td>\n",
       "      <td>0.055738</td>\n",
       "      <td>5.201855</td>\n",
       "      <td>0.026131</td>\n",
       "      <td>0.004905</td>\n",
       "      <td>3.530838</td>\n",
       "    </tr>\n",
       "    <tr>\n",
       "      <th>0.05</th>\n",
       "      <td>5.5</td>\n",
       "      <td>0.476514</td>\n",
       "      <td>0.054096</td>\n",
       "      <td>0.104109</td>\n",
       "      <td>4.964633</td>\n",
       "      <td>0.038588</td>\n",
       "      <td>0.005109</td>\n",
       "      <td>3.177626</td>\n",
       "    </tr>\n",
       "    <tr>\n",
       "      <th>0.10</th>\n",
       "      <td>5.5</td>\n",
       "      <td>0.476514</td>\n",
       "      <td>0.110648</td>\n",
       "      <td>0.183730</td>\n",
       "      <td>3.674517</td>\n",
       "      <td>0.070848</td>\n",
       "      <td>0.007559</td>\n",
       "      <td>2.679031</td>\n",
       "    </tr>\n",
       "    <tr>\n",
       "      <th>0.20</th>\n",
       "      <td>5.5</td>\n",
       "      <td>0.476514</td>\n",
       "      <td>0.198653</td>\n",
       "      <td>0.300540</td>\n",
       "      <td>2.105469</td>\n",
       "      <td>0.148425</td>\n",
       "      <td>0.068189</td>\n",
       "      <td>2.111868</td>\n",
       "    </tr>\n",
       "  </tbody>\n",
       "</table>\n",
       "</div>"
      ],
      "text/plain": [
       "      fold  origin_err  Conf_err  Conf_oneC  Conf_avgC  Simul_err  Simul_oneC  \\\n",
       "eps                                                                             \n",
       "0.01   5.5    0.476514  0.011636   0.015927   5.697164   0.013883    0.004905   \n",
       "0.03   5.5    0.476514  0.032457   0.055738   5.201855   0.026131    0.004905   \n",
       "0.05   5.5    0.476514  0.054096   0.104109   4.964633   0.038588    0.005109   \n",
       "0.10   5.5    0.476514  0.110648   0.183730   3.674517   0.070848    0.007559   \n",
       "0.20   5.5    0.476514  0.198653   0.300540   2.105469   0.148425    0.068189   \n",
       "\n",
       "      Simul_avgC  \n",
       "eps               \n",
       "0.01    4.234764  \n",
       "0.03    3.530838  \n",
       "0.05    3.177626  \n",
       "0.10    2.679031  \n",
       "0.20    2.111868  "
      ]
     },
     "execution_count": 116,
     "metadata": {},
     "output_type": "execute_result"
    }
   ],
   "source": [
    "res_df = run_conformal(data, model_obj=dt_model_obj, \n",
    "                       params={MIN_SAMPLES_KEY: max(5, int(dt_min_sample_ratio * len(data['data'])))},\n",
    "                       epsilon_arr=eps_err, err_func=MarginErrFunc, smoothing=True, \n",
    "                       seed=1, verbose=True)\n",
    "# Get average values of metrics\n",
    "print('\\naverage values for each eps')\n",
    "dt_mean_df = res_df.groupby('eps').mean()\n",
    "dt_mean_df"
   ]
  },
  {
   "cell_type": "markdown",
   "metadata": {},
   "source": [
    "#####  InverseProbabilityErrFunc"
   ]
  },
  {
   "cell_type": "code",
   "execution_count": 117,
   "metadata": {},
   "outputs": [
    {
     "name": "stdout",
     "output_type": "stream",
     "text": [
      "Info about dataset: \n",
      "classes: [3, 4, 5, 6, 7, 8, 9]\n",
      "size of the dataset: 4898\n",
      "train = 3526, cal = 882, test = 490\n",
      "\n",
      "average values for each eps\n"
     ]
    },
    {
     "data": {
      "text/html": [
       "<div>\n",
       "<style scoped>\n",
       "    .dataframe tbody tr th:only-of-type {\n",
       "        vertical-align: middle;\n",
       "    }\n",
       "\n",
       "    .dataframe tbody tr th {\n",
       "        vertical-align: top;\n",
       "    }\n",
       "\n",
       "    .dataframe thead th {\n",
       "        text-align: right;\n",
       "    }\n",
       "</style>\n",
       "<table border=\"1\" class=\"dataframe\">\n",
       "  <thead>\n",
       "    <tr style=\"text-align: right;\">\n",
       "      <th></th>\n",
       "      <th>fold</th>\n",
       "      <th>origin_err</th>\n",
       "      <th>Conf_err</th>\n",
       "      <th>Conf_oneC</th>\n",
       "      <th>Conf_avgC</th>\n",
       "      <th>Simul_err</th>\n",
       "      <th>Simul_oneC</th>\n",
       "      <th>Simul_avgC</th>\n",
       "    </tr>\n",
       "    <tr>\n",
       "      <th>eps</th>\n",
       "      <th></th>\n",
       "      <th></th>\n",
       "      <th></th>\n",
       "      <th></th>\n",
       "      <th></th>\n",
       "      <th></th>\n",
       "      <th></th>\n",
       "      <th></th>\n",
       "    </tr>\n",
       "  </thead>\n",
       "  <tbody>\n",
       "    <tr>\n",
       "      <th>0.01</th>\n",
       "      <td>5.5</td>\n",
       "      <td>0.476514</td>\n",
       "      <td>0.015311</td>\n",
       "      <td>0.002857</td>\n",
       "      <td>4.797573</td>\n",
       "      <td>0.013883</td>\n",
       "      <td>0.004905</td>\n",
       "      <td>4.234764</td>\n",
       "    </tr>\n",
       "    <tr>\n",
       "      <th>0.03</th>\n",
       "      <td>5.5</td>\n",
       "      <td>0.476514</td>\n",
       "      <td>0.035114</td>\n",
       "      <td>0.006327</td>\n",
       "      <td>3.384042</td>\n",
       "      <td>0.026131</td>\n",
       "      <td>0.004905</td>\n",
       "      <td>3.530838</td>\n",
       "    </tr>\n",
       "    <tr>\n",
       "      <th>0.05</th>\n",
       "      <td>5.5</td>\n",
       "      <td>0.476514</td>\n",
       "      <td>0.058594</td>\n",
       "      <td>0.011020</td>\n",
       "      <td>2.946053</td>\n",
       "      <td>0.038588</td>\n",
       "      <td>0.005109</td>\n",
       "      <td>3.177626</td>\n",
       "    </tr>\n",
       "    <tr>\n",
       "      <th>0.10</th>\n",
       "      <td>5.5</td>\n",
       "      <td>0.476514</td>\n",
       "      <td>0.107185</td>\n",
       "      <td>0.030826</td>\n",
       "      <td>2.436293</td>\n",
       "      <td>0.070848</td>\n",
       "      <td>0.007559</td>\n",
       "      <td>2.679031</td>\n",
       "    </tr>\n",
       "    <tr>\n",
       "      <th>0.20</th>\n",
       "      <td>5.5</td>\n",
       "      <td>0.476514</td>\n",
       "      <td>0.197832</td>\n",
       "      <td>0.187216</td>\n",
       "      <td>1.875495</td>\n",
       "      <td>0.148425</td>\n",
       "      <td>0.068189</td>\n",
       "      <td>2.111868</td>\n",
       "    </tr>\n",
       "  </tbody>\n",
       "</table>\n",
       "</div>"
      ],
      "text/plain": [
       "      fold  origin_err  Conf_err  Conf_oneC  Conf_avgC  Simul_err  Simul_oneC  \\\n",
       "eps                                                                             \n",
       "0.01   5.5    0.476514  0.015311   0.002857   4.797573   0.013883    0.004905   \n",
       "0.03   5.5    0.476514  0.035114   0.006327   3.384042   0.026131    0.004905   \n",
       "0.05   5.5    0.476514  0.058594   0.011020   2.946053   0.038588    0.005109   \n",
       "0.10   5.5    0.476514  0.107185   0.030826   2.436293   0.070848    0.007559   \n",
       "0.20   5.5    0.476514  0.197832   0.187216   1.875495   0.148425    0.068189   \n",
       "\n",
       "      Simul_avgC  \n",
       "eps               \n",
       "0.01    4.234764  \n",
       "0.03    3.530838  \n",
       "0.05    3.177626  \n",
       "0.10    2.679031  \n",
       "0.20    2.111868  "
      ]
     },
     "execution_count": 117,
     "metadata": {},
     "output_type": "execute_result"
    }
   ],
   "source": [
    "res_df = run_conformal(data, model_obj=dt_model_obj, \n",
    "                       params={MIN_SAMPLES_KEY: max(5, int(dt_min_sample_ratio * len(data['data'])))},\n",
    "                       epsilon_arr=eps_err, err_func=InverseProbabilityErrFunc, smoothing=True, \n",
    "                       seed=1, verbose=True)\n",
    "# Get average values of metrics\n",
    "print('\\naverage values for each eps')\n",
    "res_df.groupby('eps').mean()"
   ]
  },
  {
   "cell_type": "code",
   "execution_count": 118,
   "metadata": {},
   "outputs": [
    {
     "data": {
      "text/html": [
       "<div>\n",
       "<style scoped>\n",
       "    .dataframe tbody tr th:only-of-type {\n",
       "        vertical-align: middle;\n",
       "    }\n",
       "\n",
       "    .dataframe tbody tr th {\n",
       "        vertical-align: top;\n",
       "    }\n",
       "\n",
       "    .dataframe thead th {\n",
       "        text-align: right;\n",
       "    }\n",
       "</style>\n",
       "<table border=\"1\" class=\"dataframe\">\n",
       "  <thead>\n",
       "    <tr style=\"text-align: right;\">\n",
       "      <th></th>\n",
       "      <th>fold</th>\n",
       "      <th>origin_err</th>\n",
       "      <th>marg_err</th>\n",
       "      <th>marg_oneC</th>\n",
       "      <th>marg_avgC</th>\n",
       "      <th>Simul_err</th>\n",
       "      <th>Simul_oneC</th>\n",
       "      <th>Simul_avgC</th>\n",
       "      <th>inv_err</th>\n",
       "      <th>inv_oneC</th>\n",
       "      <th>inv_avgC</th>\n",
       "    </tr>\n",
       "    <tr>\n",
       "      <th>eps</th>\n",
       "      <th></th>\n",
       "      <th></th>\n",
       "      <th></th>\n",
       "      <th></th>\n",
       "      <th></th>\n",
       "      <th></th>\n",
       "      <th></th>\n",
       "      <th></th>\n",
       "      <th></th>\n",
       "      <th></th>\n",
       "      <th></th>\n",
       "    </tr>\n",
       "  </thead>\n",
       "  <tbody>\n",
       "    <tr>\n",
       "      <th>0.01</th>\n",
       "      <td>5.5</td>\n",
       "      <td>0.476514</td>\n",
       "      <td>0.011636</td>\n",
       "      <td>0.015927</td>\n",
       "      <td>5.697164</td>\n",
       "      <td>0.013883</td>\n",
       "      <td>0.004905</td>\n",
       "      <td>4.234764</td>\n",
       "      <td>0.015311</td>\n",
       "      <td>0.002857</td>\n",
       "      <td>4.797573</td>\n",
       "    </tr>\n",
       "    <tr>\n",
       "      <th>0.03</th>\n",
       "      <td>5.5</td>\n",
       "      <td>0.476514</td>\n",
       "      <td>0.032457</td>\n",
       "      <td>0.055738</td>\n",
       "      <td>5.201855</td>\n",
       "      <td>0.026131</td>\n",
       "      <td>0.004905</td>\n",
       "      <td>3.530838</td>\n",
       "      <td>0.035114</td>\n",
       "      <td>0.006327</td>\n",
       "      <td>3.384042</td>\n",
       "    </tr>\n",
       "    <tr>\n",
       "      <th>0.05</th>\n",
       "      <td>5.5</td>\n",
       "      <td>0.476514</td>\n",
       "      <td>0.054096</td>\n",
       "      <td>0.104109</td>\n",
       "      <td>4.964633</td>\n",
       "      <td>0.038588</td>\n",
       "      <td>0.005109</td>\n",
       "      <td>3.177626</td>\n",
       "      <td>0.058594</td>\n",
       "      <td>0.011020</td>\n",
       "      <td>2.946053</td>\n",
       "    </tr>\n",
       "    <tr>\n",
       "      <th>0.10</th>\n",
       "      <td>5.5</td>\n",
       "      <td>0.476514</td>\n",
       "      <td>0.110648</td>\n",
       "      <td>0.183730</td>\n",
       "      <td>3.674517</td>\n",
       "      <td>0.070848</td>\n",
       "      <td>0.007559</td>\n",
       "      <td>2.679031</td>\n",
       "      <td>0.107185</td>\n",
       "      <td>0.030826</td>\n",
       "      <td>2.436293</td>\n",
       "    </tr>\n",
       "    <tr>\n",
       "      <th>0.20</th>\n",
       "      <td>5.5</td>\n",
       "      <td>0.476514</td>\n",
       "      <td>0.198653</td>\n",
       "      <td>0.300540</td>\n",
       "      <td>2.105469</td>\n",
       "      <td>0.148425</td>\n",
       "      <td>0.068189</td>\n",
       "      <td>2.111868</td>\n",
       "      <td>0.197832</td>\n",
       "      <td>0.187216</td>\n",
       "      <td>1.875495</td>\n",
       "    </tr>\n",
       "  </tbody>\n",
       "</table>\n",
       "</div>"
      ],
      "text/plain": [
       "      fold  origin_err  marg_err  marg_oneC  marg_avgC  Simul_err  Simul_oneC  \\\n",
       "eps                                                                             \n",
       "0.01   5.5    0.476514  0.011636   0.015927   5.697164   0.013883    0.004905   \n",
       "0.03   5.5    0.476514  0.032457   0.055738   5.201855   0.026131    0.004905   \n",
       "0.05   5.5    0.476514  0.054096   0.104109   4.964633   0.038588    0.005109   \n",
       "0.10   5.5    0.476514  0.110648   0.183730   3.674517   0.070848    0.007559   \n",
       "0.20   5.5    0.476514  0.198653   0.300540   2.105469   0.148425    0.068189   \n",
       "\n",
       "      Simul_avgC   inv_err  inv_oneC  inv_avgC  \n",
       "eps                                             \n",
       "0.01    4.234764  0.015311  0.002857  4.797573  \n",
       "0.03    3.530838  0.035114  0.006327  3.384042  \n",
       "0.05    3.177626  0.058594  0.011020  2.946053  \n",
       "0.10    2.679031  0.107185  0.030826  2.436293  \n",
       "0.20    2.111868  0.197832  0.187216  1.875495  "
      ]
     },
     "execution_count": 118,
     "metadata": {},
     "output_type": "execute_result"
    }
   ],
   "source": [
    "tmp_df = res_df.groupby('eps').mean()\n",
    "# rename columns for margin function\n",
    "dt_mean_df.columns = ['fold', 'origin_err', 'marg_err', 'marg_oneC', 'marg_avgC', \n",
    "                       'Simul_err', 'Simul_oneC', 'Simul_avgC']\n",
    "# these columns contain results for inverse probability non-conformity function\n",
    "dt_mean_df['inv_err'] = tmp_df['Conf_err']\n",
    "dt_mean_df['inv_oneC'] = tmp_df['Conf_oneC']\n",
    "dt_mean_df['inv_avgC'] = tmp_df['Conf_avgC']\n",
    "dt_mean_df"
   ]
  },
  {
   "cell_type": "markdown",
   "metadata": {},
   "source": [
    "### Plot results: error rate"
   ]
  },
  {
   "cell_type": "code",
   "execution_count": 119,
   "metadata": {},
   "outputs": [
    {
     "data": {
      "text/plain": [
       "Text(0.5, 1.0, 'Error rate')"
      ]
     },
     "execution_count": 119,
     "metadata": {},
     "output_type": "execute_result"
    },
    {
     "data": {
      "image/png": "[encoded data removed]",
      "text/plain": [
       "<Figure size 432x288 with 1 Axes>"
      ]
     },
     "metadata": {
      "needs_background": "light"
     },
     "output_type": "display_data"
    }
   ],
   "source": [
    "# SVM color - blue\n",
    "color = 'blue'\n",
    "df = svm_mean_df\n",
    "plt.plot(eps_err, df['origin_err'], label='SVM', color=color, lw=3) # thik line for original error\n",
    "plt.plot(eps_err, df['marg_err'], label='- margin', color=color, ) # normal line for margin error\n",
    "plt.plot(eps_err, df['inv_err'], label='- inv prob', color=color, linestyle='--') # dashed line for inv_prob error\n",
    "plt.plot(eps_err, df['Simul_err'], label='- simulated', color=color, linestyle=':') # dotted line for simulation error\n",
    "\n",
    "# Decision tree color - orange\n",
    "color = 'orange'\n",
    "df = dt_mean_df\n",
    "plt.plot(eps_err, df['origin_err'], label='Decision tree', color=color, lw=3) # thik line for original error\n",
    "plt.plot(eps_err, df['marg_err'], label='_nolegend_', color=color, ) # normal line for margin error\n",
    "plt.plot(eps_err, df['inv_err'], label='_nolegend_', color=color, linestyle='--') # dashed line for inv_prob error\n",
    "plt.plot(eps_err, df['Simul_err'], label='_nolegend_', color=color, linestyle=':') # dotted line for simulation error\n",
    "\n",
    "plt.xticks(eps_err)\n",
    "y_ticks = eps_err[:]\n",
    "y_ticks.extend([0.3, 0.4, 0.5])\n",
    "plt.yticks(y_ticks)\n",
    "plt.grid(True)\n",
    "plt.legend()\n",
    "plt.title('Error rate')"
   ]
  },
  {
   "cell_type": "markdown",
   "metadata": {},
   "source": [
    "### Plot: oneC"
   ]
  },
  {
   "cell_type": "code",
   "execution_count": 120,
   "metadata": {},
   "outputs": [
    {
     "data": {
      "text/plain": [
       "Text(0.5, 1.0, 'oneC')"
      ]
     },
     "execution_count": 120,
     "metadata": {},
     "output_type": "execute_result"
    },
    {
     "data": {
      "image/png": "[encoded data removed]",
      "text/plain": [
       "<Figure size 432x288 with 1 Axes>"
      ]
     },
     "metadata": {
      "needs_background": "light"
     },
     "output_type": "display_data"
    }
   ],
   "source": [
    "# SVM color - blue\n",
    "color = 'blue'\n",
    "df = svm_mean_df\n",
    "plt.plot(eps_err, df['marg_oneC'], label='SVM', color=color, ) # normal line for margin error\n",
    "plt.plot(eps_err, df['inv_oneC'], label='_nolegend_', color=color, linestyle='--') # dashed line for inv_prob error\n",
    "plt.plot(eps_err, df['Simul_oneC'], label='_nolegend_', color=color, linestyle=':') # dotted line for simulation error\n",
    "\n",
    "# Decision tree color - orange\n",
    "color = 'orange'\n",
    "df = dt_mean_df\n",
    "plt.plot(eps_err, df['marg_oneC'], label='Decision tree', color=color, ) # normal line for margin error\n",
    "plt.plot(eps_err, df['inv_oneC'], label='_nolegend_', color=color, linestyle='--') # dashed line for inv_prob error\n",
    "plt.plot(eps_err, df['Simul_oneC'], label='_nolegend_', color=color, linestyle=':') # dotted line for simulation error\n",
    "\n",
    "plt.xticks(eps_err)\n",
    "plt.grid(True)\n",
    "plt.legend()\n",
    "plt.title('oneC')"
   ]
  },
  {
   "cell_type": "markdown",
   "metadata": {},
   "source": [
    "### avgC"
   ]
  },
  {
   "cell_type": "code",
   "execution_count": 121,
   "metadata": {},
   "outputs": [
    {
     "data": {
      "text/plain": [
       "Text(0.5, 1.0, 'avgC')"
      ]
     },
     "execution_count": 121,
     "metadata": {},
     "output_type": "execute_result"
    },
    {
     "data": {
      "image/png": "[encoded data removed]",
      "text/plain": [
       "<Figure size 432x288 with 1 Axes>"
      ]
     },
     "metadata": {
      "needs_background": "light"
     },
     "output_type": "display_data"
    }
   ],
   "source": [
    "# SVM color - blue\n",
    "color = 'blue'\n",
    "df = svm_mean_df\n",
    "plt.plot(eps_err, df['marg_avgC'], label='SVM', color=color, ) # normal line for margin error\n",
    "plt.plot(eps_err, df['inv_avgC'], label='_nolegend_', color=color, linestyle='--') # dashed line for inv_prob error\n",
    "plt.plot(eps_err, df['Simul_avgC'], label='_nolegend_', color=color, linestyle=':') # dotted line for simulation error\n",
    "\n",
    "# Decision tree color - orange\n",
    "color = 'orange'\n",
    "df = dt_mean_df\n",
    "plt.plot(eps_err, df['marg_avgC'], label='Decision tree', color=color, ) # normal line for margin error\n",
    "plt.plot(eps_err, df['inv_avgC'], label='_nolegend_', color=color, linestyle='--') # dashed line for inv_prob error\n",
    "plt.plot(eps_err, df['Simul_avgC'], label='_nolegend_', color=color, linestyle=':') # dotted line for simulation error\n",
    "\n",
    "plt.xticks(eps_err)\n",
    "plt.grid(True)\n",
    "plt.legend()\n",
    "plt.title('avgC')"
   ]
  },
  {
   "cell_type": "markdown",
   "metadata": {},
   "source": [
    "## Breast cancer"
   ]
  },
  {
   "cell_type": "code",
   "execution_count": 122,
   "metadata": {},
   "outputs": [
    {
     "name": "stdout",
     "output_type": "stream",
     "text": [
      "569\n"
     ]
    },
    {
     "data": {
      "text/html": [
       "<div>\n",
       "<style scoped>\n",
       "    .dataframe tbody tr th:only-of-type {\n",
       "        vertical-align: middle;\n",
       "    }\n",
       "\n",
       "    .dataframe tbody tr th {\n",
       "        vertical-align: top;\n",
       "    }\n",
       "\n",
       "    .dataframe thead th {\n",
       "        text-align: right;\n",
       "    }\n",
       "</style>\n",
       "<table border=\"1\" class=\"dataframe\">\n",
       "  <thead>\n",
       "    <tr style=\"text-align: right;\">\n",
       "      <th></th>\n",
       "      <th>mean radius</th>\n",
       "      <th>mean texture</th>\n",
       "      <th>mean perimeter</th>\n",
       "      <th>mean area</th>\n",
       "      <th>mean smoothness</th>\n",
       "      <th>mean compactness</th>\n",
       "      <th>mean concavity</th>\n",
       "      <th>mean concave points</th>\n",
       "      <th>mean symmetry</th>\n",
       "      <th>mean fractal dimension</th>\n",
       "      <th>...</th>\n",
       "      <th>worst texture</th>\n",
       "      <th>worst perimeter</th>\n",
       "      <th>worst area</th>\n",
       "      <th>worst smoothness</th>\n",
       "      <th>worst compactness</th>\n",
       "      <th>worst concavity</th>\n",
       "      <th>worst concave points</th>\n",
       "      <th>worst symmetry</th>\n",
       "      <th>worst fractal dimension</th>\n",
       "      <th>target</th>\n",
       "    </tr>\n",
       "  </thead>\n",
       "  <tbody>\n",
       "    <tr>\n",
       "      <th>0</th>\n",
       "      <td>17.99</td>\n",
       "      <td>10.38</td>\n",
       "      <td>122.80</td>\n",
       "      <td>1001.0</td>\n",
       "      <td>0.11840</td>\n",
       "      <td>0.27760</td>\n",
       "      <td>0.3001</td>\n",
       "      <td>0.14710</td>\n",
       "      <td>0.2419</td>\n",
       "      <td>0.07871</td>\n",
       "      <td>...</td>\n",
       "      <td>17.33</td>\n",
       "      <td>184.60</td>\n",
       "      <td>2019.0</td>\n",
       "      <td>0.1622</td>\n",
       "      <td>0.6656</td>\n",
       "      <td>0.7119</td>\n",
       "      <td>0.2654</td>\n",
       "      <td>0.4601</td>\n",
       "      <td>0.11890</td>\n",
       "      <td>0</td>\n",
       "    </tr>\n",
       "    <tr>\n",
       "      <th>1</th>\n",
       "      <td>20.57</td>\n",
       "      <td>17.77</td>\n",
       "      <td>132.90</td>\n",
       "      <td>1326.0</td>\n",
       "      <td>0.08474</td>\n",
       "      <td>0.07864</td>\n",
       "      <td>0.0869</td>\n",
       "      <td>0.07017</td>\n",
       "      <td>0.1812</td>\n",
       "      <td>0.05667</td>\n",
       "      <td>...</td>\n",
       "      <td>23.41</td>\n",
       "      <td>158.80</td>\n",
       "      <td>1956.0</td>\n",
       "      <td>0.1238</td>\n",
       "      <td>0.1866</td>\n",
       "      <td>0.2416</td>\n",
       "      <td>0.1860</td>\n",
       "      <td>0.2750</td>\n",
       "      <td>0.08902</td>\n",
       "      <td>0</td>\n",
       "    </tr>\n",
       "    <tr>\n",
       "      <th>2</th>\n",
       "      <td>19.69</td>\n",
       "      <td>21.25</td>\n",
       "      <td>130.00</td>\n",
       "      <td>1203.0</td>\n",
       "      <td>0.10960</td>\n",
       "      <td>0.15990</td>\n",
       "      <td>0.1974</td>\n",
       "      <td>0.12790</td>\n",
       "      <td>0.2069</td>\n",
       "      <td>0.05999</td>\n",
       "      <td>...</td>\n",
       "      <td>25.53</td>\n",
       "      <td>152.50</td>\n",
       "      <td>1709.0</td>\n",
       "      <td>0.1444</td>\n",
       "      <td>0.4245</td>\n",
       "      <td>0.4504</td>\n",
       "      <td>0.2430</td>\n",
       "      <td>0.3613</td>\n",
       "      <td>0.08758</td>\n",
       "      <td>0</td>\n",
       "    </tr>\n",
       "    <tr>\n",
       "      <th>3</th>\n",
       "      <td>11.42</td>\n",
       "      <td>20.38</td>\n",
       "      <td>77.58</td>\n",
       "      <td>386.1</td>\n",
       "      <td>0.14250</td>\n",
       "      <td>0.28390</td>\n",
       "      <td>0.2414</td>\n",
       "      <td>0.10520</td>\n",
       "      <td>0.2597</td>\n",
       "      <td>0.09744</td>\n",
       "      <td>...</td>\n",
       "      <td>26.50</td>\n",
       "      <td>98.87</td>\n",
       "      <td>567.7</td>\n",
       "      <td>0.2098</td>\n",
       "      <td>0.8663</td>\n",
       "      <td>0.6869</td>\n",
       "      <td>0.2575</td>\n",
       "      <td>0.6638</td>\n",
       "      <td>0.17300</td>\n",
       "      <td>0</td>\n",
       "    </tr>\n",
       "    <tr>\n",
       "      <th>4</th>\n",
       "      <td>20.29</td>\n",
       "      <td>14.34</td>\n",
       "      <td>135.10</td>\n",
       "      <td>1297.0</td>\n",
       "      <td>0.10030</td>\n",
       "      <td>0.13280</td>\n",
       "      <td>0.1980</td>\n",
       "      <td>0.10430</td>\n",
       "      <td>0.1809</td>\n",
       "      <td>0.05883</td>\n",
       "      <td>...</td>\n",
       "      <td>16.67</td>\n",
       "      <td>152.20</td>\n",
       "      <td>1575.0</td>\n",
       "      <td>0.1374</td>\n",
       "      <td>0.2050</td>\n",
       "      <td>0.4000</td>\n",
       "      <td>0.1625</td>\n",
       "      <td>0.2364</td>\n",
       "      <td>0.07678</td>\n",
       "      <td>0</td>\n",
       "    </tr>\n",
       "  </tbody>\n",
       "</table>\n",
       "<p>5 rows × 31 columns</p>\n",
       "</div>"
      ],
      "text/plain": [
       "   mean radius  mean texture  mean perimeter  mean area  mean smoothness  \\\n",
       "0        17.99         10.38          122.80     1001.0          0.11840   \n",
       "1        20.57         17.77          132.90     1326.0          0.08474   \n",
       "2        19.69         21.25          130.00     1203.0          0.10960   \n",
       "3        11.42         20.38           77.58      386.1          0.14250   \n",
       "4        20.29         14.34          135.10     1297.0          0.10030   \n",
       "\n",
       "   mean compactness  mean concavity  mean concave points  mean symmetry  \\\n",
       "0           0.27760          0.3001              0.14710         0.2419   \n",
       "1           0.07864          0.0869              0.07017         0.1812   \n",
       "2           0.15990          0.1974              0.12790         0.2069   \n",
       "3           0.28390          0.2414              0.10520         0.2597   \n",
       "4           0.13280          0.1980              0.10430         0.1809   \n",
       "\n",
       "   mean fractal dimension  ...  worst texture  worst perimeter  worst area  \\\n",
       "0                 0.07871  ...          17.33           184.60      2019.0   \n",
       "1                 0.05667  ...          23.41           158.80      1956.0   \n",
       "2                 0.05999  ...          25.53           152.50      1709.0   \n",
       "3                 0.09744  ...          26.50            98.87       567.7   \n",
       "4                 0.05883  ...          16.67           152.20      1575.0   \n",
       "\n",
       "   worst smoothness  worst compactness  worst concavity  worst concave points  \\\n",
       "0            0.1622             0.6656           0.7119                0.2654   \n",
       "1            0.1238             0.1866           0.2416                0.1860   \n",
       "2            0.1444             0.4245           0.4504                0.2430   \n",
       "3            0.2098             0.8663           0.6869                0.2575   \n",
       "4            0.1374             0.2050           0.4000                0.1625   \n",
       "\n",
       "   worst symmetry  worst fractal dimension  target  \n",
       "0          0.4601                  0.11890       0  \n",
       "1          0.2750                  0.08902       0  \n",
       "2          0.3613                  0.08758       0  \n",
       "3          0.6638                  0.17300       0  \n",
       "4          0.2364                  0.07678       0  \n",
       "\n",
       "[5 rows x 31 columns]"
      ]
     },
     "execution_count": 122,
     "metadata": {},
     "output_type": "execute_result"
    }
   ],
   "source": [
    "data = load_breast_cancer();\n",
    "data_df = pd.DataFrame(data['data'])\n",
    "data_df.columns = data['feature_names']\n",
    "data_df['target'] = data['target']\n",
    "print(len(data_df))\n",
    "data_df.head()"
   ]
  },
  {
   "cell_type": "code",
   "execution_count": 123,
   "metadata": {},
   "outputs": [
    {
     "data": {
      "image/png": "[encoded data removed]",
      "text/plain": [
       "<Figure size 432x288 with 1 Axes>"
      ]
     },
     "metadata": {
      "needs_background": "light"
     },
     "output_type": "display_data"
    }
   ],
   "source": [
    "labels = ['malignant', 'benign']\n",
    "vals = [212, 357]\n",
    "x = np.arange(len(labels))  # the label locations\n",
    "width = 0.8  # the width of the bars\n",
    "fig, ax = plt.subplots()\n",
    "rects1 = ax.bar(x, vals, width,   label='Breast cancer - 569')\n",
    "# Add some text for labels, title and custom x-axis tick labels, etc.\n",
    "ax.set_ylabel('Number of instances')\n",
    "ax.set_title('Distribution between classes')\n",
    "ax.set_xticks(x)\n",
    "ax.set_xticklabels(labels)\n",
    "ax.legend()\n",
    "autolabel(rects1)\n",
    "#autolabel(rects2)\n",
    "fig.tight_layout()\n",
    "plt.show()"
   ]
  },
  {
   "cell_type": "markdown",
   "metadata": {},
   "source": [
    "### Run conformal prediction"
   ]
  },
  {
   "cell_type": "code",
   "execution_count": 124,
   "metadata": {
    "scrolled": true
   },
   "outputs": [],
   "source": [
    "data = load_breast_cancer()"
   ]
  },
  {
   "cell_type": "markdown",
   "metadata": {},
   "source": [
    "### svm"
   ]
  },
  {
   "cell_type": "markdown",
   "metadata": {},
   "source": [
    "##### MarginErrFunc"
   ]
  },
  {
   "cell_type": "code",
   "execution_count": 125,
   "metadata": {
    "scrolled": false
   },
   "outputs": [
    {
     "name": "stdout",
     "output_type": "stream",
     "text": [
      "Info about dataset: \n",
      "classes: ['malignant', 'benign']\n",
      "size of the dataset: 569\n",
      "train = 410, cal = 102, test = 57\n",
      "\n",
      "average values for each eps\n"
     ]
    },
    {
     "data": {
      "text/html": [
       "<div>\n",
       "<style scoped>\n",
       "    .dataframe tbody tr th:only-of-type {\n",
       "        vertical-align: middle;\n",
       "    }\n",
       "\n",
       "    .dataframe tbody tr th {\n",
       "        vertical-align: top;\n",
       "    }\n",
       "\n",
       "    .dataframe thead th {\n",
       "        text-align: right;\n",
       "    }\n",
       "</style>\n",
       "<table border=\"1\" class=\"dataframe\">\n",
       "  <thead>\n",
       "    <tr style=\"text-align: right;\">\n",
       "      <th></th>\n",
       "      <th>fold</th>\n",
       "      <th>origin_err</th>\n",
       "      <th>Conf_err</th>\n",
       "      <th>Conf_oneC</th>\n",
       "      <th>Conf_avgC</th>\n",
       "      <th>Simul_err</th>\n",
       "      <th>Simul_oneC</th>\n",
       "      <th>Simul_avgC</th>\n",
       "    </tr>\n",
       "    <tr>\n",
       "      <th>eps</th>\n",
       "      <th></th>\n",
       "      <th></th>\n",
       "      <th></th>\n",
       "      <th></th>\n",
       "      <th></th>\n",
       "      <th></th>\n",
       "      <th></th>\n",
       "      <th></th>\n",
       "    </tr>\n",
       "  </thead>\n",
       "  <tbody>\n",
       "    <tr>\n",
       "      <th>0.01</th>\n",
       "      <td>5.5</td>\n",
       "      <td>0.086247</td>\n",
       "      <td>0.007018</td>\n",
       "      <td>0.553415</td>\n",
       "      <td>1.446585</td>\n",
       "      <td>0.000000</td>\n",
       "      <td>0.210840</td>\n",
       "      <td>1.789160</td>\n",
       "    </tr>\n",
       "    <tr>\n",
       "      <th>0.03</th>\n",
       "      <td>5.5</td>\n",
       "      <td>0.086247</td>\n",
       "      <td>0.015821</td>\n",
       "      <td>0.767951</td>\n",
       "      <td>1.232049</td>\n",
       "      <td>0.001754</td>\n",
       "      <td>0.504261</td>\n",
       "      <td>1.495739</td>\n",
       "    </tr>\n",
       "    <tr>\n",
       "      <th>0.05</th>\n",
       "      <td>5.5</td>\n",
       "      <td>0.086247</td>\n",
       "      <td>0.035119</td>\n",
       "      <td>0.860996</td>\n",
       "      <td>1.139004</td>\n",
       "      <td>0.008803</td>\n",
       "      <td>0.648371</td>\n",
       "      <td>1.351629</td>\n",
       "    </tr>\n",
       "    <tr>\n",
       "      <th>0.10</th>\n",
       "      <td>5.5</td>\n",
       "      <td>0.086247</td>\n",
       "      <td>0.087970</td>\n",
       "      <td>0.977162</td>\n",
       "      <td>1.001786</td>\n",
       "      <td>0.015821</td>\n",
       "      <td>0.759117</td>\n",
       "      <td>1.240883</td>\n",
       "    </tr>\n",
       "    <tr>\n",
       "      <th>0.20</th>\n",
       "      <td>5.5</td>\n",
       "      <td>0.086247</td>\n",
       "      <td>0.153039</td>\n",
       "      <td>0.887375</td>\n",
       "      <td>0.887375</td>\n",
       "      <td>0.028102</td>\n",
       "      <td>0.861028</td>\n",
       "      <td>1.138972</td>\n",
       "    </tr>\n",
       "  </tbody>\n",
       "</table>\n",
       "</div>"
      ],
      "text/plain": [
       "      fold  origin_err  Conf_err  Conf_oneC  Conf_avgC  Simul_err  Simul_oneC  \\\n",
       "eps                                                                             \n",
       "0.01   5.5    0.086247  0.007018   0.553415   1.446585   0.000000    0.210840   \n",
       "0.03   5.5    0.086247  0.015821   0.767951   1.232049   0.001754    0.504261   \n",
       "0.05   5.5    0.086247  0.035119   0.860996   1.139004   0.008803    0.648371   \n",
       "0.10   5.5    0.086247  0.087970   0.977162   1.001786   0.015821    0.759117   \n",
       "0.20   5.5    0.086247  0.153039   0.887375   0.887375   0.028102    0.861028   \n",
       "\n",
       "      Simul_avgC  \n",
       "eps               \n",
       "0.01    1.789160  \n",
       "0.03    1.495739  \n",
       "0.05    1.351629  \n",
       "0.10    1.240883  \n",
       "0.20    1.138972  "
      ]
     },
     "execution_count": 125,
     "metadata": {},
     "output_type": "execute_result"
    }
   ],
   "source": [
    "res_df = run_conformal(data, epsilon_arr=eps_err, err_func=MarginErrFunc, smoothing=True, \n",
    "                       seed=1, verbose=True)\n",
    "# Get average values of metrics\n",
    "print('\\naverage values for each eps')\n",
    "mean_df = res_df.groupby('eps').mean()\n",
    "mean_df"
   ]
  },
  {
   "cell_type": "markdown",
   "metadata": {},
   "source": [
    "#####  InverseProbabilityErrFunc"
   ]
  },
  {
   "cell_type": "code",
   "execution_count": 126,
   "metadata": {
    "scrolled": true
   },
   "outputs": [
    {
     "name": "stdout",
     "output_type": "stream",
     "text": [
      "Info about dataset: \n",
      "classes: ['malignant', 'benign']\n",
      "size of the dataset: 569\n",
      "train = 410, cal = 102, test = 57\n",
      "average values for each eps\n"
     ]
    },
    {
     "data": {
      "text/html": [
       "<div>\n",
       "<style scoped>\n",
       "    .dataframe tbody tr th:only-of-type {\n",
       "        vertical-align: middle;\n",
       "    }\n",
       "\n",
       "    .dataframe tbody tr th {\n",
       "        vertical-align: top;\n",
       "    }\n",
       "\n",
       "    .dataframe thead th {\n",
       "        text-align: right;\n",
       "    }\n",
       "</style>\n",
       "<table border=\"1\" class=\"dataframe\">\n",
       "  <thead>\n",
       "    <tr style=\"text-align: right;\">\n",
       "      <th></th>\n",
       "      <th>fold</th>\n",
       "      <th>origin_err</th>\n",
       "      <th>Conf_err</th>\n",
       "      <th>Conf_oneC</th>\n",
       "      <th>Conf_avgC</th>\n",
       "      <th>Simul_err</th>\n",
       "      <th>Simul_oneC</th>\n",
       "      <th>Simul_avgC</th>\n",
       "    </tr>\n",
       "    <tr>\n",
       "      <th>eps</th>\n",
       "      <th></th>\n",
       "      <th></th>\n",
       "      <th></th>\n",
       "      <th></th>\n",
       "      <th></th>\n",
       "      <th></th>\n",
       "      <th></th>\n",
       "      <th></th>\n",
       "    </tr>\n",
       "  </thead>\n",
       "  <tbody>\n",
       "    <tr>\n",
       "      <th>0.01</th>\n",
       "      <td>5.5</td>\n",
       "      <td>0.086247</td>\n",
       "      <td>0.007018</td>\n",
       "      <td>0.553415</td>\n",
       "      <td>1.446585</td>\n",
       "      <td>0.000000</td>\n",
       "      <td>0.210840</td>\n",
       "      <td>1.789160</td>\n",
       "    </tr>\n",
       "    <tr>\n",
       "      <th>0.03</th>\n",
       "      <td>5.5</td>\n",
       "      <td>0.086247</td>\n",
       "      <td>0.015821</td>\n",
       "      <td>0.767951</td>\n",
       "      <td>1.232049</td>\n",
       "      <td>0.001754</td>\n",
       "      <td>0.504261</td>\n",
       "      <td>1.495739</td>\n",
       "    </tr>\n",
       "    <tr>\n",
       "      <th>0.05</th>\n",
       "      <td>5.5</td>\n",
       "      <td>0.086247</td>\n",
       "      <td>0.035119</td>\n",
       "      <td>0.860996</td>\n",
       "      <td>1.139004</td>\n",
       "      <td>0.008803</td>\n",
       "      <td>0.648371</td>\n",
       "      <td>1.351629</td>\n",
       "    </tr>\n",
       "    <tr>\n",
       "      <th>0.10</th>\n",
       "      <td>5.5</td>\n",
       "      <td>0.086247</td>\n",
       "      <td>0.087970</td>\n",
       "      <td>0.977162</td>\n",
       "      <td>1.001786</td>\n",
       "      <td>0.015821</td>\n",
       "      <td>0.759117</td>\n",
       "      <td>1.240883</td>\n",
       "    </tr>\n",
       "    <tr>\n",
       "      <th>0.20</th>\n",
       "      <td>5.5</td>\n",
       "      <td>0.086247</td>\n",
       "      <td>0.153039</td>\n",
       "      <td>0.887375</td>\n",
       "      <td>0.887375</td>\n",
       "      <td>0.028102</td>\n",
       "      <td>0.861028</td>\n",
       "      <td>1.138972</td>\n",
       "    </tr>\n",
       "  </tbody>\n",
       "</table>\n",
       "</div>"
      ],
      "text/plain": [
       "      fold  origin_err  Conf_err  Conf_oneC  Conf_avgC  Simul_err  Simul_oneC  \\\n",
       "eps                                                                             \n",
       "0.01   5.5    0.086247  0.007018   0.553415   1.446585   0.000000    0.210840   \n",
       "0.03   5.5    0.086247  0.015821   0.767951   1.232049   0.001754    0.504261   \n",
       "0.05   5.5    0.086247  0.035119   0.860996   1.139004   0.008803    0.648371   \n",
       "0.10   5.5    0.086247  0.087970   0.977162   1.001786   0.015821    0.759117   \n",
       "0.20   5.5    0.086247  0.153039   0.887375   0.887375   0.028102    0.861028   \n",
       "\n",
       "      Simul_avgC  \n",
       "eps               \n",
       "0.01    1.789160  \n",
       "0.03    1.495739  \n",
       "0.05    1.351629  \n",
       "0.10    1.240883  \n",
       "0.20    1.138972  "
      ]
     },
     "execution_count": 126,
     "metadata": {},
     "output_type": "execute_result"
    }
   ],
   "source": [
    "res_df = run_conformal(data, epsilon_arr=eps_err, err_func=InverseProbabilityErrFunc, smoothing=True, \n",
    "                             seed=1, verbose=True)\n",
    "# Get average values of metrics\n",
    "print('average values for each eps')\n",
    "res_df.groupby('eps').mean()"
   ]
  },
  {
   "cell_type": "code",
   "execution_count": 127,
   "metadata": {},
   "outputs": [
    {
     "data": {
      "text/html": [
       "<div>\n",
       "<style scoped>\n",
       "    .dataframe tbody tr th:only-of-type {\n",
       "        vertical-align: middle;\n",
       "    }\n",
       "\n",
       "    .dataframe tbody tr th {\n",
       "        vertical-align: top;\n",
       "    }\n",
       "\n",
       "    .dataframe thead th {\n",
       "        text-align: right;\n",
       "    }\n",
       "</style>\n",
       "<table border=\"1\" class=\"dataframe\">\n",
       "  <thead>\n",
       "    <tr style=\"text-align: right;\">\n",
       "      <th></th>\n",
       "      <th>fold</th>\n",
       "      <th>origin_err</th>\n",
       "      <th>Conf_err</th>\n",
       "      <th>Conf_oneC</th>\n",
       "      <th>Conf_avgC</th>\n",
       "      <th>Simul_err</th>\n",
       "      <th>Simul_oneC</th>\n",
       "      <th>Simul_avgC</th>\n",
       "      <th>inv_err</th>\n",
       "      <th>inv_oneC</th>\n",
       "      <th>inv_avgC</th>\n",
       "    </tr>\n",
       "    <tr>\n",
       "      <th>eps</th>\n",
       "      <th></th>\n",
       "      <th></th>\n",
       "      <th></th>\n",
       "      <th></th>\n",
       "      <th></th>\n",
       "      <th></th>\n",
       "      <th></th>\n",
       "      <th></th>\n",
       "      <th></th>\n",
       "      <th></th>\n",
       "      <th></th>\n",
       "    </tr>\n",
       "  </thead>\n",
       "  <tbody>\n",
       "    <tr>\n",
       "      <th>0.01</th>\n",
       "      <td>5.5</td>\n",
       "      <td>0.086247</td>\n",
       "      <td>0.007018</td>\n",
       "      <td>0.553415</td>\n",
       "      <td>1.446585</td>\n",
       "      <td>0.000000</td>\n",
       "      <td>0.210840</td>\n",
       "      <td>1.789160</td>\n",
       "      <td>0.007018</td>\n",
       "      <td>0.553415</td>\n",
       "      <td>1.446585</td>\n",
       "    </tr>\n",
       "    <tr>\n",
       "      <th>0.03</th>\n",
       "      <td>5.5</td>\n",
       "      <td>0.086247</td>\n",
       "      <td>0.015821</td>\n",
       "      <td>0.767951</td>\n",
       "      <td>1.232049</td>\n",
       "      <td>0.001754</td>\n",
       "      <td>0.504261</td>\n",
       "      <td>1.495739</td>\n",
       "      <td>0.015821</td>\n",
       "      <td>0.767951</td>\n",
       "      <td>1.232049</td>\n",
       "    </tr>\n",
       "    <tr>\n",
       "      <th>0.05</th>\n",
       "      <td>5.5</td>\n",
       "      <td>0.086247</td>\n",
       "      <td>0.035119</td>\n",
       "      <td>0.860996</td>\n",
       "      <td>1.139004</td>\n",
       "      <td>0.008803</td>\n",
       "      <td>0.648371</td>\n",
       "      <td>1.351629</td>\n",
       "      <td>0.035119</td>\n",
       "      <td>0.860996</td>\n",
       "      <td>1.139004</td>\n",
       "    </tr>\n",
       "    <tr>\n",
       "      <th>0.10</th>\n",
       "      <td>5.5</td>\n",
       "      <td>0.086247</td>\n",
       "      <td>0.087970</td>\n",
       "      <td>0.977162</td>\n",
       "      <td>1.001786</td>\n",
       "      <td>0.015821</td>\n",
       "      <td>0.759117</td>\n",
       "      <td>1.240883</td>\n",
       "      <td>0.087970</td>\n",
       "      <td>0.977162</td>\n",
       "      <td>1.001786</td>\n",
       "    </tr>\n",
       "    <tr>\n",
       "      <th>0.20</th>\n",
       "      <td>5.5</td>\n",
       "      <td>0.086247</td>\n",
       "      <td>0.153039</td>\n",
       "      <td>0.887375</td>\n",
       "      <td>0.887375</td>\n",
       "      <td>0.028102</td>\n",
       "      <td>0.861028</td>\n",
       "      <td>1.138972</td>\n",
       "      <td>0.153039</td>\n",
       "      <td>0.887375</td>\n",
       "      <td>0.887375</td>\n",
       "    </tr>\n",
       "  </tbody>\n",
       "</table>\n",
       "</div>"
      ],
      "text/plain": [
       "      fold  origin_err  Conf_err  Conf_oneC  Conf_avgC  Simul_err  Simul_oneC  \\\n",
       "eps                                                                             \n",
       "0.01   5.5    0.086247  0.007018   0.553415   1.446585   0.000000    0.210840   \n",
       "0.03   5.5    0.086247  0.015821   0.767951   1.232049   0.001754    0.504261   \n",
       "0.05   5.5    0.086247  0.035119   0.860996   1.139004   0.008803    0.648371   \n",
       "0.10   5.5    0.086247  0.087970   0.977162   1.001786   0.015821    0.759117   \n",
       "0.20   5.5    0.086247  0.153039   0.887375   0.887375   0.028102    0.861028   \n",
       "\n",
       "      Simul_avgC   inv_err  inv_oneC  inv_avgC  \n",
       "eps                                             \n",
       "0.01    1.789160  0.007018  0.553415  1.446585  \n",
       "0.03    1.495739  0.015821  0.767951  1.232049  \n",
       "0.05    1.351629  0.035119  0.860996  1.139004  \n",
       "0.10    1.240883  0.087970  0.977162  1.001786  \n",
       "0.20    1.138972  0.153039  0.887375  0.887375  "
      ]
     },
     "execution_count": 127,
     "metadata": {},
     "output_type": "execute_result"
    }
   ],
   "source": [
    "tmp_df = res_df.groupby('eps').mean()\n",
    "mean_df['inv_err'] = tmp_df['Conf_err']\n",
    "mean_df['inv_oneC'] = tmp_df['Conf_oneC']\n",
    "mean_df['inv_avgC'] = tmp_df['Conf_avgC']\n",
    "mean_df"
   ]
  },
  {
   "cell_type": "markdown",
   "metadata": {},
   "source": [
    "<font color='red'>For 2 classes results are the same</font>"
   ]
  },
  {
   "cell_type": "markdown",
   "metadata": {},
   "source": [
    "### decision tree"
   ]
  },
  {
   "cell_type": "markdown",
   "metadata": {},
   "source": [
    "##### MarginErrFunc"
   ]
  },
  {
   "cell_type": "code",
   "execution_count": 128,
   "metadata": {},
   "outputs": [
    {
     "name": "stdout",
     "output_type": "stream",
     "text": [
      "Info about dataset: \n",
      "classes: ['malignant', 'benign']\n",
      "size of the dataset: 569\n",
      "train = 410, cal = 102, test = 57\n",
      "\n",
      "average values for each eps\n"
     ]
    },
    {
     "data": {
      "text/html": [
       "<div>\n",
       "<style scoped>\n",
       "    .dataframe tbody tr th:only-of-type {\n",
       "        vertical-align: middle;\n",
       "    }\n",
       "\n",
       "    .dataframe tbody tr th {\n",
       "        vertical-align: top;\n",
       "    }\n",
       "\n",
       "    .dataframe thead th {\n",
       "        text-align: right;\n",
       "    }\n",
       "</style>\n",
       "<table border=\"1\" class=\"dataframe\">\n",
       "  <thead>\n",
       "    <tr style=\"text-align: right;\">\n",
       "      <th></th>\n",
       "      <th>fold</th>\n",
       "      <th>origin_err</th>\n",
       "      <th>Conf_err</th>\n",
       "      <th>Conf_oneC</th>\n",
       "      <th>Conf_avgC</th>\n",
       "      <th>Simul_err</th>\n",
       "      <th>Simul_oneC</th>\n",
       "      <th>Simul_avgC</th>\n",
       "    </tr>\n",
       "    <tr>\n",
       "      <th>eps</th>\n",
       "      <th></th>\n",
       "      <th></th>\n",
       "      <th></th>\n",
       "      <th></th>\n",
       "      <th></th>\n",
       "      <th></th>\n",
       "      <th></th>\n",
       "      <th></th>\n",
       "    </tr>\n",
       "  </thead>\n",
       "  <tbody>\n",
       "    <tr>\n",
       "      <th>0.01</th>\n",
       "      <td>5.5</td>\n",
       "      <td>0.080921</td>\n",
       "      <td>0.005263</td>\n",
       "      <td>0.224781</td>\n",
       "      <td>1.775219</td>\n",
       "      <td>0.029887</td>\n",
       "      <td>0.838252</td>\n",
       "      <td>1.161748</td>\n",
       "    </tr>\n",
       "    <tr>\n",
       "      <th>0.03</th>\n",
       "      <td>5.5</td>\n",
       "      <td>0.080921</td>\n",
       "      <td>0.017544</td>\n",
       "      <td>0.700877</td>\n",
       "      <td>1.299123</td>\n",
       "      <td>0.029887</td>\n",
       "      <td>0.838252</td>\n",
       "      <td>1.161748</td>\n",
       "    </tr>\n",
       "    <tr>\n",
       "      <th>0.05</th>\n",
       "      <td>5.5</td>\n",
       "      <td>0.080921</td>\n",
       "      <td>0.040414</td>\n",
       "      <td>0.908584</td>\n",
       "      <td>1.091416</td>\n",
       "      <td>0.029887</td>\n",
       "      <td>0.838252</td>\n",
       "      <td>1.161748</td>\n",
       "    </tr>\n",
       "    <tr>\n",
       "      <th>0.10</th>\n",
       "      <td>5.5</td>\n",
       "      <td>0.080921</td>\n",
       "      <td>0.079167</td>\n",
       "      <td>0.959524</td>\n",
       "      <td>0.994612</td>\n",
       "      <td>0.033427</td>\n",
       "      <td>0.880482</td>\n",
       "      <td>1.119518</td>\n",
       "    </tr>\n",
       "    <tr>\n",
       "      <th>0.20</th>\n",
       "      <td>5.5</td>\n",
       "      <td>0.080921</td>\n",
       "      <td>0.170645</td>\n",
       "      <td>0.852224</td>\n",
       "      <td>0.852224</td>\n",
       "      <td>0.042262</td>\n",
       "      <td>0.936779</td>\n",
       "      <td>1.063221</td>\n",
       "    </tr>\n",
       "  </tbody>\n",
       "</table>\n",
       "</div>"
      ],
      "text/plain": [
       "      fold  origin_err  Conf_err  Conf_oneC  Conf_avgC  Simul_err  Simul_oneC  \\\n",
       "eps                                                                             \n",
       "0.01   5.5    0.080921  0.005263   0.224781   1.775219   0.029887    0.838252   \n",
       "0.03   5.5    0.080921  0.017544   0.700877   1.299123   0.029887    0.838252   \n",
       "0.05   5.5    0.080921  0.040414   0.908584   1.091416   0.029887    0.838252   \n",
       "0.10   5.5    0.080921  0.079167   0.959524   0.994612   0.033427    0.880482   \n",
       "0.20   5.5    0.080921  0.170645   0.852224   0.852224   0.042262    0.936779   \n",
       "\n",
       "      Simul_avgC  \n",
       "eps               \n",
       "0.01    1.161748  \n",
       "0.03    1.161748  \n",
       "0.05    1.161748  \n",
       "0.10    1.119518  \n",
       "0.20    1.063221  "
      ]
     },
     "execution_count": 128,
     "metadata": {},
     "output_type": "execute_result"
    }
   ],
   "source": [
    "res_df = run_conformal(data, model_obj=dt_model_obj, \n",
    "                       params={MIN_SAMPLES_KEY: max(5, int(dt_min_sample_ratio * len(data['data'])))},\n",
    "                       epsilon_arr=eps_err, err_func=MarginErrFunc, smoothing=True, \n",
    "                       seed=1, verbose=True)\n",
    "# Get average values of metrics\n",
    "print('\\naverage values for each eps')\n",
    "dt_mean_df = res_df.groupby('eps').mean()\n",
    "dt_mean_df"
   ]
  },
  {
   "cell_type": "markdown",
   "metadata": {},
   "source": [
    "#####  InverseProbabilityErrFunc"
   ]
  },
  {
   "cell_type": "code",
   "execution_count": 129,
   "metadata": {},
   "outputs": [
    {
     "name": "stdout",
     "output_type": "stream",
     "text": [
      "Info about dataset: \n",
      "classes: ['malignant', 'benign']\n",
      "size of the dataset: 569\n",
      "train = 410, cal = 102, test = 57\n",
      "\n",
      "average values for each eps\n"
     ]
    },
    {
     "data": {
      "text/html": [
       "<div>\n",
       "<style scoped>\n",
       "    .dataframe tbody tr th:only-of-type {\n",
       "        vertical-align: middle;\n",
       "    }\n",
       "\n",
       "    .dataframe tbody tr th {\n",
       "        vertical-align: top;\n",
       "    }\n",
       "\n",
       "    .dataframe thead th {\n",
       "        text-align: right;\n",
       "    }\n",
       "</style>\n",
       "<table border=\"1\" class=\"dataframe\">\n",
       "  <thead>\n",
       "    <tr style=\"text-align: right;\">\n",
       "      <th></th>\n",
       "      <th>fold</th>\n",
       "      <th>origin_err</th>\n",
       "      <th>Conf_err</th>\n",
       "      <th>Conf_oneC</th>\n",
       "      <th>Conf_avgC</th>\n",
       "      <th>Simul_err</th>\n",
       "      <th>Simul_oneC</th>\n",
       "      <th>Simul_avgC</th>\n",
       "    </tr>\n",
       "    <tr>\n",
       "      <th>eps</th>\n",
       "      <th></th>\n",
       "      <th></th>\n",
       "      <th></th>\n",
       "      <th></th>\n",
       "      <th></th>\n",
       "      <th></th>\n",
       "      <th></th>\n",
       "      <th></th>\n",
       "    </tr>\n",
       "  </thead>\n",
       "  <tbody>\n",
       "    <tr>\n",
       "      <th>0.01</th>\n",
       "      <td>5.5</td>\n",
       "      <td>0.080921</td>\n",
       "      <td>0.005263</td>\n",
       "      <td>0.224781</td>\n",
       "      <td>1.775219</td>\n",
       "      <td>0.029887</td>\n",
       "      <td>0.838252</td>\n",
       "      <td>1.161748</td>\n",
       "    </tr>\n",
       "    <tr>\n",
       "      <th>0.03</th>\n",
       "      <td>5.5</td>\n",
       "      <td>0.080921</td>\n",
       "      <td>0.017544</td>\n",
       "      <td>0.700877</td>\n",
       "      <td>1.299123</td>\n",
       "      <td>0.029887</td>\n",
       "      <td>0.838252</td>\n",
       "      <td>1.161748</td>\n",
       "    </tr>\n",
       "    <tr>\n",
       "      <th>0.05</th>\n",
       "      <td>5.5</td>\n",
       "      <td>0.080921</td>\n",
       "      <td>0.040414</td>\n",
       "      <td>0.908584</td>\n",
       "      <td>1.091416</td>\n",
       "      <td>0.029887</td>\n",
       "      <td>0.838252</td>\n",
       "      <td>1.161748</td>\n",
       "    </tr>\n",
       "    <tr>\n",
       "      <th>0.10</th>\n",
       "      <td>5.5</td>\n",
       "      <td>0.080921</td>\n",
       "      <td>0.079167</td>\n",
       "      <td>0.959524</td>\n",
       "      <td>0.994612</td>\n",
       "      <td>0.033427</td>\n",
       "      <td>0.880482</td>\n",
       "      <td>1.119518</td>\n",
       "    </tr>\n",
       "    <tr>\n",
       "      <th>0.20</th>\n",
       "      <td>5.5</td>\n",
       "      <td>0.080921</td>\n",
       "      <td>0.170645</td>\n",
       "      <td>0.852224</td>\n",
       "      <td>0.852224</td>\n",
       "      <td>0.042262</td>\n",
       "      <td>0.936779</td>\n",
       "      <td>1.063221</td>\n",
       "    </tr>\n",
       "  </tbody>\n",
       "</table>\n",
       "</div>"
      ],
      "text/plain": [
       "      fold  origin_err  Conf_err  Conf_oneC  Conf_avgC  Simul_err  Simul_oneC  \\\n",
       "eps                                                                             \n",
       "0.01   5.5    0.080921  0.005263   0.224781   1.775219   0.029887    0.838252   \n",
       "0.03   5.5    0.080921  0.017544   0.700877   1.299123   0.029887    0.838252   \n",
       "0.05   5.5    0.080921  0.040414   0.908584   1.091416   0.029887    0.838252   \n",
       "0.10   5.5    0.080921  0.079167   0.959524   0.994612   0.033427    0.880482   \n",
       "0.20   5.5    0.080921  0.170645   0.852224   0.852224   0.042262    0.936779   \n",
       "\n",
       "      Simul_avgC  \n",
       "eps               \n",
       "0.01    1.161748  \n",
       "0.03    1.161748  \n",
       "0.05    1.161748  \n",
       "0.10    1.119518  \n",
       "0.20    1.063221  "
      ]
     },
     "execution_count": 129,
     "metadata": {},
     "output_type": "execute_result"
    }
   ],
   "source": [
    "res_df = run_conformal(data, model_obj=dt_model_obj, \n",
    "                       params={MIN_SAMPLES_KEY: max(5, int(dt_min_sample_ratio * len(data['data'])))},\n",
    "                       epsilon_arr=eps_err, err_func=InverseProbabilityErrFunc, smoothing=True, \n",
    "                       seed=1, verbose=True)\n",
    "# Get average values of metrics\n",
    "print('\\naverage values for each eps')\n",
    "res_df.groupby('eps').mean()"
   ]
  },
  {
   "cell_type": "code",
   "execution_count": 130,
   "metadata": {},
   "outputs": [
    {
     "data": {
      "text/html": [
       "<div>\n",
       "<style scoped>\n",
       "    .dataframe tbody tr th:only-of-type {\n",
       "        vertical-align: middle;\n",
       "    }\n",
       "\n",
       "    .dataframe tbody tr th {\n",
       "        vertical-align: top;\n",
       "    }\n",
       "\n",
       "    .dataframe thead th {\n",
       "        text-align: right;\n",
       "    }\n",
       "</style>\n",
       "<table border=\"1\" class=\"dataframe\">\n",
       "  <thead>\n",
       "    <tr style=\"text-align: right;\">\n",
       "      <th></th>\n",
       "      <th>fold</th>\n",
       "      <th>origin_err</th>\n",
       "      <th>marg_err</th>\n",
       "      <th>marg_oneC</th>\n",
       "      <th>marg_avgC</th>\n",
       "      <th>Simul_err</th>\n",
       "      <th>Simul_oneC</th>\n",
       "      <th>Simul_avgC</th>\n",
       "      <th>inv_err</th>\n",
       "      <th>inv_oneC</th>\n",
       "      <th>inv_avgC</th>\n",
       "    </tr>\n",
       "    <tr>\n",
       "      <th>eps</th>\n",
       "      <th></th>\n",
       "      <th></th>\n",
       "      <th></th>\n",
       "      <th></th>\n",
       "      <th></th>\n",
       "      <th></th>\n",
       "      <th></th>\n",
       "      <th></th>\n",
       "      <th></th>\n",
       "      <th></th>\n",
       "      <th></th>\n",
       "    </tr>\n",
       "  </thead>\n",
       "  <tbody>\n",
       "    <tr>\n",
       "      <th>0.01</th>\n",
       "      <td>5.5</td>\n",
       "      <td>0.080921</td>\n",
       "      <td>0.005263</td>\n",
       "      <td>0.224781</td>\n",
       "      <td>1.775219</td>\n",
       "      <td>0.029887</td>\n",
       "      <td>0.838252</td>\n",
       "      <td>1.161748</td>\n",
       "      <td>0.005263</td>\n",
       "      <td>0.224781</td>\n",
       "      <td>1.775219</td>\n",
       "    </tr>\n",
       "    <tr>\n",
       "      <th>0.03</th>\n",
       "      <td>5.5</td>\n",
       "      <td>0.080921</td>\n",
       "      <td>0.017544</td>\n",
       "      <td>0.700877</td>\n",
       "      <td>1.299123</td>\n",
       "      <td>0.029887</td>\n",
       "      <td>0.838252</td>\n",
       "      <td>1.161748</td>\n",
       "      <td>0.017544</td>\n",
       "      <td>0.700877</td>\n",
       "      <td>1.299123</td>\n",
       "    </tr>\n",
       "    <tr>\n",
       "      <th>0.05</th>\n",
       "      <td>5.5</td>\n",
       "      <td>0.080921</td>\n",
       "      <td>0.040414</td>\n",
       "      <td>0.908584</td>\n",
       "      <td>1.091416</td>\n",
       "      <td>0.029887</td>\n",
       "      <td>0.838252</td>\n",
       "      <td>1.161748</td>\n",
       "      <td>0.040414</td>\n",
       "      <td>0.908584</td>\n",
       "      <td>1.091416</td>\n",
       "    </tr>\n",
       "    <tr>\n",
       "      <th>0.10</th>\n",
       "      <td>5.5</td>\n",
       "      <td>0.080921</td>\n",
       "      <td>0.079167</td>\n",
       "      <td>0.959524</td>\n",
       "      <td>0.994612</td>\n",
       "      <td>0.033427</td>\n",
       "      <td>0.880482</td>\n",
       "      <td>1.119518</td>\n",
       "      <td>0.079167</td>\n",
       "      <td>0.959524</td>\n",
       "      <td>0.994612</td>\n",
       "    </tr>\n",
       "    <tr>\n",
       "      <th>0.20</th>\n",
       "      <td>5.5</td>\n",
       "      <td>0.080921</td>\n",
       "      <td>0.170645</td>\n",
       "      <td>0.852224</td>\n",
       "      <td>0.852224</td>\n",
       "      <td>0.042262</td>\n",
       "      <td>0.936779</td>\n",
       "      <td>1.063221</td>\n",
       "      <td>0.170645</td>\n",
       "      <td>0.852224</td>\n",
       "      <td>0.852224</td>\n",
       "    </tr>\n",
       "  </tbody>\n",
       "</table>\n",
       "</div>"
      ],
      "text/plain": [
       "      fold  origin_err  marg_err  marg_oneC  marg_avgC  Simul_err  Simul_oneC  \\\n",
       "eps                                                                             \n",
       "0.01   5.5    0.080921  0.005263   0.224781   1.775219   0.029887    0.838252   \n",
       "0.03   5.5    0.080921  0.017544   0.700877   1.299123   0.029887    0.838252   \n",
       "0.05   5.5    0.080921  0.040414   0.908584   1.091416   0.029887    0.838252   \n",
       "0.10   5.5    0.080921  0.079167   0.959524   0.994612   0.033427    0.880482   \n",
       "0.20   5.5    0.080921  0.170645   0.852224   0.852224   0.042262    0.936779   \n",
       "\n",
       "      Simul_avgC   inv_err  inv_oneC  inv_avgC  \n",
       "eps                                             \n",
       "0.01    1.161748  0.005263  0.224781  1.775219  \n",
       "0.03    1.161748  0.017544  0.700877  1.299123  \n",
       "0.05    1.161748  0.040414  0.908584  1.091416  \n",
       "0.10    1.119518  0.079167  0.959524  0.994612  \n",
       "0.20    1.063221  0.170645  0.852224  0.852224  "
      ]
     },
     "execution_count": 130,
     "metadata": {},
     "output_type": "execute_result"
    }
   ],
   "source": [
    "tmp_df = res_df.groupby('eps').mean()\n",
    "# rename columns for margin function\n",
    "dt_mean_df.columns = ['fold', 'origin_err', 'marg_err', 'marg_oneC', 'marg_avgC', \n",
    "                       'Simul_err', 'Simul_oneC', 'Simul_avgC']\n",
    "# these columns contain results for inverse probability non-conformity function\n",
    "dt_mean_df['inv_err'] = tmp_df['Conf_err']\n",
    "dt_mean_df['inv_oneC'] = tmp_df['Conf_oneC']\n",
    "dt_mean_df['inv_avgC'] = tmp_df['Conf_avgC']\n",
    "dt_mean_df"
   ]
  },
  {
   "cell_type": "markdown",
   "metadata": {},
   "source": [
    "### Plot results: error rate"
   ]
  },
  {
   "cell_type": "code",
   "execution_count": 131,
   "metadata": {},
   "outputs": [
    {
     "data": {
      "text/plain": [
       "Text(0.5, 1.0, 'Error rate')"
      ]
     },
     "execution_count": 131,
     "metadata": {},
     "output_type": "execute_result"
    },
    {
     "data": {
      "image/png": "[encoded data removed]",
      "text/plain": [
       "<Figure size 432x288 with 1 Axes>"
      ]
     },
     "metadata": {
      "needs_background": "light"
     },
     "output_type": "display_data"
    }
   ],
   "source": [
    "# SVM color - blue\n",
    "color = 'blue'\n",
    "df = svm_mean_df\n",
    "plt.plot(eps_err, df['origin_err'], label='SVM', color=color, lw=3) # thik line for original error\n",
    "plt.plot(eps_err, df['marg_err'], label='- margin', color=color, ) # normal line for margin error\n",
    "plt.plot(eps_err, df['inv_err'], label='- inv prob', color=color, linestyle='--') # dashed line for inv_prob error\n",
    "plt.plot(eps_err, df['Simul_err'], label='- simulated', color=color, linestyle=':') # dotted line for simulation error\n",
    "\n",
    "# Decision tree color - orange\n",
    "color = 'orange'\n",
    "df = dt_mean_df\n",
    "plt.plot(eps_err, df['origin_err'], label='Decision tree', color=color, lw=3) # thik line for original error\n",
    "plt.plot(eps_err, df['marg_err'], label='_nolegend_', color=color, ) # normal line for margin error\n",
    "plt.plot(eps_err, df['inv_err'], label='_nolegend_', color=color, linestyle='--') # dashed line for inv_prob error\n",
    "plt.plot(eps_err, df['Simul_err'], label='_nolegend_', color=color, linestyle=':') # dotted line for simulation error\n",
    "\n",
    "plt.xticks(eps_err)\n",
    "y_ticks = eps_err[:]\n",
    "y_ticks.extend([0.3, 0.4, 0.5])\n",
    "plt.yticks(y_ticks)\n",
    "plt.grid(True)\n",
    "plt.legend()\n",
    "plt.title('Error rate')"
   ]
  },
  {
   "cell_type": "markdown",
   "metadata": {},
   "source": [
    "### Plot: oneC"
   ]
  },
  {
   "cell_type": "code",
   "execution_count": 132,
   "metadata": {},
   "outputs": [
    {
     "data": {
      "text/plain": [
       "Text(0.5, 1.0, 'oneC')"
      ]
     },
     "execution_count": 132,
     "metadata": {},
     "output_type": "execute_result"
    },
    {
     "data": {
      "image/png": "[encoded data removed]",
      "text/plain": [
       "<Figure size 432x288 with 1 Axes>"
      ]
     },
     "metadata": {
      "needs_background": "light"
     },
     "output_type": "display_data"
    }
   ],
   "source": [
    "# SVM color - blue\n",
    "color = 'blue'\n",
    "df = svm_mean_df\n",
    "plt.plot(eps_err, df['marg_oneC'], label='SVM', color=color, ) # normal line for margin error\n",
    "plt.plot(eps_err, df['inv_oneC'], label='_nolegend_', color=color, linestyle='--') # dashed line for inv_prob error\n",
    "plt.plot(eps_err, df['Simul_oneC'], label='_nolegend_', color=color, linestyle=':') # dotted line for simulation error\n",
    "\n",
    "# Decision tree color - orange\n",
    "color = 'orange'\n",
    "df = dt_mean_df\n",
    "plt.plot(eps_err, df['marg_oneC'], label='Decision tree', color=color, ) # normal line for margin error\n",
    "plt.plot(eps_err, df['inv_oneC'], label='_nolegend_', color=color, linestyle='--') # dashed line for inv_prob error\n",
    "plt.plot(eps_err, df['Simul_oneC'], label='_nolegend_', color=color, linestyle=':') # dotted line for simulation error\n",
    "\n",
    "plt.xticks(eps_err)\n",
    "plt.grid(True)\n",
    "plt.legend()\n",
    "plt.title('oneC')"
   ]
  },
  {
   "cell_type": "markdown",
   "metadata": {},
   "source": [
    "### avgC"
   ]
  },
  {
   "cell_type": "code",
   "execution_count": 133,
   "metadata": {},
   "outputs": [
    {
     "data": {
      "text/plain": [
       "Text(0.5, 1.0, 'avgC')"
      ]
     },
     "execution_count": 133,
     "metadata": {},
     "output_type": "execute_result"
    },
    {
     "data": {
      "image/png": "[encoded data removed]",
      "text/plain": [
       "<Figure size 432x288 with 1 Axes>"
      ]
     },
     "metadata": {
      "needs_background": "light"
     },
     "output_type": "display_data"
    }
   ],
   "source": [
    "# SVM color - blue\n",
    "color = 'blue'\n",
    "df = svm_mean_df\n",
    "plt.plot(eps_err, df['marg_avgC'], label='SVM', color=color, ) # normal line for margin error\n",
    "plt.plot(eps_err, df['inv_avgC'], label='_nolegend_', color=color, linestyle='--') # dashed line for inv_prob error\n",
    "plt.plot(eps_err, df['Simul_avgC'], label='_nolegend_', color=color, linestyle=':') # dotted line for simulation error\n",
    "\n",
    "# Decision tree color - orange\n",
    "color = 'orange'\n",
    "df = dt_mean_df\n",
    "plt.plot(eps_err, df['marg_avgC'], label='Decision tree', color=color, ) # normal line for margin error\n",
    "plt.plot(eps_err, df['inv_avgC'], label='_nolegend_', color=color, linestyle='--') # dashed line for inv_prob error\n",
    "plt.plot(eps_err, df['Simul_avgC'], label='_nolegend_', color=color, linestyle=':') # dotted line for simulation error\n",
    "\n",
    "plt.xticks(eps_err)\n",
    "plt.grid(True)\n",
    "plt.legend()\n",
    "plt.title('avgC')"
   ]
  },
  {
   "cell_type": "markdown",
   "metadata": {},
   "source": [
    "### Iris"
   ]
  },
  {
   "cell_type": "code",
   "execution_count": 134,
   "metadata": {},
   "outputs": [
    {
     "name": "stdout",
     "output_type": "stream",
     "text": [
      "150\n"
     ]
    },
    {
     "data": {
      "text/html": [
       "<div>\n",
       "<style scoped>\n",
       "    .dataframe tbody tr th:only-of-type {\n",
       "        vertical-align: middle;\n",
       "    }\n",
       "\n",
       "    .dataframe tbody tr th {\n",
       "        vertical-align: top;\n",
       "    }\n",
       "\n",
       "    .dataframe thead th {\n",
       "        text-align: right;\n",
       "    }\n",
       "</style>\n",
       "<table border=\"1\" class=\"dataframe\">\n",
       "  <thead>\n",
       "    <tr style=\"text-align: right;\">\n",
       "      <th></th>\n",
       "      <th>sepal length (cm)</th>\n",
       "      <th>sepal width (cm)</th>\n",
       "      <th>petal length (cm)</th>\n",
       "      <th>petal width (cm)</th>\n",
       "      <th>target</th>\n",
       "    </tr>\n",
       "  </thead>\n",
       "  <tbody>\n",
       "    <tr>\n",
       "      <th>0</th>\n",
       "      <td>5.1</td>\n",
       "      <td>3.5</td>\n",
       "      <td>1.4</td>\n",
       "      <td>0.2</td>\n",
       "      <td>0</td>\n",
       "    </tr>\n",
       "    <tr>\n",
       "      <th>1</th>\n",
       "      <td>4.9</td>\n",
       "      <td>3.0</td>\n",
       "      <td>1.4</td>\n",
       "      <td>0.2</td>\n",
       "      <td>0</td>\n",
       "    </tr>\n",
       "    <tr>\n",
       "      <th>2</th>\n",
       "      <td>4.7</td>\n",
       "      <td>3.2</td>\n",
       "      <td>1.3</td>\n",
       "      <td>0.2</td>\n",
       "      <td>0</td>\n",
       "    </tr>\n",
       "    <tr>\n",
       "      <th>3</th>\n",
       "      <td>4.6</td>\n",
       "      <td>3.1</td>\n",
       "      <td>1.5</td>\n",
       "      <td>0.2</td>\n",
       "      <td>0</td>\n",
       "    </tr>\n",
       "    <tr>\n",
       "      <th>4</th>\n",
       "      <td>5.0</td>\n",
       "      <td>3.6</td>\n",
       "      <td>1.4</td>\n",
       "      <td>0.2</td>\n",
       "      <td>0</td>\n",
       "    </tr>\n",
       "  </tbody>\n",
       "</table>\n",
       "</div>"
      ],
      "text/plain": [
       "   sepal length (cm)  sepal width (cm)  petal length (cm)  petal width (cm)  \\\n",
       "0                5.1               3.5                1.4               0.2   \n",
       "1                4.9               3.0                1.4               0.2   \n",
       "2                4.7               3.2                1.3               0.2   \n",
       "3                4.6               3.1                1.5               0.2   \n",
       "4                5.0               3.6                1.4               0.2   \n",
       "\n",
       "   target  \n",
       "0       0  \n",
       "1       0  \n",
       "2       0  \n",
       "3       0  \n",
       "4       0  "
      ]
     },
     "execution_count": 134,
     "metadata": {},
     "output_type": "execute_result"
    }
   ],
   "source": [
    "data = load_iris();\n",
    "data_df = pd.DataFrame(data['data'])\n",
    "data_df.columns = data['feature_names']\n",
    "data_df['target'] = data['target']\n",
    "print(len(data_df))\n",
    "data_df.head()"
   ]
  },
  {
   "cell_type": "code",
   "execution_count": 135,
   "metadata": {},
   "outputs": [
    {
     "data": {
      "text/html": [
       "<div>\n",
       "<style scoped>\n",
       "    .dataframe tbody tr th:only-of-type {\n",
       "        vertical-align: middle;\n",
       "    }\n",
       "\n",
       "    .dataframe tbody tr th {\n",
       "        vertical-align: top;\n",
       "    }\n",
       "\n",
       "    .dataframe thead th {\n",
       "        text-align: right;\n",
       "    }\n",
       "</style>\n",
       "<table border=\"1\" class=\"dataframe\">\n",
       "  <thead>\n",
       "    <tr style=\"text-align: right;\">\n",
       "      <th></th>\n",
       "      <th>sepal length (cm)</th>\n",
       "      <th>sepal width (cm)</th>\n",
       "      <th>petal length (cm)</th>\n",
       "      <th>petal width (cm)</th>\n",
       "    </tr>\n",
       "    <tr>\n",
       "      <th>target</th>\n",
       "      <th></th>\n",
       "      <th></th>\n",
       "      <th></th>\n",
       "      <th></th>\n",
       "    </tr>\n",
       "  </thead>\n",
       "  <tbody>\n",
       "    <tr>\n",
       "      <th>0</th>\n",
       "      <td>50</td>\n",
       "      <td>50</td>\n",
       "      <td>50</td>\n",
       "      <td>50</td>\n",
       "    </tr>\n",
       "    <tr>\n",
       "      <th>1</th>\n",
       "      <td>50</td>\n",
       "      <td>50</td>\n",
       "      <td>50</td>\n",
       "      <td>50</td>\n",
       "    </tr>\n",
       "    <tr>\n",
       "      <th>2</th>\n",
       "      <td>50</td>\n",
       "      <td>50</td>\n",
       "      <td>50</td>\n",
       "      <td>50</td>\n",
       "    </tr>\n",
       "  </tbody>\n",
       "</table>\n",
       "</div>"
      ],
      "text/plain": [
       "        sepal length (cm)  sepal width (cm)  petal length (cm)  \\\n",
       "target                                                           \n",
       "0                      50                50                 50   \n",
       "1                      50                50                 50   \n",
       "2                      50                50                 50   \n",
       "\n",
       "        petal width (cm)  \n",
       "target                    \n",
       "0                     50  \n",
       "1                     50  \n",
       "2                     50  "
      ]
     },
     "execution_count": 135,
     "metadata": {},
     "output_type": "execute_result"
    }
   ],
   "source": [
    "data_df.groupby('target').count()"
   ]
  },
  {
   "cell_type": "code",
   "execution_count": 136,
   "metadata": {},
   "outputs": [
    {
     "data": {
      "image/png": "[encoded data removed]",
      "text/plain": [
       "<Figure size 432x288 with 1 Axes>"
      ]
     },
     "metadata": {
      "needs_background": "light"
     },
     "output_type": "display_data"
    }
   ],
   "source": [
    "labels = data['target_names']\n",
    "vals = [50, 50, 50]\n",
    "x = np.arange(len(labels))  # the label locations\n",
    "width = 0.8  # the width of the bars\n",
    "fig, ax = plt.subplots()\n",
    "rects1 = ax.bar(x, vals, width,   label='Iris - 150')\n",
    "# Add some text for labels, title and custom x-axis tick labels, etc.\n",
    "ax.set_ylabel('Number of instances')\n",
    "ax.set_title('Distribution between classes')\n",
    "ax.set_xticks(x)\n",
    "ax.set_xticklabels(labels)\n",
    "ax.legend()\n",
    "autolabel(rects1)\n",
    "#autolabel(rects2)\n",
    "fig.tight_layout()\n",
    "plt.show()"
   ]
  },
  {
   "cell_type": "markdown",
   "metadata": {},
   "source": [
    "### Run conformal prediction"
   ]
  },
  {
   "cell_type": "code",
   "execution_count": 137,
   "metadata": {
    "scrolled": true
   },
   "outputs": [],
   "source": [
    "data = load_iris()"
   ]
  },
  {
   "cell_type": "markdown",
   "metadata": {},
   "source": [
    "### svm"
   ]
  },
  {
   "cell_type": "markdown",
   "metadata": {},
   "source": [
    "##### MarginErrFunc"
   ]
  },
  {
   "cell_type": "code",
   "execution_count": 138,
   "metadata": {
    "scrolled": false
   },
   "outputs": [
    {
     "name": "stdout",
     "output_type": "stream",
     "text": [
      "Info about dataset: \n",
      "classes: ['setosa', 'versicolor', 'virginica']\n",
      "size of the dataset: 150\n",
      "train = 108, cal = 27, test = 15\n",
      "\n",
      "average values for each eps\n"
     ]
    },
    {
     "data": {
      "text/html": [
       "<div>\n",
       "<style scoped>\n",
       "    .dataframe tbody tr th:only-of-type {\n",
       "        vertical-align: middle;\n",
       "    }\n",
       "\n",
       "    .dataframe tbody tr th {\n",
       "        vertical-align: top;\n",
       "    }\n",
       "\n",
       "    .dataframe thead th {\n",
       "        text-align: right;\n",
       "    }\n",
       "</style>\n",
       "<table border=\"1\" class=\"dataframe\">\n",
       "  <thead>\n",
       "    <tr style=\"text-align: right;\">\n",
       "      <th></th>\n",
       "      <th>fold</th>\n",
       "      <th>origin_err</th>\n",
       "      <th>Conf_err</th>\n",
       "      <th>Conf_oneC</th>\n",
       "      <th>Conf_avgC</th>\n",
       "      <th>Simul_err</th>\n",
       "      <th>Simul_oneC</th>\n",
       "      <th>Simul_avgC</th>\n",
       "    </tr>\n",
       "    <tr>\n",
       "      <th>eps</th>\n",
       "      <th></th>\n",
       "      <th></th>\n",
       "      <th></th>\n",
       "      <th></th>\n",
       "      <th></th>\n",
       "      <th></th>\n",
       "      <th></th>\n",
       "      <th></th>\n",
       "    </tr>\n",
       "  </thead>\n",
       "  <tbody>\n",
       "    <tr>\n",
       "      <th>0.01</th>\n",
       "      <td>5.5</td>\n",
       "      <td>0.04</td>\n",
       "      <td>0.000000</td>\n",
       "      <td>0.113333</td>\n",
       "      <td>2.420000</td>\n",
       "      <td>0.000000</td>\n",
       "      <td>0.013333</td>\n",
       "      <td>2.286667</td>\n",
       "    </tr>\n",
       "    <tr>\n",
       "      <th>0.03</th>\n",
       "      <td>5.5</td>\n",
       "      <td>0.04</td>\n",
       "      <td>0.020000</td>\n",
       "      <td>0.706667</td>\n",
       "      <td>1.306667</td>\n",
       "      <td>0.000000</td>\n",
       "      <td>0.466667</td>\n",
       "      <td>1.533333</td>\n",
       "    </tr>\n",
       "    <tr>\n",
       "      <th>0.05</th>\n",
       "      <td>5.5</td>\n",
       "      <td>0.04</td>\n",
       "      <td>0.073333</td>\n",
       "      <td>0.940000</td>\n",
       "      <td>0.953333</td>\n",
       "      <td>0.000000</td>\n",
       "      <td>0.673333</td>\n",
       "      <td>1.326667</td>\n",
       "    </tr>\n",
       "    <tr>\n",
       "      <th>0.10</th>\n",
       "      <td>5.5</td>\n",
       "      <td>0.04</td>\n",
       "      <td>0.113333</td>\n",
       "      <td>0.886667</td>\n",
       "      <td>0.886667</td>\n",
       "      <td>0.000000</td>\n",
       "      <td>0.800000</td>\n",
       "      <td>1.200000</td>\n",
       "    </tr>\n",
       "    <tr>\n",
       "      <th>0.20</th>\n",
       "      <td>5.5</td>\n",
       "      <td>0.04</td>\n",
       "      <td>0.186667</td>\n",
       "      <td>0.813333</td>\n",
       "      <td>0.813333</td>\n",
       "      <td>0.006667</td>\n",
       "      <td>0.906667</td>\n",
       "      <td>1.093333</td>\n",
       "    </tr>\n",
       "  </tbody>\n",
       "</table>\n",
       "</div>"
      ],
      "text/plain": [
       "      fold  origin_err  Conf_err  Conf_oneC  Conf_avgC  Simul_err  Simul_oneC  \\\n",
       "eps                                                                             \n",
       "0.01   5.5        0.04  0.000000   0.113333   2.420000   0.000000    0.013333   \n",
       "0.03   5.5        0.04  0.020000   0.706667   1.306667   0.000000    0.466667   \n",
       "0.05   5.5        0.04  0.073333   0.940000   0.953333   0.000000    0.673333   \n",
       "0.10   5.5        0.04  0.113333   0.886667   0.886667   0.000000    0.800000   \n",
       "0.20   5.5        0.04  0.186667   0.813333   0.813333   0.006667    0.906667   \n",
       "\n",
       "      Simul_avgC  \n",
       "eps               \n",
       "0.01    2.286667  \n",
       "0.03    1.533333  \n",
       "0.05    1.326667  \n",
       "0.10    1.200000  \n",
       "0.20    1.093333  "
      ]
     },
     "execution_count": 138,
     "metadata": {},
     "output_type": "execute_result"
    }
   ],
   "source": [
    "res_df = run_conformal(data, epsilon_arr=eps_err, err_func=MarginErrFunc, smoothing=True, \n",
    "                       seed=1, verbose=True)\n",
    "# Get average values of metrics\n",
    "print('\\naverage values for each eps')\n",
    "mean_df = res_df.groupby('eps').mean()\n",
    "mean_df"
   ]
  },
  {
   "cell_type": "markdown",
   "metadata": {},
   "source": [
    "#####  InverseProbabilityErrFunc"
   ]
  },
  {
   "cell_type": "code",
   "execution_count": 139,
   "metadata": {
    "scrolled": true
   },
   "outputs": [
    {
     "name": "stdout",
     "output_type": "stream",
     "text": [
      "Info about dataset: \n",
      "classes: ['setosa', 'versicolor', 'virginica']\n",
      "size of the dataset: 150\n",
      "train = 108, cal = 27, test = 15\n",
      "average values for each eps\n"
     ]
    },
    {
     "data": {
      "text/html": [
       "<div>\n",
       "<style scoped>\n",
       "    .dataframe tbody tr th:only-of-type {\n",
       "        vertical-align: middle;\n",
       "    }\n",
       "\n",
       "    .dataframe tbody tr th {\n",
       "        vertical-align: top;\n",
       "    }\n",
       "\n",
       "    .dataframe thead th {\n",
       "        text-align: right;\n",
       "    }\n",
       "</style>\n",
       "<table border=\"1\" class=\"dataframe\">\n",
       "  <thead>\n",
       "    <tr style=\"text-align: right;\">\n",
       "      <th></th>\n",
       "      <th>fold</th>\n",
       "      <th>origin_err</th>\n",
       "      <th>Conf_err</th>\n",
       "      <th>Conf_oneC</th>\n",
       "      <th>Conf_avgC</th>\n",
       "      <th>Simul_err</th>\n",
       "      <th>Simul_oneC</th>\n",
       "      <th>Simul_avgC</th>\n",
       "    </tr>\n",
       "    <tr>\n",
       "      <th>eps</th>\n",
       "      <th></th>\n",
       "      <th></th>\n",
       "      <th></th>\n",
       "      <th></th>\n",
       "      <th></th>\n",
       "      <th></th>\n",
       "      <th></th>\n",
       "      <th></th>\n",
       "    </tr>\n",
       "  </thead>\n",
       "  <tbody>\n",
       "    <tr>\n",
       "      <th>0.01</th>\n",
       "      <td>5.5</td>\n",
       "      <td>0.04</td>\n",
       "      <td>0.000000</td>\n",
       "      <td>0.113333</td>\n",
       "      <td>2.420000</td>\n",
       "      <td>0.000000</td>\n",
       "      <td>0.013333</td>\n",
       "      <td>2.286667</td>\n",
       "    </tr>\n",
       "    <tr>\n",
       "      <th>0.03</th>\n",
       "      <td>5.5</td>\n",
       "      <td>0.04</td>\n",
       "      <td>0.020000</td>\n",
       "      <td>0.706667</td>\n",
       "      <td>1.306667</td>\n",
       "      <td>0.000000</td>\n",
       "      <td>0.466667</td>\n",
       "      <td>1.533333</td>\n",
       "    </tr>\n",
       "    <tr>\n",
       "      <th>0.05</th>\n",
       "      <td>5.5</td>\n",
       "      <td>0.04</td>\n",
       "      <td>0.073333</td>\n",
       "      <td>0.940000</td>\n",
       "      <td>0.953333</td>\n",
       "      <td>0.000000</td>\n",
       "      <td>0.673333</td>\n",
       "      <td>1.326667</td>\n",
       "    </tr>\n",
       "    <tr>\n",
       "      <th>0.10</th>\n",
       "      <td>5.5</td>\n",
       "      <td>0.04</td>\n",
       "      <td>0.113333</td>\n",
       "      <td>0.886667</td>\n",
       "      <td>0.886667</td>\n",
       "      <td>0.000000</td>\n",
       "      <td>0.800000</td>\n",
       "      <td>1.200000</td>\n",
       "    </tr>\n",
       "    <tr>\n",
       "      <th>0.20</th>\n",
       "      <td>5.5</td>\n",
       "      <td>0.04</td>\n",
       "      <td>0.186667</td>\n",
       "      <td>0.813333</td>\n",
       "      <td>0.813333</td>\n",
       "      <td>0.006667</td>\n",
       "      <td>0.906667</td>\n",
       "      <td>1.093333</td>\n",
       "    </tr>\n",
       "  </tbody>\n",
       "</table>\n",
       "</div>"
      ],
      "text/plain": [
       "      fold  origin_err  Conf_err  Conf_oneC  Conf_avgC  Simul_err  Simul_oneC  \\\n",
       "eps                                                                             \n",
       "0.01   5.5        0.04  0.000000   0.113333   2.420000   0.000000    0.013333   \n",
       "0.03   5.5        0.04  0.020000   0.706667   1.306667   0.000000    0.466667   \n",
       "0.05   5.5        0.04  0.073333   0.940000   0.953333   0.000000    0.673333   \n",
       "0.10   5.5        0.04  0.113333   0.886667   0.886667   0.000000    0.800000   \n",
       "0.20   5.5        0.04  0.186667   0.813333   0.813333   0.006667    0.906667   \n",
       "\n",
       "      Simul_avgC  \n",
       "eps               \n",
       "0.01    2.286667  \n",
       "0.03    1.533333  \n",
       "0.05    1.326667  \n",
       "0.10    1.200000  \n",
       "0.20    1.093333  "
      ]
     },
     "execution_count": 139,
     "metadata": {},
     "output_type": "execute_result"
    }
   ],
   "source": [
    "res_df = run_conformal(data, epsilon_arr=eps_err, err_func=InverseProbabilityErrFunc, smoothing=True, \n",
    "                             seed=1, verbose=True)\n",
    "# Get average values of metrics\n",
    "print('average values for each eps')\n",
    "res_df.groupby('eps').mean()"
   ]
  },
  {
   "cell_type": "code",
   "execution_count": 140,
   "metadata": {},
   "outputs": [
    {
     "data": {
      "text/html": [
       "<div>\n",
       "<style scoped>\n",
       "    .dataframe tbody tr th:only-of-type {\n",
       "        vertical-align: middle;\n",
       "    }\n",
       "\n",
       "    .dataframe tbody tr th {\n",
       "        vertical-align: top;\n",
       "    }\n",
       "\n",
       "    .dataframe thead th {\n",
       "        text-align: right;\n",
       "    }\n",
       "</style>\n",
       "<table border=\"1\" class=\"dataframe\">\n",
       "  <thead>\n",
       "    <tr style=\"text-align: right;\">\n",
       "      <th></th>\n",
       "      <th>fold</th>\n",
       "      <th>origin_err</th>\n",
       "      <th>Conf_err</th>\n",
       "      <th>Conf_oneC</th>\n",
       "      <th>Conf_avgC</th>\n",
       "      <th>Simul_err</th>\n",
       "      <th>Simul_oneC</th>\n",
       "      <th>Simul_avgC</th>\n",
       "      <th>inv_err</th>\n",
       "      <th>inv_oneC</th>\n",
       "      <th>inv_avgC</th>\n",
       "    </tr>\n",
       "    <tr>\n",
       "      <th>eps</th>\n",
       "      <th></th>\n",
       "      <th></th>\n",
       "      <th></th>\n",
       "      <th></th>\n",
       "      <th></th>\n",
       "      <th></th>\n",
       "      <th></th>\n",
       "      <th></th>\n",
       "      <th></th>\n",
       "      <th></th>\n",
       "      <th></th>\n",
       "    </tr>\n",
       "  </thead>\n",
       "  <tbody>\n",
       "    <tr>\n",
       "      <th>0.01</th>\n",
       "      <td>5.5</td>\n",
       "      <td>0.04</td>\n",
       "      <td>0.000000</td>\n",
       "      <td>0.113333</td>\n",
       "      <td>2.420000</td>\n",
       "      <td>0.000000</td>\n",
       "      <td>0.013333</td>\n",
       "      <td>2.286667</td>\n",
       "      <td>0.000000</td>\n",
       "      <td>0.113333</td>\n",
       "      <td>2.420000</td>\n",
       "    </tr>\n",
       "    <tr>\n",
       "      <th>0.03</th>\n",
       "      <td>5.5</td>\n",
       "      <td>0.04</td>\n",
       "      <td>0.020000</td>\n",
       "      <td>0.706667</td>\n",
       "      <td>1.306667</td>\n",
       "      <td>0.000000</td>\n",
       "      <td>0.466667</td>\n",
       "      <td>1.533333</td>\n",
       "      <td>0.020000</td>\n",
       "      <td>0.706667</td>\n",
       "      <td>1.306667</td>\n",
       "    </tr>\n",
       "    <tr>\n",
       "      <th>0.05</th>\n",
       "      <td>5.5</td>\n",
       "      <td>0.04</td>\n",
       "      <td>0.073333</td>\n",
       "      <td>0.940000</td>\n",
       "      <td>0.953333</td>\n",
       "      <td>0.000000</td>\n",
       "      <td>0.673333</td>\n",
       "      <td>1.326667</td>\n",
       "      <td>0.073333</td>\n",
       "      <td>0.940000</td>\n",
       "      <td>0.953333</td>\n",
       "    </tr>\n",
       "    <tr>\n",
       "      <th>0.10</th>\n",
       "      <td>5.5</td>\n",
       "      <td>0.04</td>\n",
       "      <td>0.113333</td>\n",
       "      <td>0.886667</td>\n",
       "      <td>0.886667</td>\n",
       "      <td>0.000000</td>\n",
       "      <td>0.800000</td>\n",
       "      <td>1.200000</td>\n",
       "      <td>0.113333</td>\n",
       "      <td>0.886667</td>\n",
       "      <td>0.886667</td>\n",
       "    </tr>\n",
       "    <tr>\n",
       "      <th>0.20</th>\n",
       "      <td>5.5</td>\n",
       "      <td>0.04</td>\n",
       "      <td>0.186667</td>\n",
       "      <td>0.813333</td>\n",
       "      <td>0.813333</td>\n",
       "      <td>0.006667</td>\n",
       "      <td>0.906667</td>\n",
       "      <td>1.093333</td>\n",
       "      <td>0.186667</td>\n",
       "      <td>0.813333</td>\n",
       "      <td>0.813333</td>\n",
       "    </tr>\n",
       "  </tbody>\n",
       "</table>\n",
       "</div>"
      ],
      "text/plain": [
       "      fold  origin_err  Conf_err  Conf_oneC  Conf_avgC  Simul_err  Simul_oneC  \\\n",
       "eps                                                                             \n",
       "0.01   5.5        0.04  0.000000   0.113333   2.420000   0.000000    0.013333   \n",
       "0.03   5.5        0.04  0.020000   0.706667   1.306667   0.000000    0.466667   \n",
       "0.05   5.5        0.04  0.073333   0.940000   0.953333   0.000000    0.673333   \n",
       "0.10   5.5        0.04  0.113333   0.886667   0.886667   0.000000    0.800000   \n",
       "0.20   5.5        0.04  0.186667   0.813333   0.813333   0.006667    0.906667   \n",
       "\n",
       "      Simul_avgC   inv_err  inv_oneC  inv_avgC  \n",
       "eps                                             \n",
       "0.01    2.286667  0.000000  0.113333  2.420000  \n",
       "0.03    1.533333  0.020000  0.706667  1.306667  \n",
       "0.05    1.326667  0.073333  0.940000  0.953333  \n",
       "0.10    1.200000  0.113333  0.886667  0.886667  \n",
       "0.20    1.093333  0.186667  0.813333  0.813333  "
      ]
     },
     "execution_count": 140,
     "metadata": {},
     "output_type": "execute_result"
    }
   ],
   "source": [
    "tmp_df = res_df.groupby('eps').mean()\n",
    "mean_df['inv_err'] = tmp_df['Conf_err']\n",
    "mean_df['inv_oneC'] = tmp_df['Conf_oneC']\n",
    "mean_df['inv_avgC'] = tmp_df['Conf_avgC']\n",
    "mean_df"
   ]
  },
  {
   "cell_type": "markdown",
   "metadata": {},
   "source": [
    "<font color='red'>! Strange, no difference !</font>"
   ]
  },
  {
   "cell_type": "markdown",
   "metadata": {},
   "source": [
    "### decision tree"
   ]
  },
  {
   "cell_type": "markdown",
   "metadata": {},
   "source": [
    "##### MarginErrFunc"
   ]
  },
  {
   "cell_type": "code",
   "execution_count": 141,
   "metadata": {},
   "outputs": [
    {
     "name": "stdout",
     "output_type": "stream",
     "text": [
      "Info about dataset: \n",
      "classes: ['setosa', 'versicolor', 'virginica']\n",
      "size of the dataset: 150\n",
      "train = 108, cal = 27, test = 15\n",
      "\n",
      "average values for each eps\n"
     ]
    },
    {
     "data": {
      "text/html": [
       "<div>\n",
       "<style scoped>\n",
       "    .dataframe tbody tr th:only-of-type {\n",
       "        vertical-align: middle;\n",
       "    }\n",
       "\n",
       "    .dataframe tbody tr th {\n",
       "        vertical-align: top;\n",
       "    }\n",
       "\n",
       "    .dataframe thead th {\n",
       "        text-align: right;\n",
       "    }\n",
       "</style>\n",
       "<table border=\"1\" class=\"dataframe\">\n",
       "  <thead>\n",
       "    <tr style=\"text-align: right;\">\n",
       "      <th></th>\n",
       "      <th>fold</th>\n",
       "      <th>origin_err</th>\n",
       "      <th>Conf_err</th>\n",
       "      <th>Conf_oneC</th>\n",
       "      <th>Conf_avgC</th>\n",
       "      <th>Simul_err</th>\n",
       "      <th>Simul_oneC</th>\n",
       "      <th>Simul_avgC</th>\n",
       "    </tr>\n",
       "    <tr>\n",
       "      <th>eps</th>\n",
       "      <th></th>\n",
       "      <th></th>\n",
       "      <th></th>\n",
       "      <th></th>\n",
       "      <th></th>\n",
       "      <th></th>\n",
       "      <th></th>\n",
       "      <th></th>\n",
       "    </tr>\n",
       "  </thead>\n",
       "  <tbody>\n",
       "    <tr>\n",
       "      <th>0.01</th>\n",
       "      <td>5.5</td>\n",
       "      <td>0.066667</td>\n",
       "      <td>0.000000</td>\n",
       "      <td>0.046667</td>\n",
       "      <td>2.733333</td>\n",
       "      <td>0.04</td>\n",
       "      <td>0.953333</td>\n",
       "      <td>1.046667</td>\n",
       "    </tr>\n",
       "    <tr>\n",
       "      <th>0.03</th>\n",
       "      <td>5.5</td>\n",
       "      <td>0.066667</td>\n",
       "      <td>0.033333</td>\n",
       "      <td>0.193333</td>\n",
       "      <td>2.113333</td>\n",
       "      <td>0.04</td>\n",
       "      <td>0.953333</td>\n",
       "      <td>1.046667</td>\n",
       "    </tr>\n",
       "    <tr>\n",
       "      <th>0.05</th>\n",
       "      <td>5.5</td>\n",
       "      <td>0.066667</td>\n",
       "      <td>0.073333</td>\n",
       "      <td>0.460000</td>\n",
       "      <td>1.580000</td>\n",
       "      <td>0.04</td>\n",
       "      <td>0.953333</td>\n",
       "      <td>1.046667</td>\n",
       "    </tr>\n",
       "    <tr>\n",
       "      <th>0.10</th>\n",
       "      <td>5.5</td>\n",
       "      <td>0.066667</td>\n",
       "      <td>0.140000</td>\n",
       "      <td>0.893333</td>\n",
       "      <td>0.893333</td>\n",
       "      <td>0.04</td>\n",
       "      <td>0.953333</td>\n",
       "      <td>1.046667</td>\n",
       "    </tr>\n",
       "    <tr>\n",
       "      <th>0.20</th>\n",
       "      <td>5.5</td>\n",
       "      <td>0.066667</td>\n",
       "      <td>0.173333</td>\n",
       "      <td>0.853333</td>\n",
       "      <td>0.853333</td>\n",
       "      <td>0.04</td>\n",
       "      <td>0.953333</td>\n",
       "      <td>1.046667</td>\n",
       "    </tr>\n",
       "  </tbody>\n",
       "</table>\n",
       "</div>"
      ],
      "text/plain": [
       "      fold  origin_err  Conf_err  Conf_oneC  Conf_avgC  Simul_err  Simul_oneC  \\\n",
       "eps                                                                             \n",
       "0.01   5.5    0.066667  0.000000   0.046667   2.733333       0.04    0.953333   \n",
       "0.03   5.5    0.066667  0.033333   0.193333   2.113333       0.04    0.953333   \n",
       "0.05   5.5    0.066667  0.073333   0.460000   1.580000       0.04    0.953333   \n",
       "0.10   5.5    0.066667  0.140000   0.893333   0.893333       0.04    0.953333   \n",
       "0.20   5.5    0.066667  0.173333   0.853333   0.853333       0.04    0.953333   \n",
       "\n",
       "      Simul_avgC  \n",
       "eps               \n",
       "0.01    1.046667  \n",
       "0.03    1.046667  \n",
       "0.05    1.046667  \n",
       "0.10    1.046667  \n",
       "0.20    1.046667  "
      ]
     },
     "execution_count": 141,
     "metadata": {},
     "output_type": "execute_result"
    }
   ],
   "source": [
    "res_df = run_conformal(data, model_obj=dt_model_obj, \n",
    "                       params={MIN_SAMPLES_KEY: max(5, int(dt_min_sample_ratio * len(data['data'])))},\n",
    "                       epsilon_arr=eps_err, err_func=MarginErrFunc, smoothing=True, \n",
    "                       seed=1, verbose=True)\n",
    "# Get average values of metrics\n",
    "print('\\naverage values for each eps')\n",
    "dt_mean_df = res_df.groupby('eps').mean()\n",
    "dt_mean_df"
   ]
  },
  {
   "cell_type": "markdown",
   "metadata": {},
   "source": [
    "#####  InverseProbabilityErrFunc"
   ]
  },
  {
   "cell_type": "code",
   "execution_count": 142,
   "metadata": {},
   "outputs": [
    {
     "name": "stdout",
     "output_type": "stream",
     "text": [
      "Info about dataset: \n",
      "classes: ['setosa', 'versicolor', 'virginica']\n",
      "size of the dataset: 150\n",
      "train = 108, cal = 27, test = 15\n",
      "\n",
      "average values for each eps\n"
     ]
    },
    {
     "data": {
      "text/html": [
       "<div>\n",
       "<style scoped>\n",
       "    .dataframe tbody tr th:only-of-type {\n",
       "        vertical-align: middle;\n",
       "    }\n",
       "\n",
       "    .dataframe tbody tr th {\n",
       "        vertical-align: top;\n",
       "    }\n",
       "\n",
       "    .dataframe thead th {\n",
       "        text-align: right;\n",
       "    }\n",
       "</style>\n",
       "<table border=\"1\" class=\"dataframe\">\n",
       "  <thead>\n",
       "    <tr style=\"text-align: right;\">\n",
       "      <th></th>\n",
       "      <th>fold</th>\n",
       "      <th>origin_err</th>\n",
       "      <th>Conf_err</th>\n",
       "      <th>Conf_oneC</th>\n",
       "      <th>Conf_avgC</th>\n",
       "      <th>Simul_err</th>\n",
       "      <th>Simul_oneC</th>\n",
       "      <th>Simul_avgC</th>\n",
       "    </tr>\n",
       "    <tr>\n",
       "      <th>eps</th>\n",
       "      <th></th>\n",
       "      <th></th>\n",
       "      <th></th>\n",
       "      <th></th>\n",
       "      <th></th>\n",
       "      <th></th>\n",
       "      <th></th>\n",
       "      <th></th>\n",
       "    </tr>\n",
       "  </thead>\n",
       "  <tbody>\n",
       "    <tr>\n",
       "      <th>0.01</th>\n",
       "      <td>5.5</td>\n",
       "      <td>0.066667</td>\n",
       "      <td>0.000000</td>\n",
       "      <td>0.046667</td>\n",
       "      <td>2.726667</td>\n",
       "      <td>0.04</td>\n",
       "      <td>0.953333</td>\n",
       "      <td>1.046667</td>\n",
       "    </tr>\n",
       "    <tr>\n",
       "      <th>0.03</th>\n",
       "      <td>5.5</td>\n",
       "      <td>0.066667</td>\n",
       "      <td>0.033333</td>\n",
       "      <td>0.193333</td>\n",
       "      <td>2.086667</td>\n",
       "      <td>0.04</td>\n",
       "      <td>0.953333</td>\n",
       "      <td>1.046667</td>\n",
       "    </tr>\n",
       "    <tr>\n",
       "      <th>0.05</th>\n",
       "      <td>5.5</td>\n",
       "      <td>0.066667</td>\n",
       "      <td>0.073333</td>\n",
       "      <td>0.473333</td>\n",
       "      <td>1.560000</td>\n",
       "      <td>0.04</td>\n",
       "      <td>0.953333</td>\n",
       "      <td>1.046667</td>\n",
       "    </tr>\n",
       "    <tr>\n",
       "      <th>0.10</th>\n",
       "      <td>5.5</td>\n",
       "      <td>0.066667</td>\n",
       "      <td>0.140000</td>\n",
       "      <td>0.893333</td>\n",
       "      <td>0.893333</td>\n",
       "      <td>0.04</td>\n",
       "      <td>0.953333</td>\n",
       "      <td>1.046667</td>\n",
       "    </tr>\n",
       "    <tr>\n",
       "      <th>0.20</th>\n",
       "      <td>5.5</td>\n",
       "      <td>0.066667</td>\n",
       "      <td>0.173333</td>\n",
       "      <td>0.853333</td>\n",
       "      <td>0.853333</td>\n",
       "      <td>0.04</td>\n",
       "      <td>0.953333</td>\n",
       "      <td>1.046667</td>\n",
       "    </tr>\n",
       "  </tbody>\n",
       "</table>\n",
       "</div>"
      ],
      "text/plain": [
       "      fold  origin_err  Conf_err  Conf_oneC  Conf_avgC  Simul_err  Simul_oneC  \\\n",
       "eps                                                                             \n",
       "0.01   5.5    0.066667  0.000000   0.046667   2.726667       0.04    0.953333   \n",
       "0.03   5.5    0.066667  0.033333   0.193333   2.086667       0.04    0.953333   \n",
       "0.05   5.5    0.066667  0.073333   0.473333   1.560000       0.04    0.953333   \n",
       "0.10   5.5    0.066667  0.140000   0.893333   0.893333       0.04    0.953333   \n",
       "0.20   5.5    0.066667  0.173333   0.853333   0.853333       0.04    0.953333   \n",
       "\n",
       "      Simul_avgC  \n",
       "eps               \n",
       "0.01    1.046667  \n",
       "0.03    1.046667  \n",
       "0.05    1.046667  \n",
       "0.10    1.046667  \n",
       "0.20    1.046667  "
      ]
     },
     "execution_count": 142,
     "metadata": {},
     "output_type": "execute_result"
    }
   ],
   "source": [
    "res_df = run_conformal(data, model_obj=dt_model_obj, \n",
    "                       params={MIN_SAMPLES_KEY: max(5, int(dt_min_sample_ratio * len(data['data'])))},\n",
    "                       epsilon_arr=eps_err, err_func=InverseProbabilityErrFunc, smoothing=True, \n",
    "                       seed=1, verbose=True)\n",
    "# Get average values of metrics\n",
    "print('\\naverage values for each eps')\n",
    "res_df.groupby('eps').mean()"
   ]
  },
  {
   "cell_type": "code",
   "execution_count": 143,
   "metadata": {},
   "outputs": [
    {
     "data": {
      "text/html": [
       "<div>\n",
       "<style scoped>\n",
       "    .dataframe tbody tr th:only-of-type {\n",
       "        vertical-align: middle;\n",
       "    }\n",
       "\n",
       "    .dataframe tbody tr th {\n",
       "        vertical-align: top;\n",
       "    }\n",
       "\n",
       "    .dataframe thead th {\n",
       "        text-align: right;\n",
       "    }\n",
       "</style>\n",
       "<table border=\"1\" class=\"dataframe\">\n",
       "  <thead>\n",
       "    <tr style=\"text-align: right;\">\n",
       "      <th></th>\n",
       "      <th>fold</th>\n",
       "      <th>origin_err</th>\n",
       "      <th>marg_err</th>\n",
       "      <th>marg_oneC</th>\n",
       "      <th>marg_avgC</th>\n",
       "      <th>Simul_err</th>\n",
       "      <th>Simul_oneC</th>\n",
       "      <th>Simul_avgC</th>\n",
       "      <th>inv_err</th>\n",
       "      <th>inv_oneC</th>\n",
       "      <th>inv_avgC</th>\n",
       "    </tr>\n",
       "    <tr>\n",
       "      <th>eps</th>\n",
       "      <th></th>\n",
       "      <th></th>\n",
       "      <th></th>\n",
       "      <th></th>\n",
       "      <th></th>\n",
       "      <th></th>\n",
       "      <th></th>\n",
       "      <th></th>\n",
       "      <th></th>\n",
       "      <th></th>\n",
       "      <th></th>\n",
       "    </tr>\n",
       "  </thead>\n",
       "  <tbody>\n",
       "    <tr>\n",
       "      <th>0.01</th>\n",
       "      <td>5.5</td>\n",
       "      <td>0.066667</td>\n",
       "      <td>0.000000</td>\n",
       "      <td>0.046667</td>\n",
       "      <td>2.733333</td>\n",
       "      <td>0.04</td>\n",
       "      <td>0.953333</td>\n",
       "      <td>1.046667</td>\n",
       "      <td>0.000000</td>\n",
       "      <td>0.046667</td>\n",
       "      <td>2.726667</td>\n",
       "    </tr>\n",
       "    <tr>\n",
       "      <th>0.03</th>\n",
       "      <td>5.5</td>\n",
       "      <td>0.066667</td>\n",
       "      <td>0.033333</td>\n",
       "      <td>0.193333</td>\n",
       "      <td>2.113333</td>\n",
       "      <td>0.04</td>\n",
       "      <td>0.953333</td>\n",
       "      <td>1.046667</td>\n",
       "      <td>0.033333</td>\n",
       "      <td>0.193333</td>\n",
       "      <td>2.086667</td>\n",
       "    </tr>\n",
       "    <tr>\n",
       "      <th>0.05</th>\n",
       "      <td>5.5</td>\n",
       "      <td>0.066667</td>\n",
       "      <td>0.073333</td>\n",
       "      <td>0.460000</td>\n",
       "      <td>1.580000</td>\n",
       "      <td>0.04</td>\n",
       "      <td>0.953333</td>\n",
       "      <td>1.046667</td>\n",
       "      <td>0.073333</td>\n",
       "      <td>0.473333</td>\n",
       "      <td>1.560000</td>\n",
       "    </tr>\n",
       "    <tr>\n",
       "      <th>0.10</th>\n",
       "      <td>5.5</td>\n",
       "      <td>0.066667</td>\n",
       "      <td>0.140000</td>\n",
       "      <td>0.893333</td>\n",
       "      <td>0.893333</td>\n",
       "      <td>0.04</td>\n",
       "      <td>0.953333</td>\n",
       "      <td>1.046667</td>\n",
       "      <td>0.140000</td>\n",
       "      <td>0.893333</td>\n",
       "      <td>0.893333</td>\n",
       "    </tr>\n",
       "    <tr>\n",
       "      <th>0.20</th>\n",
       "      <td>5.5</td>\n",
       "      <td>0.066667</td>\n",
       "      <td>0.173333</td>\n",
       "      <td>0.853333</td>\n",
       "      <td>0.853333</td>\n",
       "      <td>0.04</td>\n",
       "      <td>0.953333</td>\n",
       "      <td>1.046667</td>\n",
       "      <td>0.173333</td>\n",
       "      <td>0.853333</td>\n",
       "      <td>0.853333</td>\n",
       "    </tr>\n",
       "  </tbody>\n",
       "</table>\n",
       "</div>"
      ],
      "text/plain": [
       "      fold  origin_err  marg_err  marg_oneC  marg_avgC  Simul_err  Simul_oneC  \\\n",
       "eps                                                                             \n",
       "0.01   5.5    0.066667  0.000000   0.046667   2.733333       0.04    0.953333   \n",
       "0.03   5.5    0.066667  0.033333   0.193333   2.113333       0.04    0.953333   \n",
       "0.05   5.5    0.066667  0.073333   0.460000   1.580000       0.04    0.953333   \n",
       "0.10   5.5    0.066667  0.140000   0.893333   0.893333       0.04    0.953333   \n",
       "0.20   5.5    0.066667  0.173333   0.853333   0.853333       0.04    0.953333   \n",
       "\n",
       "      Simul_avgC   inv_err  inv_oneC  inv_avgC  \n",
       "eps                                             \n",
       "0.01    1.046667  0.000000  0.046667  2.726667  \n",
       "0.03    1.046667  0.033333  0.193333  2.086667  \n",
       "0.05    1.046667  0.073333  0.473333  1.560000  \n",
       "0.10    1.046667  0.140000  0.893333  0.893333  \n",
       "0.20    1.046667  0.173333  0.853333  0.853333  "
      ]
     },
     "execution_count": 143,
     "metadata": {},
     "output_type": "execute_result"
    }
   ],
   "source": [
    "tmp_df = res_df.groupby('eps').mean()\n",
    "# rename columns for margin function\n",
    "dt_mean_df.columns = ['fold', 'origin_err', 'marg_err', 'marg_oneC', 'marg_avgC', \n",
    "                       'Simul_err', 'Simul_oneC', 'Simul_avgC']\n",
    "# these columns contain results for inverse probability non-conformity function\n",
    "dt_mean_df['inv_err'] = tmp_df['Conf_err']\n",
    "dt_mean_df['inv_oneC'] = tmp_df['Conf_oneC']\n",
    "dt_mean_df['inv_avgC'] = tmp_df['Conf_avgC']\n",
    "dt_mean_df"
   ]
  },
  {
   "cell_type": "markdown",
   "metadata": {},
   "source": [
    "### Plot results: error rate"
   ]
  },
  {
   "cell_type": "code",
   "execution_count": 144,
   "metadata": {},
   "outputs": [
    {
     "data": {
      "text/plain": [
       "Text(0.5, 1.0, 'Error rate')"
      ]
     },
     "execution_count": 144,
     "metadata": {},
     "output_type": "execute_result"
    },
    {
     "data": {
      "image/png": "[encoded data removed]",
      "text/plain": [
       "<Figure size 432x288 with 1 Axes>"
      ]
     },
     "metadata": {
      "needs_background": "light"
     },
     "output_type": "display_data"
    }
   ],
   "source": [
    "# SVM color - blue\n",
    "color = 'blue'\n",
    "df = svm_mean_df\n",
    "plt.plot(eps_err, df['origin_err'], label='SVM', color=color, lw=3) # thik line for original error\n",
    "plt.plot(eps_err, df['marg_err'], label='- margin', color=color, ) # normal line for margin error\n",
    "plt.plot(eps_err, df['inv_err'], label='- inv prob', color=color, linestyle='--') # dashed line for inv_prob error\n",
    "plt.plot(eps_err, df['Simul_err'], label='- simulated', color=color, linestyle=':') # dotted line for simulation error\n",
    "\n",
    "# Decision tree color - orange\n",
    "color = 'orange'\n",
    "df = dt_mean_df\n",
    "plt.plot(eps_err, df['origin_err'], label='Decision tree', color=color, lw=3) # thik line for original error\n",
    "plt.plot(eps_err, df['marg_err'], label='_nolegend_', color=color, ) # normal line for margin error\n",
    "plt.plot(eps_err, df['inv_err'], label='_nolegend_', color=color, linestyle='--') # dashed line for inv_prob error\n",
    "plt.plot(eps_err, df['Simul_err'], label='_nolegend_', color=color, linestyle=':') # dotted line for simulation error\n",
    "\n",
    "plt.xticks(eps_err)\n",
    "y_ticks = eps_err[:]\n",
    "y_ticks.extend([0.3, 0.4, 0.5])\n",
    "plt.yticks(y_ticks)\n",
    "plt.grid(True)\n",
    "plt.legend()\n",
    "plt.title('Error rate')"
   ]
  },
  {
   "cell_type": "markdown",
   "metadata": {},
   "source": [
    "### Plot: oneC"
   ]
  },
  {
   "cell_type": "code",
   "execution_count": 145,
   "metadata": {},
   "outputs": [
    {
     "data": {
      "text/plain": [
       "Text(0.5, 1.0, 'oneC')"
      ]
     },
     "execution_count": 145,
     "metadata": {},
     "output_type": "execute_result"
    },
    {
     "data": {
      "image/png": "[encoded data removed]",
      "text/plain": [
       "<Figure size 432x288 with 1 Axes>"
      ]
     },
     "metadata": {
      "needs_background": "light"
     },
     "output_type": "display_data"
    }
   ],
   "source": [
    "# SVM color - blue\n",
    "color = 'blue'\n",
    "df = svm_mean_df\n",
    "plt.plot(eps_err, df['marg_oneC'], label='SVM', color=color, ) # normal line for margin error\n",
    "plt.plot(eps_err, df['inv_oneC'], label='_nolegend_', color=color, linestyle='--') # dashed line for inv_prob error\n",
    "plt.plot(eps_err, df['Simul_oneC'], label='_nolegend_', color=color, linestyle=':') # dotted line for simulation error\n",
    "\n",
    "# Decision tree color - orange\n",
    "color = 'orange'\n",
    "df = dt_mean_df\n",
    "plt.plot(eps_err, df['marg_oneC'], label='Decision tree', color=color, ) # normal line for margin error\n",
    "plt.plot(eps_err, df['inv_oneC'], label='_nolegend_', color=color, linestyle='--') # dashed line for inv_prob error\n",
    "plt.plot(eps_err, df['Simul_oneC'], label='_nolegend_', color=color, linestyle=':') # dotted line for simulation error\n",
    "\n",
    "plt.xticks(eps_err)\n",
    "plt.grid(True)\n",
    "plt.legend()\n",
    "plt.title('oneC')"
   ]
  },
  {
   "cell_type": "markdown",
   "metadata": {},
   "source": [
    "### avgC"
   ]
  },
  {
   "cell_type": "code",
   "execution_count": 146,
   "metadata": {},
   "outputs": [
    {
     "data": {
      "text/plain": [
       "Text(0.5, 1.0, 'avgC')"
      ]
     },
     "execution_count": 146,
     "metadata": {},
     "output_type": "execute_result"
    },
    {
     "data": {
      "image/png": "[encoded data removed]",
      "text/plain": [
       "<Figure size 432x288 with 1 Axes>"
      ]
     },
     "metadata": {
      "needs_background": "light"
     },
     "output_type": "display_data"
    }
   ],
   "source": [
    "# SVM color - blue\n",
    "color = 'blue'\n",
    "df = svm_mean_df\n",
    "plt.plot(eps_err, df['marg_avgC'], label='SVM', color=color, ) # normal line for margin error\n",
    "plt.plot(eps_err, df['inv_avgC'], label='_nolegend_', color=color, linestyle='--') # dashed line for inv_prob error\n",
    "plt.plot(eps_err, df['Simul_avgC'], label='_nolegend_', color=color, linestyle=':') # dotted line for simulation error\n",
    "\n",
    "# Decision tree color - orange\n",
    "color = 'orange'\n",
    "df = dt_mean_df\n",
    "plt.plot(eps_err, df['marg_avgC'], label='Decision tree', color=color, ) # normal line for margin error\n",
    "plt.plot(eps_err, df['inv_avgC'], label='_nolegend_', color=color, linestyle='--') # dashed line for inv_prob error\n",
    "plt.plot(eps_err, df['Simul_avgC'], label='_nolegend_', color=color, linestyle=':') # dotted line for simulation error\n",
    "\n",
    "plt.xticks(eps_err)\n",
    "plt.grid(True)\n",
    "plt.legend()\n",
    "plt.title('avgC')"
   ]
  },
  {
   "cell_type": "markdown",
   "metadata": {},
   "source": [
    "# ecoli dataset"
   ]
  },
  {
   "cell_type": "code",
   "execution_count": 202,
   "metadata": {},
   "outputs": [],
   "source": [
    "def my_load_df(file_name, sep, class_idx=-1, cols_to_exclude=None, header=None):\n",
    "    df = pd.read_csv(file_name,header=header, sep=sep )\n",
    "    if cols_to_exclude != None:\n",
    "        df = df.loc[~df[df.columns[class_idx]].isin(cols_to_exclude)].copy()\n",
    "        pass\n",
    "    #print(len(df))\n",
    "    return df"
   ]
  },
  {
   "cell_type": "code",
   "execution_count": 203,
   "metadata": {},
   "outputs": [],
   "source": [
    "from sklearn.preprocessing import LabelEncoder\n",
    "def load_ecoli():\n",
    "    print('Loading ecoli')\n",
    "    # load ecoli dataset\n",
    "    file = '../datasets/ecoli.csv'\n",
    "    df = my_load_df('../datasets/ecoli.csv', sep=',', class_idx=-1, \n",
    "                      cols_to_exclude=['imL', 'imS', 'omL'], header=None)\n",
    "    df.drop(0, axis=1,inplace=True)\n",
    "    print(df.dtypes)\n",
    "    target_names = df[df.columns[-1]].unique()\n",
    "    target_names.sort()\n",
    "    \n",
    "    target = df[df.columns[-1]].values\n",
    "    target_encoder = LabelEncoder()\n",
    "    target = target_encoder.fit_transform(target) # convert cats to int \n",
    "    \n",
    "    # scale target \n",
    "    target -= min(target)\n",
    "    data = {'target': target, 'data': df[df.columns[:-1]].values,\n",
    "            'target_names': target_names}\n",
    "    return data\n"
   ]
  },
  {
   "cell_type": "code",
   "execution_count": 204,
   "metadata": {},
   "outputs": [
    {
     "name": "stdout",
     "output_type": "stream",
     "text": [
      "327\n"
     ]
    },
    {
     "data": {
      "text/html": [
       "<div>\n",
       "<style scoped>\n",
       "    .dataframe tbody tr th:only-of-type {\n",
       "        vertical-align: middle;\n",
       "    }\n",
       "\n",
       "    .dataframe tbody tr th {\n",
       "        vertical-align: top;\n",
       "    }\n",
       "\n",
       "    .dataframe thead th {\n",
       "        text-align: right;\n",
       "    }\n",
       "</style>\n",
       "<table border=\"1\" class=\"dataframe\">\n",
       "  <thead>\n",
       "    <tr style=\"text-align: right;\">\n",
       "      <th></th>\n",
       "      <th>1</th>\n",
       "      <th>2</th>\n",
       "      <th>3</th>\n",
       "      <th>4</th>\n",
       "      <th>5</th>\n",
       "      <th>6</th>\n",
       "      <th>7</th>\n",
       "      <th>8</th>\n",
       "    </tr>\n",
       "  </thead>\n",
       "  <tbody>\n",
       "    <tr>\n",
       "      <th>0</th>\n",
       "      <td>0.49</td>\n",
       "      <td>0.29</td>\n",
       "      <td>0.48</td>\n",
       "      <td>0.5</td>\n",
       "      <td>0.56</td>\n",
       "      <td>0.24</td>\n",
       "      <td>0.35</td>\n",
       "      <td>cp</td>\n",
       "    </tr>\n",
       "    <tr>\n",
       "      <th>1</th>\n",
       "      <td>0.07</td>\n",
       "      <td>0.40</td>\n",
       "      <td>0.48</td>\n",
       "      <td>0.5</td>\n",
       "      <td>0.54</td>\n",
       "      <td>0.35</td>\n",
       "      <td>0.44</td>\n",
       "      <td>cp</td>\n",
       "    </tr>\n",
       "    <tr>\n",
       "      <th>2</th>\n",
       "      <td>0.56</td>\n",
       "      <td>0.40</td>\n",
       "      <td>0.48</td>\n",
       "      <td>0.5</td>\n",
       "      <td>0.49</td>\n",
       "      <td>0.37</td>\n",
       "      <td>0.46</td>\n",
       "      <td>cp</td>\n",
       "    </tr>\n",
       "    <tr>\n",
       "      <th>3</th>\n",
       "      <td>0.59</td>\n",
       "      <td>0.49</td>\n",
       "      <td>0.48</td>\n",
       "      <td>0.5</td>\n",
       "      <td>0.52</td>\n",
       "      <td>0.45</td>\n",
       "      <td>0.36</td>\n",
       "      <td>cp</td>\n",
       "    </tr>\n",
       "    <tr>\n",
       "      <th>4</th>\n",
       "      <td>0.23</td>\n",
       "      <td>0.32</td>\n",
       "      <td>0.48</td>\n",
       "      <td>0.5</td>\n",
       "      <td>0.55</td>\n",
       "      <td>0.25</td>\n",
       "      <td>0.35</td>\n",
       "      <td>cp</td>\n",
       "    </tr>\n",
       "  </tbody>\n",
       "</table>\n",
       "</div>"
      ],
      "text/plain": [
       "      1     2     3    4     5     6     7   8\n",
       "0  0.49  0.29  0.48  0.5  0.56  0.24  0.35  cp\n",
       "1  0.07  0.40  0.48  0.5  0.54  0.35  0.44  cp\n",
       "2  0.56  0.40  0.48  0.5  0.49  0.37  0.46  cp\n",
       "3  0.59  0.49  0.48  0.5  0.52  0.45  0.36  cp\n",
       "4  0.23  0.32  0.48  0.5  0.55  0.25  0.35  cp"
      ]
     },
     "execution_count": 204,
     "metadata": {},
     "output_type": "execute_result"
    }
   ],
   "source": [
    "#ecoli_df = pd.read_csv('../datasets/ecoli.csv',header=None,sep=',')\n",
    "ecoli_df = my_load_df('../datasets/ecoli.csv', sep=',', class_idx=-1, \n",
    "                      cols_to_exclude=['imL', 'imS', 'omL'], header=None)\n",
    "print(len(ecoli_df))\n",
    "ecoli_df.drop(0, axis=1,inplace=True)\n",
    "\n",
    "\n",
    "ecoli_df.head()"
   ]
  },
  {
   "cell_type": "code",
   "execution_count": 150,
   "metadata": {
    "scrolled": false
   },
   "outputs": [
    {
     "name": "stdout",
     "output_type": "stream",
     "text": [
      "Loading ecoli\n",
      "1    float64\n",
      "2    float64\n",
      "3    float64\n",
      "4    float64\n",
      "5    float64\n",
      "6    float64\n",
      "7    float64\n",
      "8     object\n",
      "dtype: object\n"
     ]
    }
   ],
   "source": [
    "data = load_ecoli()"
   ]
  },
  {
   "cell_type": "code",
   "execution_count": 151,
   "metadata": {},
   "outputs": [],
   "source": [
    "def plotClasses(df):\n",
    "    cols = [\"col\"+str(x) for x in range(1,len(df.columns))]\n",
    "    cols.append(\"target\")\n",
    "    df.columns = cols # add column names to the data frame \n",
    "    counts = df.groupby(by=\"target\").count()[['col1']]\n",
    "    labels = counts.index.to_list()\n",
    "    data_points = counts.values.reshape(len(counts),)\n",
    "    return plt.bar(labels,data_points)\n"
   ]
  },
  {
   "cell_type": "code",
   "execution_count": 152,
   "metadata": {},
   "outputs": [
    {
     "data": {
      "text/plain": [
       "<BarContainer object of 5 artists>"
      ]
     },
     "execution_count": 152,
     "metadata": {},
     "output_type": "execute_result"
    },
    {
     "data": {
      "image/png": "[encoded data removed]",
      "text/plain": [
       "<Figure size 432x288 with 1 Axes>"
      ]
     },
     "metadata": {
      "needs_background": "light"
     },
     "output_type": "display_data"
    }
   ],
   "source": [
    "plotClasses(ecoli_df)  ## call this method on any data frame"
   ]
  },
  {
   "cell_type": "markdown",
   "metadata": {},
   "source": [
    "### svm"
   ]
  },
  {
   "cell_type": "markdown",
   "metadata": {},
   "source": [
    "##### MarginErrFunc"
   ]
  },
  {
   "cell_type": "code",
   "execution_count": 153,
   "metadata": {},
   "outputs": [
    {
     "name": "stdout",
     "output_type": "stream",
     "text": [
      "Info about dataset: \n",
      "classes: ['cp', 'im', 'imU', 'om', 'pp']\n",
      "size of the dataset: 327\n",
      "train = 235, cal = 59, test = 33\n",
      "\n",
      "average values for each eps\n"
     ]
    }
   ],
   "source": [
    "res_df = run_conformal(data, epsilon_arr=eps_err, err_func=MarginErrFunc, smoothing=True, \n",
    "                       seed=1, verbose=True)\n",
    "# Get average values of metrics\n",
    "print('\\naverage values for each eps')\n",
    "mean_df = res_df.groupby('eps').mean()"
   ]
  },
  {
   "cell_type": "markdown",
   "metadata": {},
   "source": [
    "#####  InverseProbabilityErrFunc"
   ]
  },
  {
   "cell_type": "code",
   "execution_count": 154,
   "metadata": {
    "scrolled": true
   },
   "outputs": [
    {
     "name": "stdout",
     "output_type": "stream",
     "text": [
      "Info about dataset: \n",
      "classes: ['cp', 'im', 'imU', 'om', 'pp']\n",
      "size of the dataset: 327\n",
      "train = 235, cal = 59, test = 33\n",
      "average values for each eps\n"
     ]
    },
    {
     "data": {
      "text/html": [
       "<div>\n",
       "<style scoped>\n",
       "    .dataframe tbody tr th:only-of-type {\n",
       "        vertical-align: middle;\n",
       "    }\n",
       "\n",
       "    .dataframe tbody tr th {\n",
       "        vertical-align: top;\n",
       "    }\n",
       "\n",
       "    .dataframe thead th {\n",
       "        text-align: right;\n",
       "    }\n",
       "</style>\n",
       "<table border=\"1\" class=\"dataframe\">\n",
       "  <thead>\n",
       "    <tr style=\"text-align: right;\">\n",
       "      <th></th>\n",
       "      <th>fold</th>\n",
       "      <th>origin_err</th>\n",
       "      <th>Conf_err</th>\n",
       "      <th>Conf_oneC</th>\n",
       "      <th>Conf_avgC</th>\n",
       "      <th>Simul_err</th>\n",
       "      <th>Simul_oneC</th>\n",
       "      <th>Simul_avgC</th>\n",
       "    </tr>\n",
       "    <tr>\n",
       "      <th>eps</th>\n",
       "      <th></th>\n",
       "      <th></th>\n",
       "      <th></th>\n",
       "      <th></th>\n",
       "      <th></th>\n",
       "      <th></th>\n",
       "      <th></th>\n",
       "      <th></th>\n",
       "    </tr>\n",
       "  </thead>\n",
       "  <tbody>\n",
       "    <tr>\n",
       "      <th>0.01</th>\n",
       "      <td>5.5</td>\n",
       "      <td>0.114242</td>\n",
       "      <td>0.003030</td>\n",
       "      <td>0.000000</td>\n",
       "      <td>4.704545</td>\n",
       "      <td>0.000000</td>\n",
       "      <td>0.003030</td>\n",
       "      <td>3.716061</td>\n",
       "    </tr>\n",
       "    <tr>\n",
       "      <th>0.03</th>\n",
       "      <td>5.5</td>\n",
       "      <td>0.114242</td>\n",
       "      <td>0.006061</td>\n",
       "      <td>0.069697</td>\n",
       "      <td>4.016061</td>\n",
       "      <td>0.012727</td>\n",
       "      <td>0.164848</td>\n",
       "      <td>2.534242</td>\n",
       "    </tr>\n",
       "    <tr>\n",
       "      <th>0.05</th>\n",
       "      <td>5.5</td>\n",
       "      <td>0.114242</td>\n",
       "      <td>0.034242</td>\n",
       "      <td>0.580909</td>\n",
       "      <td>1.522727</td>\n",
       "      <td>0.018788</td>\n",
       "      <td>0.311515</td>\n",
       "      <td>2.063333</td>\n",
       "    </tr>\n",
       "    <tr>\n",
       "      <th>0.10</th>\n",
       "      <td>5.5</td>\n",
       "      <td>0.114242</td>\n",
       "      <td>0.089697</td>\n",
       "      <td>0.916970</td>\n",
       "      <td>1.083030</td>\n",
       "      <td>0.037879</td>\n",
       "      <td>0.483939</td>\n",
       "      <td>1.647273</td>\n",
       "    </tr>\n",
       "    <tr>\n",
       "      <th>0.20</th>\n",
       "      <td>5.5</td>\n",
       "      <td>0.114242</td>\n",
       "      <td>0.212424</td>\n",
       "      <td>0.856061</td>\n",
       "      <td>0.856061</td>\n",
       "      <td>0.050000</td>\n",
       "      <td>0.682121</td>\n",
       "      <td>1.339091</td>\n",
       "    </tr>\n",
       "  </tbody>\n",
       "</table>\n",
       "</div>"
      ],
      "text/plain": [
       "      fold  origin_err  Conf_err  Conf_oneC  Conf_avgC  Simul_err  Simul_oneC  \\\n",
       "eps                                                                             \n",
       "0.01   5.5    0.114242  0.003030   0.000000   4.704545   0.000000    0.003030   \n",
       "0.03   5.5    0.114242  0.006061   0.069697   4.016061   0.012727    0.164848   \n",
       "0.05   5.5    0.114242  0.034242   0.580909   1.522727   0.018788    0.311515   \n",
       "0.10   5.5    0.114242  0.089697   0.916970   1.083030   0.037879    0.483939   \n",
       "0.20   5.5    0.114242  0.212424   0.856061   0.856061   0.050000    0.682121   \n",
       "\n",
       "      Simul_avgC  \n",
       "eps               \n",
       "0.01    3.716061  \n",
       "0.03    2.534242  \n",
       "0.05    2.063333  \n",
       "0.10    1.647273  \n",
       "0.20    1.339091  "
      ]
     },
     "execution_count": 154,
     "metadata": {},
     "output_type": "execute_result"
    }
   ],
   "source": [
    "res_df = run_conformal(data, epsilon_arr=eps_err, err_func=InverseProbabilityErrFunc, smoothing=True,\n",
    "                             seed=1, verbose=True)\n",
    "# Get average values of metrics\n",
    "print('average values for each eps')\n",
    "res_df.groupby('eps').mean()"
   ]
  },
  {
   "cell_type": "code",
   "execution_count": 155,
   "metadata": {},
   "outputs": [
    {
     "data": {
      "text/html": [
       "<div>\n",
       "<style scoped>\n",
       "    .dataframe tbody tr th:only-of-type {\n",
       "        vertical-align: middle;\n",
       "    }\n",
       "\n",
       "    .dataframe tbody tr th {\n",
       "        vertical-align: top;\n",
       "    }\n",
       "\n",
       "    .dataframe thead th {\n",
       "        text-align: right;\n",
       "    }\n",
       "</style>\n",
       "<table border=\"1\" class=\"dataframe\">\n",
       "  <thead>\n",
       "    <tr style=\"text-align: right;\">\n",
       "      <th></th>\n",
       "      <th>fold</th>\n",
       "      <th>origin_err</th>\n",
       "      <th>Conf_err</th>\n",
       "      <th>Conf_oneC</th>\n",
       "      <th>Conf_avgC</th>\n",
       "      <th>Simul_err</th>\n",
       "      <th>Simul_oneC</th>\n",
       "      <th>Simul_avgC</th>\n",
       "      <th>inv_err</th>\n",
       "      <th>inv_oneC</th>\n",
       "      <th>inv_avgC</th>\n",
       "    </tr>\n",
       "    <tr>\n",
       "      <th>eps</th>\n",
       "      <th></th>\n",
       "      <th></th>\n",
       "      <th></th>\n",
       "      <th></th>\n",
       "      <th></th>\n",
       "      <th></th>\n",
       "      <th></th>\n",
       "      <th></th>\n",
       "      <th></th>\n",
       "      <th></th>\n",
       "      <th></th>\n",
       "    </tr>\n",
       "  </thead>\n",
       "  <tbody>\n",
       "    <tr>\n",
       "      <th>0.01</th>\n",
       "      <td>5.5</td>\n",
       "      <td>0.114242</td>\n",
       "      <td>0.003030</td>\n",
       "      <td>0.006061</td>\n",
       "      <td>4.884545</td>\n",
       "      <td>0.000000</td>\n",
       "      <td>0.003030</td>\n",
       "      <td>3.716061</td>\n",
       "      <td>0.003030</td>\n",
       "      <td>0.000000</td>\n",
       "      <td>4.704545</td>\n",
       "    </tr>\n",
       "    <tr>\n",
       "      <th>0.03</th>\n",
       "      <td>5.5</td>\n",
       "      <td>0.114242</td>\n",
       "      <td>0.006061</td>\n",
       "      <td>0.075758</td>\n",
       "      <td>4.443939</td>\n",
       "      <td>0.012727</td>\n",
       "      <td>0.164848</td>\n",
       "      <td>2.534242</td>\n",
       "      <td>0.006061</td>\n",
       "      <td>0.069697</td>\n",
       "      <td>4.016061</td>\n",
       "    </tr>\n",
       "    <tr>\n",
       "      <th>0.05</th>\n",
       "      <td>5.5</td>\n",
       "      <td>0.114242</td>\n",
       "      <td>0.031818</td>\n",
       "      <td>0.621212</td>\n",
       "      <td>2.218788</td>\n",
       "      <td>0.018788</td>\n",
       "      <td>0.311515</td>\n",
       "      <td>2.063333</td>\n",
       "      <td>0.034242</td>\n",
       "      <td>0.580909</td>\n",
       "      <td>1.522727</td>\n",
       "    </tr>\n",
       "    <tr>\n",
       "      <th>0.10</th>\n",
       "      <td>5.5</td>\n",
       "      <td>0.114242</td>\n",
       "      <td>0.089697</td>\n",
       "      <td>0.907879</td>\n",
       "      <td>1.107576</td>\n",
       "      <td>0.037879</td>\n",
       "      <td>0.483939</td>\n",
       "      <td>1.647273</td>\n",
       "      <td>0.089697</td>\n",
       "      <td>0.916970</td>\n",
       "      <td>1.083030</td>\n",
       "    </tr>\n",
       "    <tr>\n",
       "      <th>0.20</th>\n",
       "      <td>5.5</td>\n",
       "      <td>0.114242</td>\n",
       "      <td>0.227576</td>\n",
       "      <td>0.822424</td>\n",
       "      <td>0.822424</td>\n",
       "      <td>0.050000</td>\n",
       "      <td>0.682121</td>\n",
       "      <td>1.339091</td>\n",
       "      <td>0.212424</td>\n",
       "      <td>0.856061</td>\n",
       "      <td>0.856061</td>\n",
       "    </tr>\n",
       "  </tbody>\n",
       "</table>\n",
       "</div>"
      ],
      "text/plain": [
       "      fold  origin_err  Conf_err  Conf_oneC  Conf_avgC  Simul_err  Simul_oneC  \\\n",
       "eps                                                                             \n",
       "0.01   5.5    0.114242  0.003030   0.006061   4.884545   0.000000    0.003030   \n",
       "0.03   5.5    0.114242  0.006061   0.075758   4.443939   0.012727    0.164848   \n",
       "0.05   5.5    0.114242  0.031818   0.621212   2.218788   0.018788    0.311515   \n",
       "0.10   5.5    0.114242  0.089697   0.907879   1.107576   0.037879    0.483939   \n",
       "0.20   5.5    0.114242  0.227576   0.822424   0.822424   0.050000    0.682121   \n",
       "\n",
       "      Simul_avgC   inv_err  inv_oneC  inv_avgC  \n",
       "eps                                             \n",
       "0.01    3.716061  0.003030  0.000000  4.704545  \n",
       "0.03    2.534242  0.006061  0.069697  4.016061  \n",
       "0.05    2.063333  0.034242  0.580909  1.522727  \n",
       "0.10    1.647273  0.089697  0.916970  1.083030  \n",
       "0.20    1.339091  0.212424  0.856061  0.856061  "
      ]
     },
     "execution_count": 155,
     "metadata": {},
     "output_type": "execute_result"
    }
   ],
   "source": [
    "# <font color='red'>Inv_prob - avgC, margin - oneC</font>\n",
    "tmp_df = res_df.groupby('eps').mean()\n",
    "mean_df['inv_err'] = tmp_df['Conf_err']\n",
    "mean_df['inv_oneC'] = tmp_df['Conf_oneC']\n",
    "mean_df['inv_avgC'] = tmp_df['Conf_avgC']\n",
    "mean_df"
   ]
  },
  {
   "cell_type": "markdown",
   "metadata": {},
   "source": [
    "<font color='red'>Inv_prob - avgC, margin - oneC</font>"
   ]
  },
  {
   "cell_type": "markdown",
   "metadata": {},
   "source": [
    "### decision tree"
   ]
  },
  {
   "cell_type": "markdown",
   "metadata": {},
   "source": [
    "##### MarginErrFunc"
   ]
  },
  {
   "cell_type": "code",
   "execution_count": 156,
   "metadata": {},
   "outputs": [
    {
     "name": "stdout",
     "output_type": "stream",
     "text": [
      "Info about dataset: \n",
      "classes: ['cp', 'im', 'imU', 'om', 'pp']\n",
      "size of the dataset: 327\n",
      "train = 235, cal = 59, test = 33\n",
      "\n",
      "average values for each eps\n"
     ]
    },
    {
     "data": {
      "text/html": [
       "<div>\n",
       "<style scoped>\n",
       "    .dataframe tbody tr th:only-of-type {\n",
       "        vertical-align: middle;\n",
       "    }\n",
       "\n",
       "    .dataframe tbody tr th {\n",
       "        vertical-align: top;\n",
       "    }\n",
       "\n",
       "    .dataframe thead th {\n",
       "        text-align: right;\n",
       "    }\n",
       "</style>\n",
       "<table border=\"1\" class=\"dataframe\">\n",
       "  <thead>\n",
       "    <tr style=\"text-align: right;\">\n",
       "      <th></th>\n",
       "      <th>fold</th>\n",
       "      <th>origin_err</th>\n",
       "      <th>Conf_err</th>\n",
       "      <th>Conf_oneC</th>\n",
       "      <th>Conf_avgC</th>\n",
       "      <th>Simul_err</th>\n",
       "      <th>Simul_oneC</th>\n",
       "      <th>Simul_avgC</th>\n",
       "    </tr>\n",
       "    <tr>\n",
       "      <th>eps</th>\n",
       "      <th></th>\n",
       "      <th></th>\n",
       "      <th></th>\n",
       "      <th></th>\n",
       "      <th></th>\n",
       "      <th></th>\n",
       "      <th></th>\n",
       "      <th></th>\n",
       "    </tr>\n",
       "  </thead>\n",
       "  <tbody>\n",
       "    <tr>\n",
       "      <th>0.01</th>\n",
       "      <td>5.5</td>\n",
       "      <td>0.181515</td>\n",
       "      <td>0.012121</td>\n",
       "      <td>0.000000</td>\n",
       "      <td>4.665152</td>\n",
       "      <td>0.105152</td>\n",
       "      <td>0.780303</td>\n",
       "      <td>1.265455</td>\n",
       "    </tr>\n",
       "    <tr>\n",
       "      <th>0.03</th>\n",
       "      <td>5.5</td>\n",
       "      <td>0.181515</td>\n",
       "      <td>0.046667</td>\n",
       "      <td>0.006061</td>\n",
       "      <td>4.053030</td>\n",
       "      <td>0.105152</td>\n",
       "      <td>0.780303</td>\n",
       "      <td>1.265455</td>\n",
       "    </tr>\n",
       "    <tr>\n",
       "      <th>0.05</th>\n",
       "      <td>5.5</td>\n",
       "      <td>0.181515</td>\n",
       "      <td>0.056364</td>\n",
       "      <td>0.080303</td>\n",
       "      <td>3.343030</td>\n",
       "      <td>0.105152</td>\n",
       "      <td>0.780303</td>\n",
       "      <td>1.265455</td>\n",
       "    </tr>\n",
       "    <tr>\n",
       "      <th>0.10</th>\n",
       "      <td>5.5</td>\n",
       "      <td>0.181515</td>\n",
       "      <td>0.108182</td>\n",
       "      <td>0.680606</td>\n",
       "      <td>1.692727</td>\n",
       "      <td>0.108182</td>\n",
       "      <td>0.783333</td>\n",
       "      <td>1.262424</td>\n",
       "    </tr>\n",
       "    <tr>\n",
       "      <th>0.20</th>\n",
       "      <td>5.5</td>\n",
       "      <td>0.181515</td>\n",
       "      <td>0.211818</td>\n",
       "      <td>0.906061</td>\n",
       "      <td>0.945455</td>\n",
       "      <td>0.123636</td>\n",
       "      <td>0.846970</td>\n",
       "      <td>1.186364</td>\n",
       "    </tr>\n",
       "  </tbody>\n",
       "</table>\n",
       "</div>"
      ],
      "text/plain": [
       "      fold  origin_err  Conf_err  Conf_oneC  Conf_avgC  Simul_err  Simul_oneC  \\\n",
       "eps                                                                             \n",
       "0.01   5.5    0.181515  0.012121   0.000000   4.665152   0.105152    0.780303   \n",
       "0.03   5.5    0.181515  0.046667   0.006061   4.053030   0.105152    0.780303   \n",
       "0.05   5.5    0.181515  0.056364   0.080303   3.343030   0.105152    0.780303   \n",
       "0.10   5.5    0.181515  0.108182   0.680606   1.692727   0.108182    0.783333   \n",
       "0.20   5.5    0.181515  0.211818   0.906061   0.945455   0.123636    0.846970   \n",
       "\n",
       "      Simul_avgC  \n",
       "eps               \n",
       "0.01    1.265455  \n",
       "0.03    1.265455  \n",
       "0.05    1.265455  \n",
       "0.10    1.262424  \n",
       "0.20    1.186364  "
      ]
     },
     "execution_count": 156,
     "metadata": {},
     "output_type": "execute_result"
    }
   ],
   "source": [
    "res_df = run_conformal(data, model_obj=dt_model_obj, \n",
    "                       params={MIN_SAMPLES_KEY: max(5, int(dt_min_sample_ratio * len(data['data'])))},\n",
    "                       epsilon_arr=eps_err, err_func=MarginErrFunc, smoothing=True, \n",
    "                       seed=1, verbose=True)\n",
    "# Get average values of metrics\n",
    "print('\\naverage values for each eps')\n",
    "dt_mean_df = res_df.groupby('eps').mean()\n",
    "dt_mean_df"
   ]
  },
  {
   "cell_type": "markdown",
   "metadata": {},
   "source": [
    "#####  InverseProbabilityErrFunc"
   ]
  },
  {
   "cell_type": "code",
   "execution_count": 157,
   "metadata": {},
   "outputs": [
    {
     "name": "stdout",
     "output_type": "stream",
     "text": [
      "Info about dataset: \n",
      "classes: ['cp', 'im', 'imU', 'om', 'pp']\n",
      "size of the dataset: 327\n",
      "train = 235, cal = 59, test = 33\n",
      "\n",
      "average values for each eps\n"
     ]
    },
    {
     "data": {
      "text/html": [
       "<div>\n",
       "<style scoped>\n",
       "    .dataframe tbody tr th:only-of-type {\n",
       "        vertical-align: middle;\n",
       "    }\n",
       "\n",
       "    .dataframe tbody tr th {\n",
       "        vertical-align: top;\n",
       "    }\n",
       "\n",
       "    .dataframe thead th {\n",
       "        text-align: right;\n",
       "    }\n",
       "</style>\n",
       "<table border=\"1\" class=\"dataframe\">\n",
       "  <thead>\n",
       "    <tr style=\"text-align: right;\">\n",
       "      <th></th>\n",
       "      <th>fold</th>\n",
       "      <th>origin_err</th>\n",
       "      <th>Conf_err</th>\n",
       "      <th>Conf_oneC</th>\n",
       "      <th>Conf_avgC</th>\n",
       "      <th>Simul_err</th>\n",
       "      <th>Simul_oneC</th>\n",
       "      <th>Simul_avgC</th>\n",
       "    </tr>\n",
       "    <tr>\n",
       "      <th>eps</th>\n",
       "      <th></th>\n",
       "      <th></th>\n",
       "      <th></th>\n",
       "      <th></th>\n",
       "      <th></th>\n",
       "      <th></th>\n",
       "      <th></th>\n",
       "      <th></th>\n",
       "    </tr>\n",
       "  </thead>\n",
       "  <tbody>\n",
       "    <tr>\n",
       "      <th>0.01</th>\n",
       "      <td>5.5</td>\n",
       "      <td>0.181515</td>\n",
       "      <td>0.012121</td>\n",
       "      <td>0.000000</td>\n",
       "      <td>4.686364</td>\n",
       "      <td>0.105152</td>\n",
       "      <td>0.780303</td>\n",
       "      <td>1.265455</td>\n",
       "    </tr>\n",
       "    <tr>\n",
       "      <th>0.03</th>\n",
       "      <td>5.5</td>\n",
       "      <td>0.181515</td>\n",
       "      <td>0.034242</td>\n",
       "      <td>0.000000</td>\n",
       "      <td>4.109394</td>\n",
       "      <td>0.105152</td>\n",
       "      <td>0.780303</td>\n",
       "      <td>1.265455</td>\n",
       "    </tr>\n",
       "    <tr>\n",
       "      <th>0.05</th>\n",
       "      <td>5.5</td>\n",
       "      <td>0.181515</td>\n",
       "      <td>0.052727</td>\n",
       "      <td>0.031212</td>\n",
       "      <td>3.448485</td>\n",
       "      <td>0.105152</td>\n",
       "      <td>0.780303</td>\n",
       "      <td>1.265455</td>\n",
       "    </tr>\n",
       "    <tr>\n",
       "      <th>0.10</th>\n",
       "      <td>5.5</td>\n",
       "      <td>0.181515</td>\n",
       "      <td>0.098788</td>\n",
       "      <td>0.459394</td>\n",
       "      <td>1.831212</td>\n",
       "      <td>0.108182</td>\n",
       "      <td>0.783333</td>\n",
       "      <td>1.262424</td>\n",
       "    </tr>\n",
       "    <tr>\n",
       "      <th>0.20</th>\n",
       "      <td>5.5</td>\n",
       "      <td>0.181515</td>\n",
       "      <td>0.214848</td>\n",
       "      <td>0.905758</td>\n",
       "      <td>0.942121</td>\n",
       "      <td>0.123636</td>\n",
       "      <td>0.846970</td>\n",
       "      <td>1.186364</td>\n",
       "    </tr>\n",
       "  </tbody>\n",
       "</table>\n",
       "</div>"
      ],
      "text/plain": [
       "      fold  origin_err  Conf_err  Conf_oneC  Conf_avgC  Simul_err  Simul_oneC  \\\n",
       "eps                                                                             \n",
       "0.01   5.5    0.181515  0.012121   0.000000   4.686364   0.105152    0.780303   \n",
       "0.03   5.5    0.181515  0.034242   0.000000   4.109394   0.105152    0.780303   \n",
       "0.05   5.5    0.181515  0.052727   0.031212   3.448485   0.105152    0.780303   \n",
       "0.10   5.5    0.181515  0.098788   0.459394   1.831212   0.108182    0.783333   \n",
       "0.20   5.5    0.181515  0.214848   0.905758   0.942121   0.123636    0.846970   \n",
       "\n",
       "      Simul_avgC  \n",
       "eps               \n",
       "0.01    1.265455  \n",
       "0.03    1.265455  \n",
       "0.05    1.265455  \n",
       "0.10    1.262424  \n",
       "0.20    1.186364  "
      ]
     },
     "execution_count": 157,
     "metadata": {},
     "output_type": "execute_result"
    }
   ],
   "source": [
    "res_df = run_conformal(data, model_obj=dt_model_obj, \n",
    "                       params={MIN_SAMPLES_KEY: max(5, int(dt_min_sample_ratio * len(data['data'])))},\n",
    "                       epsilon_arr=eps_err, err_func=InverseProbabilityErrFunc, smoothing=True, \n",
    "                       seed=1, verbose=True)\n",
    "# Get average values of metrics\n",
    "print('\\naverage values for each eps')\n",
    "res_df.groupby('eps').mean()"
   ]
  },
  {
   "cell_type": "code",
   "execution_count": 158,
   "metadata": {},
   "outputs": [
    {
     "data": {
      "text/html": [
       "<div>\n",
       "<style scoped>\n",
       "    .dataframe tbody tr th:only-of-type {\n",
       "        vertical-align: middle;\n",
       "    }\n",
       "\n",
       "    .dataframe tbody tr th {\n",
       "        vertical-align: top;\n",
       "    }\n",
       "\n",
       "    .dataframe thead th {\n",
       "        text-align: right;\n",
       "    }\n",
       "</style>\n",
       "<table border=\"1\" class=\"dataframe\">\n",
       "  <thead>\n",
       "    <tr style=\"text-align: right;\">\n",
       "      <th></th>\n",
       "      <th>fold</th>\n",
       "      <th>origin_err</th>\n",
       "      <th>marg_err</th>\n",
       "      <th>marg_oneC</th>\n",
       "      <th>marg_avgC</th>\n",
       "      <th>Simul_err</th>\n",
       "      <th>Simul_oneC</th>\n",
       "      <th>Simul_avgC</th>\n",
       "      <th>inv_err</th>\n",
       "      <th>inv_oneC</th>\n",
       "      <th>inv_avgC</th>\n",
       "    </tr>\n",
       "    <tr>\n",
       "      <th>eps</th>\n",
       "      <th></th>\n",
       "      <th></th>\n",
       "      <th></th>\n",
       "      <th></th>\n",
       "      <th></th>\n",
       "      <th></th>\n",
       "      <th></th>\n",
       "      <th></th>\n",
       "      <th></th>\n",
       "      <th></th>\n",
       "      <th></th>\n",
       "    </tr>\n",
       "  </thead>\n",
       "  <tbody>\n",
       "    <tr>\n",
       "      <th>0.01</th>\n",
       "      <td>5.5</td>\n",
       "      <td>0.181515</td>\n",
       "      <td>0.012121</td>\n",
       "      <td>0.000000</td>\n",
       "      <td>4.665152</td>\n",
       "      <td>0.105152</td>\n",
       "      <td>0.780303</td>\n",
       "      <td>1.265455</td>\n",
       "      <td>0.012121</td>\n",
       "      <td>0.000000</td>\n",
       "      <td>4.686364</td>\n",
       "    </tr>\n",
       "    <tr>\n",
       "      <th>0.03</th>\n",
       "      <td>5.5</td>\n",
       "      <td>0.181515</td>\n",
       "      <td>0.046667</td>\n",
       "      <td>0.006061</td>\n",
       "      <td>4.053030</td>\n",
       "      <td>0.105152</td>\n",
       "      <td>0.780303</td>\n",
       "      <td>1.265455</td>\n",
       "      <td>0.034242</td>\n",
       "      <td>0.000000</td>\n",
       "      <td>4.109394</td>\n",
       "    </tr>\n",
       "    <tr>\n",
       "      <th>0.05</th>\n",
       "      <td>5.5</td>\n",
       "      <td>0.181515</td>\n",
       "      <td>0.056364</td>\n",
       "      <td>0.080303</td>\n",
       "      <td>3.343030</td>\n",
       "      <td>0.105152</td>\n",
       "      <td>0.780303</td>\n",
       "      <td>1.265455</td>\n",
       "      <td>0.052727</td>\n",
       "      <td>0.031212</td>\n",
       "      <td>3.448485</td>\n",
       "    </tr>\n",
       "    <tr>\n",
       "      <th>0.10</th>\n",
       "      <td>5.5</td>\n",
       "      <td>0.181515</td>\n",
       "      <td>0.108182</td>\n",
       "      <td>0.680606</td>\n",
       "      <td>1.692727</td>\n",
       "      <td>0.108182</td>\n",
       "      <td>0.783333</td>\n",
       "      <td>1.262424</td>\n",
       "      <td>0.098788</td>\n",
       "      <td>0.459394</td>\n",
       "      <td>1.831212</td>\n",
       "    </tr>\n",
       "    <tr>\n",
       "      <th>0.20</th>\n",
       "      <td>5.5</td>\n",
       "      <td>0.181515</td>\n",
       "      <td>0.211818</td>\n",
       "      <td>0.906061</td>\n",
       "      <td>0.945455</td>\n",
       "      <td>0.123636</td>\n",
       "      <td>0.846970</td>\n",
       "      <td>1.186364</td>\n",
       "      <td>0.214848</td>\n",
       "      <td>0.905758</td>\n",
       "      <td>0.942121</td>\n",
       "    </tr>\n",
       "  </tbody>\n",
       "</table>\n",
       "</div>"
      ],
      "text/plain": [
       "      fold  origin_err  marg_err  marg_oneC  marg_avgC  Simul_err  Simul_oneC  \\\n",
       "eps                                                                             \n",
       "0.01   5.5    0.181515  0.012121   0.000000   4.665152   0.105152    0.780303   \n",
       "0.03   5.5    0.181515  0.046667   0.006061   4.053030   0.105152    0.780303   \n",
       "0.05   5.5    0.181515  0.056364   0.080303   3.343030   0.105152    0.780303   \n",
       "0.10   5.5    0.181515  0.108182   0.680606   1.692727   0.108182    0.783333   \n",
       "0.20   5.5    0.181515  0.211818   0.906061   0.945455   0.123636    0.846970   \n",
       "\n",
       "      Simul_avgC   inv_err  inv_oneC  inv_avgC  \n",
       "eps                                             \n",
       "0.01    1.265455  0.012121  0.000000  4.686364  \n",
       "0.03    1.265455  0.034242  0.000000  4.109394  \n",
       "0.05    1.265455  0.052727  0.031212  3.448485  \n",
       "0.10    1.262424  0.098788  0.459394  1.831212  \n",
       "0.20    1.186364  0.214848  0.905758  0.942121  "
      ]
     },
     "execution_count": 158,
     "metadata": {},
     "output_type": "execute_result"
    }
   ],
   "source": [
    "tmp_df = res_df.groupby('eps').mean()\n",
    "# rename columns for margin function\n",
    "dt_mean_df.columns = ['fold', 'origin_err', 'marg_err', 'marg_oneC', 'marg_avgC', \n",
    "                       'Simul_err', 'Simul_oneC', 'Simul_avgC']\n",
    "# these columns contain results for inverse probability non-conformity function\n",
    "dt_mean_df['inv_err'] = tmp_df['Conf_err']\n",
    "dt_mean_df['inv_oneC'] = tmp_df['Conf_oneC']\n",
    "dt_mean_df['inv_avgC'] = tmp_df['Conf_avgC']\n",
    "dt_mean_df"
   ]
  },
  {
   "cell_type": "markdown",
   "metadata": {},
   "source": [
    "### Plot results: error rate"
   ]
  },
  {
   "cell_type": "code",
   "execution_count": 159,
   "metadata": {},
   "outputs": [
    {
     "data": {
      "text/plain": [
       "Text(0.5, 1.0, 'Error rate')"
      ]
     },
     "execution_count": 159,
     "metadata": {},
     "output_type": "execute_result"
    },
    {
     "data": {
      "image/png": "[encoded data removed]",
      "text/plain": [
       "<Figure size 432x288 with 1 Axes>"
      ]
     },
     "metadata": {
      "needs_background": "light"
     },
     "output_type": "display_data"
    }
   ],
   "source": [
    "# SVM color - blue\n",
    "color = 'blue'\n",
    "df = svm_mean_df\n",
    "plt.plot(eps_err, df['origin_err'], label='SVM', color=color, lw=3) # thik line for original error\n",
    "plt.plot(eps_err, df['marg_err'], label='- margin', color=color, ) # normal line for margin error\n",
    "plt.plot(eps_err, df['inv_err'], label='- inv prob', color=color, linestyle='--') # dashed line for inv_prob error\n",
    "plt.plot(eps_err, df['Simul_err'], label='- simulated', color=color, linestyle=':') # dotted line for simulation error\n",
    "\n",
    "# Decision tree color - orange\n",
    "color = 'orange'\n",
    "df = dt_mean_df\n",
    "plt.plot(eps_err, df['origin_err'], label='Decision tree', color=color, lw=3) # thik line for original error\n",
    "plt.plot(eps_err, df['marg_err'], label='_nolegend_', color=color, ) # normal line for margin error\n",
    "plt.plot(eps_err, df['inv_err'], label='_nolegend_', color=color, linestyle='--') # dashed line for inv_prob error\n",
    "plt.plot(eps_err, df['Simul_err'], label='_nolegend_', color=color, linestyle=':') # dotted line for simulation error\n",
    "\n",
    "plt.xticks(eps_err)\n",
    "y_ticks = eps_err[:]\n",
    "y_ticks.extend([0.3, 0.4, 0.5])\n",
    "plt.yticks(y_ticks)\n",
    "plt.grid(True)\n",
    "plt.legend()\n",
    "plt.title('Error rate')"
   ]
  },
  {
   "cell_type": "markdown",
   "metadata": {},
   "source": [
    "### Plot: oneC"
   ]
  },
  {
   "cell_type": "code",
   "execution_count": 160,
   "metadata": {},
   "outputs": [
    {
     "data": {
      "text/plain": [
       "Text(0.5, 1.0, 'oneC')"
      ]
     },
     "execution_count": 160,
     "metadata": {},
     "output_type": "execute_result"
    },
    {
     "data": {
      "image/png": "[encoded data removed]",
      "text/plain": [
       "<Figure size 432x288 with 1 Axes>"
      ]
     },
     "metadata": {
      "needs_background": "light"
     },
     "output_type": "display_data"
    }
   ],
   "source": [
    "# SVM color - blue\n",
    "color = 'blue'\n",
    "df = svm_mean_df\n",
    "plt.plot(eps_err, df['marg_oneC'], label='SVM', color=color, ) # normal line for margin error\n",
    "plt.plot(eps_err, df['inv_oneC'], label='_nolegend_', color=color, linestyle='--') # dashed line for inv_prob error\n",
    "plt.plot(eps_err, df['Simul_oneC'], label='_nolegend_', color=color, linestyle=':') # dotted line for simulation error\n",
    "\n",
    "# Decision tree color - orange\n",
    "color = 'orange'\n",
    "df = dt_mean_df\n",
    "plt.plot(eps_err, df['marg_oneC'], label='Decision tree', color=color, ) # normal line for margin error\n",
    "plt.plot(eps_err, df['inv_oneC'], label='_nolegend_', color=color, linestyle='--') # dashed line for inv_prob error\n",
    "plt.plot(eps_err, df['Simul_oneC'], label='_nolegend_', color=color, linestyle=':') # dotted line for simulation error\n",
    "\n",
    "plt.xticks(eps_err)\n",
    "plt.grid(True)\n",
    "plt.legend()\n",
    "plt.title('oneC')"
   ]
  },
  {
   "cell_type": "markdown",
   "metadata": {},
   "source": [
    "### avgC"
   ]
  },
  {
   "cell_type": "code",
   "execution_count": 161,
   "metadata": {},
   "outputs": [
    {
     "data": {
      "text/plain": [
       "Text(0.5, 1.0, 'avgC')"
      ]
     },
     "execution_count": 161,
     "metadata": {},
     "output_type": "execute_result"
    },
    {
     "data": {
      "image/png": "[encoded data removed]",
      "text/plain": [
       "<Figure size 432x288 with 1 Axes>"
      ]
     },
     "metadata": {
      "needs_background": "light"
     },
     "output_type": "display_data"
    }
   ],
   "source": [
    "# SVM color - blue\n",
    "color = 'blue'\n",
    "df = svm_mean_df\n",
    "plt.plot(eps_err, df['marg_avgC'], label='SVM', color=color, ) # normal line for margin error\n",
    "plt.plot(eps_err, df['inv_avgC'], label='_nolegend_', color=color, linestyle='--') # dashed line for inv_prob error\n",
    "plt.plot(eps_err, df['Simul_avgC'], label='_nolegend_', color=color, linestyle=':') # dotted line for simulation error\n",
    "\n",
    "# Decision tree color - orange\n",
    "color = 'orange'\n",
    "df = dt_mean_df\n",
    "plt.plot(eps_err, df['marg_avgC'], label='Decision tree', color=color, ) # normal line for margin error\n",
    "plt.plot(eps_err, df['inv_avgC'], label='_nolegend_', color=color, linestyle='--') # dashed line for inv_prob error\n",
    "plt.plot(eps_err, df['Simul_avgC'], label='_nolegend_', color=color, linestyle=':') # dotted line for simulation error\n",
    "\n",
    "plt.xticks(eps_err)\n",
    "plt.grid(True)\n",
    "plt.legend()\n",
    "plt.title('avgC')"
   ]
  },
  {
   "cell_type": "markdown",
   "metadata": {},
   "source": [
    "### zoo dataset"
   ]
  },
  {
   "cell_type": "code",
   "execution_count": 162,
   "metadata": {},
   "outputs": [],
   "source": [
    "cols_to_exclude=[3, 4, 5, 6, 7]"
   ]
  },
  {
   "cell_type": "code",
   "execution_count": 163,
   "metadata": {},
   "outputs": [],
   "source": [
    " def load_zoo():\n",
    "    print('Loading zoo')\n",
    "    # load ecoli dataset\n",
    "    file = '../datasets/zoo.csv'\n",
    "    df = my_load_df('../datasets/zoo.csv', sep=',', class_idx=-1, \n",
    "                      cols_to_exclude=cols_to_exclude, header=None)\n",
    "    df.drop(0, axis=1,inplace=True)\n",
    "    #print(df.dtypes)\n",
    "    target_names = df[df.columns[-1]].unique()\n",
    "    target_names.sort()\n",
    "    target = df[df.columns[-1]].values\n",
    "    #print(target)\n",
    "    target -= min(target)\n",
    "    data = {'target': target, 'data': df[df.columns[:-1]].values,\n",
    "            'target_names': target_names}\n",
    "    return data"
   ]
  },
  {
   "cell_type": "code",
   "execution_count": 164,
   "metadata": {},
   "outputs": [
    {
     "name": "stdout",
     "output_type": "stream",
     "text": [
      "61\n"
     ]
    },
    {
     "data": {
      "text/html": [
       "<div>\n",
       "<style scoped>\n",
       "    .dataframe tbody tr th:only-of-type {\n",
       "        vertical-align: middle;\n",
       "    }\n",
       "\n",
       "    .dataframe tbody tr th {\n",
       "        vertical-align: top;\n",
       "    }\n",
       "\n",
       "    .dataframe thead th {\n",
       "        text-align: right;\n",
       "    }\n",
       "</style>\n",
       "<table border=\"1\" class=\"dataframe\">\n",
       "  <thead>\n",
       "    <tr style=\"text-align: right;\">\n",
       "      <th></th>\n",
       "      <th>1</th>\n",
       "      <th>2</th>\n",
       "      <th>3</th>\n",
       "      <th>4</th>\n",
       "      <th>5</th>\n",
       "      <th>6</th>\n",
       "      <th>7</th>\n",
       "      <th>8</th>\n",
       "      <th>9</th>\n",
       "      <th>10</th>\n",
       "      <th>11</th>\n",
       "      <th>12</th>\n",
       "      <th>13</th>\n",
       "      <th>14</th>\n",
       "      <th>15</th>\n",
       "      <th>16</th>\n",
       "      <th>17</th>\n",
       "    </tr>\n",
       "  </thead>\n",
       "  <tbody>\n",
       "    <tr>\n",
       "      <th>0</th>\n",
       "      <td>1</td>\n",
       "      <td>0</td>\n",
       "      <td>0</td>\n",
       "      <td>1</td>\n",
       "      <td>0</td>\n",
       "      <td>0</td>\n",
       "      <td>1</td>\n",
       "      <td>1</td>\n",
       "      <td>1</td>\n",
       "      <td>1</td>\n",
       "      <td>0</td>\n",
       "      <td>0</td>\n",
       "      <td>4</td>\n",
       "      <td>0</td>\n",
       "      <td>0</td>\n",
       "      <td>1</td>\n",
       "      <td>1</td>\n",
       "    </tr>\n",
       "    <tr>\n",
       "      <th>1</th>\n",
       "      <td>1</td>\n",
       "      <td>0</td>\n",
       "      <td>0</td>\n",
       "      <td>1</td>\n",
       "      <td>0</td>\n",
       "      <td>0</td>\n",
       "      <td>0</td>\n",
       "      <td>1</td>\n",
       "      <td>1</td>\n",
       "      <td>1</td>\n",
       "      <td>0</td>\n",
       "      <td>0</td>\n",
       "      <td>4</td>\n",
       "      <td>1</td>\n",
       "      <td>0</td>\n",
       "      <td>1</td>\n",
       "      <td>1</td>\n",
       "    </tr>\n",
       "    <tr>\n",
       "      <th>3</th>\n",
       "      <td>1</td>\n",
       "      <td>0</td>\n",
       "      <td>0</td>\n",
       "      <td>1</td>\n",
       "      <td>0</td>\n",
       "      <td>0</td>\n",
       "      <td>1</td>\n",
       "      <td>1</td>\n",
       "      <td>1</td>\n",
       "      <td>1</td>\n",
       "      <td>0</td>\n",
       "      <td>0</td>\n",
       "      <td>4</td>\n",
       "      <td>0</td>\n",
       "      <td>0</td>\n",
       "      <td>1</td>\n",
       "      <td>1</td>\n",
       "    </tr>\n",
       "    <tr>\n",
       "      <th>4</th>\n",
       "      <td>1</td>\n",
       "      <td>0</td>\n",
       "      <td>0</td>\n",
       "      <td>1</td>\n",
       "      <td>0</td>\n",
       "      <td>0</td>\n",
       "      <td>1</td>\n",
       "      <td>1</td>\n",
       "      <td>1</td>\n",
       "      <td>1</td>\n",
       "      <td>0</td>\n",
       "      <td>0</td>\n",
       "      <td>4</td>\n",
       "      <td>1</td>\n",
       "      <td>0</td>\n",
       "      <td>1</td>\n",
       "      <td>1</td>\n",
       "    </tr>\n",
       "    <tr>\n",
       "      <th>5</th>\n",
       "      <td>1</td>\n",
       "      <td>0</td>\n",
       "      <td>0</td>\n",
       "      <td>1</td>\n",
       "      <td>0</td>\n",
       "      <td>0</td>\n",
       "      <td>0</td>\n",
       "      <td>1</td>\n",
       "      <td>1</td>\n",
       "      <td>1</td>\n",
       "      <td>0</td>\n",
       "      <td>0</td>\n",
       "      <td>4</td>\n",
       "      <td>1</td>\n",
       "      <td>0</td>\n",
       "      <td>1</td>\n",
       "      <td>1</td>\n",
       "    </tr>\n",
       "  </tbody>\n",
       "</table>\n",
       "</div>"
      ],
      "text/plain": [
       "   1   2   3   4   5   6   7   8   9   10  11  12  13  14  15  16  17\n",
       "0   1   0   0   1   0   0   1   1   1   1   0   0   4   0   0   1   1\n",
       "1   1   0   0   1   0   0   0   1   1   1   0   0   4   1   0   1   1\n",
       "3   1   0   0   1   0   0   1   1   1   1   0   0   4   0   0   1   1\n",
       "4   1   0   0   1   0   0   1   1   1   1   0   0   4   1   0   1   1\n",
       "5   1   0   0   1   0   0   0   1   1   1   0   0   4   1   0   1   1"
      ]
     },
     "execution_count": 164,
     "metadata": {},
     "output_type": "execute_result"
    }
   ],
   "source": [
    "#zoo_df = pd.read_csv('../datasets/zoo.csv',header=None,sep=',')\n",
    "zoo_df = my_load_df('../datasets/zoo.csv', sep=',', class_idx=-1, \n",
    "                      cols_to_exclude=cols_to_exclude, header=None)\n",
    "print(len(zoo_df))\n",
    "zoo_df.drop(0, axis=1,inplace=True)\n",
    "zoo_df.head()"
   ]
  },
  {
   "cell_type": "code",
   "execution_count": 165,
   "metadata": {},
   "outputs": [
    {
     "name": "stdout",
     "output_type": "stream",
     "text": [
      "Loading zoo\n"
     ]
    }
   ],
   "source": [
    "data = load_zoo()"
   ]
  },
  {
   "cell_type": "code",
   "execution_count": 166,
   "metadata": {},
   "outputs": [],
   "source": [
    "def plotClasses(df):\n",
    "    cols = [\"col\"+str(x) for x in range(1,len(df.columns))]\n",
    "    cols.append(\"target\")\n",
    "    df.columns = cols # add column names to the data frame \n",
    "    counts = df.groupby(by=\"target\").count()[['col1']]\n",
    "    labels = counts.index.to_list()\n",
    "    data_points = counts.values.reshape(len(counts),)\n",
    "    return plt.bar(labels,data_points)\n"
   ]
  },
  {
   "cell_type": "code",
   "execution_count": 167,
   "metadata": {},
   "outputs": [
    {
     "data": {
      "text/plain": [
       "<BarContainer object of 2 artists>"
      ]
     },
     "execution_count": 167,
     "metadata": {},
     "output_type": "execute_result"
    },
    {
     "data": {
      "image/png": "[encoded data removed]",
      "text/plain": [
       "<Figure size 432x288 with 1 Axes>"
      ]
     },
     "metadata": {
      "needs_background": "light"
     },
     "output_type": "display_data"
    }
   ],
   "source": [
    "plotClasses(zoo_df)"
   ]
  },
  {
   "cell_type": "markdown",
   "metadata": {},
   "source": [
    "### svm"
   ]
  },
  {
   "cell_type": "markdown",
   "metadata": {},
   "source": [
    "##### MarginErrFunc"
   ]
  },
  {
   "cell_type": "code",
   "execution_count": 168,
   "metadata": {},
   "outputs": [
    {
     "name": "stdout",
     "output_type": "stream",
     "text": [
      "Info about dataset: \n",
      "classes: [1, 2]\n",
      "size of the dataset: 61\n",
      "train = 44, cal = 11, test = 6\n",
      "\n",
      "average values for each eps\n"
     ]
    },
    {
     "data": {
      "text/html": [
       "<div>\n",
       "<style scoped>\n",
       "    .dataframe tbody tr th:only-of-type {\n",
       "        vertical-align: middle;\n",
       "    }\n",
       "\n",
       "    .dataframe tbody tr th {\n",
       "        vertical-align: top;\n",
       "    }\n",
       "\n",
       "    .dataframe thead th {\n",
       "        text-align: right;\n",
       "    }\n",
       "</style>\n",
       "<table border=\"1\" class=\"dataframe\">\n",
       "  <thead>\n",
       "    <tr style=\"text-align: right;\">\n",
       "      <th></th>\n",
       "      <th>fold</th>\n",
       "      <th>origin_err</th>\n",
       "      <th>Conf_err</th>\n",
       "      <th>Conf_oneC</th>\n",
       "      <th>Conf_avgC</th>\n",
       "      <th>Simul_err</th>\n",
       "      <th>Simul_oneC</th>\n",
       "      <th>Simul_avgC</th>\n",
       "    </tr>\n",
       "    <tr>\n",
       "      <th>eps</th>\n",
       "      <th></th>\n",
       "      <th></th>\n",
       "      <th></th>\n",
       "      <th></th>\n",
       "      <th></th>\n",
       "      <th></th>\n",
       "      <th></th>\n",
       "      <th></th>\n",
       "    </tr>\n",
       "  </thead>\n",
       "  <tbody>\n",
       "    <tr>\n",
       "      <th>0.01</th>\n",
       "      <td>5.5</td>\n",
       "      <td>0.0</td>\n",
       "      <td>0.000000</td>\n",
       "      <td>0.166667</td>\n",
       "      <td>1.833333</td>\n",
       "      <td>0.0</td>\n",
       "      <td>0.000000</td>\n",
       "      <td>2.000000</td>\n",
       "    </tr>\n",
       "    <tr>\n",
       "      <th>0.03</th>\n",
       "      <td>5.5</td>\n",
       "      <td>0.0</td>\n",
       "      <td>0.016667</td>\n",
       "      <td>0.400000</td>\n",
       "      <td>1.600000</td>\n",
       "      <td>0.0</td>\n",
       "      <td>0.650000</td>\n",
       "      <td>1.350000</td>\n",
       "    </tr>\n",
       "    <tr>\n",
       "      <th>0.05</th>\n",
       "      <td>5.5</td>\n",
       "      <td>0.0</td>\n",
       "      <td>0.016667</td>\n",
       "      <td>0.583333</td>\n",
       "      <td>1.383333</td>\n",
       "      <td>0.0</td>\n",
       "      <td>0.750000</td>\n",
       "      <td>1.250000</td>\n",
       "    </tr>\n",
       "    <tr>\n",
       "      <th>0.10</th>\n",
       "      <td>5.5</td>\n",
       "      <td>0.0</td>\n",
       "      <td>0.066667</td>\n",
       "      <td>0.933333</td>\n",
       "      <td>0.933333</td>\n",
       "      <td>0.0</td>\n",
       "      <td>0.983333</td>\n",
       "      <td>1.016667</td>\n",
       "    </tr>\n",
       "    <tr>\n",
       "      <th>0.20</th>\n",
       "      <td>5.5</td>\n",
       "      <td>0.0</td>\n",
       "      <td>0.216667</td>\n",
       "      <td>0.783333</td>\n",
       "      <td>0.783333</td>\n",
       "      <td>0.0</td>\n",
       "      <td>1.000000</td>\n",
       "      <td>1.000000</td>\n",
       "    </tr>\n",
       "  </tbody>\n",
       "</table>\n",
       "</div>"
      ],
      "text/plain": [
       "      fold  origin_err  Conf_err  Conf_oneC  Conf_avgC  Simul_err  Simul_oneC  \\\n",
       "eps                                                                             \n",
       "0.01   5.5         0.0  0.000000   0.166667   1.833333        0.0    0.000000   \n",
       "0.03   5.5         0.0  0.016667   0.400000   1.600000        0.0    0.650000   \n",
       "0.05   5.5         0.0  0.016667   0.583333   1.383333        0.0    0.750000   \n",
       "0.10   5.5         0.0  0.066667   0.933333   0.933333        0.0    0.983333   \n",
       "0.20   5.5         0.0  0.216667   0.783333   0.783333        0.0    1.000000   \n",
       "\n",
       "      Simul_avgC  \n",
       "eps               \n",
       "0.01    2.000000  \n",
       "0.03    1.350000  \n",
       "0.05    1.250000  \n",
       "0.10    1.016667  \n",
       "0.20    1.000000  "
      ]
     },
     "execution_count": 168,
     "metadata": {},
     "output_type": "execute_result"
    }
   ],
   "source": [
    "res_df = run_conformal(data, epsilon_arr=eps_err, err_func=MarginErrFunc, smoothing=True, \n",
    "                       seed=1, verbose=True)\n",
    "# Get average values of metrics\n",
    "print('\\naverage values for each eps')\n",
    "mean_df = res_df.groupby('eps').mean()\n",
    "mean_df"
   ]
  },
  {
   "cell_type": "markdown",
   "metadata": {},
   "source": [
    "#####  InverseProbabilityErrFunc"
   ]
  },
  {
   "cell_type": "code",
   "execution_count": 169,
   "metadata": {
    "scrolled": true
   },
   "outputs": [
    {
     "name": "stdout",
     "output_type": "stream",
     "text": [
      "Info about dataset: \n",
      "classes: [1, 2]\n",
      "size of the dataset: 61\n",
      "train = 44, cal = 11, test = 6\n",
      "average values for each eps\n"
     ]
    },
    {
     "data": {
      "text/html": [
       "<div>\n",
       "<style scoped>\n",
       "    .dataframe tbody tr th:only-of-type {\n",
       "        vertical-align: middle;\n",
       "    }\n",
       "\n",
       "    .dataframe tbody tr th {\n",
       "        vertical-align: top;\n",
       "    }\n",
       "\n",
       "    .dataframe thead th {\n",
       "        text-align: right;\n",
       "    }\n",
       "</style>\n",
       "<table border=\"1\" class=\"dataframe\">\n",
       "  <thead>\n",
       "    <tr style=\"text-align: right;\">\n",
       "      <th></th>\n",
       "      <th>fold</th>\n",
       "      <th>origin_err</th>\n",
       "      <th>Conf_err</th>\n",
       "      <th>Conf_oneC</th>\n",
       "      <th>Conf_avgC</th>\n",
       "      <th>Simul_err</th>\n",
       "      <th>Simul_oneC</th>\n",
       "      <th>Simul_avgC</th>\n",
       "    </tr>\n",
       "    <tr>\n",
       "      <th>eps</th>\n",
       "      <th></th>\n",
       "      <th></th>\n",
       "      <th></th>\n",
       "      <th></th>\n",
       "      <th></th>\n",
       "      <th></th>\n",
       "      <th></th>\n",
       "      <th></th>\n",
       "    </tr>\n",
       "  </thead>\n",
       "  <tbody>\n",
       "    <tr>\n",
       "      <th>0.01</th>\n",
       "      <td>5.5</td>\n",
       "      <td>0.0</td>\n",
       "      <td>0.000000</td>\n",
       "      <td>0.166667</td>\n",
       "      <td>1.833333</td>\n",
       "      <td>0.0</td>\n",
       "      <td>0.000000</td>\n",
       "      <td>2.000000</td>\n",
       "    </tr>\n",
       "    <tr>\n",
       "      <th>0.03</th>\n",
       "      <td>5.5</td>\n",
       "      <td>0.0</td>\n",
       "      <td>0.016667</td>\n",
       "      <td>0.400000</td>\n",
       "      <td>1.600000</td>\n",
       "      <td>0.0</td>\n",
       "      <td>0.650000</td>\n",
       "      <td>1.350000</td>\n",
       "    </tr>\n",
       "    <tr>\n",
       "      <th>0.05</th>\n",
       "      <td>5.5</td>\n",
       "      <td>0.0</td>\n",
       "      <td>0.016667</td>\n",
       "      <td>0.583333</td>\n",
       "      <td>1.383333</td>\n",
       "      <td>0.0</td>\n",
       "      <td>0.750000</td>\n",
       "      <td>1.250000</td>\n",
       "    </tr>\n",
       "    <tr>\n",
       "      <th>0.10</th>\n",
       "      <td>5.5</td>\n",
       "      <td>0.0</td>\n",
       "      <td>0.066667</td>\n",
       "      <td>0.933333</td>\n",
       "      <td>0.933333</td>\n",
       "      <td>0.0</td>\n",
       "      <td>0.983333</td>\n",
       "      <td>1.016667</td>\n",
       "    </tr>\n",
       "    <tr>\n",
       "      <th>0.20</th>\n",
       "      <td>5.5</td>\n",
       "      <td>0.0</td>\n",
       "      <td>0.216667</td>\n",
       "      <td>0.783333</td>\n",
       "      <td>0.783333</td>\n",
       "      <td>0.0</td>\n",
       "      <td>1.000000</td>\n",
       "      <td>1.000000</td>\n",
       "    </tr>\n",
       "  </tbody>\n",
       "</table>\n",
       "</div>"
      ],
      "text/plain": [
       "      fold  origin_err  Conf_err  Conf_oneC  Conf_avgC  Simul_err  Simul_oneC  \\\n",
       "eps                                                                             \n",
       "0.01   5.5         0.0  0.000000   0.166667   1.833333        0.0    0.000000   \n",
       "0.03   5.5         0.0  0.016667   0.400000   1.600000        0.0    0.650000   \n",
       "0.05   5.5         0.0  0.016667   0.583333   1.383333        0.0    0.750000   \n",
       "0.10   5.5         0.0  0.066667   0.933333   0.933333        0.0    0.983333   \n",
       "0.20   5.5         0.0  0.216667   0.783333   0.783333        0.0    1.000000   \n",
       "\n",
       "      Simul_avgC  \n",
       "eps               \n",
       "0.01    2.000000  \n",
       "0.03    1.350000  \n",
       "0.05    1.250000  \n",
       "0.10    1.016667  \n",
       "0.20    1.000000  "
      ]
     },
     "execution_count": 169,
     "metadata": {},
     "output_type": "execute_result"
    }
   ],
   "source": [
    "res_df = run_conformal(data, epsilon_arr=eps_err, err_func=InverseProbabilityErrFunc, smoothing=True,\n",
    "                             seed=1, verbose=True)\n",
    "# Get average values of metrics\n",
    "print('average values for each eps')\n",
    "res_df.groupby('eps').mean()"
   ]
  },
  {
   "cell_type": "code",
   "execution_count": 170,
   "metadata": {},
   "outputs": [
    {
     "data": {
      "text/html": [
       "<div>\n",
       "<style scoped>\n",
       "    .dataframe tbody tr th:only-of-type {\n",
       "        vertical-align: middle;\n",
       "    }\n",
       "\n",
       "    .dataframe tbody tr th {\n",
       "        vertical-align: top;\n",
       "    }\n",
       "\n",
       "    .dataframe thead th {\n",
       "        text-align: right;\n",
       "    }\n",
       "</style>\n",
       "<table border=\"1\" class=\"dataframe\">\n",
       "  <thead>\n",
       "    <tr style=\"text-align: right;\">\n",
       "      <th></th>\n",
       "      <th>fold</th>\n",
       "      <th>origin_err</th>\n",
       "      <th>Conf_err</th>\n",
       "      <th>Conf_oneC</th>\n",
       "      <th>Conf_avgC</th>\n",
       "      <th>Simul_err</th>\n",
       "      <th>Simul_oneC</th>\n",
       "      <th>Simul_avgC</th>\n",
       "      <th>inv_err</th>\n",
       "      <th>inv_oneC</th>\n",
       "      <th>inv_avgC</th>\n",
       "    </tr>\n",
       "    <tr>\n",
       "      <th>eps</th>\n",
       "      <th></th>\n",
       "      <th></th>\n",
       "      <th></th>\n",
       "      <th></th>\n",
       "      <th></th>\n",
       "      <th></th>\n",
       "      <th></th>\n",
       "      <th></th>\n",
       "      <th></th>\n",
       "      <th></th>\n",
       "      <th></th>\n",
       "    </tr>\n",
       "  </thead>\n",
       "  <tbody>\n",
       "    <tr>\n",
       "      <th>0.01</th>\n",
       "      <td>5.5</td>\n",
       "      <td>0.0</td>\n",
       "      <td>0.000000</td>\n",
       "      <td>0.166667</td>\n",
       "      <td>1.833333</td>\n",
       "      <td>0.0</td>\n",
       "      <td>0.000000</td>\n",
       "      <td>2.000000</td>\n",
       "      <td>0.000000</td>\n",
       "      <td>0.166667</td>\n",
       "      <td>1.833333</td>\n",
       "    </tr>\n",
       "    <tr>\n",
       "      <th>0.03</th>\n",
       "      <td>5.5</td>\n",
       "      <td>0.0</td>\n",
       "      <td>0.016667</td>\n",
       "      <td>0.400000</td>\n",
       "      <td>1.600000</td>\n",
       "      <td>0.0</td>\n",
       "      <td>0.650000</td>\n",
       "      <td>1.350000</td>\n",
       "      <td>0.016667</td>\n",
       "      <td>0.400000</td>\n",
       "      <td>1.600000</td>\n",
       "    </tr>\n",
       "    <tr>\n",
       "      <th>0.05</th>\n",
       "      <td>5.5</td>\n",
       "      <td>0.0</td>\n",
       "      <td>0.016667</td>\n",
       "      <td>0.583333</td>\n",
       "      <td>1.383333</td>\n",
       "      <td>0.0</td>\n",
       "      <td>0.750000</td>\n",
       "      <td>1.250000</td>\n",
       "      <td>0.016667</td>\n",
       "      <td>0.583333</td>\n",
       "      <td>1.383333</td>\n",
       "    </tr>\n",
       "    <tr>\n",
       "      <th>0.10</th>\n",
       "      <td>5.5</td>\n",
       "      <td>0.0</td>\n",
       "      <td>0.066667</td>\n",
       "      <td>0.933333</td>\n",
       "      <td>0.933333</td>\n",
       "      <td>0.0</td>\n",
       "      <td>0.983333</td>\n",
       "      <td>1.016667</td>\n",
       "      <td>0.066667</td>\n",
       "      <td>0.933333</td>\n",
       "      <td>0.933333</td>\n",
       "    </tr>\n",
       "    <tr>\n",
       "      <th>0.20</th>\n",
       "      <td>5.5</td>\n",
       "      <td>0.0</td>\n",
       "      <td>0.216667</td>\n",
       "      <td>0.783333</td>\n",
       "      <td>0.783333</td>\n",
       "      <td>0.0</td>\n",
       "      <td>1.000000</td>\n",
       "      <td>1.000000</td>\n",
       "      <td>0.216667</td>\n",
       "      <td>0.783333</td>\n",
       "      <td>0.783333</td>\n",
       "    </tr>\n",
       "  </tbody>\n",
       "</table>\n",
       "</div>"
      ],
      "text/plain": [
       "      fold  origin_err  Conf_err  Conf_oneC  Conf_avgC  Simul_err  Simul_oneC  \\\n",
       "eps                                                                             \n",
       "0.01   5.5         0.0  0.000000   0.166667   1.833333        0.0    0.000000   \n",
       "0.03   5.5         0.0  0.016667   0.400000   1.600000        0.0    0.650000   \n",
       "0.05   5.5         0.0  0.016667   0.583333   1.383333        0.0    0.750000   \n",
       "0.10   5.5         0.0  0.066667   0.933333   0.933333        0.0    0.983333   \n",
       "0.20   5.5         0.0  0.216667   0.783333   0.783333        0.0    1.000000   \n",
       "\n",
       "      Simul_avgC   inv_err  inv_oneC  inv_avgC  \n",
       "eps                                             \n",
       "0.01    2.000000  0.000000  0.166667  1.833333  \n",
       "0.03    1.350000  0.016667  0.400000  1.600000  \n",
       "0.05    1.250000  0.016667  0.583333  1.383333  \n",
       "0.10    1.016667  0.066667  0.933333  0.933333  \n",
       "0.20    1.000000  0.216667  0.783333  0.783333  "
      ]
     },
     "execution_count": 170,
     "metadata": {},
     "output_type": "execute_result"
    }
   ],
   "source": [
    "# <font color='red'>Inv_prob - avgC, margin - oneC</font>\n",
    "tmp_df = res_df.groupby('eps').mean()\n",
    "mean_df['inv_err'] = tmp_df['Conf_err']\n",
    "mean_df['inv_oneC'] = tmp_df['Conf_oneC']\n",
    "mean_df['inv_avgC'] = tmp_df['Conf_avgC']\n",
    "mean_df"
   ]
  },
  {
   "cell_type": "markdown",
   "metadata": {},
   "source": [
    "### Plot results: error rate"
   ]
  },
  {
   "cell_type": "code",
   "execution_count": 171,
   "metadata": {},
   "outputs": [
    {
     "data": {
      "text/plain": [
       "Text(0.5, 1.0, 'Error rate')"
      ]
     },
     "execution_count": 171,
     "metadata": {},
     "output_type": "execute_result"
    },
    {
     "data": {
      "image/png": "[encoded data removed]",
      "text/plain": [
       "<Figure size 432x288 with 1 Axes>"
      ]
     },
     "metadata": {
      "needs_background": "light"
     },
     "output_type": "display_data"
    }
   ],
   "source": [
    "# SVM color - blue\n",
    "color = 'blue'\n",
    "df = svm_mean_df\n",
    "plt.plot(eps_err, df['origin_err'], label='SVM', color=color, lw=3) # thik line for original error\n",
    "plt.plot(eps_err, df['marg_err'], label='- margin', color=color, ) # normal line for margin error\n",
    "plt.plot(eps_err, df['inv_err'], label='- inv prob', color=color, linestyle='--') # dashed line for inv_prob error\n",
    "plt.plot(eps_err, df['Simul_err'], label='- simulated', color=color, linestyle=':') # dotted line for simulation error\n",
    "\n",
    "# Decision tree color - orange\n",
    "color = 'orange'\n",
    "df = dt_mean_df\n",
    "plt.plot(eps_err, df['origin_err'], label='Decision tree', color=color, lw=3) # thik line for original error\n",
    "plt.plot(eps_err, df['marg_err'], label='_nolegend_', color=color, ) # normal line for margin error\n",
    "plt.plot(eps_err, df['inv_err'], label='_nolegend_', color=color, linestyle='--') # dashed line for inv_prob error\n",
    "plt.plot(eps_err, df['Simul_err'], label='_nolegend_', color=color, linestyle=':') # dotted line for simulation error\n",
    "\n",
    "plt.xticks(eps_err)\n",
    "y_ticks = eps_err[:]\n",
    "y_ticks.extend([0.3, 0.4, 0.5])\n",
    "plt.yticks(y_ticks)\n",
    "plt.grid(True)\n",
    "plt.legend()\n",
    "plt.title('Error rate')"
   ]
  },
  {
   "cell_type": "markdown",
   "metadata": {},
   "source": [
    "### Plot: oneC"
   ]
  },
  {
   "cell_type": "code",
   "execution_count": 172,
   "metadata": {},
   "outputs": [
    {
     "data": {
      "text/plain": [
       "Text(0.5, 1.0, 'oneC')"
      ]
     },
     "execution_count": 172,
     "metadata": {},
     "output_type": "execute_result"
    },
    {
     "data": {
      "image/png": "[encoded data removed]",
      "text/plain": [
       "<Figure size 432x288 with 1 Axes>"
      ]
     },
     "metadata": {
      "needs_background": "light"
     },
     "output_type": "display_data"
    }
   ],
   "source": [
    "# SVM color - blue\n",
    "color = 'blue'\n",
    "df = svm_mean_df\n",
    "plt.plot(eps_err, df['marg_oneC'], label='SVM', color=color, ) # normal line for margin error\n",
    "plt.plot(eps_err, df['inv_oneC'], label='_nolegend_', color=color, linestyle='--') # dashed line for inv_prob error\n",
    "plt.plot(eps_err, df['Simul_oneC'], label='_nolegend_', color=color, linestyle=':') # dotted line for simulation error\n",
    "\n",
    "# Decision tree color - orange\n",
    "color = 'orange'\n",
    "df = dt_mean_df\n",
    "plt.plot(eps_err, df['marg_oneC'], label='Decision tree', color=color, ) # normal line for margin error\n",
    "plt.plot(eps_err, df['inv_oneC'], label='_nolegend_', color=color, linestyle='--') # dashed line for inv_prob error\n",
    "plt.plot(eps_err, df['Simul_oneC'], label='_nolegend_', color=color, linestyle=':') # dotted line for simulation error\n",
    "\n",
    "plt.xticks(eps_err)\n",
    "plt.grid(True)\n",
    "plt.legend()\n",
    "plt.title('oneC')"
   ]
  },
  {
   "cell_type": "markdown",
   "metadata": {},
   "source": [
    "### avgC"
   ]
  },
  {
   "cell_type": "code",
   "execution_count": 173,
   "metadata": {},
   "outputs": [
    {
     "data": {
      "text/plain": [
       "Text(0.5, 1.0, 'avgC')"
      ]
     },
     "execution_count": 173,
     "metadata": {},
     "output_type": "execute_result"
    },
    {
     "data": {
      "image/png": "[encoded data removed]",
      "text/plain": [
       "<Figure size 432x288 with 1 Axes>"
      ]
     },
     "metadata": {
      "needs_background": "light"
     },
     "output_type": "display_data"
    }
   ],
   "source": [
    "# SVM color - blue\n",
    "color = 'blue'\n",
    "df = svm_mean_df\n",
    "plt.plot(eps_err, df['marg_avgC'], label='SVM', color=color, ) # normal line for margin error\n",
    "plt.plot(eps_err, df['inv_avgC'], label='_nolegend_', color=color, linestyle='--') # dashed line for inv_prob error\n",
    "plt.plot(eps_err, df['Simul_avgC'], label='_nolegend_', color=color, linestyle=':') # dotted line for simulation error\n",
    "\n",
    "# Decision tree color - orange\n",
    "color = 'orange'\n",
    "df = dt_mean_df\n",
    "plt.plot(eps_err, df['marg_avgC'], label='Decision tree', color=color, ) # normal line for margin error\n",
    "plt.plot(eps_err, df['inv_avgC'], label='_nolegend_', color=color, linestyle='--') # dashed line for inv_prob error\n",
    "plt.plot(eps_err, df['Simul_avgC'], label='_nolegend_', color=color, linestyle=':') # dotted line for simulation error\n",
    "\n",
    "plt.xticks(eps_err)\n",
    "plt.grid(True)\n",
    "plt.legend()\n",
    "plt.title('avgC')"
   ]
  },
  {
   "cell_type": "markdown",
   "metadata": {},
   "source": [
    "## yeast dataset"
   ]
  },
  {
   "cell_type": "code",
   "execution_count": 174,
   "metadata": {},
   "outputs": [],
   "source": [
    "# replace 4 spaces with two spaces in the file \n",
    "import fileinput\n",
    "\n",
    "with fileinput.FileInput('../datasets/yeast_2.csv', inplace=True, backup='.bak') as file:\n",
    "    for line in file:\n",
    "        print(line.replace(\"    \",\"  \"),end='')"
   ]
  },
  {
   "cell_type": "code",
   "execution_count": 175,
   "metadata": {},
   "outputs": [],
   "source": [
    "cols_to_exclude = ['ERL', 'POX', 'VAC']"
   ]
  },
  {
   "cell_type": "code",
   "execution_count": 223,
   "metadata": {},
   "outputs": [],
   "source": [
    "def load_yeast_df(class_idx=-1, cols_to_exclude=None):\n",
    "    df = pd.read_csv('../datasets/yeast_2.csv',header=None, delim_whitespace=True )\n",
    "    if cols_to_exclude != None:\n",
    "        df = df.loc[~df[df.columns[class_idx]].isin(cols_to_exclude)].copy()\n",
    "        pass\n",
    "    #print(len(df))\n",
    "    return df"
   ]
  },
  {
   "cell_type": "code",
   "execution_count": 224,
   "metadata": {},
   "outputs": [],
   "source": [
    "from sklearn.preprocessing import LabelEncoder\n",
    "def load_yeast():\n",
    "    print('Loading yeast')\n",
    "    # load yeast dataset\n",
    "    file = '../datasets/yeast_2.csv'\n",
    "    df = load_yeast_df(class_idx=-1,cols_to_exclude=cols_to_exclude)\n",
    "    df.drop(0, axis=1,inplace=True)\n",
    "    print(df.dtypes)\n",
    "    target_names = df[df.columns[-1]].unique()\n",
    "    target_names.sort()\n",
    "    \n",
    "    target = df[df.columns[-1]].values\n",
    "    target_encoder = LabelEncoder()\n",
    "    target = target_encoder.fit_transform(target) # convert cats to int \n",
    "    \n",
    "    # scale target \n",
    "    target -= min(target)\n",
    "    data = {'target': target, 'data': df[df.columns[:-1]].values,\n",
    "            'target_names': target_names}\n",
    "    return data\n"
   ]
  },
  {
   "cell_type": "code",
   "execution_count": 225,
   "metadata": {},
   "outputs": [
    {
     "name": "stdout",
     "output_type": "stream",
     "text": [
      "1429\n"
     ]
    },
    {
     "data": {
      "text/html": [
       "<div>\n",
       "<style scoped>\n",
       "    .dataframe tbody tr th:only-of-type {\n",
       "        vertical-align: middle;\n",
       "    }\n",
       "\n",
       "    .dataframe tbody tr th {\n",
       "        vertical-align: top;\n",
       "    }\n",
       "\n",
       "    .dataframe thead th {\n",
       "        text-align: right;\n",
       "    }\n",
       "</style>\n",
       "<table border=\"1\" class=\"dataframe\">\n",
       "  <thead>\n",
       "    <tr style=\"text-align: right;\">\n",
       "      <th></th>\n",
       "      <th>0</th>\n",
       "      <th>1</th>\n",
       "      <th>2</th>\n",
       "      <th>3</th>\n",
       "      <th>4</th>\n",
       "      <th>5</th>\n",
       "      <th>6</th>\n",
       "      <th>7</th>\n",
       "      <th>8</th>\n",
       "      <th>9</th>\n",
       "    </tr>\n",
       "  </thead>\n",
       "  <tbody>\n",
       "    <tr>\n",
       "      <th>0</th>\n",
       "      <td>ADT1_YEAST</td>\n",
       "      <td>0.58</td>\n",
       "      <td>0.61</td>\n",
       "      <td>0.47</td>\n",
       "      <td>0.13</td>\n",
       "      <td>0.5</td>\n",
       "      <td>0.0</td>\n",
       "      <td>0.48</td>\n",
       "      <td>0.22</td>\n",
       "      <td>MIT</td>\n",
       "    </tr>\n",
       "    <tr>\n",
       "      <th>1</th>\n",
       "      <td>ADT2_YEAST</td>\n",
       "      <td>0.43</td>\n",
       "      <td>0.67</td>\n",
       "      <td>0.48</td>\n",
       "      <td>0.27</td>\n",
       "      <td>0.5</td>\n",
       "      <td>0.0</td>\n",
       "      <td>0.53</td>\n",
       "      <td>0.22</td>\n",
       "      <td>MIT</td>\n",
       "    </tr>\n",
       "    <tr>\n",
       "      <th>2</th>\n",
       "      <td>ADT3_YEAST</td>\n",
       "      <td>0.64</td>\n",
       "      <td>0.62</td>\n",
       "      <td>0.49</td>\n",
       "      <td>0.15</td>\n",
       "      <td>0.5</td>\n",
       "      <td>0.0</td>\n",
       "      <td>0.53</td>\n",
       "      <td>0.22</td>\n",
       "      <td>MIT</td>\n",
       "    </tr>\n",
       "    <tr>\n",
       "      <th>3</th>\n",
       "      <td>AAR2_YEAST</td>\n",
       "      <td>0.58</td>\n",
       "      <td>0.44</td>\n",
       "      <td>0.57</td>\n",
       "      <td>0.13</td>\n",
       "      <td>0.5</td>\n",
       "      <td>0.0</td>\n",
       "      <td>0.54</td>\n",
       "      <td>0.22</td>\n",
       "      <td>NUC</td>\n",
       "    </tr>\n",
       "    <tr>\n",
       "      <th>4</th>\n",
       "      <td>AATM_YEAST</td>\n",
       "      <td>0.42</td>\n",
       "      <td>0.44</td>\n",
       "      <td>0.48</td>\n",
       "      <td>0.54</td>\n",
       "      <td>0.5</td>\n",
       "      <td>0.0</td>\n",
       "      <td>0.48</td>\n",
       "      <td>0.22</td>\n",
       "      <td>MIT</td>\n",
       "    </tr>\n",
       "  </tbody>\n",
       "</table>\n",
       "</div>"
      ],
      "text/plain": [
       "            0     1     2     3     4    5    6     7     8    9\n",
       "0  ADT1_YEAST  0.58  0.61  0.47  0.13  0.5  0.0  0.48  0.22  MIT\n",
       "1  ADT2_YEAST  0.43  0.67  0.48  0.27  0.5  0.0  0.53  0.22  MIT\n",
       "2  ADT3_YEAST  0.64  0.62  0.49  0.15  0.5  0.0  0.53  0.22  MIT\n",
       "3  AAR2_YEAST  0.58  0.44  0.57  0.13  0.5  0.0  0.54  0.22  NUC\n",
       "4  AATM_YEAST  0.42  0.44  0.48  0.54  0.5  0.0  0.48  0.22  MIT"
      ]
     },
     "execution_count": 225,
     "metadata": {},
     "output_type": "execute_result"
    }
   ],
   "source": [
    "#yeast_df = pd.read_csv('../datasets/yeast_2.csv',header=None,sep=' ')\n",
    "yeast_df = load_yeast_df(class_idx=-1,cols_to_exclude=cols_to_exclude)\n",
    "print(len(yeast_df))\n",
    "# yeast_df.drop(0, axis=1,inplace=True)\n",
    "yeast_df.head()"
   ]
  },
  {
   "cell_type": "code",
   "execution_count": 226,
   "metadata": {
    "scrolled": true
   },
   "outputs": [
    {
     "data": {
      "text/html": [
       "<div>\n",
       "<style scoped>\n",
       "    .dataframe tbody tr th:only-of-type {\n",
       "        vertical-align: middle;\n",
       "    }\n",
       "\n",
       "    .dataframe tbody tr th {\n",
       "        vertical-align: top;\n",
       "    }\n",
       "\n",
       "    .dataframe thead th {\n",
       "        text-align: right;\n",
       "    }\n",
       "</style>\n",
       "<table border=\"1\" class=\"dataframe\">\n",
       "  <thead>\n",
       "    <tr style=\"text-align: right;\">\n",
       "      <th></th>\n",
       "      <th>0</th>\n",
       "      <th>1</th>\n",
       "      <th>2</th>\n",
       "      <th>3</th>\n",
       "      <th>4</th>\n",
       "      <th>5</th>\n",
       "      <th>6</th>\n",
       "      <th>7</th>\n",
       "      <th>8</th>\n",
       "    </tr>\n",
       "    <tr>\n",
       "      <th>9</th>\n",
       "      <th></th>\n",
       "      <th></th>\n",
       "      <th></th>\n",
       "      <th></th>\n",
       "      <th></th>\n",
       "      <th></th>\n",
       "      <th></th>\n",
       "      <th></th>\n",
       "      <th></th>\n",
       "    </tr>\n",
       "  </thead>\n",
       "  <tbody>\n",
       "    <tr>\n",
       "      <th>CYT</th>\n",
       "      <td>463</td>\n",
       "      <td>463</td>\n",
       "      <td>463</td>\n",
       "      <td>463</td>\n",
       "      <td>463</td>\n",
       "      <td>463</td>\n",
       "      <td>463</td>\n",
       "      <td>463</td>\n",
       "      <td>463</td>\n",
       "    </tr>\n",
       "    <tr>\n",
       "      <th>EXC</th>\n",
       "      <td>35</td>\n",
       "      <td>35</td>\n",
       "      <td>35</td>\n",
       "      <td>35</td>\n",
       "      <td>35</td>\n",
       "      <td>35</td>\n",
       "      <td>35</td>\n",
       "      <td>35</td>\n",
       "      <td>35</td>\n",
       "    </tr>\n",
       "    <tr>\n",
       "      <th>ME1</th>\n",
       "      <td>44</td>\n",
       "      <td>44</td>\n",
       "      <td>44</td>\n",
       "      <td>44</td>\n",
       "      <td>44</td>\n",
       "      <td>44</td>\n",
       "      <td>44</td>\n",
       "      <td>44</td>\n",
       "      <td>44</td>\n",
       "    </tr>\n",
       "    <tr>\n",
       "      <th>ME2</th>\n",
       "      <td>51</td>\n",
       "      <td>51</td>\n",
       "      <td>51</td>\n",
       "      <td>51</td>\n",
       "      <td>51</td>\n",
       "      <td>51</td>\n",
       "      <td>51</td>\n",
       "      <td>51</td>\n",
       "      <td>51</td>\n",
       "    </tr>\n",
       "    <tr>\n",
       "      <th>ME3</th>\n",
       "      <td>163</td>\n",
       "      <td>163</td>\n",
       "      <td>163</td>\n",
       "      <td>163</td>\n",
       "      <td>163</td>\n",
       "      <td>163</td>\n",
       "      <td>163</td>\n",
       "      <td>163</td>\n",
       "      <td>163</td>\n",
       "    </tr>\n",
       "    <tr>\n",
       "      <th>MIT</th>\n",
       "      <td>244</td>\n",
       "      <td>244</td>\n",
       "      <td>244</td>\n",
       "      <td>244</td>\n",
       "      <td>244</td>\n",
       "      <td>244</td>\n",
       "      <td>244</td>\n",
       "      <td>244</td>\n",
       "      <td>244</td>\n",
       "    </tr>\n",
       "    <tr>\n",
       "      <th>NUC</th>\n",
       "      <td>429</td>\n",
       "      <td>429</td>\n",
       "      <td>429</td>\n",
       "      <td>429</td>\n",
       "      <td>429</td>\n",
       "      <td>429</td>\n",
       "      <td>429</td>\n",
       "      <td>429</td>\n",
       "      <td>429</td>\n",
       "    </tr>\n",
       "  </tbody>\n",
       "</table>\n",
       "</div>"
      ],
      "text/plain": [
       "       0    1    2    3    4    5    6    7    8\n",
       "9                                               \n",
       "CYT  463  463  463  463  463  463  463  463  463\n",
       "EXC   35   35   35   35   35   35   35   35   35\n",
       "ME1   44   44   44   44   44   44   44   44   44\n",
       "ME2   51   51   51   51   51   51   51   51   51\n",
       "ME3  163  163  163  163  163  163  163  163  163\n",
       "MIT  244  244  244  244  244  244  244  244  244\n",
       "NUC  429  429  429  429  429  429  429  429  429"
      ]
     },
     "execution_count": 226,
     "metadata": {},
     "output_type": "execute_result"
    }
   ],
   "source": [
    "yeast_df.groupby(yeast_df.columns[-1]).count()"
   ]
  },
  {
   "cell_type": "code",
   "execution_count": 227,
   "metadata": {},
   "outputs": [
    {
     "name": "stdout",
     "output_type": "stream",
     "text": [
      "Loading yeast\n",
      "1    float64\n",
      "2    float64\n",
      "3    float64\n",
      "4    float64\n",
      "5    float64\n",
      "6    float64\n",
      "7    float64\n",
      "8    float64\n",
      "9     object\n",
      "dtype: object\n"
     ]
    }
   ],
   "source": [
    "data = load_yeast()"
   ]
  },
  {
   "cell_type": "code",
   "execution_count": 228,
   "metadata": {},
   "outputs": [],
   "source": [
    "def plotClasses(df):\n",
    "    cols = [\"col\"+str(x) for x in range(1,len(df.columns))]\n",
    "    cols.append(\"target\")\n",
    "    df.columns = cols # add column names to the data frame \n",
    "    counts = df.groupby(by=\"target\").count()[['col1']]\n",
    "    labels = counts.index.to_list()\n",
    "    data_points = counts.values.reshape(len(counts),)\n",
    "    return plt.bar(labels,data_points)"
   ]
  },
  {
   "cell_type": "code",
   "execution_count": 229,
   "metadata": {},
   "outputs": [
    {
     "data": {
      "text/plain": [
       "<BarContainer object of 7 artists>"
      ]
     },
     "execution_count": 229,
     "metadata": {},
     "output_type": "execute_result"
    },
    {
     "data": {
      "image/png": "[encoded data removed]",
      "text/plain": [
       "<Figure size 432x288 with 1 Axes>"
      ]
     },
     "metadata": {
      "needs_background": "light"
     },
     "output_type": "display_data"
    }
   ],
   "source": [
    "plotClasses(yeast_df)"
   ]
  },
  {
   "cell_type": "code",
   "execution_count": 230,
   "metadata": {},
   "outputs": [
    {
     "name": "stdout",
     "output_type": "stream",
     "text": [
      "Info about dataset: \n",
      "classes: ['CYT', 'EXC', 'ME1', 'ME2', 'ME3', 'MIT', 'NUC']\n",
      "size of the dataset: 1429\n",
      "train = 1029, cal = 257, test = 143\n",
      "\n",
      "average values for each eps\n"
     ]
    },
    {
     "data": {
      "text/html": [
       "<div>\n",
       "<style scoped>\n",
       "    .dataframe tbody tr th:only-of-type {\n",
       "        vertical-align: middle;\n",
       "    }\n",
       "\n",
       "    .dataframe tbody tr th {\n",
       "        vertical-align: top;\n",
       "    }\n",
       "\n",
       "    .dataframe thead th {\n",
       "        text-align: right;\n",
       "    }\n",
       "</style>\n",
       "<table border=\"1\" class=\"dataframe\">\n",
       "  <thead>\n",
       "    <tr style=\"text-align: right;\">\n",
       "      <th></th>\n",
       "      <th>fold</th>\n",
       "      <th>origin_err</th>\n",
       "      <th>Conf_err</th>\n",
       "      <th>Conf_oneC</th>\n",
       "      <th>Conf_avgC</th>\n",
       "      <th>Simul_err</th>\n",
       "      <th>Simul_oneC</th>\n",
       "      <th>Simul_avgC</th>\n",
       "    </tr>\n",
       "    <tr>\n",
       "      <th>eps</th>\n",
       "      <th></th>\n",
       "      <th></th>\n",
       "      <th></th>\n",
       "      <th></th>\n",
       "      <th></th>\n",
       "      <th></th>\n",
       "      <th></th>\n",
       "      <th></th>\n",
       "    </tr>\n",
       "  </thead>\n",
       "  <tbody>\n",
       "    <tr>\n",
       "      <th>0.01</th>\n",
       "      <td>5.5</td>\n",
       "      <td>0.3863</td>\n",
       "      <td>0.011893</td>\n",
       "      <td>0.116153</td>\n",
       "      <td>6.035605</td>\n",
       "      <td>0.003497</td>\n",
       "      <td>0.000699</td>\n",
       "      <td>4.370309</td>\n",
       "    </tr>\n",
       "    <tr>\n",
       "      <th>0.03</th>\n",
       "      <td>5.5</td>\n",
       "      <td>0.3863</td>\n",
       "      <td>0.035009</td>\n",
       "      <td>0.184783</td>\n",
       "      <td>4.645711</td>\n",
       "      <td>0.009091</td>\n",
       "      <td>0.014685</td>\n",
       "      <td>3.555003</td>\n",
       "    </tr>\n",
       "    <tr>\n",
       "      <th>0.05</th>\n",
       "      <td>5.5</td>\n",
       "      <td>0.3863</td>\n",
       "      <td>0.065109</td>\n",
       "      <td>0.244982</td>\n",
       "      <td>3.393263</td>\n",
       "      <td>0.016099</td>\n",
       "      <td>0.027278</td>\n",
       "      <td>3.230242</td>\n",
       "    </tr>\n",
       "    <tr>\n",
       "      <th>0.10</th>\n",
       "      <td>5.5</td>\n",
       "      <td>0.3863</td>\n",
       "      <td>0.102881</td>\n",
       "      <td>0.310751</td>\n",
       "      <td>2.392032</td>\n",
       "      <td>0.044795</td>\n",
       "      <td>0.066478</td>\n",
       "      <td>2.620728</td>\n",
       "    </tr>\n",
       "    <tr>\n",
       "      <th>0.20</th>\n",
       "      <td>5.5</td>\n",
       "      <td>0.3863</td>\n",
       "      <td>0.207160</td>\n",
       "      <td>0.577356</td>\n",
       "      <td>1.599675</td>\n",
       "      <td>0.093795</td>\n",
       "      <td>0.143465</td>\n",
       "      <td>2.123161</td>\n",
       "    </tr>\n",
       "  </tbody>\n",
       "</table>\n",
       "</div>"
      ],
      "text/plain": [
       "      fold  origin_err  Conf_err  Conf_oneC  Conf_avgC  Simul_err  Simul_oneC  \\\n",
       "eps                                                                             \n",
       "0.01   5.5      0.3863  0.011893   0.116153   6.035605   0.003497    0.000699   \n",
       "0.03   5.5      0.3863  0.035009   0.184783   4.645711   0.009091    0.014685   \n",
       "0.05   5.5      0.3863  0.065109   0.244982   3.393263   0.016099    0.027278   \n",
       "0.10   5.5      0.3863  0.102881   0.310751   2.392032   0.044795    0.066478   \n",
       "0.20   5.5      0.3863  0.207160   0.577356   1.599675   0.093795    0.143465   \n",
       "\n",
       "      Simul_avgC  \n",
       "eps               \n",
       "0.01    4.370309  \n",
       "0.03    3.555003  \n",
       "0.05    3.230242  \n",
       "0.10    2.620728  \n",
       "0.20    2.123161  "
      ]
     },
     "execution_count": 230,
     "metadata": {},
     "output_type": "execute_result"
    }
   ],
   "source": [
    "res_df = run_conformal(data, epsilon_arr=eps_err, err_func=MarginErrFunc, smoothing=True, \n",
    "                       seed=1, verbose=True)\n",
    "# Get average values of metrics\n",
    "print('\\naverage values for each eps')\n",
    "mean_df = res_df.groupby('eps').mean()\n",
    "mean_df"
   ]
  },
  {
   "cell_type": "code",
   "execution_count": 231,
   "metadata": {},
   "outputs": [
    {
     "name": "stdout",
     "output_type": "stream",
     "text": [
      "Info about dataset: \n",
      "classes: ['CYT', 'EXC', 'ME1', 'ME2', 'ME3', 'MIT', 'NUC']\n",
      "size of the dataset: 1429\n",
      "train = 1029, cal = 257, test = 143\n",
      "average values for each eps\n"
     ]
    },
    {
     "data": {
      "text/html": [
       "<div>\n",
       "<style scoped>\n",
       "    .dataframe tbody tr th:only-of-type {\n",
       "        vertical-align: middle;\n",
       "    }\n",
       "\n",
       "    .dataframe tbody tr th {\n",
       "        vertical-align: top;\n",
       "    }\n",
       "\n",
       "    .dataframe thead th {\n",
       "        text-align: right;\n",
       "    }\n",
       "</style>\n",
       "<table border=\"1\" class=\"dataframe\">\n",
       "  <thead>\n",
       "    <tr style=\"text-align: right;\">\n",
       "      <th></th>\n",
       "      <th>fold</th>\n",
       "      <th>origin_err</th>\n",
       "      <th>Conf_err</th>\n",
       "      <th>Conf_oneC</th>\n",
       "      <th>Conf_avgC</th>\n",
       "      <th>Simul_err</th>\n",
       "      <th>Simul_oneC</th>\n",
       "      <th>Simul_avgC</th>\n",
       "    </tr>\n",
       "    <tr>\n",
       "      <th>eps</th>\n",
       "      <th></th>\n",
       "      <th></th>\n",
       "      <th></th>\n",
       "      <th></th>\n",
       "      <th></th>\n",
       "      <th></th>\n",
       "      <th></th>\n",
       "      <th></th>\n",
       "    </tr>\n",
       "  </thead>\n",
       "  <tbody>\n",
       "    <tr>\n",
       "      <th>0.01</th>\n",
       "      <td>5.5</td>\n",
       "      <td>0.3863</td>\n",
       "      <td>0.009795</td>\n",
       "      <td>0.023087</td>\n",
       "      <td>3.565582</td>\n",
       "      <td>0.003497</td>\n",
       "      <td>0.000699</td>\n",
       "      <td>4.370309</td>\n",
       "    </tr>\n",
       "    <tr>\n",
       "      <th>0.03</th>\n",
       "      <td>5.5</td>\n",
       "      <td>0.3863</td>\n",
       "      <td>0.034290</td>\n",
       "      <td>0.089560</td>\n",
       "      <td>2.764222</td>\n",
       "      <td>0.009091</td>\n",
       "      <td>0.014685</td>\n",
       "      <td>3.555003</td>\n",
       "    </tr>\n",
       "    <tr>\n",
       "      <th>0.05</th>\n",
       "      <td>5.5</td>\n",
       "      <td>0.3863</td>\n",
       "      <td>0.051083</td>\n",
       "      <td>0.114070</td>\n",
       "      <td>2.491244</td>\n",
       "      <td>0.016099</td>\n",
       "      <td>0.027278</td>\n",
       "      <td>3.230242</td>\n",
       "    </tr>\n",
       "    <tr>\n",
       "      <th>0.10</th>\n",
       "      <td>5.5</td>\n",
       "      <td>0.3863</td>\n",
       "      <td>0.118989</td>\n",
       "      <td>0.226780</td>\n",
       "      <td>1.918768</td>\n",
       "      <td>0.044795</td>\n",
       "      <td>0.066478</td>\n",
       "      <td>2.620728</td>\n",
       "    </tr>\n",
       "    <tr>\n",
       "      <th>0.20</th>\n",
       "      <td>5.5</td>\n",
       "      <td>0.3863</td>\n",
       "      <td>0.200877</td>\n",
       "      <td>0.482902</td>\n",
       "      <td>1.522683</td>\n",
       "      <td>0.093795</td>\n",
       "      <td>0.143465</td>\n",
       "      <td>2.123161</td>\n",
       "    </tr>\n",
       "  </tbody>\n",
       "</table>\n",
       "</div>"
      ],
      "text/plain": [
       "      fold  origin_err  Conf_err  Conf_oneC  Conf_avgC  Simul_err  Simul_oneC  \\\n",
       "eps                                                                             \n",
       "0.01   5.5      0.3863  0.009795   0.023087   3.565582   0.003497    0.000699   \n",
       "0.03   5.5      0.3863  0.034290   0.089560   2.764222   0.009091    0.014685   \n",
       "0.05   5.5      0.3863  0.051083   0.114070   2.491244   0.016099    0.027278   \n",
       "0.10   5.5      0.3863  0.118989   0.226780   1.918768   0.044795    0.066478   \n",
       "0.20   5.5      0.3863  0.200877   0.482902   1.522683   0.093795    0.143465   \n",
       "\n",
       "      Simul_avgC  \n",
       "eps               \n",
       "0.01    4.370309  \n",
       "0.03    3.555003  \n",
       "0.05    3.230242  \n",
       "0.10    2.620728  \n",
       "0.20    2.123161  "
      ]
     },
     "execution_count": 231,
     "metadata": {},
     "output_type": "execute_result"
    }
   ],
   "source": [
    "res_df = run_conformal(data, epsilon_arr=eps_err, err_func=InverseProbabilityErrFunc, smoothing=True,\n",
    "                             seed=1, verbose=True)\n",
    "# Get average values of metrics\n",
    "print('average values for each eps')\n",
    "res_df.groupby('eps').mean()"
   ]
  },
  {
   "cell_type": "code",
   "execution_count": 232,
   "metadata": {},
   "outputs": [
    {
     "data": {
      "text/html": [
       "<div>\n",
       "<style scoped>\n",
       "    .dataframe tbody tr th:only-of-type {\n",
       "        vertical-align: middle;\n",
       "    }\n",
       "\n",
       "    .dataframe tbody tr th {\n",
       "        vertical-align: top;\n",
       "    }\n",
       "\n",
       "    .dataframe thead th {\n",
       "        text-align: right;\n",
       "    }\n",
       "</style>\n",
       "<table border=\"1\" class=\"dataframe\">\n",
       "  <thead>\n",
       "    <tr style=\"text-align: right;\">\n",
       "      <th></th>\n",
       "      <th>fold</th>\n",
       "      <th>origin_err</th>\n",
       "      <th>Conf_err</th>\n",
       "      <th>Conf_oneC</th>\n",
       "      <th>Conf_avgC</th>\n",
       "      <th>Simul_err</th>\n",
       "      <th>Simul_oneC</th>\n",
       "      <th>Simul_avgC</th>\n",
       "      <th>inv_err</th>\n",
       "      <th>inv_oneC</th>\n",
       "      <th>inv_avgC</th>\n",
       "    </tr>\n",
       "    <tr>\n",
       "      <th>eps</th>\n",
       "      <th></th>\n",
       "      <th></th>\n",
       "      <th></th>\n",
       "      <th></th>\n",
       "      <th></th>\n",
       "      <th></th>\n",
       "      <th></th>\n",
       "      <th></th>\n",
       "      <th></th>\n",
       "      <th></th>\n",
       "      <th></th>\n",
       "    </tr>\n",
       "  </thead>\n",
       "  <tbody>\n",
       "    <tr>\n",
       "      <th>0.01</th>\n",
       "      <td>5.5</td>\n",
       "      <td>0.3863</td>\n",
       "      <td>0.011893</td>\n",
       "      <td>0.116153</td>\n",
       "      <td>6.035605</td>\n",
       "      <td>0.003497</td>\n",
       "      <td>0.000699</td>\n",
       "      <td>4.370309</td>\n",
       "      <td>0.009795</td>\n",
       "      <td>0.023087</td>\n",
       "      <td>3.565582</td>\n",
       "    </tr>\n",
       "    <tr>\n",
       "      <th>0.03</th>\n",
       "      <td>5.5</td>\n",
       "      <td>0.3863</td>\n",
       "      <td>0.035009</td>\n",
       "      <td>0.184783</td>\n",
       "      <td>4.645711</td>\n",
       "      <td>0.009091</td>\n",
       "      <td>0.014685</td>\n",
       "      <td>3.555003</td>\n",
       "      <td>0.034290</td>\n",
       "      <td>0.089560</td>\n",
       "      <td>2.764222</td>\n",
       "    </tr>\n",
       "    <tr>\n",
       "      <th>0.05</th>\n",
       "      <td>5.5</td>\n",
       "      <td>0.3863</td>\n",
       "      <td>0.065109</td>\n",
       "      <td>0.244982</td>\n",
       "      <td>3.393263</td>\n",
       "      <td>0.016099</td>\n",
       "      <td>0.027278</td>\n",
       "      <td>3.230242</td>\n",
       "      <td>0.051083</td>\n",
       "      <td>0.114070</td>\n",
       "      <td>2.491244</td>\n",
       "    </tr>\n",
       "    <tr>\n",
       "      <th>0.10</th>\n",
       "      <td>5.5</td>\n",
       "      <td>0.3863</td>\n",
       "      <td>0.102881</td>\n",
       "      <td>0.310751</td>\n",
       "      <td>2.392032</td>\n",
       "      <td>0.044795</td>\n",
       "      <td>0.066478</td>\n",
       "      <td>2.620728</td>\n",
       "      <td>0.118989</td>\n",
       "      <td>0.226780</td>\n",
       "      <td>1.918768</td>\n",
       "    </tr>\n",
       "    <tr>\n",
       "      <th>0.20</th>\n",
       "      <td>5.5</td>\n",
       "      <td>0.3863</td>\n",
       "      <td>0.207160</td>\n",
       "      <td>0.577356</td>\n",
       "      <td>1.599675</td>\n",
       "      <td>0.093795</td>\n",
       "      <td>0.143465</td>\n",
       "      <td>2.123161</td>\n",
       "      <td>0.200877</td>\n",
       "      <td>0.482902</td>\n",
       "      <td>1.522683</td>\n",
       "    </tr>\n",
       "  </tbody>\n",
       "</table>\n",
       "</div>"
      ],
      "text/plain": [
       "      fold  origin_err  Conf_err  Conf_oneC  Conf_avgC  Simul_err  Simul_oneC  \\\n",
       "eps                                                                             \n",
       "0.01   5.5      0.3863  0.011893   0.116153   6.035605   0.003497    0.000699   \n",
       "0.03   5.5      0.3863  0.035009   0.184783   4.645711   0.009091    0.014685   \n",
       "0.05   5.5      0.3863  0.065109   0.244982   3.393263   0.016099    0.027278   \n",
       "0.10   5.5      0.3863  0.102881   0.310751   2.392032   0.044795    0.066478   \n",
       "0.20   5.5      0.3863  0.207160   0.577356   1.599675   0.093795    0.143465   \n",
       "\n",
       "      Simul_avgC   inv_err  inv_oneC  inv_avgC  \n",
       "eps                                             \n",
       "0.01    4.370309  0.009795  0.023087  3.565582  \n",
       "0.03    3.555003  0.034290  0.089560  2.764222  \n",
       "0.05    3.230242  0.051083  0.114070  2.491244  \n",
       "0.10    2.620728  0.118989  0.226780  1.918768  \n",
       "0.20    2.123161  0.200877  0.482902  1.522683  "
      ]
     },
     "execution_count": 232,
     "metadata": {},
     "output_type": "execute_result"
    }
   ],
   "source": [
    "# <font color='red'>Inv_prob - avgC, margin - oneC</font>\n",
    "tmp_df = res_df.groupby('eps').mean()\n",
    "mean_df['inv_err'] = tmp_df['Conf_err']\n",
    "mean_df['inv_oneC'] = tmp_df['Conf_oneC']\n",
    "mean_df['inv_avgC'] = tmp_df['Conf_avgC']\n",
    "mean_df"
   ]
  },
  {
   "cell_type": "markdown",
   "metadata": {},
   "source": [
    "## balance data"
   ]
  },
  {
   "cell_type": "code",
   "execution_count": 182,
   "metadata": {},
   "outputs": [],
   "source": [
    "from sklearn.preprocessing import LabelEncoder\n",
    "def load_balance():\n",
    "    print('Loading balance')\n",
    "    # load balance dataset\n",
    "    file = '../datasets/balance.csv'\n",
    "    df = pd.read_csv(file,header=None, sep=',')\n",
    "    df.drop(0, axis=1,inplace=True)\n",
    "    print(df.dtypes)\n",
    "    target_names = df[df.columns[-1]].unique()\n",
    "    target_names.sort()\n",
    "    \n",
    "    target = df[df.columns[-1]].values \n",
    "    \n",
    "    # scale target \n",
    "    target -= min(target)\n",
    "    data = {'target': target, 'data': df[df.columns[:-1]].values,\n",
    "            'target_names': target_names}\n",
    "    return data\n"
   ]
  },
  {
   "cell_type": "code",
   "execution_count": 183,
   "metadata": {},
   "outputs": [
    {
     "name": "stdout",
     "output_type": "stream",
     "text": [
      "625\n"
     ]
    },
    {
     "data": {
      "text/html": [
       "<div>\n",
       "<style scoped>\n",
       "    .dataframe tbody tr th:only-of-type {\n",
       "        vertical-align: middle;\n",
       "    }\n",
       "\n",
       "    .dataframe tbody tr th {\n",
       "        vertical-align: top;\n",
       "    }\n",
       "\n",
       "    .dataframe thead th {\n",
       "        text-align: right;\n",
       "    }\n",
       "</style>\n",
       "<table border=\"1\" class=\"dataframe\">\n",
       "  <thead>\n",
       "    <tr style=\"text-align: right;\">\n",
       "      <th></th>\n",
       "      <th>0</th>\n",
       "      <th>1</th>\n",
       "      <th>2</th>\n",
       "      <th>3</th>\n",
       "      <th>4</th>\n",
       "    </tr>\n",
       "  </thead>\n",
       "  <tbody>\n",
       "    <tr>\n",
       "      <th>0</th>\n",
       "      <td>B</td>\n",
       "      <td>1</td>\n",
       "      <td>1</td>\n",
       "      <td>1</td>\n",
       "      <td>1</td>\n",
       "    </tr>\n",
       "    <tr>\n",
       "      <th>1</th>\n",
       "      <td>R</td>\n",
       "      <td>1</td>\n",
       "      <td>1</td>\n",
       "      <td>1</td>\n",
       "      <td>2</td>\n",
       "    </tr>\n",
       "    <tr>\n",
       "      <th>2</th>\n",
       "      <td>R</td>\n",
       "      <td>1</td>\n",
       "      <td>1</td>\n",
       "      <td>1</td>\n",
       "      <td>3</td>\n",
       "    </tr>\n",
       "    <tr>\n",
       "      <th>3</th>\n",
       "      <td>R</td>\n",
       "      <td>1</td>\n",
       "      <td>1</td>\n",
       "      <td>1</td>\n",
       "      <td>4</td>\n",
       "    </tr>\n",
       "    <tr>\n",
       "      <th>4</th>\n",
       "      <td>R</td>\n",
       "      <td>1</td>\n",
       "      <td>1</td>\n",
       "      <td>1</td>\n",
       "      <td>5</td>\n",
       "    </tr>\n",
       "  </tbody>\n",
       "</table>\n",
       "</div>"
      ],
      "text/plain": [
       "   0  1  2  3  4\n",
       "0  B  1  1  1  1\n",
       "1  R  1  1  1  2\n",
       "2  R  1  1  1  3\n",
       "3  R  1  1  1  4\n",
       "4  R  1  1  1  5"
      ]
     },
     "execution_count": 183,
     "metadata": {},
     "output_type": "execute_result"
    }
   ],
   "source": [
    "balance_df = pd.read_csv('../datasets/balance.csv',header=None,sep=',')\n",
    "print(len(balance_df))\n",
    "# balance_df.drop(0, axis=1,inplace=True)\n",
    "balance_df.head()"
   ]
  },
  {
   "cell_type": "code",
   "execution_count": 184,
   "metadata": {},
   "outputs": [
    {
     "name": "stdout",
     "output_type": "stream",
     "text": [
      "Loading balance\n",
      "1    int64\n",
      "2    int64\n",
      "3    int64\n",
      "4    int64\n",
      "dtype: object\n"
     ]
    }
   ],
   "source": [
    "data = load_balance()"
   ]
  },
  {
   "cell_type": "code",
   "execution_count": 185,
   "metadata": {},
   "outputs": [],
   "source": [
    "def plotClasses(df):\n",
    "    cols = [\"col\"+str(x) for x in range(1,len(df.columns))]\n",
    "    cols.append(\"target\")\n",
    "    df.columns = cols # add column names to the data frame \n",
    "    counts = df.groupby(by=\"target\").count()[['col1']]\n",
    "    labels = counts.index.to_list()\n",
    "    data_points = counts.values.reshape(len(counts),)\n",
    "    return plt.bar(labels,data_points)"
   ]
  },
  {
   "cell_type": "code",
   "execution_count": 186,
   "metadata": {},
   "outputs": [
    {
     "data": {
      "text/plain": [
       "<BarContainer object of 5 artists>"
      ]
     },
     "execution_count": 186,
     "metadata": {},
     "output_type": "execute_result"
    },
    {
     "data": {
      "image/png": "[encoded data removed]",
      "text/plain": [
       "<Figure size 432x288 with 1 Axes>"
      ]
     },
     "metadata": {
      "needs_background": "light"
     },
     "output_type": "display_data"
    }
   ],
   "source": [
    "plotClasses(balance_df)"
   ]
  },
  {
   "cell_type": "markdown",
   "metadata": {},
   "source": [
    "### svm"
   ]
  },
  {
   "cell_type": "markdown",
   "metadata": {},
   "source": [
    "##### MarginErrFunc"
   ]
  },
  {
   "cell_type": "code",
   "execution_count": 187,
   "metadata": {},
   "outputs": [
    {
     "name": "stdout",
     "output_type": "stream",
     "text": [
      "Info about dataset: \n",
      "classes: [1, 2, 3, 4, 5]\n",
      "size of the dataset: 625\n",
      "train = 450, cal = 113, test = 62\n",
      "\n",
      "average values for each eps\n"
     ]
    },
    {
     "data": {
      "text/html": [
       "<div>\n",
       "<style scoped>\n",
       "    .dataframe tbody tr th:only-of-type {\n",
       "        vertical-align: middle;\n",
       "    }\n",
       "\n",
       "    .dataframe tbody tr th {\n",
       "        vertical-align: top;\n",
       "    }\n",
       "\n",
       "    .dataframe thead th {\n",
       "        text-align: right;\n",
       "    }\n",
       "</style>\n",
       "<table border=\"1\" class=\"dataframe\">\n",
       "  <thead>\n",
       "    <tr style=\"text-align: right;\">\n",
       "      <th></th>\n",
       "      <th>fold</th>\n",
       "      <th>origin_err</th>\n",
       "      <th>Conf_err</th>\n",
       "      <th>Conf_oneC</th>\n",
       "      <th>Conf_avgC</th>\n",
       "      <th>Simul_err</th>\n",
       "      <th>Simul_oneC</th>\n",
       "      <th>Simul_avgC</th>\n",
       "    </tr>\n",
       "    <tr>\n",
       "      <th>eps</th>\n",
       "      <th></th>\n",
       "      <th></th>\n",
       "      <th></th>\n",
       "      <th></th>\n",
       "      <th></th>\n",
       "      <th></th>\n",
       "      <th></th>\n",
       "      <th></th>\n",
       "    </tr>\n",
       "  </thead>\n",
       "  <tbody>\n",
       "    <tr>\n",
       "      <th>0.01</th>\n",
       "      <td>5.5</td>\n",
       "      <td>0.954839</td>\n",
       "      <td>0.008065</td>\n",
       "      <td>0.001613</td>\n",
       "      <td>4.854839</td>\n",
       "      <td>0.000000</td>\n",
       "      <td>0.0</td>\n",
       "      <td>5.000000</td>\n",
       "    </tr>\n",
       "    <tr>\n",
       "      <th>0.03</th>\n",
       "      <td>5.5</td>\n",
       "      <td>0.954839</td>\n",
       "      <td>0.025806</td>\n",
       "      <td>0.014516</td>\n",
       "      <td>4.708065</td>\n",
       "      <td>0.000000</td>\n",
       "      <td>0.0</td>\n",
       "      <td>5.000000</td>\n",
       "    </tr>\n",
       "    <tr>\n",
       "      <th>0.05</th>\n",
       "      <td>5.5</td>\n",
       "      <td>0.954839</td>\n",
       "      <td>0.053226</td>\n",
       "      <td>0.029032</td>\n",
       "      <td>4.462903</td>\n",
       "      <td>0.000000</td>\n",
       "      <td>0.0</td>\n",
       "      <td>5.000000</td>\n",
       "    </tr>\n",
       "    <tr>\n",
       "      <th>0.10</th>\n",
       "      <td>5.5</td>\n",
       "      <td>0.954839</td>\n",
       "      <td>0.101613</td>\n",
       "      <td>0.054839</td>\n",
       "      <td>3.991935</td>\n",
       "      <td>0.001613</td>\n",
       "      <td>0.0</td>\n",
       "      <td>4.664516</td>\n",
       "    </tr>\n",
       "    <tr>\n",
       "      <th>0.20</th>\n",
       "      <td>5.5</td>\n",
       "      <td>0.954839</td>\n",
       "      <td>0.225806</td>\n",
       "      <td>0.133871</td>\n",
       "      <td>3.138710</td>\n",
       "      <td>0.041935</td>\n",
       "      <td>0.0</td>\n",
       "      <td>3.945161</td>\n",
       "    </tr>\n",
       "  </tbody>\n",
       "</table>\n",
       "</div>"
      ],
      "text/plain": [
       "      fold  origin_err  Conf_err  Conf_oneC  Conf_avgC  Simul_err  Simul_oneC  \\\n",
       "eps                                                                             \n",
       "0.01   5.5    0.954839  0.008065   0.001613   4.854839   0.000000         0.0   \n",
       "0.03   5.5    0.954839  0.025806   0.014516   4.708065   0.000000         0.0   \n",
       "0.05   5.5    0.954839  0.053226   0.029032   4.462903   0.000000         0.0   \n",
       "0.10   5.5    0.954839  0.101613   0.054839   3.991935   0.001613         0.0   \n",
       "0.20   5.5    0.954839  0.225806   0.133871   3.138710   0.041935         0.0   \n",
       "\n",
       "      Simul_avgC  \n",
       "eps               \n",
       "0.01    5.000000  \n",
       "0.03    5.000000  \n",
       "0.05    5.000000  \n",
       "0.10    4.664516  \n",
       "0.20    3.945161  "
      ]
     },
     "execution_count": 187,
     "metadata": {},
     "output_type": "execute_result"
    }
   ],
   "source": [
    "res_df = run_conformal(data, epsilon_arr=eps_err, err_func=MarginErrFunc, smoothing=True, \n",
    "                       seed=1, verbose=True)\n",
    "# Get average values of metrics\n",
    "print('\\naverage values for each eps')\n",
    "mean_df = res_df.groupby('eps').mean()\n",
    "mean_df"
   ]
  },
  {
   "cell_type": "code",
   "execution_count": 188,
   "metadata": {},
   "outputs": [
    {
     "name": "stdout",
     "output_type": "stream",
     "text": [
      "Info about dataset: \n",
      "classes: [1, 2, 3, 4, 5]\n",
      "size of the dataset: 625\n",
      "train = 450, cal = 113, test = 62\n",
      "average values for each eps\n"
     ]
    },
    {
     "data": {
      "text/html": [
       "<div>\n",
       "<style scoped>\n",
       "    .dataframe tbody tr th:only-of-type {\n",
       "        vertical-align: middle;\n",
       "    }\n",
       "\n",
       "    .dataframe tbody tr th {\n",
       "        vertical-align: top;\n",
       "    }\n",
       "\n",
       "    .dataframe thead th {\n",
       "        text-align: right;\n",
       "    }\n",
       "</style>\n",
       "<table border=\"1\" class=\"dataframe\">\n",
       "  <thead>\n",
       "    <tr style=\"text-align: right;\">\n",
       "      <th></th>\n",
       "      <th>fold</th>\n",
       "      <th>origin_err</th>\n",
       "      <th>Conf_err</th>\n",
       "      <th>Conf_oneC</th>\n",
       "      <th>Conf_avgC</th>\n",
       "      <th>Simul_err</th>\n",
       "      <th>Simul_oneC</th>\n",
       "      <th>Simul_avgC</th>\n",
       "    </tr>\n",
       "    <tr>\n",
       "      <th>eps</th>\n",
       "      <th></th>\n",
       "      <th></th>\n",
       "      <th></th>\n",
       "      <th></th>\n",
       "      <th></th>\n",
       "      <th></th>\n",
       "      <th></th>\n",
       "      <th></th>\n",
       "    </tr>\n",
       "  </thead>\n",
       "  <tbody>\n",
       "    <tr>\n",
       "      <th>0.01</th>\n",
       "      <td>5.5</td>\n",
       "      <td>0.954839</td>\n",
       "      <td>0.017742</td>\n",
       "      <td>0.000000</td>\n",
       "      <td>4.845161</td>\n",
       "      <td>0.000000</td>\n",
       "      <td>0.0</td>\n",
       "      <td>5.000000</td>\n",
       "    </tr>\n",
       "    <tr>\n",
       "      <th>0.03</th>\n",
       "      <td>5.5</td>\n",
       "      <td>0.954839</td>\n",
       "      <td>0.030645</td>\n",
       "      <td>0.000000</td>\n",
       "      <td>4.482258</td>\n",
       "      <td>0.000000</td>\n",
       "      <td>0.0</td>\n",
       "      <td>5.000000</td>\n",
       "    </tr>\n",
       "    <tr>\n",
       "      <th>0.05</th>\n",
       "      <td>5.5</td>\n",
       "      <td>0.954839</td>\n",
       "      <td>0.046774</td>\n",
       "      <td>0.000000</td>\n",
       "      <td>4.224194</td>\n",
       "      <td>0.000000</td>\n",
       "      <td>0.0</td>\n",
       "      <td>5.000000</td>\n",
       "    </tr>\n",
       "    <tr>\n",
       "      <th>0.10</th>\n",
       "      <td>5.5</td>\n",
       "      <td>0.954839</td>\n",
       "      <td>0.108065</td>\n",
       "      <td>0.001613</td>\n",
       "      <td>3.637097</td>\n",
       "      <td>0.001613</td>\n",
       "      <td>0.0</td>\n",
       "      <td>4.664516</td>\n",
       "    </tr>\n",
       "    <tr>\n",
       "      <th>0.20</th>\n",
       "      <td>5.5</td>\n",
       "      <td>0.954839</td>\n",
       "      <td>0.222581</td>\n",
       "      <td>0.012903</td>\n",
       "      <td>2.945161</td>\n",
       "      <td>0.041935</td>\n",
       "      <td>0.0</td>\n",
       "      <td>3.945161</td>\n",
       "    </tr>\n",
       "  </tbody>\n",
       "</table>\n",
       "</div>"
      ],
      "text/plain": [
       "      fold  origin_err  Conf_err  Conf_oneC  Conf_avgC  Simul_err  Simul_oneC  \\\n",
       "eps                                                                             \n",
       "0.01   5.5    0.954839  0.017742   0.000000   4.845161   0.000000         0.0   \n",
       "0.03   5.5    0.954839  0.030645   0.000000   4.482258   0.000000         0.0   \n",
       "0.05   5.5    0.954839  0.046774   0.000000   4.224194   0.000000         0.0   \n",
       "0.10   5.5    0.954839  0.108065   0.001613   3.637097   0.001613         0.0   \n",
       "0.20   5.5    0.954839  0.222581   0.012903   2.945161   0.041935         0.0   \n",
       "\n",
       "      Simul_avgC  \n",
       "eps               \n",
       "0.01    5.000000  \n",
       "0.03    5.000000  \n",
       "0.05    5.000000  \n",
       "0.10    4.664516  \n",
       "0.20    3.945161  "
      ]
     },
     "execution_count": 188,
     "metadata": {},
     "output_type": "execute_result"
    }
   ],
   "source": [
    "res_df = run_conformal(data, epsilon_arr=eps_err, err_func=InverseProbabilityErrFunc, smoothing=True,\n",
    "                             seed=1, verbose=True)\n",
    "# Get average values of metrics\n",
    "print('average values for each eps')\n",
    "res_df.groupby('eps').mean()"
   ]
  },
  {
   "cell_type": "markdown",
   "metadata": {},
   "source": [
    "#####  InverseProbabilityErrFunc"
   ]
  },
  {
   "cell_type": "code",
   "execution_count": 189,
   "metadata": {},
   "outputs": [
    {
     "data": {
      "text/html": [
       "<div>\n",
       "<style scoped>\n",
       "    .dataframe tbody tr th:only-of-type {\n",
       "        vertical-align: middle;\n",
       "    }\n",
       "\n",
       "    .dataframe tbody tr th {\n",
       "        vertical-align: top;\n",
       "    }\n",
       "\n",
       "    .dataframe thead th {\n",
       "        text-align: right;\n",
       "    }\n",
       "</style>\n",
       "<table border=\"1\" class=\"dataframe\">\n",
       "  <thead>\n",
       "    <tr style=\"text-align: right;\">\n",
       "      <th></th>\n",
       "      <th>fold</th>\n",
       "      <th>origin_err</th>\n",
       "      <th>Conf_err</th>\n",
       "      <th>Conf_oneC</th>\n",
       "      <th>Conf_avgC</th>\n",
       "      <th>Simul_err</th>\n",
       "      <th>Simul_oneC</th>\n",
       "      <th>Simul_avgC</th>\n",
       "      <th>inv_err</th>\n",
       "      <th>inv_oneC</th>\n",
       "      <th>inv_avgC</th>\n",
       "    </tr>\n",
       "    <tr>\n",
       "      <th>eps</th>\n",
       "      <th></th>\n",
       "      <th></th>\n",
       "      <th></th>\n",
       "      <th></th>\n",
       "      <th></th>\n",
       "      <th></th>\n",
       "      <th></th>\n",
       "      <th></th>\n",
       "      <th></th>\n",
       "      <th></th>\n",
       "      <th></th>\n",
       "    </tr>\n",
       "  </thead>\n",
       "  <tbody>\n",
       "    <tr>\n",
       "      <th>0.01</th>\n",
       "      <td>5.5</td>\n",
       "      <td>0.954839</td>\n",
       "      <td>0.008065</td>\n",
       "      <td>0.001613</td>\n",
       "      <td>4.854839</td>\n",
       "      <td>0.000000</td>\n",
       "      <td>0.0</td>\n",
       "      <td>5.000000</td>\n",
       "      <td>0.017742</td>\n",
       "      <td>0.000000</td>\n",
       "      <td>4.845161</td>\n",
       "    </tr>\n",
       "    <tr>\n",
       "      <th>0.03</th>\n",
       "      <td>5.5</td>\n",
       "      <td>0.954839</td>\n",
       "      <td>0.025806</td>\n",
       "      <td>0.014516</td>\n",
       "      <td>4.708065</td>\n",
       "      <td>0.000000</td>\n",
       "      <td>0.0</td>\n",
       "      <td>5.000000</td>\n",
       "      <td>0.030645</td>\n",
       "      <td>0.000000</td>\n",
       "      <td>4.482258</td>\n",
       "    </tr>\n",
       "    <tr>\n",
       "      <th>0.05</th>\n",
       "      <td>5.5</td>\n",
       "      <td>0.954839</td>\n",
       "      <td>0.053226</td>\n",
       "      <td>0.029032</td>\n",
       "      <td>4.462903</td>\n",
       "      <td>0.000000</td>\n",
       "      <td>0.0</td>\n",
       "      <td>5.000000</td>\n",
       "      <td>0.046774</td>\n",
       "      <td>0.000000</td>\n",
       "      <td>4.224194</td>\n",
       "    </tr>\n",
       "    <tr>\n",
       "      <th>0.10</th>\n",
       "      <td>5.5</td>\n",
       "      <td>0.954839</td>\n",
       "      <td>0.101613</td>\n",
       "      <td>0.054839</td>\n",
       "      <td>3.991935</td>\n",
       "      <td>0.001613</td>\n",
       "      <td>0.0</td>\n",
       "      <td>4.664516</td>\n",
       "      <td>0.108065</td>\n",
       "      <td>0.001613</td>\n",
       "      <td>3.637097</td>\n",
       "    </tr>\n",
       "    <tr>\n",
       "      <th>0.20</th>\n",
       "      <td>5.5</td>\n",
       "      <td>0.954839</td>\n",
       "      <td>0.225806</td>\n",
       "      <td>0.133871</td>\n",
       "      <td>3.138710</td>\n",
       "      <td>0.041935</td>\n",
       "      <td>0.0</td>\n",
       "      <td>3.945161</td>\n",
       "      <td>0.222581</td>\n",
       "      <td>0.012903</td>\n",
       "      <td>2.945161</td>\n",
       "    </tr>\n",
       "  </tbody>\n",
       "</table>\n",
       "</div>"
      ],
      "text/plain": [
       "      fold  origin_err  Conf_err  Conf_oneC  Conf_avgC  Simul_err  Simul_oneC  \\\n",
       "eps                                                                             \n",
       "0.01   5.5    0.954839  0.008065   0.001613   4.854839   0.000000         0.0   \n",
       "0.03   5.5    0.954839  0.025806   0.014516   4.708065   0.000000         0.0   \n",
       "0.05   5.5    0.954839  0.053226   0.029032   4.462903   0.000000         0.0   \n",
       "0.10   5.5    0.954839  0.101613   0.054839   3.991935   0.001613         0.0   \n",
       "0.20   5.5    0.954839  0.225806   0.133871   3.138710   0.041935         0.0   \n",
       "\n",
       "      Simul_avgC   inv_err  inv_oneC  inv_avgC  \n",
       "eps                                             \n",
       "0.01    5.000000  0.017742  0.000000  4.845161  \n",
       "0.03    5.000000  0.030645  0.000000  4.482258  \n",
       "0.05    5.000000  0.046774  0.000000  4.224194  \n",
       "0.10    4.664516  0.108065  0.001613  3.637097  \n",
       "0.20    3.945161  0.222581  0.012903  2.945161  "
      ]
     },
     "execution_count": 189,
     "metadata": {},
     "output_type": "execute_result"
    }
   ],
   "source": [
    "# <font color='red'>Inv_prob - avgC, margin - oneC</font>\n",
    "tmp_df = res_df.groupby('eps').mean()\n",
    "mean_df['inv_err'] = tmp_df['Conf_err']\n",
    "mean_df['inv_oneC'] = tmp_df['Conf_oneC']\n",
    "mean_df['inv_avgC'] = tmp_df['Conf_avgC']\n",
    "mean_df"
   ]
  },
  {
   "cell_type": "code",
   "execution_count": 194,
   "metadata": {},
   "outputs": [
    {
     "data": {
      "text/html": [
       "<div>\n",
       "<style scoped>\n",
       "    .dataframe tbody tr th:only-of-type {\n",
       "        vertical-align: middle;\n",
       "    }\n",
       "\n",
       "    .dataframe tbody tr th {\n",
       "        vertical-align: top;\n",
       "    }\n",
       "\n",
       "    .dataframe thead th {\n",
       "        text-align: right;\n",
       "    }\n",
       "</style>\n",
       "<table border=\"1\" class=\"dataframe\">\n",
       "  <thead>\n",
       "    <tr style=\"text-align: right;\">\n",
       "      <th></th>\n",
       "      <th>fold</th>\n",
       "      <th>origin_err</th>\n",
       "      <th>marg_err</th>\n",
       "      <th>marg_oneC</th>\n",
       "      <th>marg_avgC</th>\n",
       "      <th>Simul_err</th>\n",
       "      <th>Simul_oneC</th>\n",
       "      <th>Simul_avgC</th>\n",
       "      <th>inv_err</th>\n",
       "      <th>inv_oneC</th>\n",
       "      <th>inv_avgC</th>\n",
       "    </tr>\n",
       "    <tr>\n",
       "      <th>eps</th>\n",
       "      <th></th>\n",
       "      <th></th>\n",
       "      <th></th>\n",
       "      <th></th>\n",
       "      <th></th>\n",
       "      <th></th>\n",
       "      <th></th>\n",
       "      <th></th>\n",
       "      <th></th>\n",
       "      <th></th>\n",
       "      <th></th>\n",
       "    </tr>\n",
       "  </thead>\n",
       "  <tbody>\n",
       "    <tr>\n",
       "      <th>0.01</th>\n",
       "      <td>5.5</td>\n",
       "      <td>0.490939</td>\n",
       "      <td>0.011887</td>\n",
       "      <td>0.011875</td>\n",
       "      <td>4.988801</td>\n",
       "      <td>0.004375</td>\n",
       "      <td>0.0</td>\n",
       "      <td>5.220770</td>\n",
       "      <td>0.017742</td>\n",
       "      <td>0.000000</td>\n",
       "      <td>4.845161</td>\n",
       "    </tr>\n",
       "    <tr>\n",
       "      <th>0.03</th>\n",
       "      <td>5.5</td>\n",
       "      <td>0.490939</td>\n",
       "      <td>0.040035</td>\n",
       "      <td>0.067531</td>\n",
       "      <td>4.032303</td>\n",
       "      <td>0.011254</td>\n",
       "      <td>0.0</td>\n",
       "      <td>4.209473</td>\n",
       "      <td>0.030645</td>\n",
       "      <td>0.000000</td>\n",
       "      <td>4.482258</td>\n",
       "    </tr>\n",
       "    <tr>\n",
       "      <th>0.05</th>\n",
       "      <td>5.5</td>\n",
       "      <td>0.490939</td>\n",
       "      <td>0.060668</td>\n",
       "      <td>0.104422</td>\n",
       "      <td>3.435122</td>\n",
       "      <td>0.021895</td>\n",
       "      <td>0.0</td>\n",
       "      <td>3.736745</td>\n",
       "      <td>0.046774</td>\n",
       "      <td>0.000000</td>\n",
       "      <td>4.224194</td>\n",
       "    </tr>\n",
       "    <tr>\n",
       "      <th>0.10</th>\n",
       "      <td>5.5</td>\n",
       "      <td>0.490939</td>\n",
       "      <td>0.088805</td>\n",
       "      <td>0.153223</td>\n",
       "      <td>2.525369</td>\n",
       "      <td>0.051285</td>\n",
       "      <td>0.0</td>\n",
       "      <td>2.820531</td>\n",
       "      <td>0.108065</td>\n",
       "      <td>0.001613</td>\n",
       "      <td>3.637097</td>\n",
       "    </tr>\n",
       "    <tr>\n",
       "      <th>0.20</th>\n",
       "      <td>5.5</td>\n",
       "      <td>0.490939</td>\n",
       "      <td>0.177614</td>\n",
       "      <td>0.287028</td>\n",
       "      <td>1.828086</td>\n",
       "      <td>0.072543</td>\n",
       "      <td>0.0</td>\n",
       "      <td>2.325228</td>\n",
       "      <td>0.222581</td>\n",
       "      <td>0.012903</td>\n",
       "      <td>2.945161</td>\n",
       "    </tr>\n",
       "  </tbody>\n",
       "</table>\n",
       "</div>"
      ],
      "text/plain": [
       "      fold  origin_err  marg_err  marg_oneC  marg_avgC  Simul_err  Simul_oneC  \\\n",
       "eps                                                                             \n",
       "0.01   5.5    0.490939  0.011887   0.011875   4.988801   0.004375         0.0   \n",
       "0.03   5.5    0.490939  0.040035   0.067531   4.032303   0.011254         0.0   \n",
       "0.05   5.5    0.490939  0.060668   0.104422   3.435122   0.021895         0.0   \n",
       "0.10   5.5    0.490939  0.088805   0.153223   2.525369   0.051285         0.0   \n",
       "0.20   5.5    0.490939  0.177614   0.287028   1.828086   0.072543         0.0   \n",
       "\n",
       "      Simul_avgC   inv_err  inv_oneC  inv_avgC  \n",
       "eps                                             \n",
       "0.01    5.220770  0.017742  0.000000  4.845161  \n",
       "0.03    4.209473  0.030645  0.000000  4.482258  \n",
       "0.05    3.736745  0.046774  0.000000  4.224194  \n",
       "0.10    2.820531  0.108065  0.001613  3.637097  \n",
       "0.20    2.325228  0.222581  0.012903  2.945161  "
      ]
     },
     "execution_count": 194,
     "metadata": {},
     "output_type": "execute_result"
    }
   ],
   "source": [
    "tmp_df = res_df.groupby('eps').mean()\n",
    "# rename columns for margin function\n",
    "svm_mean_df.columns = ['fold', 'origin_err', 'marg_err', 'marg_oneC', 'marg_avgC', \n",
    "                       'Simul_err', 'Simul_oneC', 'Simul_avgC','inv_err', 'inv_oneC', 'inv_avgC']\n",
    "# these columns contain results for inverse probability non-conformity function\n",
    "svm_mean_df['inv_err'] = tmp_df['Conf_err']\n",
    "svm_mean_df['inv_oneC'] = tmp_df['Conf_oneC']\n",
    "svm_mean_df['inv_avgC'] = tmp_df['Conf_avgC']\n",
    "svm_mean_df"
   ]
  },
  {
   "cell_type": "markdown",
   "metadata": {},
   "source": [
    "### decision treee"
   ]
  },
  {
   "cell_type": "markdown",
   "metadata": {},
   "source": [
    "##### MarginErrFunc"
   ]
  },
  {
   "cell_type": "code",
   "execution_count": null,
   "metadata": {},
   "outputs": [],
   "source": [
    "res_df = run_conformal(data, model_obj=dt_model_obj, \n",
    "                       params={MIN_SAMPLES_KEY: max(5, int(dt_min_sample_ratio * len(data['data'])))},\n",
    "                       epsilon_arr=eps_err, err_func=MarginErrFunc, smoothing=True, \n",
    "                       seed=1, verbose=True)\n",
    "# Get average values of metrics\n",
    "print('\\naverage values for each eps')\n",
    "dt_mean_df = res_df.groupby('eps').mean()\n",
    "dt_mean_df"
   ]
  },
  {
   "cell_type": "markdown",
   "metadata": {},
   "source": [
    "#####  InverseProbabilityErrFunc"
   ]
  },
  {
   "cell_type": "code",
   "execution_count": null,
   "metadata": {},
   "outputs": [],
   "source": [
    "res_df = run_conformal(data, model_obj=dt_model_obj, \n",
    "                       params={MIN_SAMPLES_KEY: max(5, int(dt_min_sample_ratio * len(data['data'])))},\n",
    "                       epsilon_arr=eps_err, err_func=InverseProbabilityErrFunc, smoothing=True, \n",
    "                       seed=1, verbose=True)\n",
    "# Get average values of metrics\n",
    "print('\\naverage values for each eps')\n",
    "res_df.groupby('eps').mean()"
   ]
  },
  {
   "cell_type": "code",
   "execution_count": null,
   "metadata": {},
   "outputs": [],
   "source": [
    "tmp_df = res_df.groupby('eps').mean()\n",
    "# rename columns for margin function\n",
    "dt_mean_df.columns = ['fold', 'origin_err', 'marg_err', 'marg_oneC', 'marg_avgC', \n",
    "                       'Simul_err', 'Simul_oneC', 'Simul_avgC']\n",
    "# these columns contain results for inverse probability non-conformity function\n",
    "dt_mean_df['inv_err'] = tmp_df['Conf_err']\n",
    "dt_mean_df['inv_oneC'] = tmp_df['Conf_oneC']\n",
    "dt_mean_df['inv_avgC'] = tmp_df['Conf_avgC']\n",
    "dt_mean_df"
   ]
  },
  {
   "cell_type": "markdown",
   "metadata": {},
   "source": [
    "### Plot results: error rate"
   ]
  },
  {
   "cell_type": "code",
   "execution_count": null,
   "metadata": {},
   "outputs": [],
   "source": [
    "# SVM color - blue\n",
    "color = 'blue'\n",
    "df = svm_mean_df\n",
    "plt.plot(eps_err, df['origin_err'], label='SVM', color=color, lw=3) # thik line for original error\n",
    "plt.plot(eps_err, df['marg_err'], label='- margin', color=color, ) # normal line for margin error\n",
    "plt.plot(eps_err, df['inv_err'], label='- inv prob', color=color, linestyle='--') # dashed line for inv_prob error\n",
    "plt.plot(eps_err, df['Simul_err'], label='- simulated', color=color, linestyle=':') # dotted line for simulation error\n",
    "\n",
    "# Decision tree color - orange\n",
    "color = 'orange'\n",
    "df = dt_mean_df\n",
    "plt.plot(eps_err, df['origin_err'], label='Decision tree', color=color, lw=3) # thik line for original error\n",
    "plt.plot(eps_err, df['marg_err'], label='_nolegend_', color=color, ) # normal line for margin error\n",
    "plt.plot(eps_err, df['inv_err'], label='_nolegend_', color=color, linestyle='--') # dashed line for inv_prob error\n",
    "plt.plot(eps_err, df['Simul_err'], label='_nolegend_', color=color, linestyle=':') # dotted line for simulation error\n",
    "\n",
    "plt.xticks(eps_err)\n",
    "y_ticks = eps_err[:]\n",
    "y_ticks.extend([0.3, 0.4, 0.5])\n",
    "plt.yticks(y_ticks)\n",
    "plt.grid(True)\n",
    "plt.legend()\n",
    "plt.title('Error rate')"
   ]
  },
  {
   "cell_type": "markdown",
   "metadata": {},
   "source": [
    "### Plot: oneC"
   ]
  },
  {
   "cell_type": "code",
   "execution_count": null,
   "metadata": {},
   "outputs": [],
   "source": [
    "# SVM color - blue\n",
    "color = 'blue'\n",
    "df = svm_mean_df\n",
    "plt.plot(eps_err, df['marg_oneC'], label='SVM', color=color, ) # normal line for margin error\n",
    "plt.plot(eps_err, df['inv_oneC'], label='_nolegend_', color=color, linestyle='--') # dashed line for inv_prob error\n",
    "plt.plot(eps_err, df['Simul_oneC'], label='_nolegend_', color=color, linestyle=':') # dotted line for simulation error\n",
    "\n",
    "# Decision tree color - orange\n",
    "color = 'orange'\n",
    "df = dt_mean_df\n",
    "plt.plot(eps_err, df['marg_oneC'], label='Decision tree', color=color, ) # normal line for margin error\n",
    "plt.plot(eps_err, df['inv_oneC'], label='_nolegend_', color=color, linestyle='--') # dashed line for inv_prob error\n",
    "plt.plot(eps_err, df['Simul_oneC'], label='_nolegend_', color=color, linestyle=':') # dotted line for simulation error\n",
    "\n",
    "plt.xticks(eps_err)\n",
    "plt.grid(True)\n",
    "plt.legend()\n",
    "plt.title('oneC')"
   ]
  },
  {
   "cell_type": "markdown",
   "metadata": {},
   "source": [
    "### avgC"
   ]
  },
  {
   "cell_type": "code",
   "execution_count": null,
   "metadata": {},
   "outputs": [],
   "source": [
    "# SVM color - blue\n",
    "color = 'blue'\n",
    "df = svm_mean_df\n",
    "plt.plot(eps_err, df['marg_avgC'], label='SVM', color=color, ) # normal line for margin error\n",
    "plt.plot(eps_err, df['inv_avgC'], label='_nolegend_', color=color, linestyle='--') # dashed line for inv_prob error\n",
    "plt.plot(eps_err, df['Simul_avgC'], label='_nolegend_', color=color, linestyle=':') # dotted line for simulation error\n",
    "\n",
    "# Decision tree color - orange\n",
    "color = 'orange'\n",
    "df = dt_mean_df\n",
    "plt.plot(eps_err, df['marg_avgC'], label='Decision tree', color=color, ) # normal line for margin error\n",
    "plt.plot(eps_err, df['inv_avgC'], label='_nolegend_', color=color, linestyle='--') # dashed line for inv_prob error\n",
    "plt.plot(eps_err, df['Simul_avgC'], label='_nolegend_', color=color, linestyle=':') # dotted line for simulation error\n",
    "\n",
    "plt.xticks(eps_err)\n",
    "plt.grid(True)\n",
    "plt.legend()\n",
    "plt.title('avgC')"
   ]
  },
  {
   "cell_type": "markdown",
   "metadata": {},
   "source": [
    "## glass data"
   ]
  },
  {
   "cell_type": "code",
   "execution_count": null,
   "metadata": {},
   "outputs": [],
   "source": [
    "cols_to_exclude = [3, 5, 6, 7]"
   ]
  },
  {
   "cell_type": "code",
   "execution_count": null,
   "metadata": {},
   "outputs": [],
   "source": [
    "# from sklearn.preprocessing import LabelEncoder\n",
    "def load_glass():\n",
    "    print('Loading glass')\n",
    "    # load glass dataset\n",
    "    file = '../datasets/glass.csv'\n",
    "    #df = pd.read_csv(file,header=None, sep=',')\n",
    "    df = my_load_df('../datasets/glass.csv', sep=',', class_idx=-1, \n",
    "                      cols_to_exclude=cols_to_exclude, header=None)\n",
    "    df.drop(0, axis=1,inplace=True)\n",
    "    print(df.dtypes)\n",
    "    target_names = df[df.columns[-1]].unique()\n",
    "    target_names.sort()\n",
    "    \n",
    "    target = df[df.columns[-1]].values\n",
    "    \n",
    "    \n",
    "    # scale target \n",
    "    target -= min(target)\n",
    "    data = {'target': target, 'data': df[df.columns[:-1]].values,\n",
    "            'target_names': target_names}\n",
    "    return data\n",
    "#load_glass()"
   ]
  },
  {
   "cell_type": "code",
   "execution_count": null,
   "metadata": {
    "scrolled": true
   },
   "outputs": [],
   "source": [
    "#glass_df = pd.read_csv('../datasets/glass.csv',header=None,sep=',')\n",
    "glass_df = my_load_df('../datasets/glass.csv', sep=',', class_idx=-1, \n",
    "                      cols_to_exclude=cols_to_exclude, header=None)\n",
    "print(len(glass_df))\n",
    "glass_df.drop(0, axis=1,inplace=True)\n",
    "glass_df.head()"
   ]
  },
  {
   "cell_type": "code",
   "execution_count": null,
   "metadata": {},
   "outputs": [],
   "source": [
    "data = load_glass()"
   ]
  },
  {
   "cell_type": "code",
   "execution_count": null,
   "metadata": {},
   "outputs": [],
   "source": [
    "def plotClasses(df):\n",
    "    cols = [\"col\"+str(x) for x in range(1,len(df.columns))]\n",
    "    cols.append(\"target\")\n",
    "    df.columns = cols # add column names to the data frame \n",
    "    counts = df.groupby(by=\"target\").count()[['col1']]\n",
    "    labels = counts.index.to_list()\n",
    "    data_points = counts.values.reshape(len(counts),)\n",
    "    return plt.bar(labels,data_points)"
   ]
  },
  {
   "cell_type": "code",
   "execution_count": null,
   "metadata": {},
   "outputs": [],
   "source": [
    "plotClasses(glass_df)"
   ]
  },
  {
   "cell_type": "markdown",
   "metadata": {},
   "source": [
    "### svm"
   ]
  },
  {
   "cell_type": "markdown",
   "metadata": {},
   "source": [
    "###  MarginErrFunc"
   ]
  },
  {
   "cell_type": "code",
   "execution_count": null,
   "metadata": {},
   "outputs": [],
   "source": [
    "res_df = run_conformal(data, epsilon_arr=eps_err, err_func=MarginErrFunc, smoothing=True, \n",
    "                       seed=1, verbose=True)\n",
    "# Get average values of metrics\n",
    "print('\\naverage values for each eps')\n",
    "mean_df = res_df.groupby('eps').mean()\n",
    "mean_df"
   ]
  },
  {
   "cell_type": "code",
   "execution_count": null,
   "metadata": {},
   "outputs": [],
   "source": [
    "res_df = run_conformal(data, epsilon_arr=eps_err, err_func=InverseProbabilityErrFunc, smoothing=True,\n",
    "                             seed=1, verbose=True)\n",
    "# Get average values of metrics\n",
    "print('average values for each eps')\n",
    "res_df.groupby('eps').mean()"
   ]
  },
  {
   "cell_type": "markdown",
   "metadata": {},
   "source": [
    "#####  InverseProbabilityErrFunc"
   ]
  },
  {
   "cell_type": "code",
   "execution_count": null,
   "metadata": {},
   "outputs": [],
   "source": [
    "# <font color='red'>Inv_prob - avgC, margin - oneC</font>\n",
    "tmp_df = res_df.groupby('eps').mean()\n",
    "mean_df['inv_err'] = tmp_df['Conf_err']\n",
    "mean_df['inv_oneC'] = tmp_df['Conf_oneC']\n",
    "mean_df['inv_avgC'] = tmp_df['Conf_avgC']\n",
    "mean_df"
   ]
  },
  {
   "cell_type": "code",
   "execution_count": null,
   "metadata": {},
   "outputs": [],
   "source": [
    "tmp_df = res_df.groupby('eps').mean()\n",
    "# rename columns for margin function\n",
    "svm_mean_df.columns = ['fold', 'origin_err', 'marg_err', 'marg_oneC', 'marg_avgC', \n",
    "                       'Simul_err', 'Simul_oneC', 'Simul_avgC']\n",
    "# these columns contain results for inverse probability non-conformity function\n",
    "svm_mean_df['inv_err'] = tmp_df['Conf_err']\n",
    "svm_mean_df['inv_oneC'] = tmp_df['Conf_oneC']\n",
    "svm_mean_df['inv_avgC'] = tmp_df['Conf_avgC']\n",
    "svm_mean_df"
   ]
  },
  {
   "cell_type": "markdown",
   "metadata": {},
   "source": [
    "#### decision trre"
   ]
  },
  {
   "cell_type": "markdown",
   "metadata": {},
   "source": [
    "##### MarginErrFunc"
   ]
  },
  {
   "cell_type": "code",
   "execution_count": null,
   "metadata": {},
   "outputs": [],
   "source": [
    "res_df = run_conformal(data, model_obj=dt_model_obj, \n",
    "                       params={MIN_SAMPLES_KEY: max(5, int(dt_min_sample_ratio * len(data['data'])))},\n",
    "                       epsilon_arr=eps_err, err_func=MarginErrFunc, smoothing=True, \n",
    "                       seed=1, verbose=True)\n",
    "# Get average values of metrics\n",
    "print('\\naverage values for each eps')\n",
    "dt_mean_df = res_df.groupby('eps').mean()\n",
    "dt_mean_df"
   ]
  },
  {
   "cell_type": "markdown",
   "metadata": {},
   "source": [
    "#####  InverseProbabilityErrFunc"
   ]
  },
  {
   "cell_type": "code",
   "execution_count": null,
   "metadata": {},
   "outputs": [],
   "source": [
    "res_df = run_conformal(data, model_obj=dt_model_obj, \n",
    "                       params={MIN_SAMPLES_KEY: max(5, int(dt_min_sample_ratio * len(data['data'])))},\n",
    "                       epsilon_arr=eps_err, err_func=InverseProbabilityErrFunc, smoothing=True, \n",
    "                       seed=1, verbose=True)\n",
    "# Get average values of metrics\n",
    "print('\\naverage values for each eps')\n",
    "res_df.groupby('eps').mean()"
   ]
  },
  {
   "cell_type": "code",
   "execution_count": null,
   "metadata": {},
   "outputs": [],
   "source": [
    "tmp_df = res_df.groupby('eps').mean()\n",
    "# rename columns for margin function\n",
    "dt_mean_df.columns = ['fold', 'origin_err', 'marg_err', 'marg_oneC', 'marg_avgC', \n",
    "                       'Simul_err', 'Simul_oneC', 'Simul_avgC']\n",
    "# these columns contain results for inverse probability non-conformity function\n",
    "dt_mean_df['inv_err'] = tmp_df['Conf_err']\n",
    "dt_mean_df['inv_oneC'] = tmp_df['Conf_oneC']\n",
    "dt_mean_df['inv_avgC'] = tmp_df['Conf_avgC']\n",
    "dt_mean_df"
   ]
  },
  {
   "cell_type": "markdown",
   "metadata": {},
   "source": [
    "### Plot results: error rate"
   ]
  },
  {
   "cell_type": "code",
   "execution_count": null,
   "metadata": {},
   "outputs": [],
   "source": [
    "# SVM color - blue\n",
    "color = 'blue'\n",
    "df = svm_mean_df\n",
    "plt.plot(eps_err, df['origin_err'], label='SVM', color=color, lw=3) # thik line for original error\n",
    "plt.plot(eps_err, df['marg_err'], label='- margin', color=color, ) # normal line for margin error\n",
    "plt.plot(eps_err, df['inv_err'], label='- inv prob', color=color, linestyle='--') # dashed line for inv_prob error\n",
    "plt.plot(eps_err, df['Simul_err'], label='- simulated', color=color, linestyle=':') # dotted line for simulation error\n",
    "\n",
    "# Decision tree color - orange\n",
    "color = 'orange'\n",
    "df = dt_mean_df\n",
    "plt.plot(eps_err, df['origin_err'], label='Decision tree', color=color, lw=3) # thik line for original error\n",
    "plt.plot(eps_err, df['marg_err'], label='_nolegend_', color=color, ) # normal line for margin error\n",
    "plt.plot(eps_err, df['inv_err'], label='_nolegend_', color=color, linestyle='--') # dashed line for inv_prob error\n",
    "plt.plot(eps_err, df['Simul_err'], label='_nolegend_', color=color, linestyle=':') # dotted line for simulation error\n",
    "\n",
    "plt.xticks(eps_err)\n",
    "y_ticks = eps_err[:]\n",
    "y_ticks.extend([0.3, 0.4, 0.5])\n",
    "plt.yticks(y_ticks)\n",
    "plt.grid(True)\n",
    "plt.legend()\n",
    "plt.title('Error rate')"
   ]
  },
  {
   "cell_type": "markdown",
   "metadata": {},
   "source": [
    "### Plot: oneC"
   ]
  },
  {
   "cell_type": "code",
   "execution_count": null,
   "metadata": {},
   "outputs": [],
   "source": [
    "# SVM color - blue\n",
    "color = 'blue'\n",
    "df = svm_mean_df\n",
    "plt.plot(eps_err, df['marg_oneC'], label='SVM', color=color, ) # normal line for margin error\n",
    "plt.plot(eps_err, df['inv_oneC'], label='_nolegend_', color=color, linestyle='--') # dashed line for inv_prob error\n",
    "plt.plot(eps_err, df['Simul_oneC'], label='_nolegend_', color=color, linestyle=':') # dotted line for simulation error\n",
    "\n",
    "# Decision tree color - orange\n",
    "color = 'orange'\n",
    "df = dt_mean_df\n",
    "plt.plot(eps_err, df['marg_oneC'], label='Decision tree', color=color, ) # normal line for margin error\n",
    "plt.plot(eps_err, df['inv_oneC'], label='_nolegend_', color=color, linestyle='--') # dashed line for inv_prob error\n",
    "plt.plot(eps_err, df['Simul_oneC'], label='_nolegend_', color=color, linestyle=':') # dotted line for simulation error\n",
    "\n",
    "plt.xticks(eps_err)\n",
    "plt.grid(True)\n",
    "plt.legend()\n",
    "plt.title('oneC')"
   ]
  },
  {
   "cell_type": "markdown",
   "metadata": {},
   "source": [
    "### avgC"
   ]
  },
  {
   "cell_type": "code",
   "execution_count": null,
   "metadata": {},
   "outputs": [],
   "source": [
    "# SVM color - blue\n",
    "color = 'blue'\n",
    "df = svm_mean_df\n",
    "plt.plot(eps_err, df['marg_avgC'], label='SVM', color=color, ) # normal line for margin error\n",
    "plt.plot(eps_err, df['inv_avgC'], label='_nolegend_', color=color, linestyle='--') # dashed line for inv_prob error\n",
    "plt.plot(eps_err, df['Simul_avgC'], label='_nolegend_', color=color, linestyle=':') # dotted line for simulation error\n",
    "\n",
    "# Decision tree color - orange\n",
    "color = 'orange'\n",
    "df = dt_mean_df\n",
    "plt.plot(eps_err, df['marg_avgC'], label='Decision tree', color=color, ) # normal line for margin error\n",
    "plt.plot(eps_err, df['inv_avgC'], label='_nolegend_', color=color, linestyle='--') # dashed line for inv_prob error\n",
    "plt.plot(eps_err, df['Simul_avgC'], label='_nolegend_', color=color, linestyle=':') # dotted line for simulation error\n",
    "\n",
    "plt.xticks(eps_err)\n",
    "plt.grid(True)\n",
    "plt.legend()\n",
    "plt.title('avgC')"
   ]
  },
  {
   "cell_type": "markdown",
   "metadata": {},
   "source": [
    "### cars"
   ]
  },
  {
   "cell_type": "code",
   "execution_count": null,
   "metadata": {},
   "outputs": [],
   "source": [
    "from sklearn.preprocessing import LabelEncoder\n",
    "def load_cars():\n",
    "    print('Loading cars')\n",
    "    # load cars dataset\n",
    "    file = '../datasets/cars.csv'\n",
    "    df = pd.read_csv(file,header=None, sep=',')\n",
    "#     df.drop(0, axis=0,inplace=True)\n",
    "    target_names = df[df.columns[-1]].unique()\n",
    "    target_names.sort()\n",
    "    data_points = df[df.columns[:-1]]\n",
    "    target = df[df.columns[-1]].values \n",
    "    label_encoder = LabelEncoder()\n",
    "   \n",
    "    target = label_encoder.fit_transform(target)\n",
    "    for i in range(6):\n",
    "        data_points.iloc[:,i] = label_encoder.fit_transform(data_points.iloc[:,i])\n",
    "    \n",
    "#     data_points = data_points.apply(lambda x:label_encoder.fit_transform(x),axis=1)\n",
    "  \n",
    "    # scale target \n",
    "#     target -= min(target)\n",
    "    data = {'target': target, 'data': data_points.values,\n",
    "            'target_names': target_names}\n",
    "    \n",
    "    return data"
   ]
  },
  {
   "cell_type": "code",
   "execution_count": null,
   "metadata": {},
   "outputs": [],
   "source": [
    "cars_df = pd.read_csv('../datasets/cars.csv',header=None,sep=',')\n",
    "# print(len(cars_df))\n",
    "# balance_df.drop(0, axis=0,inplace=True)\n",
    "# print(len(cars_df))\n",
    "cars_df.head()"
   ]
  },
  {
   "cell_type": "code",
   "execution_count": null,
   "metadata": {},
   "outputs": [],
   "source": [
    "data = load_cars()"
   ]
  },
  {
   "cell_type": "code",
   "execution_count": null,
   "metadata": {},
   "outputs": [],
   "source": [
    "def plotClasses(df):\n",
    "    cols = [\"col\"+str(x) for x in range(1,len(df.columns))]\n",
    "    cols.append(\"target\")\n",
    "    df.columns = cols # add column names to the data frame \n",
    "    counts = df.groupby(by=\"target\").count()[['col1']]\n",
    "    labels = counts.index.to_list()\n",
    "    data_points = counts.values.reshape(len(counts),)\n",
    "    return plt.bar(labels,data_points)"
   ]
  },
  {
   "cell_type": "code",
   "execution_count": null,
   "metadata": {},
   "outputs": [],
   "source": [
    "plotClasses(cars_df)"
   ]
  },
  {
   "cell_type": "markdown",
   "metadata": {},
   "source": [
    "#### svm"
   ]
  },
  {
   "cell_type": "markdown",
   "metadata": {},
   "source": [
    "##### MarginErrFunc"
   ]
  },
  {
   "cell_type": "code",
   "execution_count": null,
   "metadata": {},
   "outputs": [],
   "source": [
    "res_df = run_conformal(data, epsilon_arr=eps_err, err_func=MarginErrFunc, smoothing=True, \n",
    "                       seed=1, verbose=True)\n",
    "# Get average values of metrics\n",
    "print('\\naverage values for each eps')\n",
    "res_df.groupby('eps').mean()"
   ]
  },
  {
   "cell_type": "markdown",
   "metadata": {},
   "source": [
    "#####  InverseProbabilityErrFunc"
   ]
  },
  {
   "cell_type": "code",
   "execution_count": null,
   "metadata": {},
   "outputs": [],
   "source": [
    "res_df = run_conformal(data, epsilon_arr=eps_err, err_func=InverseProbabilityErrFunc, smoothing=True,\n",
    "                             seed=1, verbose=True)\n",
    "# Get average values of metrics\n",
    "print('average values for each eps')\n",
    "res_df.groupby('eps').mean()"
   ]
  },
  {
   "cell_type": "code",
   "execution_count": null,
   "metadata": {},
   "outputs": [],
   "source": [
    "tmp_df = res_df.groupby('eps').mean()\n",
    "# rename columns for margin function\n",
    "svm_mean_df.columns = ['fold', 'origin_err', 'marg_err', 'marg_oneC', 'marg_avgC', \n",
    "                       'Simul_err', 'Simul_oneC', 'Simul_avgC']\n",
    "# these columns contain results for inverse probability non-conformity function\n",
    "svm_mean_df['inv_err'] = tmp_df['Conf_err']\n",
    "svm_mean_df['inv_oneC'] = tmp_df['Conf_oneC']\n",
    "svm_mean_df['inv_avgC'] = tmp_df['Conf_avgC']\n",
    "svm_mean_df"
   ]
  },
  {
   "cell_type": "markdown",
   "metadata": {},
   "source": [
    "### decision tree"
   ]
  },
  {
   "cell_type": "markdown",
   "metadata": {},
   "source": [
    "##### MarginErrFunc"
   ]
  },
  {
   "cell_type": "code",
   "execution_count": null,
   "metadata": {},
   "outputs": [],
   "source": [
    "res_df = run_conformal(data, model_obj=dt_model_obj, \n",
    "                       params={MIN_SAMPLES_KEY: max(5, int(dt_min_sample_ratio * len(data['data'])))},\n",
    "                       epsilon_arr=eps_err, err_func=MarginErrFunc, smoothing=True, \n",
    "                       seed=1, verbose=True)\n",
    "# Get average values of metrics\n",
    "print('\\naverage values for each eps')\n",
    "dt_mean_df = res_df.groupby('eps').mean()\n",
    "dt_mean_df"
   ]
  },
  {
   "cell_type": "markdown",
   "metadata": {},
   "source": [
    "#####  InverseProbabilityErrFunc"
   ]
  },
  {
   "cell_type": "code",
   "execution_count": null,
   "metadata": {},
   "outputs": [],
   "source": [
    "res_df = run_conformal(data, model_obj=dt_model_obj, \n",
    "                       params={MIN_SAMPLES_KEY: max(5, int(dt_min_sample_ratio * len(data['data'])))},\n",
    "                       epsilon_arr=eps_err, err_func=InverseProbabilityErrFunc, smoothing=True, \n",
    "                       seed=1, verbose=True)\n",
    "# Get average values of metrics\n",
    "print('\\naverage values for each eps')\n",
    "res_df.groupby('eps').mean()"
   ]
  },
  {
   "cell_type": "code",
   "execution_count": null,
   "metadata": {},
   "outputs": [],
   "source": [
    "tmp_df = res_df.groupby('eps').mean()\n",
    "# rename columns for margin function\n",
    "dt_mean_df.columns = ['fold', 'origin_err', 'marg_err', 'marg_oneC', 'marg_avgC', \n",
    "                       'Simul_err', 'Simul_oneC', 'Simul_avgC']\n",
    "# these columns contain results for inverse probability non-conformity function\n",
    "dt_mean_df['inv_err'] = tmp_df['Conf_err']\n",
    "dt_mean_df['inv_oneC'] = tmp_df['Conf_oneC']\n",
    "dt_mean_df['inv_avgC'] = tmp_df['Conf_avgC']\n",
    "dt_mean_df"
   ]
  },
  {
   "cell_type": "markdown",
   "metadata": {},
   "source": [
    "### Plot results: error rate"
   ]
  },
  {
   "cell_type": "code",
   "execution_count": null,
   "metadata": {},
   "outputs": [],
   "source": [
    "# SVM color - blue\n",
    "color = 'blue'\n",
    "df = svm_mean_df\n",
    "plt.plot(eps_err, df['origin_err'], label='SVM', color=color, lw=3) # thik line for original error\n",
    "plt.plot(eps_err, df['marg_err'], label='- margin', color=color, ) # normal line for margin error\n",
    "plt.plot(eps_err, df['inv_err'], label='- inv prob', color=color, linestyle='--') # dashed line for inv_prob error\n",
    "plt.plot(eps_err, df['Simul_err'], label='- simulated', color=color, linestyle=':') # dotted line for simulation error\n",
    "\n",
    "# Decision tree color - orange\n",
    "color = 'orange'\n",
    "df = dt_mean_df\n",
    "plt.plot(eps_err, df['origin_err'], label='Decision tree', color=color, lw=3) # thik line for original error\n",
    "plt.plot(eps_err, df['marg_err'], label='_nolegend_', color=color, ) # normal line for margin error\n",
    "plt.plot(eps_err, df['inv_err'], label='_nolegend_', color=color, linestyle='--') # dashed line for inv_prob error\n",
    "plt.plot(eps_err, df['Simul_err'], label='_nolegend_', color=color, linestyle=':') # dotted line for simulation error\n",
    "\n",
    "plt.xticks(eps_err)\n",
    "y_ticks = eps_err[:]\n",
    "y_ticks.extend([0.3, 0.4, 0.5])\n",
    "plt.yticks(y_ticks)\n",
    "plt.grid(True)\n",
    "plt.legend()\n",
    "plt.title('Error rate')"
   ]
  },
  {
   "cell_type": "markdown",
   "metadata": {},
   "source": [
    "### Plot: oneC"
   ]
  },
  {
   "cell_type": "code",
   "execution_count": null,
   "metadata": {},
   "outputs": [],
   "source": [
    "# SVM color - blue\n",
    "color = 'blue'\n",
    "df = svm_mean_df\n",
    "plt.plot(eps_err, df['marg_oneC'], label='SVM', color=color, ) # normal line for margin error\n",
    "plt.plot(eps_err, df['inv_oneC'], label='_nolegend_', color=color, linestyle='--') # dashed line for inv_prob error\n",
    "plt.plot(eps_err, df['Simul_oneC'], label='_nolegend_', color=color, linestyle=':') # dotted line for simulation error\n",
    "\n",
    "# Decision tree color - orange\n",
    "color = 'orange'\n",
    "df = dt_mean_df\n",
    "plt.plot(eps_err, df['marg_oneC'], label='Decision tree', color=color, ) # normal line for margin error\n",
    "plt.plot(eps_err, df['inv_oneC'], label='_nolegend_', color=color, linestyle='--') # dashed line for inv_prob error\n",
    "plt.plot(eps_err, df['Simul_oneC'], label='_nolegend_', color=color, linestyle=':') # dotted line for simulation error\n",
    "\n",
    "plt.xticks(eps_err)\n",
    "plt.grid(True)\n",
    "plt.legend()\n",
    "plt.title('oneC')"
   ]
  },
  {
   "cell_type": "markdown",
   "metadata": {},
   "source": [
    "### avgC"
   ]
  },
  {
   "cell_type": "code",
   "execution_count": null,
   "metadata": {},
   "outputs": [],
   "source": [
    "# SVM color - blue\n",
    "color = 'blue'\n",
    "df = svm_mean_df\n",
    "plt.plot(eps_err, df['marg_avgC'], label='SVM', color=color, ) # normal line for margin error\n",
    "plt.plot(eps_err, df['inv_avgC'], label='_nolegend_', color=color, linestyle='--') # dashed line for inv_prob error\n",
    "plt.plot(eps_err, df['Simul_avgC'], label='_nolegend_', color=color, linestyle=':') # dotted line for simulation error\n",
    "\n",
    "# Decision tree color - orange\n",
    "color = 'orange'\n",
    "df = dt_mean_df\n",
    "plt.plot(eps_err, df['marg_avgC'], label='Decision tree', color=color, ) # normal line for margin error\n",
    "plt.plot(eps_err, df['inv_avgC'], label='_nolegend_', color=color, linestyle='--') # dashed line for inv_prob error\n",
    "plt.plot(eps_err, df['Simul_avgC'], label='_nolegend_', color=color, linestyle=':') # dotted line for simulation error\n",
    "\n",
    "plt.xticks(eps_err)\n",
    "plt.grid(True)\n",
    "plt.legend()\n",
    "plt.title('avgC')"
   ]
  },
  {
   "cell_type": "markdown",
   "metadata": {},
   "source": [
    "### heat"
   ]
  },
  {
   "cell_type": "code",
   "execution_count": null,
   "metadata": {},
   "outputs": [],
   "source": [
    "from sklearn.preprocessing import LabelEncoder\n",
    "def load_heat():\n",
    "    print('Loading heat')\n",
    "    # load heat dataset\n",
    "    file = '../datasets/heat.csv'\n",
    "    df = pd.read_csv(file,header=0, sep=',')\n",
    "    target_names = df.iloc[:,-1].unique()\n",
    "    target_names.sort()\n",
    "    label_encoder = LabelEncoder()\n",
    "    data_points = df.iloc[:,2:-1] \n",
    "    target = df[df.columns[-1]].values \n",
    "    \n",
    "    # scale target \n",
    "#     target -= min(target)\n",
    "    data = {'target': target, 'data': data_points.values,\n",
    "            'target_names': target_names}\n",
    "    return data"
   ]
  },
  {
   "cell_type": "code",
   "execution_count": null,
   "metadata": {},
   "outputs": [],
   "source": [
    "heat_df = pd.read_csv('../datasets/heat.csv',header=0,sep=',')\n",
    "print(heat_df.shape)\n",
    "# balance_df.drop(0, axis=1,inplace=True)\n",
    "heat_df.head()\n",
    "# heat_df.iloc[:,-1].unique()"
   ]
  },
  {
   "cell_type": "code",
   "execution_count": null,
   "metadata": {},
   "outputs": [],
   "source": [
    "data = load_heat()"
   ]
  },
  {
   "cell_type": "code",
   "execution_count": null,
   "metadata": {},
   "outputs": [],
   "source": [
    "def plotClasses(df):\n",
    "    cols = [\"col\"+str(x) for x in range(1,len(df.columns))]\n",
    "    cols.append(\"target\")\n",
    "    df.columns = cols # add column names to the data frame \n",
    "    counts = df.groupby(by=\"target\").count()[['col1']]\n",
    "    labels = counts.index.to_list()\n",
    "    data_points = counts.values.reshape(len(counts),)\n",
    "    return plt.bar(labels,data_points)"
   ]
  },
  {
   "cell_type": "code",
   "execution_count": null,
   "metadata": {},
   "outputs": [],
   "source": [
    "plotClasses(heat_df)"
   ]
  },
  {
   "cell_type": "markdown",
   "metadata": {},
   "source": [
    "### svm"
   ]
  },
  {
   "cell_type": "markdown",
   "metadata": {},
   "source": [
    "##### MarginErrFunc"
   ]
  },
  {
   "cell_type": "code",
   "execution_count": null,
   "metadata": {},
   "outputs": [],
   "source": [
    "res_df = run_conformal(data, epsilon_arr=eps_err, err_func=MarginErrFunc, smoothing=True, \n",
    "                       seed=1, verbose=True)\n",
    "# Get average values of metrics\n",
    "print('\\naverage values for each eps')\n",
    "res_df.groupby('eps').mean()"
   ]
  },
  {
   "cell_type": "markdown",
   "metadata": {},
   "source": [
    "#####  InverseProbabilityErrFunc"
   ]
  },
  {
   "cell_type": "code",
   "execution_count": null,
   "metadata": {},
   "outputs": [],
   "source": [
    "res_df = run_conformal(data, epsilon_arr=eps_err, err_func=InverseProbabilityErrFunc, smoothing=True,\n",
    "                             seed=1, verbose=True)\n",
    "# Get average values of metrics\n",
    "print('average values for each eps')\n",
    "res_df.groupby('eps').mean()"
   ]
  },
  {
   "cell_type": "code",
   "execution_count": null,
   "metadata": {},
   "outputs": [],
   "source": [
    "tmp_df = res_df.groupby('eps').mean()\n",
    "# rename columns for margin function\n",
    "svm_mean_df.columns = ['fold', 'origin_err', 'marg_err', 'marg_oneC', 'marg_avgC', \n",
    "                       'Simul_err', 'Simul_oneC', 'Simul_avgC']\n",
    "# these columns contain results for inverse probability non-conformity function\n",
    "svm_mean_df['inv_err'] = tmp_df['Conf_err']\n",
    "svm_mean_df['inv_oneC'] = tmp_df['Conf_oneC']\n",
    "svm_mean_df['inv_avgC'] = tmp_df['Conf_avgC']\n",
    "svm_mean_df"
   ]
  },
  {
   "cell_type": "markdown",
   "metadata": {},
   "source": [
    "### decision tree"
   ]
  },
  {
   "cell_type": "markdown",
   "metadata": {},
   "source": [
    "##### MarginErrFunc"
   ]
  },
  {
   "cell_type": "code",
   "execution_count": null,
   "metadata": {},
   "outputs": [],
   "source": [
    "res_df = run_conformal(data, model_obj=dt_model_obj, \n",
    "                       params={MIN_SAMPLES_KEY: max(5, int(dt_min_sample_ratio * len(data['data'])))},\n",
    "                       epsilon_arr=eps_err, err_func=MarginErrFunc, smoothing=True, \n",
    "                       seed=1, verbose=True)\n",
    "# Get average values of metrics\n",
    "print('\\naverage values for each eps')\n",
    "dt_mean_df = res_df.groupby('eps').mean()\n",
    "dt_mean_df"
   ]
  },
  {
   "cell_type": "markdown",
   "metadata": {},
   "source": [
    "#####  InverseProbabilityErrFunc"
   ]
  },
  {
   "cell_type": "code",
   "execution_count": null,
   "metadata": {},
   "outputs": [],
   "source": [
    "res_df = run_conformal(data, model_obj=dt_model_obj, \n",
    "                       params={MIN_SAMPLES_KEY: max(5, int(dt_min_sample_ratio * len(data['data'])))},\n",
    "                       epsilon_arr=eps_err, err_func=InverseProbabilityErrFunc, smoothing=True, \n",
    "                       seed=1, verbose=True)\n",
    "# Get average values of metrics\n",
    "print('\\naverage values for each eps')\n",
    "res_df.groupby('eps').mean()"
   ]
  },
  {
   "cell_type": "code",
   "execution_count": null,
   "metadata": {},
   "outputs": [],
   "source": [
    "tmp_df = res_df.groupby('eps').mean()\n",
    "# rename columns for margin function\n",
    "dt_mean_df.columns = ['fold', 'origin_err', 'marg_err', 'marg_oneC', 'marg_avgC', \n",
    "                       'Simul_err', 'Simul_oneC', 'Simul_avgC']\n",
    "# these columns contain results for inverse probability non-conformity function\n",
    "dt_mean_df['inv_err'] = tmp_df['Conf_err']\n",
    "dt_mean_df['inv_oneC'] = tmp_df['Conf_oneC']\n",
    "dt_mean_df['inv_avgC'] = tmp_df['Conf_avgC']\n",
    "dt_mean_df"
   ]
  },
  {
   "cell_type": "markdown",
   "metadata": {},
   "source": [
    "### Plot results: error rate"
   ]
  },
  {
   "cell_type": "code",
   "execution_count": null,
   "metadata": {},
   "outputs": [],
   "source": [
    "# SVM color - blue\n",
    "color = 'blue'\n",
    "df = svm_mean_df\n",
    "plt.plot(eps_err, df['origin_err'], label='SVM', color=color, lw=3) # thik line for original error\n",
    "plt.plot(eps_err, df['marg_err'], label='- margin', color=color, ) # normal line for margin error\n",
    "plt.plot(eps_err, df['inv_err'], label='- inv prob', color=color, linestyle='--') # dashed line for inv_prob error\n",
    "plt.plot(eps_err, df['Simul_err'], label='- simulated', color=color, linestyle=':') # dotted line for simulation error\n",
    "\n",
    "# Decision tree color - orange\n",
    "color = 'orange'\n",
    "df = dt_mean_df\n",
    "plt.plot(eps_err, df['origin_err'], label='Decision tree', color=color, lw=3) # thik line for original error\n",
    "plt.plot(eps_err, df['marg_err'], label='_nolegend_', color=color, ) # normal line for margin error\n",
    "plt.plot(eps_err, df['inv_err'], label='_nolegend_', color=color, linestyle='--') # dashed line for inv_prob error\n",
    "plt.plot(eps_err, df['Simul_err'], label='_nolegend_', color=color, linestyle=':') # dotted line for simulation error\n",
    "\n",
    "plt.xticks(eps_err)\n",
    "y_ticks = eps_err[:]\n",
    "y_ticks.extend([0.3, 0.4, 0.5])\n",
    "plt.yticks(y_ticks)\n",
    "plt.grid(True)\n",
    "plt.legend()\n",
    "plt.title('Error rate')"
   ]
  },
  {
   "cell_type": "markdown",
   "metadata": {},
   "source": [
    "### Plot: oneC"
   ]
  },
  {
   "cell_type": "code",
   "execution_count": null,
   "metadata": {},
   "outputs": [],
   "source": [
    "# SVM color - blue\n",
    "color = 'blue'\n",
    "df = svm_mean_df\n",
    "plt.plot(eps_err, df['marg_oneC'], label='SVM', color=color, ) # normal line for margin error\n",
    "plt.plot(eps_err, df['inv_oneC'], label='_nolegend_', color=color, linestyle='--') # dashed line for inv_prob error\n",
    "plt.plot(eps_err, df['Simul_oneC'], label='_nolegend_', color=color, linestyle=':') # dotted line for simulation error\n",
    "\n",
    "# Decision tree color - orange\n",
    "color = 'orange'\n",
    "df = dt_mean_df\n",
    "plt.plot(eps_err, df['marg_oneC'], label='Decision tree', color=color, ) # normal line for margin error\n",
    "plt.plot(eps_err, df['inv_oneC'], label='_nolegend_', color=color, linestyle='--') # dashed line for inv_prob error\n",
    "plt.plot(eps_err, df['Simul_oneC'], label='_nolegend_', color=color, linestyle=':') # dotted line for simulation error\n",
    "\n",
    "plt.xticks(eps_err)\n",
    "plt.grid(True)\n",
    "plt.legend()\n",
    "plt.title('oneC')"
   ]
  },
  {
   "cell_type": "markdown",
   "metadata": {},
   "source": [
    "### avgC"
   ]
  },
  {
   "cell_type": "code",
   "execution_count": null,
   "metadata": {},
   "outputs": [],
   "source": [
    "# SVM color - blue\n",
    "color = 'blue'\n",
    "df = svm_mean_df\n",
    "plt.plot(eps_err, df['marg_avgC'], label='SVM', color=color, ) # normal line for margin error\n",
    "plt.plot(eps_err, df['inv_avgC'], label='_nolegend_', color=color, linestyle='--') # dashed line for inv_prob error\n",
    "plt.plot(eps_err, df['Simul_avgC'], label='_nolegend_', color=color, linestyle=':') # dotted line for simulation error\n",
    "\n",
    "# Decision tree color - orange\n",
    "color = 'orange'\n",
    "df = dt_mean_df\n",
    "plt.plot(eps_err, df['marg_avgC'], label='Decision tree', color=color, ) # normal line for margin error\n",
    "plt.plot(eps_err, df['inv_avgC'], label='_nolegend_', color=color, linestyle='--') # dashed line for inv_prob error\n",
    "plt.plot(eps_err, df['Simul_avgC'], label='_nolegend_', color=color, linestyle=':') # dotted line for simulation error\n",
    "\n",
    "plt.xticks(eps_err)\n",
    "plt.grid(True)\n",
    "plt.legend()\n",
    "plt.title('avgC')"
   ]
  },
  {
   "cell_type": "markdown",
   "metadata": {},
   "source": [
    "## tai"
   ]
  },
  {
   "cell_type": "code",
   "execution_count": null,
   "metadata": {},
   "outputs": [],
   "source": [
    "from sklearn.preprocessing import LabelEncoder\n",
    "def load_tai():\n",
    "    print('Loading tai')\n",
    "    # load tai dataset\n",
    "    file = '../datasets/tai.csv'\n",
    "    df = pd.read_csv(file,header=0, sep=',')\n",
    "#     df.drop(0, axis=1,inplace=True)\n",
    "    target_names = df.iloc[:,1].unique()\n",
    "    target_names.sort()\n",
    "    \n",
    "    target = df.iloc[:,1].values \n",
    "    label_encoder = LabelEncoder()\n",
    "    target = label_encoder.fit_transform(target)\n",
    "    # scale target \n",
    "#     target -= min(target)\n",
    "\n",
    "    data = {'target': target, 'data': df.iloc[:,2:-1].values,\n",
    "            'target_names': target_names}\n",
    "    return data"
   ]
  },
  {
   "cell_type": "code",
   "execution_count": null,
   "metadata": {},
   "outputs": [],
   "source": [
    "tai_df = pd.read_csv('../datasets/tai.csv',header=0,sep=',')\n",
    "print(tai_df.shape)\n",
    "# balance_df.drop(0, axis=1,inplace=True)\n",
    "tai_df.head()\n",
    "# tai_df.iloc[:,1].unique()"
   ]
  },
  {
   "cell_type": "code",
   "execution_count": null,
   "metadata": {},
   "outputs": [],
   "source": [
    "data = load_tai()"
   ]
  },
  {
   "cell_type": "code",
   "execution_count": null,
   "metadata": {},
   "outputs": [],
   "source": [
    "def plotClasses(df):\n",
    "    cols = [\"col\"+str(x) for x in range(1,len(df.columns))]\n",
    "    cols.append(\"target\")\n",
    "    df.columns = cols # add column names to the data frame \n",
    "    counts = df.groupby(by=\"target\").count()[['col1']]\n",
    "    labels = counts.index.to_list()\n",
    "    data_points = counts.values.reshape(len(counts),)\n",
    "    return plt.bar(labels,data_points)"
   ]
  },
  {
   "cell_type": "code",
   "execution_count": null,
   "metadata": {},
   "outputs": [],
   "source": [
    "plotClasses(tai_df)"
   ]
  },
  {
   "cell_type": "markdown",
   "metadata": {},
   "source": [
    "### svm"
   ]
  },
  {
   "cell_type": "markdown",
   "metadata": {},
   "source": [
    "##### MarginErrFunc"
   ]
  },
  {
   "cell_type": "code",
   "execution_count": null,
   "metadata": {},
   "outputs": [],
   "source": [
    "res_df = run_conformal(data, epsilon_arr=eps_err, err_func=MarginErrFunc, smoothing=True, \n",
    "                       seed=1, verbose=True)\n",
    "# Get average values of metrics\n",
    "print('\\naverage values for each eps')\n",
    "res_df.groupby('eps').mean()"
   ]
  },
  {
   "cell_type": "markdown",
   "metadata": {},
   "source": [
    "#####  InverseProbabilityErrFunc\n"
   ]
  },
  {
   "cell_type": "code",
   "execution_count": null,
   "metadata": {},
   "outputs": [],
   "source": [
    "res_df = run_conformal(data, epsilon_arr=eps_err, err_func=InverseProbabilityErrFunc, smoothing=True,\n",
    "                             seed=1, verbose=True)\n",
    "# Get average values of metrics\n",
    "print('average values for each eps')\n",
    "res_df.groupby('eps').mean()"
   ]
  },
  {
   "cell_type": "markdown",
   "metadata": {},
   "source": [
    "### decision tree"
   ]
  },
  {
   "cell_type": "markdown",
   "metadata": {},
   "source": [
    "### MarginErrFunc"
   ]
  },
  {
   "cell_type": "code",
   "execution_count": null,
   "metadata": {},
   "outputs": [],
   "source": [
    "res_df = run_conformal(data, epsilon_arr=eps_err, err_func=MarginErrFunc, smoothing=True,\n",
    "                       seed=1, verbose=True)\n",
    "# Get average values of metrics\n",
    "print('\\naverage values for each eps')\n",
    "mean_df = res_df.groupby('eps').mean()\n",
    "mean_df"
   ]
  },
  {
   "cell_type": "markdown",
   "metadata": {},
   "source": [
    "#####  InverseProbabilityErrFunc"
   ]
  },
  {
   "cell_type": "code",
   "execution_count": null,
   "metadata": {},
   "outputs": [],
   "source": [
    "res_df = run_conformal(data, epsilon_arr=eps_err, err_func=InverseProbabilityErrFunc, smoothing=True,\n",
    "                             seed=1, verbose=True)\n",
    "# Get average values of metrics\n",
    "print('average values for each eps')\n",
    "res_df.groupby('eps').mean()"
   ]
  },
  {
   "cell_type": "code",
   "execution_count": null,
   "metadata": {},
   "outputs": [],
   "source": [
    "tmp_df = res_df.groupby('eps').mean()\n",
    "# rename columns for margin function\n",
    "dt_mean_df.columns = ['fold', 'origin_err', 'marg_err', 'marg_oneC', 'marg_avgC', \n",
    "                       'Simul_err', 'Simul_oneC', 'Simul_avgC']\n",
    "# these columns contain results for inverse probability non-conformity function\n",
    "dt_mean_df['inv_err'] = tmp_df['Conf_err']\n",
    "dt_mean_df['inv_oneC'] = tmp_df['Conf_oneC']\n",
    "dt_mean_df['inv_avgC'] = tmp_df['Conf_avgC']\n",
    "dt_mean_df"
   ]
  },
  {
   "cell_type": "markdown",
   "metadata": {},
   "source": [
    "#### Plot results: error rate"
   ]
  },
  {
   "cell_type": "code",
   "execution_count": null,
   "metadata": {},
   "outputs": [],
   "source": [
    "# SVM color - blue\n",
    "color = 'blue'\n",
    "df = svm_mean_df\n",
    "plt.plot(eps_err, df['origin_err'], label='SVM', color=color, lw=3) # thik line for original error\n",
    "plt.plot(eps_err, df['marg_err'], label='- margin', color=color, ) # normal line for margin error\n",
    "plt.plot(eps_err, df['inv_err'], label='- inv prob', color=color, linestyle='--') # dashed line for inv_prob error\n",
    "plt.plot(eps_err, df['Simul_err'], label='- simulated', color=color, linestyle=':') # dotted line for simulation error\n",
    "\n",
    "# Decision tree color - orange\n",
    "color = 'orange'\n",
    "df = dt_mean_df\n",
    "plt.plot(eps_err, df['origin_err'], label='Decision tree', color=color, lw=3) # thik line for original error\n",
    "plt.plot(eps_err, df['marg_err'], label='_nolegend_', color=color, ) # normal line for margin error\n",
    "plt.plot(eps_err, df['inv_err'], label='_nolegend_', color=color, linestyle='--') # dashed line for inv_prob error\n",
    "plt.plot(eps_err, df['Simul_err'], label='_nolegend_', color=color, linestyle=':') # dotted line for simulation error\n",
    "\n",
    "plt.xticks(eps_err)\n",
    "y_ticks = eps_err[:]\n",
    "y_ticks.extend([0.3, 0.4, 0.5])\n",
    "plt.yticks(y_ticks)\n",
    "plt.grid(True)\n",
    "plt.legend()\n",
    "plt.title('Error rate')"
   ]
  },
  {
   "cell_type": "markdown",
   "metadata": {},
   "source": [
    "### Plot: oneC"
   ]
  },
  {
   "cell_type": "code",
   "execution_count": null,
   "metadata": {},
   "outputs": [],
   "source": [
    "# SVM color - blue\n",
    "color = 'blue'\n",
    "df = svm_mean_df\n",
    "plt.plot(eps_err, df['marg_oneC'], label='SVM', color=color, ) # normal line for margin error\n",
    "plt.plot(eps_err, df['inv_oneC'], label='_nolegend_', color=color, linestyle='--') # dashed line for inv_prob error\n",
    "plt.plot(eps_err, df['Simul_oneC'], label='_nolegend_', color=color, linestyle=':') # dotted line for simulation error\n",
    "\n",
    "# Decision tree color - orange\n",
    "color = 'orange'\n",
    "df = dt_mean_df\n",
    "plt.plot(eps_err, df['marg_oneC'], label='Decision tree', color=color, ) # normal line for margin error\n",
    "plt.plot(eps_err, df['inv_oneC'], label='_nolegend_', color=color, linestyle='--') # dashed line for inv_prob error\n",
    "plt.plot(eps_err, df['Simul_oneC'], label='_nolegend_', color=color, linestyle=':') # dotted line for simulation error\n",
    "\n",
    "plt.xticks(eps_err)\n",
    "plt.grid(True)\n",
    "plt.legend()\n",
    "plt.title('oneC')"
   ]
  },
  {
   "cell_type": "markdown",
   "metadata": {},
   "source": [
    "#### avgC"
   ]
  },
  {
   "cell_type": "code",
   "execution_count": null,
   "metadata": {},
   "outputs": [],
   "source": [
    "# SVM color - blue\n",
    "color = 'blue'\n",
    "df = svm_mean_df\n",
    "plt.plot(eps_err, df['marg_avgC'], label='SVM', color=color, ) # normal line for margin error\n",
    "plt.plot(eps_err, df['inv_avgC'], label='_nolegend_', color=color, linestyle='--') # dashed line for inv_prob error\n",
    "plt.plot(eps_err, df['Simul_avgC'], label='_nolegend_', color=color, linestyle=':') # dotted line for simulation error\n",
    "\n",
    "# Decision tree color - orange\n",
    "color = 'orange'\n",
    "df = dt_mean_df\n",
    "plt.plot(eps_err, df['marg_avgC'], label='Decision tree', color=color, ) # normal line for margin error\n",
    "plt.plot(eps_err, df['inv_avgC'], label='_nolegend_', color=color, linestyle='--') # dashed line for inv_prob error\n",
    "plt.plot(eps_err, df['Simul_avgC'], label='_nolegend_', color=color, linestyle=':') # dotted line for simulation error\n",
    "\n",
    "plt.xticks(eps_err)\n",
    "plt.grid(True)\n",
    "plt.legend()\n",
    "plt.title('avgC')"
   ]
  },
  {
   "cell_type": "markdown",
   "metadata": {},
   "source": [
    "## vowel"
   ]
  },
  {
   "cell_type": "code",
   "execution_count": null,
   "metadata": {},
   "outputs": [],
   "source": [
    "from sklearn.preprocessing import LabelEncoder\n",
    "def load_vowel():\n",
    "    print('Loading vowel')\n",
    "    # load vowel dataset\n",
    "    file = '../datasets/vowel.csv'\n",
    "    df = pd.read_csv(file,header=None, sep=',')\n",
    "    \n",
    "    target_names = df[df.columns[-1]].unique()\n",
    "    target_names.sort()\n",
    "    \n",
    "    target = df[df.columns[-1]].values \n",
    "    \n",
    "    # scale target \n",
    "#     target -= min(target)\n",
    "    data = {'target': target, 'data': df[df.columns[:-1]].values,\n",
    "            'target_names': target_names}\n",
    "    return data\n",
    "load_vowel()"
   ]
  },
  {
   "cell_type": "code",
   "execution_count": null,
   "metadata": {},
   "outputs": [],
   "source": [
    "vowel_df = pd.read_csv('../datasets/vowel.csv',header=None,sep=',')\n",
    "# print(len(vowel_df))\n",
    "balance_df.dropna(axis=1,inplace=True)\n",
    "vowel_df.head()"
   ]
  },
  {
   "cell_type": "code",
   "execution_count": null,
   "metadata": {},
   "outputs": [],
   "source": [
    "data = load_vowel()"
   ]
  },
  {
   "cell_type": "code",
   "execution_count": null,
   "metadata": {},
   "outputs": [],
   "source": [
    "def plotClasses(df):\n",
    "    cols = [\"col\"+str(x) for x in range(1,len(df.columns))]\n",
    "    cols.append(\"target\")\n",
    "    df.columns = cols # add column names to the data frame \n",
    "    counts = df.groupby(by=\"target\").count()[['col1']]\n",
    "    labels = counts.index.to_list()\n",
    "    data_points = counts.values.reshape(len(counts),)\n",
    "    return plt.bar(labels,data_points)"
   ]
  },
  {
   "cell_type": "code",
   "execution_count": null,
   "metadata": {},
   "outputs": [],
   "source": [
    "plotClasses(vowel_df)"
   ]
  },
  {
   "cell_type": "markdown",
   "metadata": {},
   "source": [
    "### svm"
   ]
  },
  {
   "cell_type": "markdown",
   "metadata": {},
   "source": [
    "##### MarginErrFunc"
   ]
  },
  {
   "cell_type": "code",
   "execution_count": null,
   "metadata": {},
   "outputs": [],
   "source": [
    "res_df = run_conformal(data, epsilon_arr=eps_err, err_func=MarginErrFunc, smoothing=True, \n",
    "                       seed=1, verbose=True)\n",
    "# Get average values of metrics\n",
    "print('\\naverage values for each eps')\n",
    "res_df.groupby('eps').mean()"
   ]
  },
  {
   "cell_type": "markdown",
   "metadata": {},
   "source": [
    "#####  InverseProbabilityErrFunc"
   ]
  },
  {
   "cell_type": "code",
   "execution_count": null,
   "metadata": {},
   "outputs": [],
   "source": [
    "res_df = run_conformal(data, epsilon_arr=eps_err, err_func=InverseProbabilityErrFunc, smoothing=True,\n",
    "                             seed=1, verbose=True)\n",
    "# Get average values of metrics\n",
    "print('average values for each eps')\n",
    "res_df.groupby('eps').mean()"
   ]
  },
  {
   "cell_type": "code",
   "execution_count": null,
   "metadata": {},
   "outputs": [],
   "source": [
    "tmp_df = res_df.groupby('eps').mean()\n",
    "# rename columns for margin function\n",
    "dt_mean_df.columns = ['fold', 'origin_err', 'marg_err', 'marg_oneC', 'marg_avgC', \n",
    "                       'Simul_err', 'Simul_oneC', 'Simul_avgC']\n",
    "# these columns contain results for inverse probability non-conformity function\n",
    "dt_mean_df['inv_err'] = tmp_df['Conf_err']\n",
    "dt_mean_df['inv_oneC'] = tmp_df['Conf_oneC']\n",
    "dt_mean_df['inv_avgC'] = tmp_df['Conf_avgC']\n",
    "dt_mean_df"
   ]
  },
  {
   "cell_type": "markdown",
   "metadata": {},
   "source": [
    "### decision tree"
   ]
  },
  {
   "cell_type": "markdown",
   "metadata": {},
   "source": [
    "##### MarginErrFunc"
   ]
  },
  {
   "cell_type": "code",
   "execution_count": null,
   "metadata": {},
   "outputs": [],
   "source": [
    "res_df = run_conformal(data, model_obj=dt_model_obj, \n",
    "                       params={MIN_SAMPLES_KEY: max(5, int(dt_min_sample_ratio * len(data['data'])))},\n",
    "                       epsilon_arr=eps_err, err_func=MarginErrFunc, smoothing=True, \n",
    "                       seed=1, verbose=True)\n",
    "# Get average values of metrics\n",
    "print('\\naverage values for each eps')\n",
    "dt_mean_df = res_df.groupby('eps').mean()\n",
    "dt_mean_df"
   ]
  },
  {
   "cell_type": "markdown",
   "metadata": {},
   "source": [
    "#####  InverseProbabilityErrFunc"
   ]
  },
  {
   "cell_type": "code",
   "execution_count": null,
   "metadata": {},
   "outputs": [],
   "source": [
    "res_df = run_conformal(data, model_obj=dt_model_obj, \n",
    "                       params={MIN_SAMPLES_KEY: max(5, int(dt_min_sample_ratio * len(data['data'])))},\n",
    "                       epsilon_arr=eps_err, err_func=InverseProbabilityErrFunc, smoothing=True, \n",
    "                       seed=1, verbose=True)\n",
    "# Get average values of metrics\n",
    "print('\\naverage values for each eps')\n",
    "res_df.groupby('eps').mean()"
   ]
  },
  {
   "cell_type": "code",
   "execution_count": null,
   "metadata": {},
   "outputs": [],
   "source": [
    "tmp_df = res_df.groupby('eps').mean()\n",
    "# rename columns for margin function\n",
    "dt_mean_df.columns = ['fold', 'origin_err', 'marg_err', 'marg_oneC', 'marg_avgC', \n",
    "                       'Simul_err', 'Simul_oneC', 'Simul_avgC']\n",
    "# these columns contain results for inverse probability non-conformity function\n",
    "dt_mean_df['inv_err'] = tmp_df['Conf_err']\n",
    "dt_mean_df['inv_oneC'] = tmp_df['Conf_oneC']\n",
    "dt_mean_df['inv_avgC'] = tmp_df['Conf_avgC']\n",
    "dt_mean_df"
   ]
  },
  {
   "cell_type": "markdown",
   "metadata": {},
   "source": [
    "### Plot results: error rate"
   ]
  },
  {
   "cell_type": "code",
   "execution_count": null,
   "metadata": {},
   "outputs": [],
   "source": [
    "# SVM color - blue\n",
    "color = 'blue'\n",
    "df = svm_mean_df\n",
    "plt.plot(eps_err, df['origin_err'], label='SVM', color=color, lw=3) # thik line for original error\n",
    "plt.plot(eps_err, df['marg_err'], label='- margin', color=color, ) # normal line for margin error\n",
    "plt.plot(eps_err, df['inv_err'], label='- inv prob', color=color, linestyle='--') # dashed line for inv_prob error\n",
    "plt.plot(eps_err, df['Simul_err'], label='- simulated', color=color, linestyle=':') # dotted line for simulation error\n",
    "\n",
    "# Decision tree color - orange\n",
    "color = 'orange'\n",
    "df = dt_mean_df\n",
    "plt.plot(eps_err, df['origin_err'], label='Decision tree', color=color, lw=3) # thik line for original error\n",
    "plt.plot(eps_err, df['marg_err'], label='_nolegend_', color=color, ) # normal line for margin error\n",
    "plt.plot(eps_err, df['inv_err'], label='_nolegend_', color=color, linestyle='--') # dashed line for inv_prob error\n",
    "plt.plot(eps_err, df['Simul_err'], label='_nolegend_', color=color, linestyle=':') # dotted line for simulation error\n",
    "\n",
    "plt.xticks(eps_err)\n",
    "y_ticks = eps_err[:]\n",
    "y_ticks.extend([0.3, 0.4, 0.5])\n",
    "plt.yticks(y_ticks)\n",
    "plt.grid(True)\n",
    "plt.legend()\n",
    "plt.title('Error rate')"
   ]
  },
  {
   "cell_type": "markdown",
   "metadata": {},
   "source": [
    "### Plot: oneC"
   ]
  },
  {
   "cell_type": "code",
   "execution_count": null,
   "metadata": {},
   "outputs": [],
   "source": [
    "# SVM color - blue\n",
    "color = 'blue'\n",
    "df = svm_mean_df\n",
    "plt.plot(eps_err, df['marg_oneC'], label='SVM', color=color, ) # normal line for margin error\n",
    "plt.plot(eps_err, df['inv_oneC'], label='_nolegend_', color=color, linestyle='--') # dashed line for inv_prob error\n",
    "plt.plot(eps_err, df['Simul_oneC'], label='_nolegend_', color=color, linestyle=':') # dotted line for simulation error\n",
    "\n",
    "# Decision tree color - orange\n",
    "color = 'orange'\n",
    "df = dt_mean_df\n",
    "plt.plot(eps_err, df['marg_oneC'], label='Decision tree', color=color, ) # normal line for margin error\n",
    "plt.plot(eps_err, df['inv_oneC'], label='_nolegend_', color=color, linestyle='--') # dashed line for inv_prob error\n",
    "plt.plot(eps_err, df['Simul_oneC'], label='_nolegend_', color=color, linestyle=':') # dotted line for simulation error\n",
    "\n",
    "plt.xticks(eps_err)\n",
    "plt.grid(True)\n",
    "plt.legend()\n",
    "plt.title('oneC')"
   ]
  },
  {
   "cell_type": "markdown",
   "metadata": {},
   "source": [
    "#### avgC"
   ]
  },
  {
   "cell_type": "code",
   "execution_count": null,
   "metadata": {},
   "outputs": [],
   "source": [
    "# SVM color - blue\n",
    "color = 'blue'\n",
    "df = svm_mean_df\n",
    "plt.plot(eps_err, df['marg_avgC'], label='SVM', color=color, ) # normal line for margin error\n",
    "plt.plot(eps_err, df['inv_avgC'], label='_nolegend_', color=color, linestyle='--') # dashed line for inv_prob error\n",
    "plt.plot(eps_err, df['Simul_avgC'], label='_nolegend_', color=color, linestyle=':') # dotted line for simulation error\n",
    "\n",
    "# Decision tree color - orange\n",
    "color = 'orange'\n",
    "df = dt_mean_df\n",
    "plt.plot(eps_err, df['marg_avgC'], label='Decision tree', color=color, ) # normal line for margin error\n",
    "plt.plot(eps_err, df['inv_avgC'], label='_nolegend_', color=color, linestyle='--') # dashed line for inv_prob error\n",
    "plt.plot(eps_err, df['Simul_avgC'], label='_nolegend_', color=color, linestyle=':') # dotted line for simulation error\n",
    "\n",
    "plt.xticks(eps_err)\n",
    "plt.grid(True)\n",
    "plt.legend()\n",
    "plt.title('avgC')"
   ]
  },
  {
   "cell_type": "markdown",
   "metadata": {},
   "source": [
    "## wine"
   ]
  },
  {
   "cell_type": "code",
   "execution_count": null,
   "metadata": {},
   "outputs": [],
   "source": [
    "from sklearn.preprocessing import LabelEncoder\n",
    "def load_wine():\n",
    "    print('Loading wine')\n",
    "    # load wne dataset\n",
    "    file = '../datasets/wine.csv'\n",
    "    df = pd.read_csv(file,header=None, sep=',')\n",
    "#     df.drop(0, axis=1,inplace=True)\n",
    "    target_names = df.iloc[:,0].unique()\n",
    "    target_names.sort()\n",
    "    \n",
    "    target = df.iloc[:,0].values \n",
    "    \n",
    "    # scale target \n",
    "#     target -= min(target)\n",
    "    data = {'target': target, 'data': df.iloc[:,1:-1].values,\n",
    "            'target_names': target_names}\n",
    "    return data"
   ]
  },
  {
   "cell_type": "code",
   "execution_count": null,
   "metadata": {},
   "outputs": [],
   "source": [
    "wine_df = pd.read_csv('../datasets/wine.csv',header=None,sep=',')\n",
    "# print(len(wine_df))\n",
    "# balance_df.drop(0, axis=1,inplace=True)\n",
    "wine_df.head()\n",
    "wine_df.iloc[:,0].unique()"
   ]
  },
  {
   "cell_type": "code",
   "execution_count": null,
   "metadata": {},
   "outputs": [],
   "source": [
    "data = load_wine()"
   ]
  },
  {
   "cell_type": "code",
   "execution_count": null,
   "metadata": {},
   "outputs": [],
   "source": [
    "def plotClasses(df):\n",
    "    cols = [\"col\"+str(x) for x in range(1,len(df.columns))]\n",
    "    cols.insert(0,\"target\")\n",
    "    df.columns = cols # add column names to the data frame \n",
    "    counts = df.groupby(by=\"target\").count()[['col1']]\n",
    "    labels = counts.index.to_list()\n",
    "    data_points = counts.values.reshape(len(counts),)\n",
    "    return plt.bar(labels,data_points)"
   ]
  },
  {
   "cell_type": "code",
   "execution_count": null,
   "metadata": {},
   "outputs": [],
   "source": [
    "plotClasses(wine_df)"
   ]
  },
  {
   "cell_type": "markdown",
   "metadata": {},
   "source": [
    "#### svm"
   ]
  },
  {
   "cell_type": "markdown",
   "metadata": {},
   "source": [
    "##### MarginErrFunc"
   ]
  },
  {
   "cell_type": "code",
   "execution_count": null,
   "metadata": {},
   "outputs": [],
   "source": [
    "res_df = run_conformal(data, epsilon_arr=eps_err, err_func=MarginErrFunc, smoothing=True, \n",
    "                       seed=1, verbose=True)\n",
    "# Get average values of metrics\n",
    "print('\\naverage values for each eps')\n",
    "res_df.groupby('eps').mean()"
   ]
  },
  {
   "cell_type": "markdown",
   "metadata": {},
   "source": [
    "#####  InverseProbabilityErrFunc"
   ]
  },
  {
   "cell_type": "code",
   "execution_count": null,
   "metadata": {},
   "outputs": [],
   "source": [
    "res_df = run_conformal(data, epsilon_arr=eps_err, err_func=InverseProbabilityErrFunc, smoothing=True,\n",
    "                             seed=1, verbose=True)\n",
    "# Get average values of metrics\n",
    "print('average values for each eps')\n",
    "res_df.groupby('eps').mean()"
   ]
  },
  {
   "cell_type": "code",
   "execution_count": null,
   "metadata": {},
   "outputs": [],
   "source": [
    "tmp_df = res_df.groupby('eps').mean()\n",
    "# rename columns for margin function\n",
    "dt_mean_df.columns = ['fold', 'origin_err', 'marg_err', 'marg_oneC', 'marg_avgC', \n",
    "                       'Simul_err', 'Simul_oneC', 'Simul_avgC']\n",
    "# these columns contain results for inverse probability non-conformity function\n",
    "dt_mean_df['inv_err'] = tmp_df['Conf_err']\n",
    "dt_mean_df['inv_oneC'] = tmp_df['Conf_oneC']\n",
    "dt_mean_df['inv_avgC'] = tmp_df['Conf_avgC']\n",
    "dt_mean_df"
   ]
  },
  {
   "cell_type": "markdown",
   "metadata": {},
   "source": [
    "### decision tree"
   ]
  },
  {
   "cell_type": "markdown",
   "metadata": {},
   "source": [
    "##### MarginErrFunc"
   ]
  },
  {
   "cell_type": "code",
   "execution_count": null,
   "metadata": {},
   "outputs": [],
   "source": [
    "res_df = run_conformal(data, model_obj=dt_model_obj, \n",
    "                       params={MIN_SAMPLES_KEY: max(5, int(dt_min_sample_ratio * len(data['data'])))},\n",
    "                       epsilon_arr=eps_err, err_func=MarginErrFunc, smoothing=True, \n",
    "                       seed=1, verbose=True)\n",
    "# Get average values of metrics\n",
    "print('\\naverage values for each eps')\n",
    "dt_mean_df = res_df.groupby('eps').mean()\n",
    "dt_mean_df"
   ]
  },
  {
   "cell_type": "markdown",
   "metadata": {},
   "source": [
    "#####  InverseProbabilityErrFunc"
   ]
  },
  {
   "cell_type": "code",
   "execution_count": null,
   "metadata": {},
   "outputs": [],
   "source": [
    "res_df = run_conformal(data, model_obj=dt_model_obj, \n",
    "                       params={MIN_SAMPLES_KEY: max(5, int(dt_min_sample_ratio * len(data['data'])))},\n",
    "                       epsilon_arr=eps_err, err_func=InverseProbabilityErrFunc, smoothing=True, \n",
    "                       seed=1, verbose=True)\n",
    "# Get average values of metrics\n",
    "print('\\naverage values for each eps')\n",
    "res_df.groupby('eps').mean()"
   ]
  },
  {
   "cell_type": "code",
   "execution_count": null,
   "metadata": {},
   "outputs": [],
   "source": [
    "tmp_df = res_df.groupby('eps').mean()\n",
    "# rename columns for margin function\n",
    "dt_mean_df.columns = ['fold', 'origin_err', 'marg_err', 'marg_oneC', 'marg_avgC', \n",
    "                       'Simul_err', 'Simul_oneC', 'Simul_avgC']\n",
    "# these columns contain results for inverse probability non-conformity function\n",
    "dt_mean_df['inv_err'] = tmp_df['Conf_err']\n",
    "dt_mean_df['inv_oneC'] = tmp_df['Conf_oneC']\n",
    "dt_mean_df['inv_avgC'] = tmp_df['Conf_avgC']\n",
    "dt_mean_df"
   ]
  },
  {
   "cell_type": "markdown",
   "metadata": {},
   "source": [
    "#### Plot results: error rate"
   ]
  },
  {
   "cell_type": "code",
   "execution_count": null,
   "metadata": {},
   "outputs": [],
   "source": [
    "# SVM color - blue\n",
    "color = 'blue'\n",
    "df = svm_mean_df\n",
    "plt.plot(eps_err, df['origin_err'], label='SVM', color=color, lw=3) # thik line for original error\n",
    "plt.plot(eps_err, df['marg_err'], label='- margin', color=color, ) # normal line for margin error\n",
    "plt.plot(eps_err, df['inv_err'], label='- inv prob', color=color, linestyle='--') # dashed line for inv_prob error\n",
    "plt.plot(eps_err, df['Simul_err'], label='- simulated', color=color, linestyle=':') # dotted line for simulation error\n",
    "\n",
    "# Decision tree color - orange\n",
    "color = 'orange'\n",
    "df = dt_mean_df\n",
    "plt.plot(eps_err, df['origin_err'], label='Decision tree', color=color, lw=3) # thik line for original error\n",
    "plt.plot(eps_err, df['marg_err'], label='_nolegend_', color=color, ) # normal line for margin error\n",
    "plt.plot(eps_err, df['inv_err'], label='_nolegend_', color=color, linestyle='--') # dashed line for inv_prob error\n",
    "plt.plot(eps_err, df['Simul_err'], label='_nolegend_', color=color, linestyle=':') # dotted line for simulation error\n",
    "\n",
    "plt.xticks(eps_err)\n",
    "y_ticks = eps_err[:]\n",
    "y_ticks.extend([0.3, 0.4, 0.5])\n",
    "plt.yticks(y_ticks)\n",
    "plt.grid(True)\n",
    "plt.legend()\n",
    "plt.title('Error rate')"
   ]
  },
  {
   "cell_type": "markdown",
   "metadata": {},
   "source": [
    "#### Plot: oneC"
   ]
  },
  {
   "cell_type": "code",
   "execution_count": null,
   "metadata": {},
   "outputs": [],
   "source": [
    "# SVM color - blue\n",
    "color = 'blue'\n",
    "df = svm_mean_df\n",
    "plt.plot(eps_err, df['marg_oneC'], label='SVM', color=color, ) # normal line for margin error\n",
    "plt.plot(eps_err, df['inv_oneC'], label='_nolegend_', color=color, linestyle='--') # dashed line for inv_prob error\n",
    "plt.plot(eps_err, df['Simul_oneC'], label='_nolegend_', color=color, linestyle=':') # dotted line for simulation error\n",
    "\n",
    "# Decision tree color - orange\n",
    "color = 'orange'\n",
    "df = dt_mean_df\n",
    "plt.plot(eps_err, df['marg_oneC'], label='Decision tree', color=color, ) # normal line for margin error\n",
    "plt.plot(eps_err, df['inv_oneC'], label='_nolegend_', color=color, linestyle='--') # dashed line for inv_prob error\n",
    "plt.plot(eps_err, df['Simul_oneC'], label='_nolegend_', color=color, linestyle=':') # dotted line for simulation error\n",
    "\n",
    "plt.xticks(eps_err)\n",
    "plt.grid(True)\n",
    "plt.legend()\n",
    "plt.title('oneC')"
   ]
  },
  {
   "cell_type": "markdown",
   "metadata": {},
   "source": [
    "### avgC"
   ]
  },
  {
   "cell_type": "code",
   "execution_count": null,
   "metadata": {},
   "outputs": [],
   "source": [
    "# SVM color - blue\n",
    "color = 'blue'\n",
    "df = svm_mean_df\n",
    "plt.plot(eps_err, df['marg_avgC'], label='SVM', color=color, ) # normal line for margin error\n",
    "plt.plot(eps_err, df['inv_avgC'], label='_nolegend_', color=color, linestyle='--') # dashed line for inv_prob error\n",
    "plt.plot(eps_err, df['Simul_avgC'], label='_nolegend_', color=color, linestyle=':') # dotted line for simulation error\n",
    "\n",
    "# Decision tree color - orange\n",
    "color = 'orange'\n",
    "df = dt_mean_df\n",
    "plt.plot(eps_err, df['marg_avgC'], label='Decision tree', color=color, ) # normal line for margin error\n",
    "plt.plot(eps_err, df['inv_avgC'], label='_nolegend_', color=color, linestyle='--') # dashed line for inv_prob error\n",
    "plt.plot(eps_err, df['Simul_avgC'], label='_nolegend_', color=color, linestyle=':') # dotted line for simulation error\n",
    "\n",
    "plt.xticks(eps_err)\n",
    "plt.grid(True)\n",
    "plt.legend()\n",
    "plt.title('avgC')"
   ]
  },
  {
   "cell_type": "markdown",
   "metadata": {},
   "source": [
    "## steel"
   ]
  },
  {
   "cell_type": "code",
   "execution_count": null,
   "metadata": {},
   "outputs": [],
   "source": [
    "from sklearn.preprocessing import LabelEncoder\n",
    "def load_steel():\n",
    "    print('Loading steel')\n",
    "    # load steel dataset\n",
    "    file = '../datasets/steel.csv'\n",
    "    df = pd.read_csv(file,header=None, sep=',')\n",
    "    df.drop(0, axis=1,inplace=True)\n",
    "    target_names = df[df.columns[-1]].unique()\n",
    "    target_names.sort()\n",
    "    \n",
    "    target = df[df.columns[-1]].values \n",
    "    \n",
    "    # scale target \n",
    "    target -= min(target)\n",
    "    data = {'target': target, 'data': df[df.columns[:-1]].values,\n",
    "            'target_names': target_names}\n",
    "    return data\n"
   ]
  },
  {
   "cell_type": "code",
   "execution_count": null,
   "metadata": {},
   "outputs": [],
   "source": [
    "steel_df = pd.read_csv('../datasets/steel.csv',header=None,sep=',')\n",
    "# print(len(steel_df))\n",
    "# steel_df.drop(0, axis=1,inplace=True)\n",
    "steel_df.head()"
   ]
  },
  {
   "cell_type": "code",
   "execution_count": null,
   "metadata": {},
   "outputs": [],
   "source": [
    "data = load_steel()"
   ]
  },
  {
   "cell_type": "code",
   "execution_count": null,
   "metadata": {},
   "outputs": [],
   "source": [
    "def plotClasses(df):\n",
    "    cols = [\"col\"+str(x) for x in range(1,len(df.columns))]\n",
    "    cols.append(\"target\")\n",
    "    df.columns = cols # add column names to the data frame \n",
    "    counts = df.groupby(by=\"target\").count()[['col1']]\n",
    "    labels = counts.index.to_list()\n",
    "    data_points = counts.values.reshape(len(counts),)\n",
    "    return plt.bar(labels,data_points)"
   ]
  },
  {
   "cell_type": "code",
   "execution_count": null,
   "metadata": {},
   "outputs": [],
   "source": [
    "plotClasses(steel_df)"
   ]
  },
  {
   "cell_type": "markdown",
   "metadata": {},
   "source": [
    "### Svm"
   ]
  },
  {
   "cell_type": "markdown",
   "metadata": {},
   "source": [
    "##### MarginErrFunc"
   ]
  },
  {
   "cell_type": "code",
   "execution_count": null,
   "metadata": {},
   "outputs": [],
   "source": [
    "res_df = run_conformal(data, model_obj=svm_model_obj, \n",
    "                       params=svm_params,\n",
    "                       epsilon_arr=eps_err, err_func=MarginErrFunc, smoothing=True, \n",
    "                       seed=1, verbose=True)\n",
    "# Get average values of metrics\n",
    "print('\\naverage values for each eps')\n",
    "svm_mean_df = res_df.groupby('eps').mean()\n",
    "svm_mean_df"
   ]
  },
  {
   "cell_type": "markdown",
   "metadata": {},
   "source": [
    "#####  InverseProbabilityErrFunc"
   ]
  },
  {
   "cell_type": "code",
   "execution_count": null,
   "metadata": {},
   "outputs": [],
   "source": [
    "res_df = run_conformal(data, epsilon_arr=eps_err, err_func=InverseProbabilityErrFunc, smoothing=True,\n",
    "                             seed=1, verbose=True)\n",
    "# Get average values of metrics\n",
    "print('average values for each eps')\n",
    "res_df.groupby('eps').mean()"
   ]
  },
  {
   "cell_type": "code",
   "execution_count": null,
   "metadata": {},
   "outputs": [],
   "source": [
    "tmp_df = res_df.groupby('eps').mean()\n",
    "# rename columns for margin function\n",
    "svm_mean_df.columns = ['fold', 'origin_err', 'marg_err', 'marg_oneC', 'marg_avgC', \n",
    "                       'Simul_err', 'Simul_oneC', 'Simul_avgC']\n",
    "# these columns contain results for inverse probability non-conformity function\n",
    "svm_mean_df['inv_err'] = tmp_df['Conf_err']\n",
    "svm_mean_df['inv_oneC'] = tmp_df['Conf_oneC']\n",
    "svm_mean_df['inv_avgC'] = tmp_df['Conf_avgC']\n",
    "svm_mean_df"
   ]
  },
  {
   "cell_type": "markdown",
   "metadata": {},
   "source": [
    "### decision tree"
   ]
  },
  {
   "cell_type": "markdown",
   "metadata": {},
   "source": [
    "##### MarginErrFunc"
   ]
  },
  {
   "cell_type": "code",
   "execution_count": null,
   "metadata": {},
   "outputs": [],
   "source": [
    "res_df = run_conformal(data, model_obj=dt_model_obj, \n",
    "                       params={MIN_SAMPLES_KEY: max(5, int(dt_min_sample_ratio * len(data['data'])))},\n",
    "                       epsilon_arr=eps_err, err_func=MarginErrFunc, smoothing=True, \n",
    "                       seed=1, verbose=True)\n",
    "# Get average values of metrics\n",
    "print('\\naverage values for each eps')\n",
    "dt_mean_df = res_df.groupby('eps').mean()\n",
    "dt_mean_df"
   ]
  },
  {
   "cell_type": "markdown",
   "metadata": {},
   "source": [
    "#####  InverseProbabilityErrFunc"
   ]
  },
  {
   "cell_type": "code",
   "execution_count": null,
   "metadata": {},
   "outputs": [],
   "source": [
    "res_df = run_conformal(data, model_obj=dt_model_obj, \n",
    "                       params={MIN_SAMPLES_KEY: max(5, int(dt_min_sample_ratio * len(data['data'])))},\n",
    "                       epsilon_arr=eps_err, err_func=InverseProbabilityErrFunc, smoothing=True, \n",
    "                       seed=1, verbose=True)\n",
    "# Get average values of metrics\n",
    "print('\\naverage values for each eps')\n",
    "res_df.groupby('eps').mean()"
   ]
  },
  {
   "cell_type": "code",
   "execution_count": null,
   "metadata": {},
   "outputs": [],
   "source": [
    "tmp_df = res_df.groupby('eps').mean()\n",
    "# rename columns for margin function\n",
    "dt_mean_df.columns = ['fold', 'origin_err', 'marg_err', 'marg_oneC', 'marg_avgC', \n",
    "                       'Simul_err', 'Simul_oneC', 'Simul_avgC']\n",
    "# these columns contain results for inverse probability non-conformity function\n",
    "dt_mean_df['inv_err'] = tmp_df['Conf_err']\n",
    "dt_mean_df['inv_oneC'] = tmp_df['Conf_oneC']\n",
    "dt_mean_df['inv_avgC'] = tmp_df['Conf_avgC']\n",
    "dt_mean_df"
   ]
  },
  {
   "cell_type": "markdown",
   "metadata": {},
   "source": [
    "#### Plot results: error rate"
   ]
  },
  {
   "cell_type": "code",
   "execution_count": null,
   "metadata": {},
   "outputs": [],
   "source": [
    "# SVM color - blue\n",
    "color = 'blue'\n",
    "df = svm_mean_df\n",
    "plt.plot(eps_err, df['origin_err'], label='SVM', color=color, lw=3) # thik line for original error\n",
    "plt.plot(eps_err, df['marg_err'], label='- margin', color=color, ) # normal line for margin error\n",
    "plt.plot(eps_err, df['inv_err'], label='- inv prob', color=color, linestyle='--') # dashed line for inv_prob error\n",
    "plt.plot(eps_err, df['Simul_err'], label='- simulated', color=color, linestyle=':') # dotted line for simulation error\n",
    "\n",
    "# Decision tree color - orange\n",
    "color = 'orange'\n",
    "df = dt_mean_df\n",
    "plt.plot(eps_err, df['origin_err'], label='Decision tree', color=color, lw=3) # thik line for original error\n",
    "plt.plot(eps_err, df['marg_err'], label='_nolegend_', color=color, ) # normal line for margin error\n",
    "plt.plot(eps_err, df['inv_err'], label='_nolegend_', color=color, linestyle='--') # dashed line for inv_prob error\n",
    "plt.plot(eps_err, df['Simul_err'], label='_nolegend_', color=color, linestyle=':') # dotted line for simulation error\n",
    "\n",
    "plt.xticks(eps_err)\n",
    "y_ticks = eps_err[:]\n",
    "y_ticks.extend([0.3, 0.4, 0.5])\n",
    "plt.yticks(y_ticks)\n",
    "plt.grid(True)\n",
    "plt.legend()\n",
    "plt.title('Error rate')"
   ]
  },
  {
   "cell_type": "markdown",
   "metadata": {},
   "source": [
    "#### Plot: oneC"
   ]
  },
  {
   "cell_type": "code",
   "execution_count": null,
   "metadata": {},
   "outputs": [],
   "source": [
    "# SVM color - blue\n",
    "color = 'blue'\n",
    "df = svm_mean_df\n",
    "plt.plot(eps_err, df['marg_oneC'], label='SVM', color=color, ) # normal line for margin error\n",
    "plt.plot(eps_err, df['inv_oneC'], label='_nolegend_', color=color, linestyle='--') # dashed line for inv_prob error\n",
    "plt.plot(eps_err, df['Simul_oneC'], label='_nolegend_', color=color, linestyle=':') # dotted line for simulation error\n",
    "\n",
    "# Decision tree color - orange\n",
    "color = 'orange'\n",
    "df = dt_mean_df\n",
    "plt.plot(eps_err, df['marg_oneC'], label='Decision tree', color=color, ) # normal line for margin error\n",
    "plt.plot(eps_err, df['inv_oneC'], label='_nolegend_', color=color, linestyle='--') # dashed line for inv_prob error\n",
    "plt.plot(eps_err, df['Simul_oneC'], label='_nolegend_', color=color, linestyle=':') # dotted line for simulation error\n",
    "\n",
    "plt.xticks(eps_err)\n",
    "plt.grid(True)\n",
    "plt.legend()\n",
    "plt.title('oneC')"
   ]
  },
  {
   "cell_type": "markdown",
   "metadata": {},
   "source": [
    "#### avgC"
   ]
  },
  {
   "cell_type": "code",
   "execution_count": null,
   "metadata": {},
   "outputs": [],
   "source": [
    "# SVM color - blue\n",
    "color = 'blue'\n",
    "df = svm_mean_df\n",
    "plt.plot(eps_err, df['marg_avgC'], label='SVM', color=color, ) # normal line for margin error\n",
    "plt.plot(eps_err, df['inv_avgC'], label='_nolegend_', color=color, linestyle='--') # dashed line for inv_prob error\n",
    "plt.plot(eps_err, df['Simul_avgC'], label='_nolegend_', color=color, linestyle=':') # dotted line for simulation error\n",
    "\n",
    "# Decision tree color - orange\n",
    "color = 'orange'\n",
    "df = dt_mean_df\n",
    "plt.plot(eps_err, df['marg_avgC'], label='Decision tree', color=color, ) # normal line for margin error\n",
    "plt.plot(eps_err, df['inv_avgC'], label='_nolegend_', color=color, linestyle='--') # dashed line for inv_prob error\n",
    "plt.plot(eps_err, df['Simul_avgC'], label='_nolegend_', color=color, linestyle=':') # dotted line for simulation error\n",
    "\n",
    "plt.xticks(eps_err)\n",
    "plt.grid(True)\n",
    "plt.legend()\n",
    "plt.title('avgC')"
   ]
  },
  {
   "cell_type": "markdown",
   "metadata": {},
   "source": [
    "## user"
   ]
  },
  {
   "cell_type": "code",
   "execution_count": null,
   "metadata": {},
   "outputs": [],
   "source": [
    "from sklearn.preprocessing import LabelEncoder\n",
    "def load_user():\n",
    "    print('Loading user')\n",
    "    # load user dataset\n",
    "    file = '../datasets/user.csv'\n",
    "    df = pd.read_csv(file,header=0, sep=',')\n",
    "    df.dropna( axis=1,inplace=True)\n",
    "    target_names = df.iloc[:,-1].unique()\n",
    "    target_names.sort()\n",
    "    target = df.iloc[:,-1].values\n",
    "    label_encoder = LabelEncoder()\n",
    "    target = label_encoder.fit_transform(target)\n",
    "    data_points = df.iloc[:,0:-1]\n",
    "    # scale target \n",
    "#     target -= min(target)\n",
    "    data = {'target': target, 'data':data_points.values,\n",
    "            'target_names': target_names}\n",
    "    return data\n"
   ]
  },
  {
   "cell_type": "code",
   "execution_count": null,
   "metadata": {},
   "outputs": [],
   "source": [
    "user_df = pd.read_csv('../datasets/user.csv',header=0,sep=',')\n",
    "print(len(user_df))\n",
    "user_df.dropna( axis=1,inplace=True)\n",
    "print(len(user_df))\n",
    "user_df.head()"
   ]
  },
  {
   "cell_type": "code",
   "execution_count": null,
   "metadata": {},
   "outputs": [],
   "source": [
    "data = load_user()"
   ]
  },
  {
   "cell_type": "code",
   "execution_count": null,
   "metadata": {},
   "outputs": [],
   "source": [
    "def plotClasses(df):\n",
    "    \n",
    "    cols = [\"col\"+str(x) for x in range(1,len(df.columns))]\n",
    "    cols.append(\"target\")\n",
    "    df.columns = cols # add column names to the data frame \n",
    "    counts = df.groupby(by=\"target\").count()[['col1']]\n",
    "    labels = counts.index.to_list()\n",
    "    data_points = counts.values.reshape(len(counts),)\n",
    "    return plt.bar(labels,data_points)"
   ]
  },
  {
   "cell_type": "code",
   "execution_count": null,
   "metadata": {},
   "outputs": [],
   "source": [
    "plotClasses(user_df)"
   ]
  },
  {
   "cell_type": "markdown",
   "metadata": {},
   "source": [
    "#### svm"
   ]
  },
  {
   "cell_type": "markdown",
   "metadata": {},
   "source": [
    "##### MarginErrFunc"
   ]
  },
  {
   "cell_type": "code",
   "execution_count": null,
   "metadata": {},
   "outputs": [],
   "source": [
    "res_df = run_conformal(data, model_obj=svm_model_obj, \n",
    "                       params=svm_params,\n",
    "                       epsilon_arr=eps_err, err_func=MarginErrFunc, smoothing=True, \n",
    "                       seed=1, verbose=True)\n",
    "# Get average values of metrics\n",
    "print('\\naverage values for each eps')\n",
    "svm_mean_df = res_df.groupby('eps').mean()\n",
    "svm_mean_df"
   ]
  },
  {
   "cell_type": "markdown",
   "metadata": {},
   "source": [
    "#####  InverseProbabilityErrFunc"
   ]
  },
  {
   "cell_type": "code",
   "execution_count": null,
   "metadata": {},
   "outputs": [],
   "source": [
    "res_df = run_conformal(data, epsilon_arr=eps_err, err_func=InverseProbabilityErrFunc, smoothing=True,\n",
    "                             seed=1, verbose=True)\n",
    "# Get average values of metrics\n",
    "print('average values for each eps')\n",
    "res_df.groupby('eps').mean()"
   ]
  },
  {
   "cell_type": "code",
   "execution_count": null,
   "metadata": {},
   "outputs": [],
   "source": [
    "tmp_df = res_df.groupby('eps').mean()\n",
    "# rename columns for margin function\n",
    "svm_mean_df.columns = ['fold', 'origin_err', 'marg_err', 'marg_oneC', 'marg_avgC', \n",
    "                       'Simul_err', 'Simul_oneC', 'Simul_avgC']\n",
    "# these columns contain results for inverse probability non-conformity function\n",
    "svm_mean_df['inv_err'] = tmp_df['Conf_err']\n",
    "svm_mean_df['inv_oneC'] = tmp_df['Conf_oneC']\n",
    "svm_mean_df['inv_avgC'] = tmp_df['Conf_avgC']\n",
    "svm_mean_df"
   ]
  },
  {
   "cell_type": "markdown",
   "metadata": {},
   "source": [
    "### decision tree"
   ]
  },
  {
   "cell_type": "markdown",
   "metadata": {},
   "source": [
    "##### MarginErrFunc"
   ]
  },
  {
   "cell_type": "code",
   "execution_count": null,
   "metadata": {},
   "outputs": [],
   "source": [
    "res_df = run_conformal(data, model_obj=dt_model_obj, \n",
    "                       params={MIN_SAMPLES_KEY: max(5, int(dt_min_sample_ratio * len(data['data'])))},\n",
    "                       epsilon_arr=eps_err, err_func=MarginErrFunc, smoothing=True, \n",
    "                       seed=1, verbose=True)\n",
    "# Get average values of metrics\n",
    "print('\\naverage values for each eps')\n",
    "dt_mean_df = res_df.groupby('eps').mean()\n",
    "dt_mean_df"
   ]
  },
  {
   "cell_type": "markdown",
   "metadata": {},
   "source": [
    "#####  InverseProbabilityErrFunc"
   ]
  },
  {
   "cell_type": "code",
   "execution_count": null,
   "metadata": {},
   "outputs": [],
   "source": [
    "res_df = run_conformal(data, model_obj=dt_model_obj, \n",
    "                       params={MIN_SAMPLES_KEY: max(5, int(dt_min_sample_ratio * len(data['data'])))},\n",
    "                       epsilon_arr=eps_err, err_func=InverseProbabilityErrFunc, smoothing=True, \n",
    "                       seed=1, verbose=True)\n",
    "# Get average values of metrics\n",
    "print('\\naverage values for each eps')\n",
    "res_df.groupby('eps').mean()"
   ]
  },
  {
   "cell_type": "code",
   "execution_count": null,
   "metadata": {},
   "outputs": [],
   "source": [
    "tmp_df = res_df.groupby('eps').mean()\n",
    "# rename columns for margin function\n",
    "dt_mean_df.columns = ['fold', 'origin_err', 'marg_err', 'marg_oneC', 'marg_avgC', \n",
    "                       'Simul_err', 'Simul_oneC', 'Simul_avgC']\n",
    "# these columns contain results for inverse probability non-conformity function\n",
    "dt_mean_df['inv_err'] = tmp_df['Conf_err']\n",
    "dt_mean_df['inv_oneC'] = tmp_df['Conf_oneC']\n",
    "dt_mean_df['inv_avgC'] = tmp_df['Conf_avgC']\n",
    "dt_mean_df"
   ]
  },
  {
   "cell_type": "markdown",
   "metadata": {},
   "source": [
    "### Plot results: error rate"
   ]
  },
  {
   "cell_type": "code",
   "execution_count": null,
   "metadata": {},
   "outputs": [],
   "source": [
    "# SVM color - blue\n",
    "color = 'blue'\n",
    "df = svm_mean_df\n",
    "plt.plot(eps_err, df['origin_err'], label='SVM', color=color, lw=3) # thik line for original error\n",
    "plt.plot(eps_err, df['marg_err'], label='- margin', color=color, ) # normal line for margin error\n",
    "plt.plot(eps_err, df['inv_err'], label='- inv prob', color=color, linestyle='--') # dashed line for inv_prob error\n",
    "plt.plot(eps_err, df['Simul_err'], label='- simulated', color=color, linestyle=':') # dotted line for simulation error\n",
    "\n",
    "# Decision tree color - orange\n",
    "color = 'orange'\n",
    "df = dt_mean_df\n",
    "plt.plot(eps_err, df['origin_err'], label='Decision tree', color=color, lw=3) # thik line for original error\n",
    "plt.plot(eps_err, df['marg_err'], label='_nolegend_', color=color, ) # normal line for margin error\n",
    "plt.plot(eps_err, df['inv_err'], label='_nolegend_', color=color, linestyle='--') # dashed line for inv_prob error\n",
    "plt.plot(eps_err, df['Simul_err'], label='_nolegend_', color=color, linestyle=':') # dotted line for simulation error\n",
    "\n",
    "plt.xticks(eps_err)\n",
    "y_ticks = eps_err[:]\n",
    "y_ticks.extend([0.3, 0.4, 0.5])\n",
    "plt.yticks(y_ticks)\n",
    "plt.grid(True)\n",
    "plt.legend()\n",
    "plt.title('Error rate')"
   ]
  },
  {
   "cell_type": "markdown",
   "metadata": {},
   "source": [
    "### Plot: oneC"
   ]
  },
  {
   "cell_type": "code",
   "execution_count": null,
   "metadata": {},
   "outputs": [],
   "source": [
    "# SVM color - blue\n",
    "color = 'blue'\n",
    "df = svm_mean_df\n",
    "plt.plot(eps_err, df['marg_oneC'], label='SVM', color=color, ) # normal line for margin error\n",
    "plt.plot(eps_err, df['inv_oneC'], label='_nolegend_', color=color, linestyle='--') # dashed line for inv_prob error\n",
    "plt.plot(eps_err, df['Simul_oneC'], label='_nolegend_', color=color, linestyle=':') # dotted line for simulation error\n",
    "\n",
    "# Decision tree color - orange\n",
    "color = 'orange'\n",
    "df = dt_mean_df\n",
    "plt.plot(eps_err, df['marg_oneC'], label='Decision tree', color=color, ) # normal line for margin error\n",
    "plt.plot(eps_err, df['inv_oneC'], label='_nolegend_', color=color, linestyle='--') # dashed line for inv_prob error\n",
    "plt.plot(eps_err, df['Simul_oneC'], label='_nolegend_', color=color, linestyle=':') # dotted line for simulation error\n",
    "\n",
    "plt.xticks(eps_err)\n",
    "plt.grid(True)\n",
    "plt.legend()\n",
    "plt.title('oneC')"
   ]
  },
  {
   "cell_type": "markdown",
   "metadata": {},
   "source": [
    "#### avgC"
   ]
  },
  {
   "cell_type": "code",
   "execution_count": null,
   "metadata": {},
   "outputs": [],
   "source": [
    "# SVM color - blue\n",
    "color = 'blue'\n",
    "df = svm_mean_df\n",
    "plt.plot(eps_err, df['marg_avgC'], label='SVM', color=color, ) # normal line for margin error\n",
    "plt.plot(eps_err, df['inv_avgC'], label='_nolegend_', color=color, linestyle='--') # dashed line for inv_prob error\n",
    "plt.plot(eps_err, df['Simul_avgC'], label='_nolegend_', color=color, linestyle=':') # dotted line for simulation error\n",
    "\n",
    "# Decision tree color - orange\n",
    "color = 'orange'\n",
    "df = dt_mean_df\n",
    "plt.plot(eps_err, df['marg_avgC'], label='Decision tree', color=color, ) # normal line for margin error\n",
    "plt.plot(eps_err, df['inv_avgC'], label='_nolegend_', color=color, linestyle='--') # dashed line for inv_prob error\n",
    "plt.plot(eps_err, df['Simul_avgC'], label='_nolegend_', color=color, linestyle=':') # dotted line for simulation error\n",
    "\n",
    "plt.xticks(eps_err)\n",
    "plt.grid(True)\n",
    "plt.legend()\n",
    "plt.title('avgC')"
   ]
  },
  {
   "cell_type": "markdown",
   "metadata": {},
   "source": [
    "## wave"
   ]
  },
  {
   "cell_type": "code",
   "execution_count": null,
   "metadata": {},
   "outputs": [],
   "source": [
    "from sklearn.preprocessing import LabelEncoder\n",
    "def load_wave():\n",
    "    print('Loading wave')\n",
    "    # load wave dataset\n",
    "    file = '../datasets/wave.csv'\n",
    "    df = pd.read_csv(file,header=None, sep=',')\n",
    "    df.drop(0, axis=1,inplace=True)\n",
    "    target_names = df.iloc[:,-1].unique()\n",
    "    target_names.sort()\n",
    "    target = df.iloc[:,-1].values \n",
    "    # scale target \n",
    "    target -= min(target)\n",
    "    data = {'target': target, 'data': df.iloc[:,0:-1].values,\n",
    "            'target_names': target_names}\n",
    "    return data"
   ]
  },
  {
   "cell_type": "code",
   "execution_count": null,
   "metadata": {},
   "outputs": [],
   "source": [
    "wave_df = pd.read_csv('../datasets/wave.csv',header=None,sep=',')\n",
    "# print(len(wave_df))\n",
    "# wave_df.dropna( axis=0,inplace=True)\n",
    "# print(len(wave_df))\n",
    "\n",
    "wave_df.head()"
   ]
  },
  {
   "cell_type": "code",
   "execution_count": null,
   "metadata": {},
   "outputs": [],
   "source": [
    "data = load_wave()"
   ]
  },
  {
   "cell_type": "code",
   "execution_count": null,
   "metadata": {},
   "outputs": [],
   "source": [
    "def plotClasses(df):\n",
    "    cols = [\"col\"+str(x) for x in range(1,len(df.columns))]\n",
    "    cols.append(\"target\")\n",
    "    df.columns = cols # add column names to the data frame \n",
    "    counts = df.groupby(by=\"target\").count()[['col1']]\n",
    "    labels = counts.index.to_list()\n",
    "    data_points = counts.values.reshape(len(counts),)\n",
    "    return plt.bar(labels,data_points)"
   ]
  },
  {
   "cell_type": "code",
   "execution_count": null,
   "metadata": {},
   "outputs": [],
   "source": [
    "plotClasses(wave_df)"
   ]
  },
  {
   "cell_type": "markdown",
   "metadata": {},
   "source": [
    "#### svm"
   ]
  },
  {
   "cell_type": "markdown",
   "metadata": {},
   "source": [
    "##### MarginErrFunc"
   ]
  },
  {
   "cell_type": "code",
   "execution_count": null,
   "metadata": {},
   "outputs": [],
   "source": [
    "res_df = run_conformal(data, model_obj=svm_model_obj, \n",
    "                       params=svm_params,\n",
    "                       epsilon_arr=eps_err, err_func=MarginErrFunc, smoothing=True, \n",
    "                       seed=1, verbose=True)\n",
    "# Get average values of metrics\n",
    "print('\\naverage values for each eps')\n",
    "svm_mean_df = res_df.groupby('eps').mean()\n",
    "svm_mean_df"
   ]
  },
  {
   "cell_type": "markdown",
   "metadata": {},
   "source": [
    "#####  InverseProbabilityErrFunc"
   ]
  },
  {
   "cell_type": "code",
   "execution_count": null,
   "metadata": {},
   "outputs": [],
   "source": [
    "res_df = run_conformal(data, epsilon_arr=eps_err, err_func=InverseProbabilityErrFunc, smoothing=True,\n",
    "                             seed=1, verbose=True)\n",
    "# Get average values of metrics\n",
    "print('average values for each eps')\n",
    "res_df.groupby('eps').mean()"
   ]
  },
  {
   "cell_type": "code",
   "execution_count": null,
   "metadata": {},
   "outputs": [],
   "source": [
    "tmp_df = res_df.groupby('eps').mean()\n",
    "# rename columns for margin function\n",
    "svm_mean_df.columns = ['fold', 'origin_err', 'marg_err', 'marg_oneC', 'marg_avgC', \n",
    "                       'Simul_err', 'Simul_oneC', 'Simul_avgC']\n",
    "# these columns contain results for inverse probability non-conformity function\n",
    "svm_mean_df['inv_err'] = tmp_df['Conf_err']\n",
    "svm_mean_df['inv_oneC'] = tmp_df['Conf_oneC']\n",
    "svm_mean_df['inv_avgC'] = tmp_df['Conf_avgC']\n",
    "svm_mean_df"
   ]
  },
  {
   "cell_type": "markdown",
   "metadata": {},
   "source": [
    "##### decision tree"
   ]
  },
  {
   "cell_type": "markdown",
   "metadata": {},
   "source": [
    "##### MarginErrFunc"
   ]
  },
  {
   "cell_type": "code",
   "execution_count": null,
   "metadata": {},
   "outputs": [],
   "source": [
    "res_df = run_conformal(data, model_obj=dt_model_obj, \n",
    "                       params={MIN_SAMPLES_KEY: max(5, int(dt_min_sample_ratio * len(data['data'])))},\n",
    "                       epsilon_arr=eps_err, err_func=InverseProbabilityErrFunc, smoothing=True, \n",
    "                       seed=1, verbose=True)\n",
    "# Get average values of metrics\n",
    "print('\\naverage values for each eps')\n",
    "res_df.groupby('eps').mean()"
   ]
  },
  {
   "cell_type": "markdown",
   "metadata": {},
   "source": [
    "#####  InverseProbabilityErrFunc"
   ]
  },
  {
   "cell_type": "code",
   "execution_count": null,
   "metadata": {},
   "outputs": [],
   "source": [
    "res_df = run_conformal(data, model_obj=dt_model_obj, \n",
    "                       params={MIN_SAMPLES_KEY: max(5, int(dt_min_sample_ratio * len(data['data'])))},\n",
    "                       epsilon_arr=eps_err, err_func=InverseProbabilityErrFunc, smoothing=True, \n",
    "                       seed=1, verbose=True)\n",
    "# Get average values of metrics\n",
    "print('\\naverage values for each eps')\n",
    "res_df.groupby('eps').mean()"
   ]
  },
  {
   "cell_type": "code",
   "execution_count": null,
   "metadata": {},
   "outputs": [],
   "source": [
    "tmp_df = res_df.groupby('eps').mean()\n",
    "# rename columns for margin function\n",
    "dt_mean_df.columns = ['fold', 'origin_err', 'marg_err', 'marg_oneC', 'marg_avgC', \n",
    "                       'Simul_err', 'Simul_oneC', 'Simul_avgC']\n",
    "# these columns contain results for inverse probability non-conformity function\n",
    "dt_mean_df['inv_err'] = tmp_df['Conf_err']\n",
    "dt_mean_df['inv_oneC'] = tmp_df['Conf_oneC']\n",
    "dt_mean_df['inv_avgC'] = tmp_df['Conf_avgC']\n",
    "dt_mean_df"
   ]
  },
  {
   "cell_type": "markdown",
   "metadata": {},
   "source": [
    "### Plot results: error rate"
   ]
  },
  {
   "cell_type": "code",
   "execution_count": null,
   "metadata": {},
   "outputs": [],
   "source": [
    "# SVM color - blue\n",
    "color = 'blue'\n",
    "df = svm_mean_df\n",
    "plt.plot(eps_err, df['origin_err'], label='SVM', color=color, lw=3) # thik line for original error\n",
    "plt.plot(eps_err, df['marg_err'], label='- margin', color=color, ) # normal line for margin error\n",
    "plt.plot(eps_err, df['inv_err'], label='- inv prob', color=color, linestyle='--') # dashed line for inv_prob error\n",
    "plt.plot(eps_err, df['Simul_err'], label='- simulated', color=color, linestyle=':') # dotted line for simulation error\n",
    "\n",
    "# Decision tree color - orange\n",
    "color = 'orange'\n",
    "df = dt_mean_df\n",
    "plt.plot(eps_err, df['origin_err'], label='Decision tree', color=color, lw=3) # thik line for original error\n",
    "plt.plot(eps_err, df['marg_err'], label='_nolegend_', color=color, ) # normal line for margin error\n",
    "plt.plot(eps_err, df['inv_err'], label='_nolegend_', color=color, linestyle='--') # dashed line for inv_prob error\n",
    "plt.plot(eps_err, df['Simul_err'], label='_nolegend_', color=color, linestyle=':') # dotted line for simulation error\n",
    "\n",
    "plt.xticks(eps_err)\n",
    "y_ticks = eps_err[:]\n",
    "y_ticks.extend([0.3, 0.4, 0.5])\n",
    "plt.yticks(y_ticks)\n",
    "plt.grid(True)\n",
    "plt.legend()\n",
    "plt.title('Error rate')"
   ]
  },
  {
   "cell_type": "markdown",
   "metadata": {},
   "source": [
    "#### Plot: oneC"
   ]
  },
  {
   "cell_type": "code",
   "execution_count": null,
   "metadata": {},
   "outputs": [],
   "source": [
    "# SVM color - blue\n",
    "color = 'blue'\n",
    "df = svm_mean_df\n",
    "plt.plot(eps_err, df['marg_oneC'], label='SVM', color=color, ) # normal line for margin error\n",
    "plt.plot(eps_err, df['inv_oneC'], label='_nolegend_', color=color, linestyle='--') # dashed line for inv_prob error\n",
    "plt.plot(eps_err, df['Simul_oneC'], label='_nolegend_', color=color, linestyle=':') # dotted line for simulation error\n",
    "\n",
    "# Decision tree color - orange\n",
    "color = 'orange'\n",
    "df = dt_mean_df\n",
    "plt.plot(eps_err, df['marg_oneC'], label='Decision tree', color=color, ) # normal line for margin error\n",
    "plt.plot(eps_err, df['inv_oneC'], label='_nolegend_', color=color, linestyle='--') # dashed line for inv_prob error\n",
    "plt.plot(eps_err, df['Simul_oneC'], label='_nolegend_', color=color, linestyle=':') # dotted line for simulation error\n",
    "\n",
    "plt.xticks(eps_err)\n",
    "plt.grid(True)\n",
    "plt.legend()\n",
    "plt.title('oneC')"
   ]
  },
  {
   "cell_type": "markdown",
   "metadata": {},
   "source": [
    "#### avgC"
   ]
  },
  {
   "cell_type": "code",
   "execution_count": null,
   "metadata": {},
   "outputs": [],
   "source": [
    "# SVM color - blue\n",
    "color = 'blue'\n",
    "df = svm_mean_df\n",
    "plt.plot(eps_err, df['marg_avgC'], label='SVM', color=color, ) # normal line for margin error\n",
    "plt.plot(eps_err, df['inv_avgC'], label='_nolegend_', color=color, linestyle='--') # dashed line for inv_prob error\n",
    "plt.plot(eps_err, df['Simul_avgC'], label='_nolegend_', color=color, linestyle=':') # dotted line for simulation error\n",
    "\n",
    "# Decision tree color - orange\n",
    "color = 'orange'\n",
    "df = dt_mean_df\n",
    "plt.plot(eps_err, df['marg_avgC'], label='Decision tree', color=color, ) # normal line for margin error\n",
    "plt.plot(eps_err, df['inv_avgC'], label='_nolegend_', color=color, linestyle='--') # dashed line for inv_prob error\n",
    "plt.plot(eps_err, df['Simul_avgC'], label='_nolegend_', color=color, linestyle=':') # dotted line for simulation error\n",
    "\n",
    "plt.xticks(eps_err)\n",
    "plt.grid(True)\n",
    "plt.legend()\n",
    "plt.title('avgC')"
   ]
  },
  {
   "cell_type": "code",
   "execution_count": null,
   "metadata": {},
   "outputs": [],
   "source": []
  },
  {
   "cell_type": "code",
   "execution_count": null,
   "metadata": {},
   "outputs": [],
   "source": []
  }
 ],
 "metadata": {
  "kernelspec": {
   "display_name": "Python 3",
   "language": "python",
   "name": "python3"
  },
  "language_info": {
   "codemirror_mode": {
    "name": "ipython",
    "version": 3
   },
   "file_extension": ".py",
   "mimetype": "text/x-python",
   "name": "python",
   "nbconvert_exporter": "python",
   "pygments_lexer": "ipython3",
   "version": "3.6.9"
  }
 },
 "nbformat": 4,
 "nbformat_minor": 4
}
